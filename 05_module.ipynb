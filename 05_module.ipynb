{
 "cells": [
  {
   "cell_type": "markdown",
   "id": "73b8e316-14a5-42e9-a62a-9c48712b52f6",
   "metadata": {},
   "source": [
    "# 모듈\n",
    "- 파일로서 코드를 묶는 단위\n",
    "- 모듈들을 묶은 것 = 패키지"
   ]
  },
  {
   "cell_type": "code",
   "execution_count": 2,
   "id": "addcb374-8c29-4094-8d2d-cd634dd73d12",
   "metadata": {},
   "outputs": [],
   "source": [
    "import fac"
   ]
  },
  {
   "cell_type": "code",
   "execution_count": 3,
   "id": "f67355e3-f6bc-4795-9c73-cd7620a981fd",
   "metadata": {},
   "outputs": [
    {
     "name": "stdout",
     "output_type": "stream",
     "text": [
      "<module 'fact' from 'C:\\\\Users\\\\유승준\\\\Desktop\\\\DAMF2\\\\python\\\\fact.py'>\n"
     ]
    }
   ],
   "source": [
    "print(fact)"
   ]
  },
  {
   "cell_type": "code",
   "execution_count": 4,
   "id": "fbb61a54-4063-4b4d-828d-212c96e16fa2",
   "metadata": {},
   "outputs": [
    {
     "data": {
      "text/plain": [
       "120"
      ]
     },
     "execution_count": 4,
     "metadata": {},
     "output_type": "execute_result"
    }
   ],
   "source": [
    "fact.factorial(5)"
   ]
  },
  {
   "cell_type": "code",
   "execution_count": 5,
   "id": "6f381eba-5028-48e0-952d-9e9f7012d3e4",
   "metadata": {},
   "outputs": [
    {
     "data": {
      "text/plain": [
       "3"
      ]
     },
     "execution_count": 5,
     "metadata": {},
     "output_type": "execute_result"
    }
   ],
   "source": [
    "fact.my_max(2, 3)"
   ]
  },
  {
   "cell_type": "markdown",
   "id": "b792a43a-e12e-4b79-adce-bff800132d6e",
   "metadata": {},
   "source": [
    "# 패키지\n",
    "- https://pypi.org/\n",
    "```python\n",
    "<구조잡기>\n",
    "\n",
    "myPackage/\n",
    "    __init__.py\n",
    "    math/\n",
    "        __init__.py\n",
    "```"
   ]
  },
  {
   "cell_type": "code",
   "execution_count": 15,
   "id": "edc8a3e7-1ba0-408e-9fee-92f86de647f7",
   "metadata": {},
   "outputs": [],
   "source": [
    "import myPackage\n",
    "# 패키지 안에 들어있는 함수를 쓰려면\n",
    "# 일단 패키지를 불러오기"
   ]
  },
  {
   "cell_type": "code",
   "execution_count": 11,
   "id": "7c1af708-48e2-45a9-957b-08a8312581fb",
   "metadata": {},
   "outputs": [
    {
     "name": "stdout",
     "output_type": "stream",
     "text": [
      "<module 'myPackage' from 'C:\\\\Users\\\\유승준\\\\Desktop\\\\DAMF2\\\\python\\\\myPackage\\\\__init__.py'>\n"
     ]
    }
   ],
   "source": [
    "print(myPackage)"
   ]
  },
  {
   "cell_type": "code",
   "execution_count": 27,
   "id": "e1e2ec39-3624-4dcd-bd22-2c96d219b96c",
   "metadata": {},
   "outputs": [
    {
     "ename": "AttributeError",
     "evalue": "module 'myPackage.math' has no attribute 'formula'",
     "output_type": "error",
     "traceback": [
      "\u001b[1;31m---------------------------------------------------------------------------\u001b[0m",
      "\u001b[1;31mAttributeError\u001b[0m                            Traceback (most recent call last)",
      "Cell \u001b[1;32mIn[27], line 1\u001b[0m\n\u001b[1;32m----> 1\u001b[0m \u001b[43mmyPackage\u001b[49m\u001b[38;5;241;43m.\u001b[39;49m\u001b[43mmath\u001b[49m\u001b[38;5;241;43m.\u001b[39;49m\u001b[43mformula\u001b[49m\u001b[38;5;241m.\u001b[39mmy_max(\u001b[38;5;241m2\u001b[39m, \u001b[38;5;241m3\u001b[39m)\n",
      "\u001b[1;31mAttributeError\u001b[0m: module 'myPackage.math' has no attribute 'formula'"
     ]
    }
   ],
   "source": [
    "myPackage.math.formula.my_max(2, 3)"
   ]
  },
  {
   "cell_type": "code",
   "execution_count": 20,
   "id": "ad97a8fe-2990-469f-9f2a-f560397c4512",
   "metadata": {},
   "outputs": [],
   "source": [
    "from myPackage.math.fomula import my_max\n",
    "# from 경로 import 가져올 모듈/함수\n",
    "# 모듈에 들어간 후에 my_max 함수를 불러와주세용\n",
    "# 불러올 함수 위치 직접 지정!"
   ]
  },
  {
   "cell_type": "code",
   "execution_count": 23,
   "id": "c55bf43d-3bec-42b1-8f17-7046b98187c7",
   "metadata": {},
   "outputs": [
    {
     "data": {
      "text/plain": [
       "3"
      ]
     },
     "execution_count": 23,
     "metadata": {},
     "output_type": "execute_result"
    }
   ],
   "source": [
    "from myPackage.math import fomula\n",
    "fomula.my_max(2, 3)"
   ]
  },
  {
   "cell_type": "code",
   "execution_count": 18,
   "id": "e3975b5c-53ed-498f-a7e4-53faa41080bc",
   "metadata": {},
   "outputs": [
    {
     "data": {
      "text/plain": [
       "3"
      ]
     },
     "execution_count": 18,
     "metadata": {},
     "output_type": "execute_result"
    }
   ],
   "source": [
    "my_max(2, 3)"
   ]
  },
  {
   "cell_type": "code",
   "execution_count": 22,
   "id": "9a60f195-14bd-4ca9-986e-bcfbe408839b",
   "metadata": {},
   "outputs": [
    {
     "name": "stdout",
     "output_type": "stream",
     "text": [
      "3.14\n"
     ]
    }
   ],
   "source": [
    "from myPackage.math.fomula import *\n",
    "# *을 쓰면 formula가 가지고 있는 모든 함수를 가지고 옴\n",
    "print(pi)"
   ]
  },
  {
   "cell_type": "code",
   "execution_count": 28,
   "id": "fd8568af-1e70-4e1b-b75f-94e19506251b",
   "metadata": {},
   "outputs": [
    {
     "name": "stdout",
     "output_type": "stream",
     "text": [
      "1234\n",
      "<module 'myPackage.math.fomula' from 'C:\\\\Users\\\\유승준\\\\Desktop\\\\DAMF2\\\\python\\\\myPackage\\\\math\\\\fomula.py'>\n"
     ]
    }
   ],
   "source": [
    "fomula = 1234\n",
    "from myPackage.math import fomula as f\n",
    "print(fomula)\n",
    "print(f)\n",
    "# 변수명과 패키지명이 같을 경우 as를 사용하여 임시로 패키지명을 f으로 사용할게!"
   ]
  },
  {
   "cell_type": "markdown",
   "id": "6c3b345c-699e-4757-8524-556aafd1d202",
   "metadata": {},
   "source": [
    "## 파이썬 내장 패키지"
   ]
  },
  {
   "cell_type": "code",
   "execution_count": 33,
   "id": "2343ffc8-0e67-4c41-92f3-bbd54422f8fb",
   "metadata": {},
   "outputs": [],
   "source": [
    "import math"
   ]
  },
  {
   "cell_type": "code",
   "execution_count": 34,
   "id": "30838160-1ade-407c-a050-a9877d9d74b8",
   "metadata": {},
   "outputs": [
    {
     "data": {
      "text/plain": [
       "3.141592653589793"
      ]
     },
     "execution_count": 34,
     "metadata": {},
     "output_type": "execute_result"
    }
   ],
   "source": [
    "math.pi"
   ]
  },
  {
   "cell_type": "code",
   "execution_count": 35,
   "id": "9efab557-a6bf-4b53-aced-e99e557c328e",
   "metadata": {},
   "outputs": [
    {
     "data": {
      "text/plain": [
       "2.718281828459045"
      ]
     },
     "execution_count": 35,
     "metadata": {},
     "output_type": "execute_result"
    }
   ],
   "source": [
    "math.e"
   ]
  },
  {
   "cell_type": "code",
   "execution_count": 37,
   "id": "e1156cbd-8fe9-4028-8c26-5919a5046afc",
   "metadata": {},
   "outputs": [
    {
     "data": {
      "text/plain": [
       "3"
      ]
     },
     "execution_count": 37,
     "metadata": {},
     "output_type": "execute_result"
    }
   ],
   "source": [
    "math.ceil(math.e) # ceil 소수점을 올려줌"
   ]
  },
  {
   "cell_type": "code",
   "execution_count": 39,
   "id": "67936fbf-0ae2-452f-997a-c3cfe1e1634c",
   "metadata": {},
   "outputs": [
    {
     "data": {
      "text/plain": [
       "2"
      ]
     },
     "execution_count": 39,
     "metadata": {},
     "output_type": "execute_result"
    }
   ],
   "source": [
    "math.floor(math.e) # floor 소수점 내림"
   ]
  },
  {
   "cell_type": "code",
   "execution_count": 40,
   "id": "38bcc693-dc70-4db7-9861-c868cdfb1e06",
   "metadata": {},
   "outputs": [
    {
     "data": {
      "text/plain": [
       "3.0"
      ]
     },
     "execution_count": 40,
     "metadata": {},
     "output_type": "execute_result"
    }
   ],
   "source": [
    "math.sqrt(9) # 루트값 구하기 = 루트9"
   ]
  },
  {
   "cell_type": "code",
   "execution_count": 41,
   "id": "c4a8526e-70bb-443c-9764-45fddbbb13e5",
   "metadata": {},
   "outputs": [
    {
     "data": {
      "text/plain": [
       "3628800"
      ]
     },
     "execution_count": 41,
     "metadata": {},
     "output_type": "execute_result"
    }
   ],
   "source": [
    "math.factorial(10)"
   ]
  },
  {
   "cell_type": "code",
   "execution_count": 43,
   "id": "853ce4d1-5e6e-4187-a724-c5620e1a98be",
   "metadata": {},
   "outputs": [],
   "source": [
    "from math import sqrt, factorial"
   ]
  },
  {
   "cell_type": "code",
   "execution_count": 44,
   "id": "db7b1a85-5d8f-45b5-838f-2db2a5540322",
   "metadata": {},
   "outputs": [
    {
     "data": {
      "text/plain": [
       "4.0"
      ]
     },
     "execution_count": 44,
     "metadata": {},
     "output_type": "execute_result"
    }
   ],
   "source": [
    "sqrt(16)"
   ]
  },
  {
   "cell_type": "code",
   "execution_count": 45,
   "id": "553dacd0-b9fa-4764-a0ae-62d4f2a8f655",
   "metadata": {},
   "outputs": [
    {
     "data": {
      "text/plain": [
       "120"
      ]
     },
     "execution_count": 45,
     "metadata": {},
     "output_type": "execute_result"
    }
   ],
   "source": [
    "factorial(5)"
   ]
  },
  {
   "cell_type": "markdown",
   "id": "8ebea392-e88a-4010-9ede-7b03c729ac94",
   "metadata": {},
   "source": [
    "# random"
   ]
  },
  {
   "cell_type": "code",
   "execution_count": 47,
   "id": "59b80f5b-15c0-4444-ba70-068aee6fa239",
   "metadata": {},
   "outputs": [],
   "source": [
    "import random"
   ]
  },
  {
   "cell_type": "code",
   "execution_count": 49,
   "id": "24e55ecd-2db6-4d9e-81e2-b54046a98d49",
   "metadata": {},
   "outputs": [
    {
     "data": {
      "text/plain": [
       "0.5258369955268568"
      ]
     },
     "execution_count": 49,
     "metadata": {},
     "output_type": "execute_result"
    }
   ],
   "source": [
    "random.random() # 0 - 1 사이의 소수를 랜덤으로 출력"
   ]
  },
  {
   "cell_type": "code",
   "execution_count": 72,
   "id": "a43c4022-d1d4-43c3-8ae4-d42e395855a4",
   "metadata": {},
   "outputs": [
    {
     "data": {
      "text/plain": [
       "7"
      ]
     },
     "execution_count": 72,
     "metadata": {},
     "output_type": "execute_result"
    }
   ],
   "source": [
    "random.randint(1, 10) # 1 - 9 사이의 정수를 랜덤으로 출력"
   ]
  },
  {
   "cell_type": "code",
   "execution_count": 62,
   "id": "6fd8cc32-4e8c-436b-97b1-440ef68d82f3",
   "metadata": {},
   "outputs": [
    {
     "data": {
      "text/plain": [
       "0.052363598850944326"
      ]
     },
     "execution_count": 62,
     "metadata": {},
     "output_type": "execute_result"
    }
   ],
   "source": [
    "random.seed(123) # random 계산식에서 고정값을 도출하고 싶을 때 seed값을 넣어줌\n",
    "random.random()"
   ]
  },
  {
   "cell_type": "code",
   "execution_count": 63,
   "id": "97606b3e-af06-42b7-9eb0-0f359acd3373",
   "metadata": {},
   "outputs": [],
   "source": [
    "numbers = [1, 2, 3, 4, 5]"
   ]
  },
  {
   "cell_type": "code",
   "execution_count": 70,
   "id": "9aff4693-7a59-4639-b113-5f49a4e12120",
   "metadata": {},
   "outputs": [
    {
     "name": "stdout",
     "output_type": "stream",
     "text": [
      "[1, 2, 4, 3, 5]\n"
     ]
    }
   ],
   "source": [
    "random.shuffle(numbers) # 리스트를 넣어주면 무작위로 출력\n",
    "print(numbers)"
   ]
  },
  {
   "cell_type": "code",
   "execution_count": 85,
   "id": "6d66e2fe-133e-41d8-99aa-b195a5efa6e0",
   "metadata": {},
   "outputs": [
    {
     "name": "stdout",
     "output_type": "stream",
     "text": [
      "5\n",
      "5\n"
     ]
    }
   ],
   "source": [
    "print(random.choice(numbers))\n",
    "print(random.choice(numbers))\n",
    "# choice를 사용하여 2개를 뽑는 경우 중복이 생길 수 있음\n",
    "# 중복 없이 2개 이상의 값을 랜덤 출력할 경우 sample 이용"
   ]
  },
  {
   "cell_type": "code",
   "execution_count": 76,
   "id": "a0433aeb-ce77-44a8-8f22-7f93f041838a",
   "metadata": {},
   "outputs": [
    {
     "data": {
      "text/plain": [
       "[1, 5]"
      ]
     },
     "execution_count": 76,
     "metadata": {},
     "output_type": "execute_result"
    }
   ],
   "source": [
    "random.sample(numbers, 2) # numbers 중에 중복 없이 2개 랜덤 출력"
   ]
  },
  {
   "cell_type": "markdown",
   "id": "62d90962-f9bb-4665-ad3b-8e644bed1a1b",
   "metadata": {},
   "source": [
    "# datetime"
   ]
  },
  {
   "cell_type": "code",
   "execution_count": 2,
   "id": "e8dd14d0-89e0-4790-865c-3170c6aebbac",
   "metadata": {},
   "outputs": [],
   "source": [
    "from datetime import datetime"
   ]
  },
  {
   "cell_type": "code",
   "execution_count": 14,
   "id": "545347fc-6dbf-44ee-88bb-77fff006711c",
   "metadata": {},
   "outputs": [
    {
     "data": {
      "text/plain": [
       "datetime.datetime(2025, 2, 18, 14, 39, 23, 818717)"
      ]
     },
     "execution_count": 14,
     "metadata": {},
     "output_type": "execute_result"
    }
   ],
   "source": [
    "datetime.now()"
   ]
  },
  {
   "cell_type": "code",
   "execution_count": 15,
   "id": "9ec23bd1-feb5-484d-b2d6-e657605d3e99",
   "metadata": {},
   "outputs": [
    {
     "data": {
      "text/plain": [
       "datetime.datetime(2025, 2, 18, 14, 39, 52, 436772)"
      ]
     },
     "execution_count": 15,
     "metadata": {},
     "output_type": "execute_result"
    }
   ],
   "source": [
    "datetime.today()"
   ]
  },
  {
   "cell_type": "code",
   "execution_count": 21,
   "id": "3c539b3c-408b-44f4-9bdf-037ac371adb6",
   "metadata": {},
   "outputs": [
    {
     "name": "stderr",
     "output_type": "stream",
     "text": [
      "C:\\Users\\유승준\\AppData\\Local\\Temp\\ipykernel_38608\\692998406.py:1: DeprecationWarning: datetime.datetime.utcnow() is deprecated and scheduled for removal in a future version. Use timezone-aware objects to represent datetimes in UTC: datetime.datetime.now(datetime.UTC).\n",
      "  datetime.utcnow() # utc시간(그리니치)기준\n"
     ]
    },
    {
     "data": {
      "text/plain": [
       "datetime.datetime(2025, 2, 18, 5, 42, 43, 487496)"
      ]
     },
     "execution_count": 21,
     "metadata": {},
     "output_type": "execute_result"
    }
   ],
   "source": [
    "datetime.utcnow() # utc시간(그리니치)기준\n",
    "# db에 저장은 utc 기준으로 저장하고, 사용자에게 표시는 +9시간으로 작성함"
   ]
  },
  {
   "cell_type": "code",
   "execution_count": 43,
   "id": "e9a40d20-2340-4b1b-8be7-69c9ebe3cbea",
   "metadata": {},
   "outputs": [],
   "source": [
    "now = datetime.now() # now를 datetime.now로 정의하면 정의되는 순간의 시간에 now 정보가 멈춰짐"
   ]
  },
  {
   "cell_type": "code",
   "execution_count": 38,
   "id": "d69f83fc-dc74-4114-a7e8-e9cceabfe4cd",
   "metadata": {},
   "outputs": [
    {
     "data": {
      "text/plain": [
       "datetime.datetime(2025, 2, 18, 14, 44, 30, 224742)"
      ]
     },
     "execution_count": 38,
     "metadata": {},
     "output_type": "execute_result"
    }
   ],
   "source": [
    "now"
   ]
  },
  {
   "cell_type": "code",
   "execution_count": 39,
   "id": "a0f36ecd-9b78-42c1-8bad-f7f8348d9d64",
   "metadata": {},
   "outputs": [
    {
     "data": {
      "text/plain": [
       "2025"
      ]
     },
     "execution_count": 39,
     "metadata": {},
     "output_type": "execute_result"
    }
   ],
   "source": [
    "now.year"
   ]
  },
  {
   "cell_type": "code",
   "execution_count": 40,
   "id": "3eb788cb-e4f2-4fb4-9175-c46aea4e4b20",
   "metadata": {},
   "outputs": [
    {
     "data": {
      "text/plain": [
       "2"
      ]
     },
     "execution_count": 40,
     "metadata": {},
     "output_type": "execute_result"
    }
   ],
   "source": [
    "now.month"
   ]
  },
  {
   "cell_type": "code",
   "execution_count": 41,
   "id": "df295a45-72ef-48a7-98e7-5db831ceb5cc",
   "metadata": {},
   "outputs": [
    {
     "data": {
      "text/plain": [
       "18"
      ]
     },
     "execution_count": 41,
     "metadata": {},
     "output_type": "execute_result"
    }
   ],
   "source": [
    "now.day"
   ]
  },
  {
   "cell_type": "code",
   "execution_count": 45,
   "id": "c20fb8f1-3482-45f2-a57c-765a4b3e3d2e",
   "metadata": {},
   "outputs": [
    {
     "data": {
      "text/plain": [
       "1"
      ]
     },
     "execution_count": 45,
     "metadata": {},
     "output_type": "execute_result"
    }
   ],
   "source": [
    "now.weekday() # 월 = 0, 화요일이기 때문에 1"
   ]
  },
  {
   "cell_type": "code",
   "execution_count": 46,
   "id": "d1e42e18-2758-409e-9778-8d073b05ff0f",
   "metadata": {},
   "outputs": [
    {
     "name": "stdout",
     "output_type": "stream",
     "text": [
      "2025-02-18 14:45:35.160189\n"
     ]
    }
   ],
   "source": [
    "print(now)"
   ]
  },
  {
   "cell_type": "code",
   "execution_count": 53,
   "id": "7b5f9863-1094-437f-a9f7-549dd4ed9b17",
   "metadata": {},
   "outputs": [
    {
     "data": {
      "text/plain": [
       "'25년02월18일'"
      ]
     },
     "execution_count": 53,
     "metadata": {},
     "output_type": "execute_result"
    }
   ],
   "source": [
    "# 포맷 바꾸기\n",
    "now.strftime('%y년' '%m월' '%d일')\n",
    "# string formating 하겠습니다. (내가 원하는 형태로 바꾸겠습니다.)\n",
    "# 참고: https://docs.python.org/ko/3.13/library/datetime.html#module-datetime"
   ]
  },
  {
   "cell_type": "code",
   "execution_count": 56,
   "id": "7c1d1945-9e85-410d-8379-51d7fedaa6e0",
   "metadata": {},
   "outputs": [
    {
     "name": "stdout",
     "output_type": "stream",
     "text": [
      "2025-12-25 00:00:00\n"
     ]
    }
   ],
   "source": [
    "# 시간계산\n",
    "# 오늘부터 크리스마스까지 며칠 남았을깡\n",
    "\n",
    "x_mas = datetime(2025, 12, 25)\n",
    "print(x_mas)"
   ]
  },
  {
   "cell_type": "code",
   "execution_count": 57,
   "id": "41fe1c15-74b4-4ced-a016-ebff35648a6e",
   "metadata": {},
   "outputs": [],
   "source": [
    "from datetime import timedelta # 변화량 확인"
   ]
  },
  {
   "cell_type": "code",
   "execution_count": 61,
   "id": "b17d5f1e-3d9e-458e-82a8-9e1def986c97",
   "metadata": {},
   "outputs": [
    {
     "name": "stdout",
     "output_type": "stream",
     "text": [
      "2025-12-28 00:00:00\n"
     ]
    }
   ],
   "source": [
    "future = timedelta(days=3) # 특정한 날짜로부터 며칠 뒤 (3일 뒤)\n",
    "print(x_mas + future)"
   ]
  },
  {
   "cell_type": "code",
   "execution_count": 63,
   "id": "54bdd0d2-013b-4f9e-a2a3-e43b89687906",
   "metadata": {},
   "outputs": [
    {
     "name": "stdout",
     "output_type": "stream",
     "text": [
      "2025-09-16 00:00:00\n"
     ]
    }
   ],
   "source": [
    "future = timedelta(days=-100) # 특정한 날짜로부터 며칠 뒤 (-100일 뒤, 100일 전)\n",
    "print(x_mas + future)"
   ]
  },
  {
   "cell_type": "code",
   "execution_count": 65,
   "id": "e1ad394f-7b7b-4663-ac05-8432babd5d87",
   "metadata": {},
   "outputs": [
    {
     "data": {
      "text/plain": [
       "datetime.timedelta(days=309, seconds=32651, microseconds=301122)"
      ]
     },
     "execution_count": 65,
     "metadata": {},
     "output_type": "execute_result"
    }
   ],
   "source": [
    "x_mas - datetime.now()"
   ]
  },
  {
   "cell_type": "code",
   "execution_count": null,
   "id": "320b5cb1-6f93-4356-b62d-fd81e5e51273",
   "metadata": {},
   "outputs": [],
   "source": []
  },
  {
   "cell_type": "code",
   "execution_count": null,
   "id": "258c4514-29ac-493e-985f-2badc7b39dbc",
   "metadata": {},
   "outputs": [],
   "source": []
  },
  {
   "cell_type": "code",
   "execution_count": null,
   "id": "8d9e4d46-ab9b-4aca-bc80-ffc915f818be",
   "metadata": {},
   "outputs": [],
   "source": []
  },
  {
   "cell_type": "code",
   "execution_count": null,
   "id": "c018823c-5ca6-4ea7-a561-3e327675a508",
   "metadata": {},
   "outputs": [],
   "source": []
  }
 ],
 "metadata": {
  "kernelspec": {
   "display_name": "Python 3 (ipykernel)",
   "language": "python",
   "name": "python3"
  },
  "language_info": {
   "codemirror_mode": {
    "name": "ipython",
    "version": 3
   },
   "file_extension": ".py",
   "mimetype": "text/x-python",
   "name": "python",
   "nbconvert_exporter": "python",
   "pygments_lexer": "ipython3",
   "version": "3.13.2"
  }
 },
 "nbformat": 4,
 "nbformat_minor": 5
}
