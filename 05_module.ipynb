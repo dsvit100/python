{
 "cells": [
  {
   "cell_type": "markdown",
   "id": "73b8e316-14a5-42e9-a62a-9c48712b52f6",
   "metadata": {},
   "source": [
    "# 모듈\n",
    "- 파일로서 코드를 묶는 단위\n",
    "- 모듈들을 묶은 것 = 패키지"
   ]
  },
  {
   "cell_type": "code",
   "execution_count": null,
   "id": "addcb374-8c29-4094-8d2d-cd634dd73d12",
   "metadata": {},
   "outputs": [],
   "source": [
    "import fac"
   ]
  },
  {
   "cell_type": "code",
   "execution_count": null,
   "id": "f67355e3-f6bc-4795-9c73-cd7620a981fd",
   "metadata": {},
   "outputs": [],
   "source": [
    "print(fact)"
   ]
  },
  {
   "cell_type": "code",
   "execution_count": null,
   "id": "fbb61a54-4063-4b4d-828d-212c96e16fa2",
   "metadata": {},
   "outputs": [],
   "source": [
    "fact.factorial(5)"
   ]
  },
  {
   "cell_type": "code",
   "execution_count": null,
   "id": "6f381eba-5028-48e0-952d-9e9f7012d3e4",
   "metadata": {},
   "outputs": [],
   "source": [
    "fact.my_max(2, 3)"
   ]
  },
  {
   "cell_type": "markdown",
   "id": "b792a43a-e12e-4b79-adce-bff800132d6e",
   "metadata": {},
   "source": [
    "# 패키지\n",
    "- https://pypi.org/\n",
    "```python\n",
    "<구조잡기>\n",
    "\n",
    "myPackage/\n",
    "    __init__.py\n",
    "    math/\n",
    "        __init__.py\n",
    "```"
   ]
  },
  {
   "cell_type": "code",
   "execution_count": null,
   "id": "edc8a3e7-1ba0-408e-9fee-92f86de647f7",
   "metadata": {},
   "outputs": [],
   "source": [
    "import myPackage\n",
    "# 패키지 안에 들어있는 함수를 쓰려면\n",
    "# 일단 패키지를 불러오기"
   ]
  },
  {
   "cell_type": "code",
   "execution_count": null,
   "id": "7c1af708-48e2-45a9-957b-08a8312581fb",
   "metadata": {},
   "outputs": [],
   "source": [
    "print(myPackage)"
   ]
  },
  {
   "cell_type": "code",
   "execution_count": null,
   "id": "e1e2ec39-3624-4dcd-bd22-2c96d219b96c",
   "metadata": {},
   "outputs": [],
   "source": [
    "myPackage.math.formula.my_max(2, 3)"
   ]
  },
  {
   "cell_type": "code",
   "execution_count": null,
   "id": "ad97a8fe-2990-469f-9f2a-f560397c4512",
   "metadata": {},
   "outputs": [],
   "source": [
    "from myPackage.math.fomula import my_max\n",
    "# from 경로 import 가져올 모듈/함수\n",
    "# 모듈에 들어간 후에 my_max 함수를 불러와주세용\n",
    "# 불러올 함수 위치 직접 지정!"
   ]
  },
  {
   "cell_type": "code",
   "execution_count": null,
   "id": "c55bf43d-3bec-42b1-8f17-7046b98187c7",
   "metadata": {},
   "outputs": [],
   "source": [
    "from myPackage.math import fomula\n",
    "fomula.my_max(2, 3)"
   ]
  },
  {
   "cell_type": "code",
   "execution_count": null,
   "id": "e3975b5c-53ed-498f-a7e4-53faa41080bc",
   "metadata": {},
   "outputs": [],
   "source": [
    "my_max(2, 3)"
   ]
  },
  {
   "cell_type": "code",
   "execution_count": null,
   "id": "9a60f195-14bd-4ca9-986e-bcfbe408839b",
   "metadata": {},
   "outputs": [],
   "source": [
    "from myPackage.math.fomula import *\n",
    "# *을 쓰면 formula가 가지고 있는 모든 함수를 가지고 옴\n",
    "print(pi)"
   ]
  },
  {
   "cell_type": "code",
   "execution_count": null,
   "id": "fd8568af-1e70-4e1b-b75f-94e19506251b",
   "metadata": {},
   "outputs": [],
   "source": [
    "fomula = 1234\n",
    "from myPackage.math import fomula as f\n",
    "print(fomula)\n",
    "print(f)\n",
    "# 변수명과 패키지명이 같을 경우 as를 사용하여 임시로 패키지명을 f으로 사용할게!"
   ]
  },
  {
   "cell_type": "markdown",
   "id": "6c3b345c-699e-4757-8524-556aafd1d202",
   "metadata": {},
   "source": [
    "## 파이썬 내장 패키지"
   ]
  },
  {
   "cell_type": "code",
   "execution_count": null,
   "id": "2343ffc8-0e67-4c41-92f3-bbd54422f8fb",
   "metadata": {},
   "outputs": [],
   "source": [
    "import math"
   ]
  },
  {
   "cell_type": "code",
   "execution_count": null,
   "id": "30838160-1ade-407c-a050-a9877d9d74b8",
   "metadata": {},
   "outputs": [],
   "source": [
    "math.pi"
   ]
  },
  {
   "cell_type": "code",
   "execution_count": null,
   "id": "9efab557-a6bf-4b53-aced-e99e557c328e",
   "metadata": {},
   "outputs": [],
   "source": [
    "math.e"
   ]
  },
  {
   "cell_type": "code",
   "execution_count": null,
   "id": "e1156cbd-8fe9-4028-8c26-5919a5046afc",
   "metadata": {},
   "outputs": [],
   "source": [
    "math.ceil(math.e) # ceil 소수점을 올려줌"
   ]
  },
  {
   "cell_type": "code",
   "execution_count": null,
   "id": "67936fbf-0ae2-452f-997a-c3cfe1e1634c",
   "metadata": {},
   "outputs": [],
   "source": [
    "math.floor(math.e) # floor 소수점 내림"
   ]
  },
  {
   "cell_type": "code",
   "execution_count": null,
   "id": "38bcc693-dc70-4db7-9861-c868cdfb1e06",
   "metadata": {},
   "outputs": [],
   "source": [
    "math.sqrt(9) # 루트값 구하기 = 루트9"
   ]
  },
  {
   "cell_type": "code",
   "execution_count": null,
   "id": "c4a8526e-70bb-443c-9764-45fddbbb13e5",
   "metadata": {},
   "outputs": [],
   "source": [
    "math.factorial(10)"
   ]
  },
  {
   "cell_type": "code",
   "execution_count": null,
   "id": "853ce4d1-5e6e-4187-a724-c5620e1a98be",
   "metadata": {},
   "outputs": [],
   "source": [
    "from math import sqrt, factorial"
   ]
  },
  {
   "cell_type": "code",
   "execution_count": null,
   "id": "db7b1a85-5d8f-45b5-838f-2db2a5540322",
   "metadata": {},
   "outputs": [],
   "source": [
    "sqrt(16)"
   ]
  },
  {
   "cell_type": "code",
   "execution_count": null,
   "id": "553dacd0-b9fa-4764-a0ae-62d4f2a8f655",
   "metadata": {},
   "outputs": [],
   "source": [
    "factorial(5)"
   ]
  },
  {
   "cell_type": "markdown",
   "id": "8ebea392-e88a-4010-9ede-7b03c729ac94",
   "metadata": {},
   "source": [
    "# random"
   ]
  },
  {
   "cell_type": "code",
   "execution_count": null,
   "id": "59b80f5b-15c0-4444-ba70-068aee6fa239",
   "metadata": {},
   "outputs": [],
   "source": [
    "import random"
   ]
  },
  {
   "cell_type": "code",
   "execution_count": null,
   "id": "24e55ecd-2db6-4d9e-81e2-b54046a98d49",
   "metadata": {},
   "outputs": [],
   "source": [
    "random.random() # 0 - 1 사이의 소수를 랜덤으로 출력"
   ]
  },
  {
   "cell_type": "code",
   "execution_count": null,
   "id": "a43c4022-d1d4-43c3-8ae4-d42e395855a4",
   "metadata": {},
   "outputs": [],
   "source": [
    "random.randint(1, 10) # 1 - 9 사이의 정수를 랜덤으로 출력"
   ]
  },
  {
   "cell_type": "code",
   "execution_count": null,
   "id": "6fd8cc32-4e8c-436b-97b1-440ef68d82f3",
   "metadata": {},
   "outputs": [],
   "source": [
    "random.seed(123) # random 계산식에서 고정값을 도출하고 싶을 때 seed값을 넣어줌\n",
    "random.random()"
   ]
  },
  {
   "cell_type": "code",
   "execution_count": null,
   "id": "97606b3e-af06-42b7-9eb0-0f359acd3373",
   "metadata": {},
   "outputs": [],
   "source": [
    "numbers = [1, 2, 3, 4, 5]"
   ]
  },
  {
   "cell_type": "code",
   "execution_count": null,
   "id": "9aff4693-7a59-4639-b113-5f49a4e12120",
   "metadata": {},
   "outputs": [],
   "source": [
    "random.shuffle(numbers) # 리스트를 넣어주면 무작위로 출력\n",
    "print(numbers)"
   ]
  },
  {
   "cell_type": "code",
   "execution_count": null,
   "id": "6d66e2fe-133e-41d8-99aa-b195a5efa6e0",
   "metadata": {},
   "outputs": [],
   "source": [
    "print(random.choice(numbers))\n",
    "print(random.choice(numbers))\n",
    "# choice를 사용하여 2개를 뽑는 경우 중복이 생길 수 있음\n",
    "# 중복 없이 2개 이상의 값을 랜덤 출력할 경우 sample 이용"
   ]
  },
  {
   "cell_type": "code",
   "execution_count": null,
   "id": "a0433aeb-ce77-44a8-8f22-7f93f041838a",
   "metadata": {},
   "outputs": [],
   "source": [
    "random.sample(numbers, 2) # numbers 중에 중복 없이 2개 랜덤 출력"
   ]
  },
  {
   "cell_type": "markdown",
   "id": "62d90962-f9bb-4665-ad3b-8e644bed1a1b",
   "metadata": {},
   "source": [
    "# datetime"
   ]
  },
  {
   "cell_type": "code",
   "execution_count": null,
   "id": "e8dd14d0-89e0-4790-865c-3170c6aebbac",
   "metadata": {},
   "outputs": [],
   "source": [
    "from datetime import datetime"
   ]
  },
  {
   "cell_type": "code",
   "execution_count": null,
   "id": "545347fc-6dbf-44ee-88bb-77fff006711c",
   "metadata": {},
   "outputs": [],
   "source": [
    "datetime.now()"
   ]
  },
  {
   "cell_type": "code",
   "execution_count": null,
   "id": "9ec23bd1-feb5-484d-b2d6-e657605d3e99",
   "metadata": {},
   "outputs": [],
   "source": [
    "datetime.today()"
   ]
  },
  {
   "cell_type": "code",
   "execution_count": null,
   "id": "3c539b3c-408b-44f4-9bdf-037ac371adb6",
   "metadata": {},
   "outputs": [],
   "source": [
    "datetime.utcnow() # utc시간(그리니치)기준\n",
    "# db에 저장은 utc 기준으로 저장하고, 사용자에게 표시는 +9시간으로 작성함"
   ]
  },
  {
   "cell_type": "code",
   "execution_count": null,
   "id": "e9a40d20-2340-4b1b-8be7-69c9ebe3cbea",
   "metadata": {},
   "outputs": [],
   "source": [
    "now = datetime.now() # now를 datetime.now로 정의하면 정의되는 순간의 시간에 now 정보가 멈춰짐"
   ]
  },
  {
   "cell_type": "code",
   "execution_count": null,
   "id": "d69f83fc-dc74-4114-a7e8-e9cceabfe4cd",
   "metadata": {},
   "outputs": [],
   "source": [
    "now"
   ]
  },
  {
   "cell_type": "code",
   "execution_count": null,
   "id": "a0f36ecd-9b78-42c1-8bad-f7f8348d9d64",
   "metadata": {},
   "outputs": [],
   "source": [
    "now.year"
   ]
  },
  {
   "cell_type": "code",
   "execution_count": null,
   "id": "3eb788cb-e4f2-4fb4-9175-c46aea4e4b20",
   "metadata": {},
   "outputs": [],
   "source": [
    "now.month"
   ]
  },
  {
   "cell_type": "code",
   "execution_count": null,
   "id": "df295a45-72ef-48a7-98e7-5db831ceb5cc",
   "metadata": {},
   "outputs": [],
   "source": [
    "now.day"
   ]
  },
  {
   "cell_type": "code",
   "execution_count": null,
   "id": "c20fb8f1-3482-45f2-a57c-765a4b3e3d2e",
   "metadata": {},
   "outputs": [],
   "source": [
    "now.weekday() # 월 = 0, 화요일이기 때문에 1"
   ]
  },
  {
   "cell_type": "code",
   "execution_count": null,
   "id": "d1e42e18-2758-409e-9778-8d073b05ff0f",
   "metadata": {},
   "outputs": [],
   "source": [
    "print(now)"
   ]
  },
  {
   "cell_type": "code",
   "execution_count": null,
   "id": "7b5f9863-1094-437f-a9f7-549dd4ed9b17",
   "metadata": {},
   "outputs": [],
   "source": [
    "# 포맷 바꾸기\n",
    "now.strftime('%y년' '%m월' '%d일')\n",
    "# string formating 하겠습니다. (내가 원하는 형태로 바꾸겠습니다.)\n",
    "# 참고: https://docs.python.org/ko/3.13/library/datetime.html#module-datetime"
   ]
  },
  {
   "cell_type": "code",
   "execution_count": null,
   "id": "7c1d1945-9e85-410d-8379-51d7fedaa6e0",
   "metadata": {},
   "outputs": [],
   "source": [
    "# 시간계산\n",
    "# 오늘부터 크리스마스까지 며칠 남았을깡\n",
    "\n",
    "x_mas = datetime(2025, 12, 25)\n",
    "print(x_mas)"
   ]
  },
  {
   "cell_type": "code",
   "execution_count": null,
   "id": "41fe1c15-74b4-4ced-a016-ebff35648a6e",
   "metadata": {},
   "outputs": [],
   "source": [
    "from datetime import timedelta # 변화량 확인"
   ]
  },
  {
   "cell_type": "code",
   "execution_count": null,
   "id": "b17d5f1e-3d9e-458e-82a8-9e1def986c97",
   "metadata": {},
   "outputs": [],
   "source": [
    "future = timedelta(days=3) # 특정한 날짜로부터 며칠 뒤 (3일 뒤)\n",
    "print(x_mas + future)"
   ]
  },
  {
   "cell_type": "code",
   "execution_count": null,
   "id": "54bdd0d2-013b-4f9e-a2a3-e43b89687906",
   "metadata": {},
   "outputs": [],
   "source": [
    "future = timedelta(days=-100) # 특정한 날짜로부터 며칠 뒤 (-100일 뒤, 100일 전)\n",
    "print(x_mas + future)"
   ]
  },
  {
   "cell_type": "code",
   "execution_count": null,
   "id": "e1ad394f-7b7b-4663-ac05-8432babd5d87",
   "metadata": {},
   "outputs": [],
   "source": [
    "x_mas - datetime.now()"
   ]
  },
  {
   "cell_type": "markdown",
   "id": "b5e7b1f4-3612-45e8-8f02-5c392928c63d",
   "metadata": {},
   "source": [
    "## 외부 라이브러리\n",
    "- 패키지 가져오기"
   ]
  },
  {
   "cell_type": "markdown",
   "id": "5bc345e8-12b9-4109-b43f-54199fbeae6b",
   "metadata": {},
   "source": [
    "### requests\n",
    "- 사이트의 구조 안에서 필요한 정보만 추출해서 수정할 수 있도록 code를 불러오는 기능"
   ]
  },
  {
   "cell_type": "code",
   "execution_count": null,
   "id": "8d9e4d46-ab9b-4aca-bc80-ffc915f818be",
   "metadata": {},
   "outputs": [],
   "source": [
    "import requests # requests 모듈 불러오기"
   ]
  },
  {
   "cell_type": "code",
   "execution_count": null,
   "id": "c018823c-5ca6-4ea7-a561-3e327675a508",
   "metadata": {},
   "outputs": [],
   "source": [
    "r = requests.get('https://api.github.com/events') # requests 모듈 안에 있는 get 함수 실행\n",
    "# requests.get = 'url'로 요청을 보내줘(응답받게)"
   ]
  },
  {
   "cell_type": "code",
   "execution_count": null,
   "id": "075448ed-d8cd-4176-86e4-d6dcd26b4cc1",
   "metadata": {
    "scrolled": true
   },
   "outputs": [],
   "source": [
    "print(r)\n",
    "print(r.text)\n",
    "print(type('a'))\n",
    "# 오브젝트의 정의는 '<>'로 표기됨"
   ]
  },
  {
   "cell_type": "code",
   "execution_count": null,
   "id": "5b02d1a5-27da-48fa-a614-3e54d5b00617",
   "metadata": {
    "scrolled": true
   },
   "outputs": [],
   "source": [
    "r = requests.get('https://naver.com')\n",
    "print(r.text)"
   ]
  },
  {
   "cell_type": "code",
   "execution_count": null,
   "id": "4d11ff53-b085-4cc3-bea6-9069cc1393c2",
   "metadata": {},
   "outputs": [],
   "source": [
    "payload = {'key1': 'value1', 'key2': 'value2'}\n",
    "r = requests.get('https://httpbin.org/get', params=payload)\n",
    "# request 모듈이 갖고있는 get 함수를 실행함\n",
    "# value1 = 내가 요청하고 싶은 주소(응답받고자 하는), value2(응답에 +하고싶은 옵션값)\n",
    "print(r.url)\n",
    "print(r.text)"
   ]
  },
  {
   "cell_type": "code",
   "execution_count": null,
   "id": "3911b31a-1aea-495e-993c-884a4af21b8b",
   "metadata": {},
   "outputs": [],
   "source": [
    "# ? 뒤에는 옵션값(특정한 데이터 덩어리)\n",
    "# 데이터들은 & 으로 구분됨"
   ]
  },
  {
   "cell_type": "code",
   "execution_count": null,
   "id": "4d2bd081-524b-459d-a1cf-191a77a165cc",
   "metadata": {},
   "outputs": [],
   "source": [
    "payload = {'query': '파이썬'}\n",
    "r = requests.get('https://search.naver.com/search.naver', params=payload)\n",
    "print(r.url)\n",
    "\n",
    "# payload = 옵션값(데이터 덩어리)"
   ]
  },
  {
   "cell_type": "code",
   "execution_count": null,
   "id": "48257da0-b49c-4ee8-8124-15f54ac337b6",
   "metadata": {
    "scrolled": true
   },
   "outputs": [],
   "source": [
    "# 파이썬 내부에서는 딕셔너리, 외부에서는 제이슨이라고 부름\n",
    "\n",
    "r = requests.get('https://api.github.com/events')\n",
    "print(type(r.text)) # 스트링 타입이기 때문에 당장 정보 접근 불가\n",
    "print(r.text) # 딕셔너리인 경우 대괄호 내의 정보 접근이 가능하나,"
   ]
  },
  {
   "cell_type": "code",
   "execution_count": null,
   "id": "dfdb1640-1a49-486f-b3ae-b19bd22c7976",
   "metadata": {
    "scrolled": true
   },
   "outputs": [],
   "source": [
    "r = requests.get('https://api.github.com/events')\n",
    "print(type(r.json())) # 스트링 타입이기 때문에 당장 정보 접근 불가\n",
    "print(r.json()) # 딕셔너리인 경우 대괄호 내의 정보 접근이 가능하나,\n",
    "# 따라서 r.jason을 통해 정보 접근할 수 있는 딕셔너리 형태로 변경"
   ]
  },
  {
   "cell_type": "code",
   "execution_count": null,
   "id": "80d098df-fd43-47d1-8df4-0e779b3a5856",
   "metadata": {
    "scrolled": true
   },
   "outputs": [],
   "source": [
    "# https://www.dhlottery.co.kr/common.do?method=getLottoNumber&drwNo=1159\n",
    "lotto_url = 'https://www.dhlottery.co.kr/common.do' # url로 변수 만들기\n",
    "# payload = url의 ? 이하 데이터들을 딕셔너리로(변경하기 위해) 지정\n",
    "\n",
    "payload = {\n",
    "    'method' : 'getLottoNumber',\n",
    "    'drwNo' : 1159\n",
    "}\n",
    "\n",
    "r = requests.get(lotto_url, params=payload)\n",
    "print(r.url)\n",
    "print(r.json()) # dic으로 변경\n",
    "# r.json()은 처음부터 json이어야 변경됨\n",
    "\n",
    "lotto_dict = r.json()\n",
    "\n",
    "print(lotto_dict['drwNoDate'])\n",
    "#print(lotto_dict['drwtNo1'])\n",
    "#print(lotto_dict['drwtNo2'])\n",
    "#print(lotto_dict['drwtNo3'])\n",
    "#print(lotto_dict['drwtNo4'])\n",
    "#print(lotto_dict['drwtNo5'])\n",
    "#print(lotto_dict['drwtNo6'])\n",
    "\n",
    "for i in range(1, 7): # 1부터 6까지 반복하고 i 값에 넣을거야\n",
    "    print(lotto_dict[f'drwtNo{i}']) "
   ]
  },
  {
   "cell_type": "code",
   "execution_count": null,
   "id": "71066985-b3e3-4025-b6aa-58b1649d75fd",
   "metadata": {},
   "outputs": [],
   "source": [
    "# open api를 이용하여 데이터를 가져오는 경우\n",
    "# 설명서(key, value)가 첨부되어 있음"
   ]
  },
  {
   "cell_type": "markdown",
   "id": "da194ac8-03b2-4052-a670-5d6f433872c0",
   "metadata": {},
   "source": [
    "### 페어프로그래밍 (로또)\n",
    "- 로또 5000원 구매하기\n",
    "    - 랜덤으로 5개의 로또번호를 생성합니다.\n",
    "- 등수 확인하기\n",
    "    - 최신회차의 당첨번호와 생선된 번호를 비교하여 몇등인지 출력합니다.\n",
    "    - 1, 3, 4, 5, 꽝\n",
    "          - 2등"
   ]
  },
  {
   "cell_type": "code",
   "execution_count": null,
   "id": "1b1d9dee-c808-4ae3-9799-4cf2881bdcf2",
   "metadata": {},
   "outputs": [],
   "source": [
    "import random"
   ]
  },
  {
   "cell_type": "code",
   "execution_count": null,
   "id": "0272332f-edc9-4dc5-ab79-2baae4d2130f",
   "metadata": {},
   "outputs": [],
   "source": [
    "# 만들어보기.......fail\n",
    "\n",
    "number = list(range(1, 46))\n",
    "my_dict = {\n",
    "    'num1': 1,\n",
    "    'num2': 2,\n",
    "    'num3': 3,\n",
    "    'num4': 4,\n",
    "    'num5': 5,\n",
    "}\n",
    "for i in range(1, 6):\n",
    "    my_dict[f'num{i}'] = random.sample(number, 6)\n",
    "\n",
    "\n",
    "lotto_win = []\n",
    "for i in range(1, 7):\n",
    "    lotto_win.append(lotto_dict[f'drwtNo{i}'])\n",
    "print(lotto_win)\n",
    "print(my_dict)\n",
    "\n",
    "c_number = 0\n",
    "for i in my_dict['num1']:\n",
    "    if my_dict['num1'] in lotto_win:\n",
    "        c_number += 1\n",
    "    else:\n",
    "        pass\n",
    "\n",
    "print(c_number)"
   ]
  },
  {
   "cell_type": "code",
   "execution_count": null,
   "id": "3be2b2a1-0a50-4e11-b9b4-737acce0f2da",
   "metadata": {},
   "outputs": [],
   "source": [
    "# 1. 로또번호 생성\n",
    "import random\n",
    "\n",
    "my_numbers = {}  # 5장의 로또번호를 담기 위한 빈 딕셔너리\n",
    "for i in range(1, 6):  # 5회 반복해서 i를 만들거야 = 1, 2, 3, 4, 5 리스트를 만들거야\n",
    "    random_numbers = random.sample(range(1, 46), 6)  # 1~45개 숫자 중 랜덤한 6개 숫자를 random_numbers에 넣을거야\n",
    "    my_numbers[i] = random_numbers # my_numbers라는 딕셔너리에 i(1~5까지의 리스트)라는 key를 만들고 위에서 만든 6개 숫자를 value로 넣어줘\n",
    "    \n",
    "print(my_numbers)"
   ]
  },
  {
   "cell_type": "code",
   "execution_count": null,
   "id": "16ad269f-4b89-4605-84d3-a2827c150685",
   "metadata": {},
   "outputs": [],
   "source": [
    "# 2. 최신회차 당첨번호 수집\n",
    "LOTTO_URL = 'https://www.dhlottery.co.kr/common.do' # 대문자로 쓰는 변수는 고정값\n",
    "payload = {\n",
    "    'method': 'getLottoNumber',\n",
    "    'drwNo': 1159,\n",
    "}\n",
    "\n",
    "res = requests.get(LOTTO_URL, params=payload) # 받을 값(res) = get(요청할 url, 옵션값 1159회차 로또번호)\n",
    "lotto_dict = res.json() # 받은 값(res)을 수정할 수 있는 형태인 딕셔너리로 바꿔줘(현재 제이슨이니까)\n",
    "# 그리고 그 값(res)을 lotto_dict라고 부를게\n",
    "\n",
    "lucky_numbers = [] # 당첨번호\n",
    "bonus_number = [lotto_dict['bnusNo']] # 가지고 온 lotto_dict에서 key 'bnusNo'를 통해 값 호출\n",
    "\n",
    "for k, v in lotto_dict.items(): # lotto_dict 안에 있는있는 아이템 모두 돌면서\n",
    "    if 'drwtNo' in k: # 키 값에 'drwtNo'가 들어간 것들이 있다면\n",
    "        lucky_numbers.append(v) # \n",
    "\n",
    "print(lucky_numbers)"
   ]
  },
  {
   "cell_type": "code",
   "execution_count": null,
   "id": "2cb50b61-2e51-4fa9-b0cd-dc6d82283682",
   "metadata": {},
   "outputs": [],
   "source": [
    "print(my_numbers)\n",
    "print(lucky_numbers)\n",
    "print(bonus_number)"
   ]
  },
  {
   "cell_type": "code",
   "execution_count": null,
   "id": "ea7b1d05-3f61-4db2-a60a-804889e7dc20",
   "metadata": {},
   "outputs": [],
   "source": [
    "# 3. 등수 확인하기\n",
    "for my_number in my_numbers.values():\n",
    "    my_number_set = set(my_number)\n",
    "    lucky_number_set = set(lucky_numbers)\n",
    "    \n",
    "    match_count = len(my_number_set & lucky_number_set)\n",
    "\n",
    "    if match_count == 6:\n",
    "        print('1등')\n",
    "    elif match_count == 5 and bonus_number in my_number:\n",
    "        print('2등')\n",
    "    elif match_count == 5:\n",
    "        print('3등')\n",
    "    elif match_count == 4:\n",
    "        print('4등')\n",
    "    elif match_count == 3:\n",
    "        print('5등')\n",
    "    else:\n",
    "        print('꽝')"
   ]
  },
  {
   "cell_type": "code",
   "execution_count": null,
   "id": "7d476afa-5e8f-4897-9c64-73d4b3e67f25",
   "metadata": {},
   "outputs": [],
   "source": []
  }
 ],
 "metadata": {
  "kernelspec": {
   "display_name": "Python 3 (ipykernel)",
   "language": "python",
   "name": "python3"
  },
  "language_info": {
   "codemirror_mode": {
    "name": "ipython",
    "version": 3
   },
   "file_extension": ".py",
   "mimetype": "text/x-python",
   "name": "python",
   "nbconvert_exporter": "python",
   "pygments_lexer": "ipython3",
   "version": "3.13.2"
  }
 },
 "nbformat": 4,
 "nbformat_minor": 5
}
