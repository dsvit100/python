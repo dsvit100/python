{
 "cells": [
  {
   "cell_type": "markdown",
   "id": "c3b8b04f-1830-4f42-99ad-cd676d562828",
   "metadata": {},
   "source": [
    "# 함수(function)"
   ]
  },
  {
   "cell_type": "code",
   "execution_count": null,
   "id": "935c5a94-2baa-4d61-b453-082a375a63c5",
   "metadata": {},
   "outputs": [],
   "source": [
    "# 사각형의 가로와 세로의 길이를 이용해서 면적과 둘레를 구하는 코드.\n",
    "height = 50\n",
    "width = 20\n",
    "print(f'사각형의 둘레는 {int(height) + int(width) * 2} 이고 사각형의 면적은 {height * width}입니다.')"
   ]
  },
  {
   "cell_type": "code",
   "execution_count": null,
   "id": "74baec69-1dc5-441b-8536-84db2fd961fb",
   "metadata": {},
   "outputs": [],
   "source": [
    "# 사각형의 가로와 세로의 길이를 이용해서 면적과 둘레를 구하는 코드.\n",
    "height = 50\n",
    "width = 20\n",
    "\n",
    "area = height * width\n",
    "perimeter = (height + width) * 2\n",
    "\n",
    "print(f'사각형의 면적은 {area}이고 둘레는 {perimeter}입니다.')"
   ]
  },
  {
   "cell_type": "code",
   "execution_count": null,
   "id": "4a053799-61fb-41a9-9dd2-936ea49b25f6",
   "metadata": {},
   "outputs": [],
   "source": [
    "height = 50\n",
    "width = 50\n",
    "\n",
    "area = height * width\n",
    "perimeter = (height + width) * 2\n",
    "\n",
    "print(f'사각형의 면적은 {area}이고 둘레는 {perimeter}입니다.')\n",
    "\n",
    "# 한 셀에 변수를 다르게 쓰는 경우 height1, width1 / height2, width2... 등으로 변경"
   ]
  },
  {
   "cell_type": "markdown",
   "id": "98f82482-47bb-4d01-8378-ffc70144faca",
   "metadata": {},
   "source": [
    "## 함수의 선언과 호출\n",
    "- 선언\n",
    "```python\n",
    "def func_name(paramiter1, paramiter2, ...):\n",
    "    code1\n",
    "    code2\n",
    "    ...\n",
    "    return value\n",
    "```\n",
    "\n",
    "- 호출\n",
    "`func_name(paramiter1, paramiter2, ...)`"
   ]
  },
  {
   "cell_type": "code",
   "execution_count": null,
   "id": "70752996-1f62-4ffe-afe8-04ce83755664",
   "metadata": {},
   "outputs": [],
   "source": [
    "def rectangle(height, width):\n",
    "    area = height * width\n",
    "    perimeter = (height + width) * 2\n",
    "\n",
    "    print(f'사각형의 면적은 {area}입니다. 둘레는 {perimeter}입니다.')\n",
    "\n",
    "rectangle(50, 30)\n",
    "rectangle(20, 100)"
   ]
  },
  {
   "cell_type": "code",
   "execution_count": null,
   "id": "90293918-350d-47e0-8b00-77427c5b4002",
   "metadata": {},
   "outputs": [],
   "source": [
    "dir(__builtins__)\n",
    "# 파이썬 설치 시 미리 만들어 놓아진 함수들, 새 함수명은 아래와 중복될 수 없음\n",
    "# (중복될 경우 기존 함수 값에 덮어쓰기 됨)\n",
    "# 덮어쓰기 되면 커널 재실행 해야함"
   ]
  },
  {
   "cell_type": "code",
   "execution_count": null,
   "id": "71e85317-37f9-4788-9d97-d0233ee54d23",
   "metadata": {},
   "outputs": [],
   "source": [
    "max(1, 2)"
   ]
  },
  {
   "cell_type": "code",
   "execution_count": null,
   "id": "e53df78c-1964-432f-a575-db78634804d9",
   "metadata": {},
   "outputs": [],
   "source": [
    "def my_max(num1, num2):\n",
    "    if num1 > num2:\n",
    "        print(num1)\n",
    "    elif num1 < num2:\n",
    "        print(num2)\n",
    "    elif num1 == num2:\n",
    "        print('두 수는 같습니다.')\n",
    "    else:\n",
    "        print(num2)"
   ]
  },
  {
   "cell_type": "code",
   "execution_count": null,
   "id": "b679e728-716f-44fe-bb48-619db3ded98e",
   "metadata": {},
   "outputs": [],
   "source": [
    "my_max(5, 5)\n",
    "my_max(1, 3)\n",
    "my_max(5, 1)"
   ]
  },
  {
   "cell_type": "markdown",
   "id": "44f803d5-4223-42c1-8ced-ff9bae51fb41",
   "metadata": {},
   "source": [
    "## 함수의 return\n",
    "\n",
    "- 함수가 return을 만나면 해당값을 반환하고 함수를 종료\n",
    "- 만약 return이 없는 경우 None을 자동으로 반환\n",
    "- return은 오직 하나의 객체만 반환한다."
   ]
  },
  {
   "cell_type": "code",
   "execution_count": null,
   "id": "c45ba147-a26e-492d-8893-ca74de48a52d",
   "metadata": {},
   "outputs": [],
   "source": [
    "def my_max2(num1, num2):\n",
    "    if num1 > num2:\n",
    "        return num1\n",
    "    else:\n",
    "        return num2        "
   ]
  },
  {
   "cell_type": "code",
   "execution_count": null,
   "id": "698c8139-c5f8-40cd-833b-6176fd05bd61",
   "metadata": {},
   "outputs": [],
   "source": [
    "result = my_max2(3, 5)\n",
    "print(result)"
   ]
  },
  {
   "cell_type": "code",
   "execution_count": null,
   "id": "817ea54b-0bc9-4e4b-84e2-c3a924c2c12c",
   "metadata": {},
   "outputs": [],
   "source": [
    "def my_for(x):\n",
    "    for i in range(x):\n",
    "        print(i)\n",
    "        if i == 3:\n",
    "            return i\n",
    "\n",
    "my_for(5)"
   ]
  },
  {
   "cell_type": "code",
   "execution_count": null,
   "id": "b1cff2a7-361a-4956-bb5e-87c26ed8231a",
   "metadata": {},
   "outputs": [],
   "source": [
    "def my_def(x):\n",
    "    return x * 2, x\n",
    "\n",
    "my_def(10)"
   ]
  },
  {
   "cell_type": "code",
   "execution_count": null,
   "id": "707a5909-d389-4503-8ff4-afb4c2fbfea8",
   "metadata": {},
   "outputs": [],
   "source": [
    "# 함수 선언\n",
    "\n",
    "# 첫번째 리스트 만들기  ** 값을 지정해 버리면 X!!!!\n",
    "# 두번째 리스트 만들기  ** 값을 지정해 버리면 X!!!!\n",
    "\n",
    "# 첫번째 리스트 모두 더한 값이 두번째 리스트보다 크니?\n",
    "# 크면 반환\n",
    "# 두번째 리스트 모두 더한 값이 첫번째 리스트보다 크니?\n",
    "# 크면 반환\n",
    "\n",
    "def my_list_max(num1, num2):\n",
    "    if sum(num1) > sum(num2):\n",
    "        return(num1)\n",
    "    elif sum(num1) < sum(num2):\n",
    "        return(num2)\n",
    "\n",
    "# 함수 작성 시 값을 지정해 버리면 이후에 함수 호출 시 작동 X\n",
    "# 왜? 함수 작성할 때 쓴 값이 적용되기 때문에"
   ]
  },
  {
   "cell_type": "code",
   "execution_count": null,
   "id": "1bceeb3d-cd5d-4968-a2c8-df3dc6b59fb1",
   "metadata": {},
   "outputs": [],
   "source": [
    "my_list_max([1, 2, 3],[4, 5, 7])"
   ]
  },
  {
   "cell_type": "code",
   "execution_count": null,
   "id": "4ac7fe2e-ac73-4689-99c0-53c1e98d3e35",
   "metadata": {},
   "outputs": [],
   "source": [
    "# version1\n",
    "\n",
    "def my_list_max(list1, list2):\n",
    "\n",
    "    sum_of_list1 = list1[0] + list1[1] + list2[2] # list 0번째 + 1번째 + 2번째 숫자 가져와서 더해줘\n",
    "    sum_of_list2 = list2[0] + list2[1] + list2[2]\n",
    "\n",
    "    if sum_of_list1 > sum_of_list2:\n",
    "        return list1\n",
    "    else:\n",
    "        return list2"
   ]
  },
  {
   "cell_type": "code",
   "execution_count": null,
   "id": "c17116a2-9727-41df-94a9-859a18de0319",
   "metadata": {},
   "outputs": [],
   "source": [
    "my_list_max([1, 2, 3], [2, 3, 4])"
   ]
  },
  {
   "cell_type": "code",
   "execution_count": null,
   "id": "198b124f-639f-4209-882b-a9b5bb18277d",
   "metadata": {},
   "outputs": [],
   "source": [
    "# version2\n",
    "\n",
    "def my_list_max(list1, list2):\n",
    "    sum_of_list1 = 0 # 덧셈을 하기 위해 초기값 설정 / 곱인 경우에는 초기값 1\n",
    "    sum_of_list2 = 0\n",
    "\n",
    "    for item in list1:\n",
    "        sum_of_list1 = sum_of_list1 + item  # 현재 0 = 0 + item(리스트 개수)\n",
    "\n",
    "    for item in list2:\n",
    "        sum_of_list2 += item # 요건 설명이 다시 필요할 것만 같군...\n",
    "\n",
    "    if sum_of_list1 > sum_of_list2:\n",
    "        return list1\n",
    "    else:\n",
    "        return list2"
   ]
  },
  {
   "cell_type": "code",
   "execution_count": null,
   "id": "bf253460-b587-4088-b73e-3d00b75bad44",
   "metadata": {},
   "outputs": [],
   "source": [
    "my_list_max([1, 2, 3], [4, 5, 6])"
   ]
  },
  {
   "cell_type": "code",
   "execution_count": null,
   "id": "c61b52ce-7e29-4598-92aa-1db92d8d6ade",
   "metadata": {},
   "outputs": [],
   "source": [
    "# version3\n",
    "\n",
    "def my_list_max(list1, list2):\n",
    "    sum_of_list1 = sum(list1)\n",
    "    sum_of_list2 = sum(list2)\n",
    "    if sum(list1) > sum(list2):\n",
    "        return list1\n",
    "    else:\n",
    "        return list2"
   ]
  },
  {
   "cell_type": "code",
   "execution_count": null,
   "id": "e08aa5d5-bb31-4d80-b676-1cfb42aaca36",
   "metadata": {},
   "outputs": [],
   "source": [
    "my_list_max([1, 2, 3], [4, 5, 6])"
   ]
  },
  {
   "cell_type": "markdown",
   "id": "2e68bd98-094f-4e9c-94cd-b9b8c0024bc4",
   "metadata": {},
   "source": [
    "### 함수의 인수"
   ]
  },
  {
   "cell_type": "markdown",
   "id": "3317a28f-a307-4fac-a218-26bc813d5baf",
   "metadata": {},
   "source": [
    "#### 위치인수\n",
    "- 기본적으로 함수는 위치를 기준으로 인수를 판단합니다.\n"
   ]
  },
  {
   "cell_type": "code",
   "execution_count": null,
   "id": "f8207e8a-529e-41e4-9371-36030ccb4664",
   "metadata": {},
   "outputs": [],
   "source": [
    "def cylinder(r, h):\n",
    "    return 3.14 * r ** 2 * h"
   ]
  },
  {
   "cell_type": "code",
   "execution_count": null,
   "id": "f8ca681c-77cb-4177-823a-0b63184b0cb2",
   "metadata": {},
   "outputs": [],
   "source": [
    "cylinder(3, 10)"
   ]
  },
  {
   "cell_type": "code",
   "execution_count": null,
   "id": "cdaf345b-a0e5-4e9e-ad4f-b9826fa56635",
   "metadata": {},
   "outputs": [],
   "source": [
    "cylinder(10, 3)"
   ]
  },
  {
   "cell_type": "markdown",
   "id": "f8a49183-4858-4066-8199-66bba4298060",
   "metadata": {},
   "source": [
    "#### 기본값\n",
    "```python\n",
    "def func_name(p1=v1): # p1: 파라미터\n",
    "code1\n",
    "return value\n",
    "```"
   ]
  },
  {
   "cell_type": "code",
   "execution_count": 1,
   "id": "50cc282c-2ce6-4e1b-a69f-ecb4df03bf5e",
   "metadata": {},
   "outputs": [],
   "source": [
    "def greeting(name='익명'): # 값이 비어있더라도 강제출력, 필수는 아니야! 임시로라도 넣어서 출력할게의 의미~~\n",
    "    return f'{name}님 반갑습니다.'"
   ]
  },
  {
   "cell_type": "code",
   "execution_count": 2,
   "id": "342fcdde-148b-4625-980b-19f91cf30819",
   "metadata": {},
   "outputs": [
    {
     "data": {
      "text/plain": [
       "'익명님 반갑습니다.'"
      ]
     },
     "execution_count": 2,
     "metadata": {},
     "output_type": "execute_result"
    }
   ],
   "source": [
    "greeting()"
   ]
  },
  {
   "cell_type": "code",
   "execution_count": null,
   "id": "db88d1a9-852d-423e-acce-47447e370309",
   "metadata": {},
   "outputs": [],
   "source": [
    "print('안녕하세요', '반갑습니다', sep='****', end='!!!!\\n') # sep와 end를 지정해주면 그 기준으로 작성해줌\n",
    "print('저는 신효진입니다.')"
   ]
  },
  {
   "cell_type": "code",
   "execution_count": null,
   "id": "aff4d105-e49c-43d3-8035-9c7c2efb6ea0",
   "metadata": {},
   "outputs": [],
   "source": [
    "def greeting(age, name='익명'): # 위치 인자가 중요함. 나이는 필수, 이름은 미기재시 익명 출력\n",
    "    return f'{name}님의 나이는 {age}살입니다.'"
   ]
  },
  {
   "cell_type": "code",
   "execution_count": null,
   "id": "7d06d5a4-ab8a-4cc4-9b63-2e932e86d291",
   "metadata": {},
   "outputs": [],
   "source": [
    "greeting(35)"
   ]
  },
  {
   "cell_type": "markdown",
   "id": "15d1c7e2-35ed-4b66-a526-5695f570ce11",
   "metadata": {},
   "source": [
    "### 키워드 인수\n",
    "- 함수를 호출(실행)할 때 내가 원하는 위치에 직접적으로 값을 전달"
   ]
  },
  {
   "cell_type": "code",
   "execution_count": 3,
   "id": "de06e216-8f14-41c4-99bd-a1756ec113f5",
   "metadata": {},
   "outputs": [],
   "source": [
    "def greeting(age, name='익명'):\n",
    "    return f'{name}님은 {age}살입니다.'"
   ]
  },
  {
   "cell_type": "code",
   "execution_count": 10,
   "id": "d12403df-7797-492b-b329-1f9cae96b643",
   "metadata": {},
   "outputs": [
    {
     "data": {
      "text/plain": [
       "'익명님은 길동살입니다.'"
      ]
     },
     "execution_count": 10,
     "metadata": {},
     "output_type": "execute_result"
    }
   ],
   "source": [
    "greeting(10, '길동')\n",
    "greeting(10)\n",
    "greeting(name='길동', age=10) # 함수 위치가 다르더라도 강제로 해당 값을 넣어주면 문제 없이 출력됨"
   ]
  },
  {
   "cell_type": "markdown",
   "id": "eef423fe-2d78-4765-abd9-39eab8fc4886",
   "metadata": {},
   "source": [
    "### 가변인자 리스트\n",
    "- 사용자가 몇 개의 데이터를 입력할지 모르는 경우 사용\n",
    "- 각 데이터를 위해 변수명을 계속 지정할 수 없으므로 하나의 묶음(tuple)으로 인식, 출력하게끔 함\n",
    "```python\n",
    "def func_name(*parms): # *표가 된 것이 가변인자\n",
    "    code\n",
    "    ...\n",
    "    return value"
   ]
  },
  {
   "cell_type": "code",
   "execution_count": null,
   "id": "0857c45b-aacf-43e6-8b9a-5ee22e50f4dc",
   "metadata": {},
   "outputs": [],
   "source": [
    "def my_print(*words): # 몇개의 인자가 들어오더라도 하나로 묶어줘. 그리고 그 묶음을 나는 words라고 부를거야\n",
    "    print(words)"
   ]
  },
  {
   "cell_type": "code",
   "execution_count": null,
   "id": "9b28da56-4ad5-400f-aa72-c5e6cb851c5d",
   "metadata": {},
   "outputs": [],
   "source": [
    "my_print('my', 'name', 'is') # 하나의 묶음으로 출력됨"
   ]
  },
  {
   "cell_type": "code",
   "execution_count": 14,
   "id": "cbdfb89e-c316-489f-883c-989f0bd7f7d4",
   "metadata": {},
   "outputs": [
    {
     "data": {
      "text/plain": [
       "7"
      ]
     },
     "execution_count": 14,
     "metadata": {},
     "output_type": "execute_result"
    }
   ],
   "source": [
    "max(1, 2, 3, 4, 5, 6, 7)"
   ]
  },
  {
   "cell_type": "code",
   "execution_count": 15,
   "id": "42049c31-f257-479d-8ae6-1b47c8f084f3",
   "metadata": {},
   "outputs": [],
   "source": [
    "def my_max(*numbers):\n",
    "    my_max_number = 0 \n",
    "    \n",
    "    for number in numbers: \n",
    "        if my_max_number < number:\n",
    "            my_max_number = number\n",
    "        return my_max_number"
   ]
  },
  {
   "cell_type": "code",
   "execution_count": 16,
   "id": "7d2fafad-8e1d-44ba-83db-5950856dd573",
   "metadata": {},
   "outputs": [
    {
     "data": {
      "text/plain": [
       "5"
      ]
     },
     "execution_count": 16,
     "metadata": {},
     "output_type": "execute_result"
    }
   ],
   "source": [
    "my_max(5, 4, 3, 2)"
   ]
  },
  {
   "cell_type": "code",
   "execution_count": null,
   "id": "f3d92934-547c-436b-b6a4-7d3d58ed3e1f",
   "metadata": {},
   "outputs": [],
   "source": [
    "def my_max(*numbers):\n",
    "    max_num = 0 # 첫번째로 비교할 수의 비교값을 넣어줌\n",
    "\n",
    "    for number in numbers: # 입력되는(numbers) 숫자 개수만큼 반복될거야.\n",
    "        if max_num < number: # max_num(0) 이 입력되는 숫자보다 크다면\n",
    "            max_num = number # max_num에 입력되는 숫자가 들어갈거야\n",
    "    return max_num"
   ]
  },
  {
   "cell_type": "code",
   "execution_count": null,
   "id": "11baf59a-f3b3-4bb0-82d6-5c43de5b5644",
   "metadata": {},
   "outputs": [],
   "source": [
    "my_max(1, 2, 3, 4, 5, 6, 7)"
   ]
  },
  {
   "cell_type": "code",
   "execution_count": null,
   "id": "d150599e-3ccd-4925-9322-69ea15efa760",
   "metadata": {},
   "outputs": [],
   "source": [
    "def my_max(*numbers):\n",
    "    max_num = 0 # 첫번째로 비교할 수의 비교값을 넣어줌\n",
    "    max_num = numbers[0] # 비교값을 입력된 값의 가장 첫번째로 지정함\n",
    "    \n",
    "    for number in numbers: # 입력되는(numbers) 숫자 개수만큼 반복될거야.\n",
    "        if max_num < number: # max_num(0) 이 입력되는 숫자보다 크다면\n",
    "            max_num = number # max_num에 입력되는 숫자가 들어갈거야\n",
    "    return max_num"
   ]
  },
  {
   "cell_type": "code",
   "execution_count": null,
   "id": "441b6428-e463-491f-9fb5-61a888f2de56",
   "metadata": {},
   "outputs": [],
   "source": [
    "my_max(-1, -2, -3, -4)"
   ]
  },
  {
   "cell_type": "markdown",
   "id": "11557b82-38a9-4ad4-864d-b829e81e144e",
   "metadata": {},
   "source": [
    "### 정의되지 않은 키워드 인자 처리하기\n",
    "```python\n",
    "def func_name(**keyword arguments):\n",
    "    return value\n",
    "```"
   ]
  },
  {
   "cell_type": "code",
   "execution_count": null,
   "id": "d1726f4a-1871-4fc2-a30e-cedf75fda4c3",
   "metadata": {},
   "outputs": [],
   "source": [
    "# 딕셔너리 직접 만들기\n",
    "info = {\n",
    "    'name': 'hong',\n",
    "    'age': 10,\n",
    "}\n",
    "print(info)"
   ]
  },
  {
   "cell_type": "code",
   "execution_count": 17,
   "id": "5f218734-a442-4d16-81b0-3440e6b2f446",
   "metadata": {},
   "outputs": [
    {
     "name": "stdout",
     "output_type": "stream",
     "text": [
      "{'name': 'kim', 'age': 20}\n"
     ]
    }
   ],
   "source": [
    "# dict 사용하여 딕셔너리 만들기\n",
    "info = dict(name='kim', age=20)\n",
    "print(info)"
   ]
  },
  {
   "cell_type": "code",
   "execution_count": 18,
   "id": "a6e46688-ab7d-409e-bea6-7c9a32c90c3c",
   "metadata": {},
   "outputs": [
    {
     "name": "stdout",
     "output_type": "stream",
     "text": [
      "{'asdf': '가나다', 'age': 123, 'test': 'asdf'}\n"
     ]
    }
   ],
   "source": [
    "def my_dict(**kwargs):\n",
    "    print(kwargs)\n",
    "\n",
    "my_dict(asdf='가나다', age=123, test='asdf')"
   ]
  },
  {
   "cell_type": "code",
   "execution_count": 19,
   "id": "3720d4fe-672d-4343-bb6c-327d5ea0f768",
   "metadata": {},
   "outputs": [],
   "source": [
    "def my_func(params1, params2='temp', *numbers, **kwargs):\n",
    "    return 0"
   ]
  },
  {
   "cell_type": "code",
   "execution_count": 20,
   "id": "21239654-42e2-4eb2-a206-f8645e8ff986",
   "metadata": {},
   "outputs": [
    {
     "data": {
      "text/plain": [
       "0"
      ]
     },
     "execution_count": 20,
     "metadata": {},
     "output_type": "execute_result"
    }
   ],
   "source": [
    "# my_func() => params1 부족\n",
    "my_func(123)\n",
    "# => params1 = 123, params2 = 'temp'\n",
    "my_func(123, 234)\n",
    "# => params1 = 123, params2 = 234\n",
    "my_func(123, 234, 345, 456)\n",
    "# params1 = 123, params 2 = 234, params3 = numbers(345부터 모두)\n",
    "my_func(123, 234, 345, 456, a=1, b=2, c=3)\n",
    "# kwargs = {a: 1, b: 2, c: 3}"
   ]
  },
  {
   "cell_type": "markdown",
   "id": "d86312c1-88b5-4c17-94ec-7967e5e5d822",
   "metadata": {},
   "source": [
    "### lambda 표현식 (함수 만드는 또다른 방식, 임시로 쓰는 일회용 함수, 익명함수)\n",
    "```python\n",
    "lambda parameter: expression(연산식)\n",
    "```"
   ]
  },
  {
   "cell_type": "code",
   "execution_count": null,
   "id": "4c9160fa-b6aa-48c2-a08d-f5e79b0d2892",
   "metadata": {},
   "outputs": [],
   "source": [
    "def my_sum(num1, num2):\n",
    "    return num1 + num2"
   ]
  },
  {
   "cell_type": "code",
   "execution_count": null,
   "id": "bb157b7b-9559-43d2-afd3-4ab3935c9af2",
   "metadata": {},
   "outputs": [],
   "source": [
    "my_sum(1, 2)"
   ]
  },
  {
   "cell_type": "code",
   "execution_count": null,
   "id": "47d346f5-0129-48b7-83ab-9f972016a589",
   "metadata": {},
   "outputs": [],
   "source": [
    "# 함수는 선언하기만 해도 RAM용량을 차지, 1회만 사용하는 경우 lambda를 사용!\n",
    "\n",
    "(lambda num1, num2: num1 + num2)(1, 2)"
   ]
  },
  {
   "cell_type": "markdown",
   "id": "0c4b4835-1bca-4755-be75-39bd43f2f68d",
   "metadata": {},
   "source": [
    "### 타입힌트\n",
    "- 개발자가 보기 편하게 참고하라고 주석을 달아놓은 것\n",
    "- 변수에 타입힌트 (a: int, b: int)를 입력하거나, 출력 값의 타입을 입력해줌(my_sum(a, b) -> int:)\n",
    "- 정적언어: java 등, 상자 타입을 사전에 지정함 / 개발은 번거롭지만 안정성이 높음\n",
    "- 동적언어: 파이썬 / 개발은 빠르지만 안정성이 떨어짐"
   ]
  },
  {
   "cell_type": "code",
   "execution_count": 21,
   "id": "ca1470d5-006d-4834-9e91-b21809457efd",
   "metadata": {},
   "outputs": [
    {
     "data": {
      "text/plain": [
       "3"
      ]
     },
     "execution_count": 21,
     "metadata": {},
     "output_type": "execute_result"
    }
   ],
   "source": [
    "def my_sum(a, b) -> int:\n",
    "    return a + b\n",
    "\n",
    "\n",
    "my_sum(1, 2)"
   ]
  },
  {
   "cell_type": "code",
   "execution_count": 22,
   "id": "f7673cb9-7fb9-4d0c-9151-7264f347f636",
   "metadata": {},
   "outputs": [
    {
     "data": {
      "text/plain": [
       "'asdfasdf'"
      ]
     },
     "execution_count": 22,
     "metadata": {},
     "output_type": "execute_result"
    }
   ],
   "source": [
    "my_sum('asdf','asdf')"
   ]
  },
  {
   "cell_type": "markdown",
   "id": "0fe637d2-e7ad-4099-9c0f-5b1c3fe8820f",
   "metadata": {},
   "source": [
    "### 이름공간(namespace), 스코프(scope)\n",
    "- python에서 사용하는 이름들은 이름공간에 저장되어있습니다. LEGB 룰에 따라 접근\n",
    "\n",
    "(작은 범위부터)\n",
    "1. Local: 정의된 함수 내부\n",
    "2. Enclosed : 상위 함수\n",
    "3. Global : 함수 밖\n",
    "4. Built-in : python이 기본적으로 가지고 있는 함수"
   ]
  },
  {
   "cell_type": "code",
   "execution_count": 19,
   "id": "844f9626-20a6-4445-8804-438aa7b5a5cd",
   "metadata": {},
   "outputs": [
    {
     "name": "stdout",
     "output_type": "stream",
     "text": [
      "123\n"
     ]
    }
   ],
   "source": [
    "result = str(123) # str이 built-in에 들어간 함수로 계산됨\n",
    "print(result)"
   ]
  },
  {
   "cell_type": "code",
   "execution_count": 20,
   "id": "a9cf300a-b771-4489-8323-67f29e95c3a8",
   "metadata": {},
   "outputs": [],
   "source": [
    "str = 'hello'"
   ]
  },
  {
   "cell_type": "code",
   "execution_count": 21,
   "id": "abc0b41f-816f-4d0b-8bc4-3feb352811b6",
   "metadata": {},
   "outputs": [
    {
     "ename": "TypeError",
     "evalue": "'str' object is not callable",
     "output_type": "error",
     "traceback": [
      "\u001b[1;31m---------------------------------------------------------------------------\u001b[0m",
      "\u001b[1;31mTypeError\u001b[0m                                 Traceback (most recent call last)",
      "Cell \u001b[1;32mIn[21], line 1\u001b[0m\n\u001b[1;32m----> 1\u001b[0m result \u001b[38;5;241m=\u001b[39m \u001b[38;5;28;43mstr\u001b[39;49m\u001b[43m(\u001b[49m\u001b[38;5;241;43m123\u001b[39;49m\u001b[43m)\u001b[49m \u001b[38;5;66;03m# str을 변수로 만든 바로 위의 식을 따르게 됨\u001b[39;00m\n\u001b[0;32m      2\u001b[0m \u001b[38;5;28mprint\u001b[39m(result)\n",
      "\u001b[1;31mTypeError\u001b[0m: 'str' object is not callable"
     ]
    }
   ],
   "source": [
    "result = str(123) # str을 변수로 만든 바로 위의 식을 따르게 됨\n",
    "print(result)"
   ]
  },
  {
   "cell_type": "code",
   "execution_count": 9,
   "id": "0632e8b3-ba60-4cbe-bf2f-ed6ec4df9617",
   "metadata": {},
   "outputs": [],
   "source": [
    "del str"
   ]
  },
  {
   "cell_type": "code",
   "execution_count": 23,
   "id": "c7ee3865-0628-40d3-85aa-79861be57167",
   "metadata": {},
   "outputs": [
    {
     "data": {
      "text/plain": [
       "'asdf'"
      ]
     },
     "execution_count": 23,
     "metadata": {},
     "output_type": "execute_result"
    }
   ],
   "source": [
    "a = 1\n",
    "def local_scope(a):\n",
    "    return a\n",
    "\n",
    "a = '가나다라'\n",
    "local_scope('asdf')"
   ]
  },
  {
   "cell_type": "code",
   "execution_count": 27,
   "id": "fe8346d9-fc99-40e4-95bf-fddcac3c857b",
   "metadata": {},
   "outputs": [
    {
     "name": "stdout",
     "output_type": "stream",
     "text": [
      "1\n",
      "2\n",
      "3\n",
      "4\n",
      "5\n",
      "5\n"
     ]
    }
   ],
   "source": [
    "my_list = [1, 2, 3, 4, 5]\n",
    "for i in my_list:\n",
    "    # i = ...\n",
    "    print(i)\n",
    "print(i)"
   ]
  },
  {
   "cell_type": "code",
   "execution_count": 31,
   "id": "022a71b9-107b-4d0e-bb22-6d7b51f3f263",
   "metadata": {},
   "outputs": [
    {
     "data": {
      "text/plain": [
       "1"
      ]
     },
     "execution_count": 31,
     "metadata": {},
     "output_type": "execute_result"
    }
   ],
   "source": [
    "a = 0\n",
    "def global_scope():\n",
    "    global a # 함수 밖에 있는 a를 사용할 거야, 를 선언해줌\n",
    "    a = a + 1\n",
    "    return a\n",
    "\n",
    "global_scope()"
   ]
  },
  {
   "cell_type": "markdown",
   "id": "4d76070f-adde-47a6-aef0-fb570504625b",
   "metadata": {},
   "source": [
    "### 재귀\n",
    "함수 내부에서 자기 자신을 호출하는 함수\n",
    "\n",
    "```python\n",
    "n! = 1 * 2 * 3 * ... * n\n",
    "\n",
    "1! = 1\n",
    "2! = 1 * 2 = 1! * 2\n",
    "3! = 1 * 2 * 3 = 2! * 3\n",
    "n! = (n-1)! * n\n",
    "```"
   ]
  },
  {
   "cell_type": "code",
   "execution_count": 34,
   "id": "afa51e2f-615c-4820-ab80-1796eb8e7223",
   "metadata": {},
   "outputs": [],
   "source": [
    "def fact(n):\n",
    "    if n == 1:  # 1이라면 \n",
    "        return 1  # 1을 리턴하고\n",
    "    else:  # 아니라면\n",
    "        return fact(n-1) * n  # n-1함수에 n을 곱해줘"
   ]
  },
  {
   "cell_type": "code",
   "execution_count": null,
   "id": "4df9e5f8-1562-402c-b903-bdfcdf70ea6c",
   "metadata": {},
   "outputs": [],
   "source": []
  },
  {
   "cell_type": "code",
   "execution_count": 1,
   "id": "a7d6b6d2-71da-4d09-bd77-2fac48c12f53",
   "metadata": {},
   "outputs": [],
   "source": [
    "# 피보나치 수열\n",
    "# 중복되는 함수가 계속 반복되기 때문에 연산이 굉장히 오래 걸림\n",
    "def fib(n):\n",
    "    if n == 0 or n == 1: # 첫번째, 두번째 데이터가 1이라면\n",
    "        return 1 # 1을 반환해\n",
    "    else:\n",
    "        return fib(n-2) + fib(n-1)"
   ]
  },
  {
   "cell_type": "code",
   "execution_count": 2,
   "id": "795a8edb-4fe2-4426-90c7-b74d1b5038d6",
   "metadata": {},
   "outputs": [
    {
     "data": {
      "text/plain": [
       "8"
      ]
     },
     "execution_count": 2,
     "metadata": {},
     "output_type": "execute_result"
    }
   ],
   "source": [
    "fib(5)"
   ]
  },
  {
   "cell_type": "code",
   "execution_count": null,
   "id": "3000a789-6587-4f8f-9cf2-a56e380f56cd",
   "metadata": {},
   "outputs": [],
   "source": []
  },
  {
   "cell_type": "code",
   "execution_count": null,
   "id": "4d53ee49-ee24-4cb7-b7ce-6d4f77b2b733",
   "metadata": {},
   "outputs": [],
   "source": []
  },
  {
   "cell_type": "code",
   "execution_count": null,
   "id": "8dff7833-bf6a-4bca-a706-ce7790e1dd10",
   "metadata": {},
   "outputs": [],
   "source": []
  },
  {
   "cell_type": "code",
   "execution_count": null,
   "id": "a8817d20-d052-48b5-8b9f-1a515e24fc29",
   "metadata": {},
   "outputs": [],
   "source": []
  },
  {
   "cell_type": "code",
   "execution_count": null,
   "id": "fa4b6202-ef8b-4a92-9464-515e70a9d705",
   "metadata": {},
   "outputs": [],
   "source": []
  }
 ],
 "metadata": {
  "kernelspec": {
   "display_name": "Python 3 (ipykernel)",
   "language": "python",
   "name": "python3"
  },
  "language_info": {
   "codemirror_mode": {
    "name": "ipython",
    "version": 3
   },
   "file_extension": ".py",
   "mimetype": "text/x-python",
   "name": "python",
   "nbconvert_exporter": "python",
   "pygments_lexer": "ipython3",
   "version": "3.13.2"
  }
 },
 "nbformat": 4,
 "nbformat_minor": 5
}
