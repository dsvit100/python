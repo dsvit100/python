{
 "cells": [
  {
   "cell_type": "markdown",
   "id": "288e0dac-732c-46dd-854c-837739e730dc",
   "metadata": {},
   "source": [
    "# 자료구조\n",
    "> 여러가지 자료구조가 가지고 있는 메소드(함수) 알아보기"
   ]
  },
  {
   "cell_type": "code",
   "execution_count": null,
   "id": "be89145d-e18f-4654-aca8-3ca7f3fdb22f",
   "metadata": {},
   "outputs": [],
   "source": [
    "print(dir('hello'))"
   ]
  },
  {
   "cell_type": "markdown",
   "id": "c6460c87-bc70-4243-bea9-d3c8be2ea5a6",
   "metadata": {},
   "source": [
    "## 문자열 메소드"
   ]
  },
  {
   "cell_type": "code",
   "execution_count": 155,
   "id": "5f482019-903f-48c0-a90f-03fef8db6427",
   "metadata": {},
   "outputs": [],
   "source": [
    "a = 'heLlo my name is hong'"
   ]
  },
  {
   "cell_type": "code",
   "execution_count": 156,
   "id": "694603c2-6697-400a-889e-10b311ddfc12",
   "metadata": {},
   "outputs": [
    {
     "name": "stdout",
     "output_type": "stream",
     "text": [
      "heLlo my name is hong\n"
     ]
    }
   ],
   "source": [
    "print(a)"
   ]
  },
  {
   "cell_type": "code",
   "execution_count": 157,
   "id": "d4292382-3f14-4dc1-be4e-51d0429696c4",
   "metadata": {},
   "outputs": [
    {
     "ename": "TypeError",
     "evalue": "'str' object does not support item assignment",
     "output_type": "error",
     "traceback": [
      "\u001b[1;31m---------------------------------------------------------------------------\u001b[0m",
      "\u001b[1;31mTypeError\u001b[0m                                 Traceback (most recent call last)",
      "Cell \u001b[1;32mIn[157], line 1\u001b[0m\n\u001b[1;32m----> 1\u001b[0m \u001b[43ma\u001b[49m\u001b[43m[\u001b[49m\u001b[38;5;241;43m0\u001b[39;49m\u001b[43m]\u001b[49m \u001b[38;5;241m=\u001b[39m \u001b[38;5;124m'\u001b[39m\u001b[38;5;124mH\u001b[39m\u001b[38;5;124m'\u001b[39m \u001b[38;5;66;03m# 스트링은 하나하나 수정 불가, 한꺼번에 덮어쓰기 가능\u001b[39;00m\n",
      "\u001b[1;31mTypeError\u001b[0m: 'str' object does not support item assignment"
     ]
    }
   ],
   "source": [
    "a[0] = 'H' # 스트링은 하나하나 수정 불가, 한꺼번에 덮어쓰기 가능"
   ]
  },
  {
   "cell_type": "code",
   "execution_count": 158,
   "id": "839542b0-2e9b-4538-b9eb-05f10b2e2aed",
   "metadata": {},
   "outputs": [
    {
     "data": {
      "text/plain": [
       "'Hello my name is hong'"
      ]
     },
     "execution_count": 158,
     "metadata": {},
     "output_type": "execute_result"
    }
   ],
   "source": [
    "a.capitalize()  #  첫번째 문자를 대문자로 만들다\n",
    "# a. ~ 는 a 안에 들어있는 것들에 함수를 실행해줘 (. = ~안에)"
   ]
  },
  {
   "cell_type": "code",
   "execution_count": 159,
   "id": "936493c5-1ad6-4184-8177-bec7b3f52237",
   "metadata": {},
   "outputs": [
    {
     "name": "stdout",
     "output_type": "stream",
     "text": [
      "heLlo my name is hong\n"
     ]
    }
   ],
   "source": [
    "print(a)\n",
    "# 원본 데이터가 변경되는 게 아니라 출력만 되는 것\n",
    "# 원본 데이터를 변경하고 싶으면 a 값 자체를 바꿔주어야 함"
   ]
  },
  {
   "cell_type": "code",
   "execution_count": null,
   "id": "896911d9-d98f-4d4a-a4b8-e7a49be3cff5",
   "metadata": {},
   "outputs": [],
   "source": [
    "a.title() # 각 단어들의 앞 문자를 모두 대문자로 변경해줌"
   ]
  },
  {
   "cell_type": "code",
   "execution_count": null,
   "id": "142494f7-28c4-4bde-9e43-d4d6c3a74870",
   "metadata": {},
   "outputs": [],
   "source": [
    "a.lower() #각 단어들의 앞 문자를 모두 소문자로 변경해줌"
   ]
  },
  {
   "cell_type": "code",
   "execution_count": 154,
   "id": "cd190b3e-0c04-4956-a2c8-44b7271b6186",
   "metadata": {},
   "outputs": [
    {
     "ename": "AttributeError",
     "evalue": "'list' object has no attribute 'upper'",
     "output_type": "error",
     "traceback": [
      "\u001b[1;31m---------------------------------------------------------------------------\u001b[0m",
      "\u001b[1;31mAttributeError\u001b[0m                            Traceback (most recent call last)",
      "Cell \u001b[1;32mIn[154], line 1\u001b[0m\n\u001b[1;32m----> 1\u001b[0m \u001b[43ma\u001b[49m\u001b[38;5;241;43m.\u001b[39;49m\u001b[43mupper\u001b[49m()\n",
      "\u001b[1;31mAttributeError\u001b[0m: 'list' object has no attribute 'upper'"
     ]
    }
   ],
   "source": [
    "a.upper()"
   ]
  },
  {
   "cell_type": "code",
   "execution_count": null,
   "id": "4bedf876-0d1b-4244-94c4-d71c8792b44f",
   "metadata": {},
   "outputs": [],
   "source": [
    "my_list = ['my', 'name', 'is']\n",
    "'!'.join(my_list) # 합치고 싶은 시퀀스형 데이터"
   ]
  },
  {
   "cell_type": "code",
   "execution_count": null,
   "id": "0e9ed2c5-6300-42a4-a4a0-e38c94f15cf8",
   "metadata": {},
   "outputs": [],
   "source": [
    "'?'.join('배고프다')"
   ]
  },
  {
   "cell_type": "code",
   "execution_count": null,
   "id": "6ab24629-ecf9-4279-8c35-7805fd1cd8f0",
   "metadata": {},
   "outputs": [],
   "source": [
    "a = '                 hello       \\n'\n",
    "a.strip() # 좌우 여백으로 생각되는 모든 여백(공백, \\n, \\t(tap, 들여쓰기))을 지워줌"
   ]
  },
  {
   "cell_type": "code",
   "execution_count": null,
   "id": "d741f909-2450-4757-8dfa-b456757724bb",
   "metadata": {},
   "outputs": [],
   "source": [
    "a = '!!!!!!!!!!hello         ?????????'\n",
    "a.strip('!? ')\n",
    "\n",
    "# def strip(char=' ')"
   ]
  },
  {
   "cell_type": "code",
   "execution_count": null,
   "id": "46a7e1d7-0425-4c3a-87f6-c1023a7b5436",
   "metadata": {},
   "outputs": [],
   "source": [
    "a = '---------hello----'\n",
    "a.lstrip('-') # lstrip = 왼쪽만 반영하겠습니다.\n",
    "a.rstrip('-') # rstrip = 오른쪽만 반영하겠습니다."
   ]
  },
  {
   "cell_type": "code",
   "execution_count": 200,
   "id": "47935154-9d09-4c04-9cdc-4beb8c228237",
   "metadata": {},
   "outputs": [
    {
     "data": {
      "text/plain": [
       "'w!!!oooooooooooow'"
      ]
     },
     "execution_count": 200,
     "metadata": {},
     "output_type": "execute_result"
    }
   ],
   "source": [
    "a = 'wooooooooooooooow'\n",
    "a.replace('o', '!', 3)  # 철자 하나를 원하는 철자로 바꾸어 변경함\n",
    "# 세번째 인자는 이 작업을 몇 번 할 것인지 (앞에서부터 3회)\n",
    "# 세번째 인자는 써도 되고 안 써도 됨"
   ]
  },
  {
   "cell_type": "code",
   "execution_count": null,
   "id": "dfb19431-15d3-419f-b651-f0153a5f9f80",
   "metadata": {},
   "outputs": [],
   "source": [
    "a = 'apple' # 인덱스 번호 출력\n",
    "a.find('a') # => 0\n",
    "a.find('l') # => 3\n",
    "a.find('p') # 중복인 경우 가장 앞에 있는 인덱스를 출력함\n",
    "a.find('z') # -1 => 없음"
   ]
  },
  {
   "cell_type": "code",
   "execution_count": null,
   "id": "d6fecba4-1ba5-4a16-af50-d138ee3c0cb1",
   "metadata": {},
   "outputs": [],
   "source": [
    "a = 'apple'\n",
    "a.index('a')\n",
    "a.index('l')\n",
    "a.index('p')\n",
    "a.index('z')\n",
    "\n",
    "# find와 index는 비슷함\n",
    "# find는 없는 데이터인 경우 -1을 뱉음\n",
    "# index는 없는 데이터인 경우 에러를 발생시켜서 코드를 완전히 종료"
   ]
  },
  {
   "cell_type": "code",
   "execution_count": null,
   "id": "3c50eff4-7477-4d59-bdeb-4a461d993cd3",
   "metadata": {},
   "outputs": [],
   "source": [
    "a = 'my name is hong'\n",
    "a.split() # a가 가진 데이터를 띄어쓰기 기준으로 잘라서 '리스트'로 만들어줌"
   ]
  },
  {
   "cell_type": "code",
   "execution_count": null,
   "id": "7e17704c-a272-4c80-9de4-56f56100da92",
   "metadata": {},
   "outputs": [],
   "source": [
    "a = 'my!name!is!hong'\n",
    "a.split('!') # 자르고 싶은 기준을 괄호에 넣으면 그 기준대로 잘라줌"
   ]
  },
  {
   "cell_type": "code",
   "execution_count": null,
   "id": "b73e11fc-fa89-4b29-9def-d4eafe1f399f",
   "metadata": {},
   "outputs": [],
   "source": [
    "a = 'wooooooooooooow'\n",
    "a.count('o') # o의 개수를 세어줭~"
   ]
  },
  {
   "cell_type": "markdown",
   "id": "b84282e3-09be-48ee-81ed-89d6a1eff96a",
   "metadata": {},
   "source": [
    "# 리스트 메소드"
   ]
  },
  {
   "cell_type": "code",
   "execution_count": 160,
   "id": "90fb7620-8811-47c9-9789-25b390b8c337",
   "metadata": {},
   "outputs": [],
   "source": [
    "numbers = [2, 3, 3, 4, 8, 5, 9, 10]"
   ]
  },
  {
   "cell_type": "code",
   "execution_count": 161,
   "id": "eb59aaf0-3845-442c-802b-eb22e536e6f8",
   "metadata": {},
   "outputs": [
    {
     "name": "stdout",
     "output_type": "stream",
     "text": [
      "[2, 3, 3, 4, 8, 5, 9, 10, 11]\n"
     ]
    }
   ],
   "source": [
    "numbers.append(11) # 뒤에 값을 붙여넣을 때 사용\n",
    "print(numbers)"
   ]
  },
  {
   "cell_type": "code",
   "execution_count": 162,
   "id": "077998dd-6dfc-47b7-b97c-fc30117d30f0",
   "metadata": {},
   "outputs": [],
   "source": [
    "a = [99, 100]"
   ]
  },
  {
   "cell_type": "code",
   "execution_count": 163,
   "id": "b27be462-f044-47f4-ae1a-9e98d18f05a7",
   "metadata": {},
   "outputs": [
    {
     "name": "stdout",
     "output_type": "stream",
     "text": [
      "[99, 100]\n"
     ]
    }
   ],
   "source": [
    "numbers.extend(a) # 여러개의 값을 붙여넣을 때 사용, numbers + a\n",
    "print(a)"
   ]
  },
  {
   "cell_type": "code",
   "execution_count": 11,
   "id": "8b422ff9-1b65-4848-a973-9473a659db5c",
   "metadata": {},
   "outputs": [
    {
     "name": "stdout",
     "output_type": "stream",
     "text": [
      "[2, 3, 4, 5, 5, 55, 8, 5, 9, 10, 11, 99, 100, 11, 99, 100]\n"
     ]
    }
   ],
   "source": [
    "numbers.insert(3, 5) # ~로 ~을 집어넣는다.\n",
    "print(numbers)"
   ]
  },
  {
   "cell_type": "code",
   "execution_count": 16,
   "id": "f972c825-3deb-4f91-839d-d0e98480b791",
   "metadata": {},
   "outputs": [
    {
     "name": "stdout",
     "output_type": "stream",
     "text": [
      "[2, 3, 4, 5, 55, 8, 5, 9, 10, 100, 99, 100]\n"
     ]
    }
   ],
   "source": [
    "numbers.remove(99) # 첫번째 값을 찾아서 제거, 제거할 것이 없으면 오류발생\n",
    "print(numbers)"
   ]
  },
  {
   "cell_type": "code",
   "execution_count": 20,
   "id": "c7d4a45a-5746-44a9-a641-a6022abe962a",
   "metadata": {},
   "outputs": [
    {
     "name": "stdout",
     "output_type": "stream",
     "text": [
      "[2, 3, 4, 5, 55, 8, 5, 9]\n"
     ]
    }
   ],
   "source": [
    "numbers.pop() # uppend 의 반대, 뒤의 값을 제거\n",
    "print(numbers)"
   ]
  },
  {
   "cell_type": "markdown",
   "id": "bb037dbf-dd8a-4364-8c95-48780248074e",
   "metadata": {},
   "source": [
    "- 스택 = 누적 (접시를 쌓듯) first input / last output\n",
    "- 큐= 줄서기 / 선입선출~"
   ]
  },
  {
   "cell_type": "code",
   "execution_count": 26,
   "id": "edfad2af-9f22-4ac3-ad37-539a5226c928",
   "metadata": {},
   "outputs": [
    {
     "name": "stdout",
     "output_type": "stream",
     "text": [
      "[5, 55, 8, 5, 9]\n"
     ]
    }
   ],
   "source": [
    "# 의도적으로 pop에 n번째를 기입하면 의도적으로 위치를 지정하여 삭제할 수 있음\n",
    "# 따로 지정하지 않는 경우 스택 형식으로 사라짐\n",
    "numbers.pop(0)\n",
    "print(numbers)"
   ]
  },
  {
   "cell_type": "code",
   "execution_count": 28,
   "id": "ec14ca9a-4fc5-4cd2-a0a6-be1c0e5d4382",
   "metadata": {},
   "outputs": [
    {
     "name": "stdout",
     "output_type": "stream",
     "text": [
      "[5, 5, 8, 9, 55]\n"
     ]
    }
   ],
   "source": [
    "numbers.sort() # 오름차순으로 정렬, 정렬된 순서로 값이 바뀜\n",
    "print(numbers)"
   ]
  },
  {
   "cell_type": "code",
   "execution_count": 30,
   "id": "df9733ec-6f41-4b35-b59a-1fc92ba955a8",
   "metadata": {},
   "outputs": [
    {
     "name": "stdout",
     "output_type": "stream",
     "text": [
      "[55, 9, 8, 5, 5]\n"
     ]
    }
   ],
   "source": [
    "numbers.sort(reverse=True) # 옵션 줄 수 있음 (역순할까용? = 네)\n",
    "print(numbers)"
   ]
  },
  {
   "cell_type": "code",
   "execution_count": 37,
   "id": "279ce369-8bff-4df4-889b-5cb6e770b310",
   "metadata": {},
   "outputs": [
    {
     "name": "stdout",
     "output_type": "stream",
     "text": [
      "[2, 3, 4, 5, 6, 7]\n",
      "[5, 3, 4, 2, 6, 7]\n"
     ]
    }
   ],
   "source": [
    "a = [5, 3, 4, 2, 6, 7]\n",
    "print(sorted(a)) # 값이 바뀌진 않고 정렬만 해줌\n",
    "print(a)"
   ]
  },
  {
   "cell_type": "code",
   "execution_count": 40,
   "id": "e9efba73-7576-4f8a-bf8f-9fe417644d55",
   "metadata": {},
   "outputs": [
    {
     "name": "stdout",
     "output_type": "stream",
     "text": [
      "['a', 'b', 'e', 'o', 'z', '아', '호']\n"
     ]
    }
   ],
   "source": [
    "my_list = ['a', 'e', '아', '호', 'o', 'b', 'z']\n",
    "my_list.sort() # 글자는 유니코드 순으로 정렬함\n",
    "print(my_list)"
   ]
  },
  {
   "cell_type": "code",
   "execution_count": 43,
   "id": "746e6d86-b268-41e9-b510-389650a57975",
   "metadata": {},
   "outputs": [
    {
     "name": "stdout",
     "output_type": "stream",
     "text": [
      "[5, 5, 8, 9, 55]\n",
      "[55, 9, 8, 5, 5]\n"
     ]
    }
   ],
   "source": [
    "print(numbers)\n",
    "numbers.reverse()\n",
    "print(numbers)"
   ]
  },
  {
   "cell_type": "code",
   "execution_count": 45,
   "id": "2b5c9890-5eec-4351-a677-cd1127a09890",
   "metadata": {},
   "outputs": [
    {
     "data": {
      "text/plain": [
       "2"
      ]
     },
     "execution_count": 45,
     "metadata": {},
     "output_type": "execute_result"
    }
   ],
   "source": [
    "numbers.count(5) # 같은 요소가 몇개 있는지 확인"
   ]
  },
  {
   "cell_type": "markdown",
   "id": "8d220f11-9402-453a-bb5e-34319782e0ca",
   "metadata": {},
   "source": [
    "# list copy\n",
    "- copy_list = origin list[:] : 새로운 리스트를 만듦(데이터 값만 복사)\n",
    "- copy_list = origin list : 같은 리스트를 공유(데이터 위치를 공유)\n",
    "- copy_list = origin_list.copy() :  .copy()도 새로운 리스트를 만들기 때문에 [:]와 같은 효과\n",
    "- [:] 는 \"리스트를 통째로 복사\" 한다는 뜻"
   ]
  },
  {
   "cell_type": "code",
   "execution_count": 47,
   "id": "30fa7918-a0d8-4f66-a594-e545cd63476b",
   "metadata": {},
   "outputs": [],
   "source": [
    "# copy_list는 새로운 리스트를 만든 게 아니라\n",
    "# 기존 리스트(origin_list)의 위치를 가르키는 것\n",
    "# 따라서 둘은 연동이 되고 있음.\n",
    "# 만약 origin_list를 그냥 두고 copy_list만 변경하고 싶다면 deepcopy가 필요!\n",
    "origin_list = [1, 2, 3]\n",
    "copy_list = origin_list"
   ]
  },
  {
   "cell_type": "code",
   "execution_count": 48,
   "id": "614b57f3-3917-4f0c-b941-3c9da5454539",
   "metadata": {},
   "outputs": [
    {
     "name": "stdout",
     "output_type": "stream",
     "text": [
      "[1, 2, 3]\n",
      "[1, 2, 3]\n"
     ]
    }
   ],
   "source": [
    "print(origin_list)\n",
    "print(copy_list)"
   ]
  },
  {
   "cell_type": "code",
   "execution_count": 49,
   "id": "870a6937-cc83-44b5-aaeb-cc9e4815b1f9",
   "metadata": {},
   "outputs": [
    {
     "name": "stdout",
     "output_type": "stream",
     "text": [
      "[100, 2, 3]\n",
      "[100, 2, 3]\n"
     ]
    }
   ],
   "source": [
    "copy_list[0] = 100 \n",
    "print(origin_list)\n",
    "print(copy_list)\n",
    "# 데이터 값이 아니라 데이터 위치를 가르킴"
   ]
  },
  {
   "cell_type": "code",
   "execution_count": 79,
   "id": "eae1fa48-cf00-46bd-a9be-44d02870b9d2",
   "metadata": {},
   "outputs": [
    {
     "name": "stdout",
     "output_type": "stream",
     "text": [
      "[1, 2, 3]\n",
      "[100, 2, 3]\n"
     ]
    }
   ],
   "source": [
    "origin_list = [1, 2, 3]\n",
    "copy_list = origin_list[:]\n",
    "# 원본에 있던 오리진 리스트를 처음부터 끝까지 슬라이싱 해서 넣어주세요.\n",
    "# [:]가 있으면 새로운 리스트가 만들어지고 그 안에 origin_list의 값이 복사됨\n",
    "# 즉, copy_list는 origin_list와 같은 데이터를 가지지만 다른 위치에 저장된 별도 리스트!\n",
    "\n",
    "copy_list[0] = 100\n",
    "print(origin_list)\n",
    "print(copy_list)"
   ]
  },
  {
   "cell_type": "code",
   "execution_count": 52,
   "id": "1ff2e240-10c6-438c-b443-1933e17814aa",
   "metadata": {},
   "outputs": [
    {
     "name": "stdout",
     "output_type": "stream",
     "text": [
      "[1, 2, [-10, 11]]\n",
      "[100, 2, [-10, 11]]\n"
     ]
    }
   ],
   "source": [
    "origin_list = [1, 2, [10, 11]]\n",
    "copy_list = origin_list[:]\n",
    "\n",
    "copy_list[0] = 100\n",
    "copy_list[2][0] = -10\n",
    "\n",
    "print(origin_list)\n",
    "print(copy_list)"
   ]
  },
  {
   "cell_type": "code",
   "execution_count": 55,
   "id": "a6d99cc5-a99b-48d5-8e14-41cd7385f390",
   "metadata": {},
   "outputs": [
    {
     "name": "stdout",
     "output_type": "stream",
     "text": [
      "[1, 2, [10, 11]]\n",
      "[100, 2, [10, -11]]\n"
     ]
    }
   ],
   "source": [
    "import copy # 추가하다, copy라는 모듈(공구상자)을 먼저 꺼내서\n",
    "\n",
    "origin_list = [1, 2, [10, 11]]\n",
    "copy_list = copy.deepcopy(origin_list) # 데이터를 완전 분리하여 카피함. 데이터를 직접 가져와서 카피할 거야. 값을 직접 가져올거야!\n",
    "\n",
    "copy_list[0] = 100\n",
    "copy_list[2][1] = -11\n",
    "\n",
    "print(origin_list)\n",
    "print(copy_list)\n"
   ]
  },
  {
   "cell_type": "markdown",
   "id": "7caf8ee6-a047-4c93-91e4-d60acf200a8b",
   "metadata": {},
   "source": [
    "# list comprehension"
   ]
  },
  {
   "cell_type": "code",
   "execution_count": 58,
   "id": "8265b52d-a046-4bce-9d4f-d0640d937eb5",
   "metadata": {},
   "outputs": [
    {
     "name": "stdout",
     "output_type": "stream",
     "text": [
      "[1, 2, 3, 4, 5, 6, 7, 8, 9, 10]\n"
     ]
    }
   ],
   "source": [
    "numbers = list(range(1, 11))\n",
    "print(numbers)"
   ]
  },
  {
   "cell_type": "code",
   "execution_count": 61,
   "id": "e0008b78-f5e5-471c-b4b6-1e476ac2f5ad",
   "metadata": {},
   "outputs": [
    {
     "name": "stdout",
     "output_type": "stream",
     "text": [
      "[1, 8, 27, 64, 125, 216, 343, 512, 729, 1000]\n"
     ]
    }
   ],
   "source": [
    "result = [] # 데이터를 쌓을 공간 만들기\n",
    "\n",
    "for number in numbers: # \n",
    "    temp = number ** 3\n",
    "    result.append(temp)\n",
    "\n",
    "print(result)"
   ]
  },
  {
   "cell_type": "code",
   "execution_count": 65,
   "id": "63007571-2059-4faa-92ad-19ddded4482c",
   "metadata": {},
   "outputs": [
    {
     "name": "stdout",
     "output_type": "stream",
     "text": [
      "[1, 8, 27, 64, 125, 216, 343, 512, 729, 1000]\n"
     ]
    }
   ],
   "source": [
    "result = [number ** 3 for number in numbers] # for문 앞은 계산 결과, 뒤는 반복문\n",
    "# result = [number1 **3, number2 **3, number3 **3... ]\n",
    "print(result)"
   ]
  },
  {
   "cell_type": "code",
   "execution_count": 68,
   "id": "b7d756d4-47c7-4805-a129-2cd56fc31967",
   "metadata": {},
   "outputs": [
    {
     "name": "stdout",
     "output_type": "stream",
     "text": [
      "[1, 2, 3, 4, 5, 6, 7, 8, 9, 10, 11, 12, 13, 14, 15, 16, 17, 18, 19, 20, 21, 22, 23, 24, 25, 26, 27, 28, 29, 30]\n"
     ]
    }
   ],
   "source": [
    "# 짝수만 고르기\n",
    "numbers = list(range(1, 31))\n",
    "print(numbers)"
   ]
  },
  {
   "cell_type": "code",
   "execution_count": 70,
   "id": "d896fc49-98b4-42f5-acd2-4466c165357c",
   "metadata": {},
   "outputs": [
    {
     "name": "stdout",
     "output_type": "stream",
     "text": [
      "[2, 4, 6, 8, 10, 12, 14, 16, 18, 20, 22, 24, 26, 28, 30]\n"
     ]
    }
   ],
   "source": [
    "result = []\n",
    "for number in numbers:\n",
    "    if number % 2 == 0:\n",
    "        result.append(number)\n",
    "\n",
    "print(result)"
   ]
  },
  {
   "cell_type": "code",
   "execution_count": 76,
   "id": "0583da9f-241f-4bf2-bbd7-17e2172d9648",
   "metadata": {},
   "outputs": [
    {
     "data": {
      "text/plain": [
       "[2, 4, 6, 8, 10, 12, 14, 16, 18, 20, 22, 24, 26, 28, 30]"
      ]
     },
     "execution_count": 76,
     "metadata": {},
     "output_type": "execute_result"
    }
   ],
   "source": [
    "numbers = list(range(1, 31))\n",
    "[number for number in numbers if number % 2 == 0]\n",
    "# numbers 반복 돌면서 하나하나를 number라고 부를거고\n",
    "# number가 짝수면\n",
    "# number 를 출력할거야."
   ]
  },
  {
   "cell_type": "code",
   "execution_count": 78,
   "id": "944ac349-c3ab-4fb9-912b-710784cf509c",
   "metadata": {},
   "outputs": [
    {
     "data": {
      "text/plain": [
       "[4, 8, 12, 16, 20, 24, 28, 32, 36, 40, 44, 48, 52, 56, 60]"
      ]
     },
     "execution_count": 78,
     "metadata": {},
     "output_type": "execute_result"
    }
   ],
   "source": [
    "numbers = list(range(1, 31))\n",
    "[number * 2 for number in numbers if number % 2 == 0]\n",
    "# numbers 반복 돌면서 하나하나를 number라고 부를거고\n",
    "# number가 짝수면\n",
    "# number 를 2씩 곱하면서 출력할거야."
   ]
  },
  {
   "cell_type": "code",
   "execution_count": null,
   "id": "1e3ed556-8b98-462b-9be6-11f2ccb1d23a",
   "metadata": {},
   "outputs": [],
   "source": [
    "# 연습! 모음제거\n",
    "words = 'my name is hong'\n",
    "\n",
    "# => my nm s hng"
   ]
  },
  {
   "cell_type": "code",
   "execution_count": 131,
   "id": "4d38beac-3917-408b-9150-b0458d6e68eb",
   "metadata": {},
   "outputs": [
    {
     "name": "stdout",
     "output_type": "stream",
     "text": [
      "['a', 'e', 'i', 'o']\n"
     ]
    }
   ],
   "source": [
    "# *** 내가 푼 문제\n",
    "\n",
    "words = 'my name is hong'\n",
    "result = []\n",
    "\n",
    "for word in words:\n",
    "    if word in ('a', 'e', 'i', 'o', 'u'): # 삭제 할 수 없기 때문에?\n",
    "        result.append(word)\n",
    "\n",
    "print(result)"
   ]
  },
  {
   "cell_type": "code",
   "execution_count": 118,
   "id": "e7680853-4b42-40d7-a3c7-72eebb800668",
   "metadata": {},
   "outputs": [
    {
     "name": "stdout",
     "output_type": "stream",
     "text": [
      "['m', 'y', ' ', 'n', 'm', ' ', 's', ' ', 'h', 'n', 'g']\n",
      "my nm s hng\n"
     ]
    }
   ],
   "source": [
    "# 1. for / if => 데이터 제거가 아니라 골라낸 것\n",
    "\n",
    "\n",
    "vowerls = ['a', 'e', 'i', 'o', 'u']\n",
    "result = []\n",
    "words = 'my name is hong'\n",
    "for char in words:\n",
    "    # 모음인 경우\n",
    "    if char in vowerls:  # 모음 목록에 포함되어 있다면\n",
    "        pass\n",
    "    # 자음인 경우\n",
    "    else:\n",
    "        result.append(char)\n",
    "\n",
    "print(result)\n",
    "print(''.join(result))"
   ]
  },
  {
   "cell_type": "code",
   "execution_count": 119,
   "id": "0ee009a9-aa88-4787-8d08-202654d6eb95",
   "metadata": {},
   "outputs": [
    {
     "name": "stdout",
     "output_type": "stream",
     "text": [
      "['m', 'y', ' ', 'n', 'm', ' ', 's', ' ', 'h', 'n', 'g']\n",
      "my nm s hng\n"
     ]
    }
   ],
   "source": [
    "vowerls = ['a', 'e', 'i', 'o', 'u']\n",
    "result = []\n",
    "words = 'my name is hong'\n",
    "for char in words:\n",
    "    # 모음인 경우 => 모음이 아닌경우\n",
    "    if char not in vowerls:  # 모음 목록에 없다면\n",
    "        result.append(char) # 더해줘\n",
    "\n",
    "print(result)\n",
    "print(''.join(result))"
   ]
  },
  {
   "cell_type": "code",
   "execution_count": 132,
   "id": "08b22852-67f5-48ce-85e0-fb6d29bf4001",
   "metadata": {},
   "outputs": [
    {
     "name": "stdout",
     "output_type": "stream",
     "text": [
      "['m', 'y', ' ', 'n', 'm', ' ', 's', ' ', 'h', 'n', 'g']\n",
      "my nm s hng\n"
     ]
    }
   ],
   "source": [
    "vowerls = 'aeiou' # (vowerls = ['a', 'e', 'i', 'o', 'u'])\n",
    "result = []\n",
    "words = 'my name is hong'\n",
    "for char in words:\n",
    "    if char not in vowerls:  # 모음 목록에 없다면\n",
    "        result.append(char) # 더해줘\n",
    "\n",
    "print(result)\n",
    "print(''.join(result))"
   ]
  },
  {
   "cell_type": "code",
   "execution_count": 133,
   "id": "c0013eef-506c-4d37-b875-aa696f630733",
   "metadata": {},
   "outputs": [
    {
     "name": "stdout",
     "output_type": "stream",
     "text": [
      "['m', 'y', ' ', 'n', 'm', ' ', 's', ' ', 'h', 'n', 'g']\n",
      "my nm s hng\n"
     ]
    }
   ],
   "source": [
    "result = []\n",
    "words = 'my name is hong'\n",
    "for char in words:\n",
    "    if char not in 'aeiou':\n",
    "        result.append(char)\n",
    "        \n",
    "print(result)\n",
    "print(''.join(result))"
   ]
  },
  {
   "cell_type": "code",
   "execution_count": 81,
   "id": "3d509cc5-8a99-4571-88c5-9c78097f642e",
   "metadata": {},
   "outputs": [],
   "source": [
    "# 2. list comprehension => 데이터 제거가 아니라 골라낸 것"
   ]
  },
  {
   "cell_type": "code",
   "execution_count": 135,
   "id": "240c4f21-a2a0-4cde-a6cd-9331f0460cd3",
   "metadata": {},
   "outputs": [
    {
     "name": "stdout",
     "output_type": "stream",
     "text": [
      "['m', 'y', ' ', 'n', 'm', ' ', 's', ' ', 'h', 'n', 'g']\n",
      "my nm s hng\n"
     ]
    }
   ],
   "source": [
    "vowels = 'aeiou'\n",
    "result = [char for char in words if char not in vowels]\n",
    "print(result)\n",
    "print(''.join(result))"
   ]
  },
  {
   "cell_type": "code",
   "execution_count": 138,
   "id": "5a74c68b-2440-482f-be2b-3b05a4eb80f6",
   "metadata": {},
   "outputs": [
    {
     "name": "stdout",
     "output_type": "stream",
     "text": [
      "my nm s hng\n"
     ]
    }
   ],
   "source": [
    "# 3. replace 메소드\n",
    "# 원본을 덧씌운 것으로 값 삭제에 가깝다고 보여짐\n",
    "vowels = 'aeiou'\n",
    "\n",
    "for char in vowels:\n",
    "    words = words.replace(char, '')\n",
    "\n",
    "print(words)"
   ]
  }
 ],
 "metadata": {
  "kernelspec": {
   "display_name": "Python 3 (ipykernel)",
   "language": "python",
   "name": "python3"
  },
  "language_info": {
   "codemirror_mode": {
    "name": "ipython",
    "version": 3
   },
   "file_extension": ".py",
   "mimetype": "text/x-python",
   "name": "python",
   "nbconvert_exporter": "python",
   "pygments_lexer": "ipython3",
   "version": "3.13.2"
  }
 },
 "nbformat": 4,
 "nbformat_minor": 5
}
