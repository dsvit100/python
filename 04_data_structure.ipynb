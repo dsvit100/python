{
 "cells": [
  {
   "cell_type": "markdown",
   "id": "288e0dac-732c-46dd-854c-837739e730dc",
   "metadata": {},
   "source": [
    "# 자료구조\n",
    "> 여러가지 자료구조가 가지고 있는 메소드(함수) 알아보기"
   ]
  },
  {
   "cell_type": "code",
   "execution_count": 5,
   "id": "be89145d-e18f-4654-aca8-3ca7f3fdb22f",
   "metadata": {},
   "outputs": [
    {
     "name": "stdout",
     "output_type": "stream",
     "text": [
      "['__add__', '__class__', '__contains__', '__delattr__', '__dir__', '__doc__', '__eq__', '__format__', '__ge__', '__getattribute__', '__getitem__', '__getnewargs__', '__getstate__', '__gt__', '__hash__', '__init__', '__init_subclass__', '__iter__', '__le__', '__len__', '__lt__', '__mod__', '__mul__', '__ne__', '__new__', '__reduce__', '__reduce_ex__', '__repr__', '__rmod__', '__rmul__', '__setattr__', '__sizeof__', '__str__', '__subclasshook__', 'capitalize', 'casefold', 'center', 'count', 'encode', 'endswith', 'expandtabs', 'find', 'format', 'format_map', 'index', 'isalnum', 'isalpha', 'isascii', 'isdecimal', 'isdigit', 'isidentifier', 'islower', 'isnumeric', 'isprintable', 'isspace', 'istitle', 'isupper', 'join', 'ljust', 'lower', 'lstrip', 'maketrans', 'partition', 'removeprefix', 'removesuffix', 'replace', 'rfind', 'rindex', 'rjust', 'rpartition', 'rsplit', 'rstrip', 'split', 'splitlines', 'startswith', 'strip', 'swapcase', 'title', 'translate', 'upper', 'zfill']\n"
     ]
    }
   ],
   "source": [
    "print(dir('hello'))"
   ]
  },
  {
   "cell_type": "markdown",
   "id": "c6460c87-bc70-4243-bea9-d3c8be2ea5a6",
   "metadata": {},
   "source": [
    "## 문자열 메소드"
   ]
  },
  {
   "cell_type": "code",
   "execution_count": 24,
   "id": "5f482019-903f-48c0-a90f-03fef8db6427",
   "metadata": {},
   "outputs": [],
   "source": [
    "a = 'heLlo my name is hong'"
   ]
  },
  {
   "cell_type": "code",
   "execution_count": 25,
   "id": "694603c2-6697-400a-889e-10b311ddfc12",
   "metadata": {},
   "outputs": [
    {
     "name": "stdout",
     "output_type": "stream",
     "text": [
      "heLlo my name is hong\n"
     ]
    }
   ],
   "source": [
    "print(a)"
   ]
  },
  {
   "cell_type": "code",
   "execution_count": 26,
   "id": "d4292382-3f14-4dc1-be4e-51d0429696c4",
   "metadata": {},
   "outputs": [
    {
     "ename": "TypeError",
     "evalue": "'str' object does not support item assignment",
     "output_type": "error",
     "traceback": [
      "\u001b[1;31m---------------------------------------------------------------------------\u001b[0m",
      "\u001b[1;31mTypeError\u001b[0m                                 Traceback (most recent call last)",
      "Cell \u001b[1;32mIn[26], line 1\u001b[0m\n\u001b[1;32m----> 1\u001b[0m \u001b[43ma\u001b[49m\u001b[43m[\u001b[49m\u001b[38;5;241;43m0\u001b[39;49m\u001b[43m]\u001b[49m \u001b[38;5;241m=\u001b[39m \u001b[38;5;124m'\u001b[39m\u001b[38;5;124mH\u001b[39m\u001b[38;5;124m'\u001b[39m \u001b[38;5;66;03m# 스트링은 하나하나 수정 불가, 한꺼번에 덮어쓰기 가능\u001b[39;00m\n",
      "\u001b[1;31mTypeError\u001b[0m: 'str' object does not support item assignment"
     ]
    }
   ],
   "source": [
    "a[0] = 'H' # 스트링은 하나하나 수정 불가, 한꺼번에 덮어쓰기 가능"
   ]
  },
  {
   "cell_type": "code",
   "execution_count": 27,
   "id": "839542b0-2e9b-4538-b9eb-05f10b2e2aed",
   "metadata": {},
   "outputs": [
    {
     "data": {
      "text/plain": [
       "'Hello my name is hong'"
      ]
     },
     "execution_count": 27,
     "metadata": {},
     "output_type": "execute_result"
    }
   ],
   "source": [
    "a.capitalize()  #  첫번째 문자를 대문자로 만들다\n",
    "# a. ~ 는 a 안에 들어있는 것들에 함수를 실행해줘 (. = ~안에)"
   ]
  },
  {
   "cell_type": "code",
   "execution_count": 28,
   "id": "936493c5-1ad6-4184-8177-bec7b3f52237",
   "metadata": {},
   "outputs": [
    {
     "name": "stdout",
     "output_type": "stream",
     "text": [
      "heLlo my name is hong\n"
     ]
    }
   ],
   "source": [
    "print(a)\n",
    "# 원본 데이터가 변경되는 게 아니라 출력만 되는 것\n",
    "# 원본 데이터를 변경하고 싶으면 a 값 자체를 바꿔주어야 함"
   ]
  },
  {
   "cell_type": "code",
   "execution_count": 32,
   "id": "896911d9-d98f-4d4a-a4b8-e7a49be3cff5",
   "metadata": {},
   "outputs": [
    {
     "data": {
      "text/plain": [
       "'Hello My Name Is Hong'"
      ]
     },
     "execution_count": 32,
     "metadata": {},
     "output_type": "execute_result"
    }
   ],
   "source": [
    "a.title() # 각 단어들의 앞 문자를 모두 대문자로 변경해줌"
   ]
  },
  {
   "cell_type": "code",
   "execution_count": 33,
   "id": "142494f7-28c4-4bde-9e43-d4d6c3a74870",
   "metadata": {},
   "outputs": [
    {
     "data": {
      "text/plain": [
       "'hello my name is hong'"
      ]
     },
     "execution_count": 33,
     "metadata": {},
     "output_type": "execute_result"
    }
   ],
   "source": [
    "a.lower() #각 단어들의 앞 문자를 모두 소문자로 변경해줌"
   ]
  },
  {
   "cell_type": "code",
   "execution_count": 34,
   "id": "cd190b3e-0c04-4956-a2c8-44b7271b6186",
   "metadata": {},
   "outputs": [
    {
     "data": {
      "text/plain": [
       "'HELLO MY NAME IS HONG'"
      ]
     },
     "execution_count": 34,
     "metadata": {},
     "output_type": "execute_result"
    }
   ],
   "source": [
    "a.upper()"
   ]
  },
  {
   "cell_type": "code",
   "execution_count": 42,
   "id": "4bedf876-0d1b-4244-94c4-d71c8792b44f",
   "metadata": {},
   "outputs": [
    {
     "data": {
      "text/plain": [
       "'my!name!is'"
      ]
     },
     "execution_count": 42,
     "metadata": {},
     "output_type": "execute_result"
    }
   ],
   "source": [
    "my_list = ['my', 'name', 'is']\n",
    "'!'.join(my_list) # 합치고 싶은 시퀀스형 데이터"
   ]
  },
  {
   "cell_type": "code",
   "execution_count": 43,
   "id": "0e9ed2c5-6300-42a4-a4a0-e38c94f15cf8",
   "metadata": {},
   "outputs": [
    {
     "data": {
      "text/plain": [
       "'배?고?프?다'"
      ]
     },
     "execution_count": 43,
     "metadata": {},
     "output_type": "execute_result"
    }
   ],
   "source": [
    "'?'.join('배고프다')"
   ]
  },
  {
   "cell_type": "code",
   "execution_count": 48,
   "id": "6ab24629-ecf9-4279-8c35-7805fd1cd8f0",
   "metadata": {},
   "outputs": [
    {
     "data": {
      "text/plain": [
       "'hello'"
      ]
     },
     "execution_count": 48,
     "metadata": {},
     "output_type": "execute_result"
    }
   ],
   "source": [
    "a = '                 hello       \\n'\n",
    "a.strip() # 좌우 여백으로 생각되는 모든 여백(공백, \\n, \\t(tap, 들여쓰기))을 지워줌"
   ]
  },
  {
   "cell_type": "code",
   "execution_count": 62,
   "id": "d741f909-2450-4757-8dfa-b456757724bb",
   "metadata": {},
   "outputs": [
    {
     "data": {
      "text/plain": [
       "'hello'"
      ]
     },
     "execution_count": 62,
     "metadata": {},
     "output_type": "execute_result"
    }
   ],
   "source": [
    "a = '!!!!!!!!!!hello         ?????????'\n",
    "a.strip('!? ')\n",
    "\n",
    "# def strip(char=' ')"
   ]
  },
  {
   "cell_type": "code",
   "execution_count": 65,
   "id": "46a7e1d7-0425-4c3a-87f6-c1023a7b5436",
   "metadata": {},
   "outputs": [
    {
     "data": {
      "text/plain": [
       "'---------hello'"
      ]
     },
     "execution_count": 65,
     "metadata": {},
     "output_type": "execute_result"
    }
   ],
   "source": [
    "a = '---------hello----'\n",
    "a.lstrip('-') # lstrip = 왼쪽만 반영하겠습니다.\n",
    "a.rstrip('-') # rstrip = 오른쪽만 반영하겠습니다."
   ]
  },
  {
   "cell_type": "code",
   "execution_count": 73,
   "id": "47935154-9d09-4c04-9cdc-4beb8c228237",
   "metadata": {},
   "outputs": [
    {
     "data": {
      "text/plain": [
       "'w!!!oooooooooooow'"
      ]
     },
     "execution_count": 73,
     "metadata": {},
     "output_type": "execute_result"
    }
   ],
   "source": [
    "a = 'wooooooooooooooow'\n",
    "a.replace('o', '!', 3)  # 철자 하나를 원하는 철자로 바꾸어 변경함\n",
    "# 세번째 인자는 이 작업을 몇 번 할 것인지 (앞에서부터 3회)\n",
    "# 세번째 인자는 써도 되고 안 써도 됨"
   ]
  },
  {
   "cell_type": "code",
   "execution_count": 81,
   "id": "dfb19431-15d3-419f-b651-f0153a5f9f80",
   "metadata": {},
   "outputs": [
    {
     "data": {
      "text/plain": [
       "-1"
      ]
     },
     "execution_count": 81,
     "metadata": {},
     "output_type": "execute_result"
    }
   ],
   "source": [
    "a = 'apple' # 인덱스 번호 출력\n",
    "a.find('a') # => 0\n",
    "a.find('l') # => 3\n",
    "a.find('p') # 중복인 경우 가장 앞에 있는 인덱스를 출력함\n",
    "a.find('z') # -1 => 없음"
   ]
  },
  {
   "cell_type": "code",
   "execution_count": 90,
   "id": "d6fecba4-1ba5-4a16-af50-d138ee3c0cb1",
   "metadata": {},
   "outputs": [
    {
     "ename": "ValueError",
     "evalue": "substring not found",
     "output_type": "error",
     "traceback": [
      "\u001b[1;31m---------------------------------------------------------------------------\u001b[0m",
      "\u001b[1;31mValueError\u001b[0m                                Traceback (most recent call last)",
      "Cell \u001b[1;32mIn[90], line 5\u001b[0m\n\u001b[0;32m      3\u001b[0m a\u001b[38;5;241m.\u001b[39mindex(\u001b[38;5;124m'\u001b[39m\u001b[38;5;124ml\u001b[39m\u001b[38;5;124m'\u001b[39m)\n\u001b[0;32m      4\u001b[0m a\u001b[38;5;241m.\u001b[39mindex(\u001b[38;5;124m'\u001b[39m\u001b[38;5;124mp\u001b[39m\u001b[38;5;124m'\u001b[39m)\n\u001b[1;32m----> 5\u001b[0m \u001b[43ma\u001b[49m\u001b[38;5;241;43m.\u001b[39;49m\u001b[43mindex\u001b[49m\u001b[43m(\u001b[49m\u001b[38;5;124;43m'\u001b[39;49m\u001b[38;5;124;43mz\u001b[39;49m\u001b[38;5;124;43m'\u001b[39;49m\u001b[43m)\u001b[49m\n\u001b[0;32m      7\u001b[0m \u001b[38;5;66;03m# find와 index는 비슷함\u001b[39;00m\n\u001b[0;32m      8\u001b[0m \u001b[38;5;66;03m# find는 없는 데이터인 경우 -1을 뱉음\u001b[39;00m\n\u001b[0;32m      9\u001b[0m \u001b[38;5;66;03m# index는 없는 데이터인 경우 에러를 발생시켜서 코드를 완전히 종료\u001b[39;00m\n",
      "\u001b[1;31mValueError\u001b[0m: substring not found"
     ]
    }
   ],
   "source": [
    "a = 'apple'\n",
    "a.index('a')\n",
    "a.index('l')\n",
    "a.index('p')\n",
    "a.index('z')\n",
    "\n",
    "# find와 index는 비슷함\n",
    "# find는 없는 데이터인 경우 -1을 뱉음\n",
    "# index는 없는 데이터인 경우 에러를 발생시켜서 코드를 완전히 종료"
   ]
  },
  {
   "cell_type": "code",
   "execution_count": 94,
   "id": "3c50eff4-7477-4d59-bdeb-4a461d993cd3",
   "metadata": {},
   "outputs": [
    {
     "data": {
      "text/plain": [
       "['my', 'name', 'is', 'hong']"
      ]
     },
     "execution_count": 94,
     "metadata": {},
     "output_type": "execute_result"
    }
   ],
   "source": [
    "a = 'my name is hong'\n",
    "a.split() # a가 가진 데이터를 띄어쓰기 기준으로 잘라서 '리스트'로 만들어줌"
   ]
  },
  {
   "cell_type": "code",
   "execution_count": 99,
   "id": "7e17704c-a272-4c80-9de4-56f56100da92",
   "metadata": {},
   "outputs": [
    {
     "data": {
      "text/plain": [
       "['my', 'name', 'is', 'hong']"
      ]
     },
     "execution_count": 99,
     "metadata": {},
     "output_type": "execute_result"
    }
   ],
   "source": [
    "a = 'my!name!is!hong'\n",
    "a.split('!') # 자르고 싶은 기준을 괄호에 넣으면 그 기준대로 잘라줌"
   ]
  },
  {
   "cell_type": "code",
   "execution_count": 102,
   "id": "b73e11fc-fa89-4b29-9def-d4eafe1f399f",
   "metadata": {},
   "outputs": [
    {
     "data": {
      "text/plain": [
       "13"
      ]
     },
     "execution_count": 102,
     "metadata": {},
     "output_type": "execute_result"
    }
   ],
   "source": [
    "a = 'wooooooooooooow'\n",
    "a.count('o') # o의 개수를 세어줭~"
   ]
  },
  {
   "cell_type": "code",
   "execution_count": null,
   "id": "68ea09d3-c9aa-4216-ac06-abd5889a0555",
   "metadata": {},
   "outputs": [],
   "source": []
  },
  {
   "cell_type": "code",
   "execution_count": null,
   "id": "90fb7620-8811-47c9-9789-25b390b8c337",
   "metadata": {},
   "outputs": [],
   "source": []
  },
  {
   "cell_type": "code",
   "execution_count": null,
   "id": "eb59aaf0-3845-442c-802b-eb22e536e6f8",
   "metadata": {},
   "outputs": [],
   "source": []
  },
  {
   "cell_type": "code",
   "execution_count": null,
   "id": "077998dd-6dfc-47b7-b97c-fc30117d30f0",
   "metadata": {},
   "outputs": [],
   "source": []
  }
 ],
 "metadata": {
  "kernelspec": {
   "display_name": "Python 3 (ipykernel)",
   "language": "python",
   "name": "python3"
  },
  "language_info": {
   "codemirror_mode": {
    "name": "ipython",
    "version": 3
   },
   "file_extension": ".py",
   "mimetype": "text/x-python",
   "name": "python",
   "nbconvert_exporter": "python",
   "pygments_lexer": "ipython3",
   "version": "3.13.2"
  }
 },
 "nbformat": 4,
 "nbformat_minor": 5
}
