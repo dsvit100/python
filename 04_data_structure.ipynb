{
 "cells": [
  {
   "cell_type": "markdown",
   "id": "288e0dac-732c-46dd-854c-837739e730dc",
   "metadata": {},
   "source": [
    "# 자료구조\n",
    "> 여러가지 자료구조가 가지고 있는 메소드(함수) 알아보기"
   ]
  },
  {
   "cell_type": "code",
   "execution_count": 1,
   "id": "be89145d-e18f-4654-aca8-3ca7f3fdb22f",
   "metadata": {},
   "outputs": [
    {
     "name": "stdout",
     "output_type": "stream",
     "text": [
      "['__add__', '__class__', '__contains__', '__delattr__', '__dir__', '__doc__', '__eq__', '__format__', '__ge__', '__getattribute__', '__getitem__', '__getnewargs__', '__getstate__', '__gt__', '__hash__', '__init__', '__init_subclass__', '__iter__', '__le__', '__len__', '__lt__', '__mod__', '__mul__', '__ne__', '__new__', '__reduce__', '__reduce_ex__', '__repr__', '__rmod__', '__rmul__', '__setattr__', '__sizeof__', '__str__', '__subclasshook__', 'capitalize', 'casefold', 'center', 'count', 'encode', 'endswith', 'expandtabs', 'find', 'format', 'format_map', 'index', 'isalnum', 'isalpha', 'isascii', 'isdecimal', 'isdigit', 'isidentifier', 'islower', 'isnumeric', 'isprintable', 'isspace', 'istitle', 'isupper', 'join', 'ljust', 'lower', 'lstrip', 'maketrans', 'partition', 'removeprefix', 'removesuffix', 'replace', 'rfind', 'rindex', 'rjust', 'rpartition', 'rsplit', 'rstrip', 'split', 'splitlines', 'startswith', 'strip', 'swapcase', 'title', 'translate', 'upper', 'zfill']\n"
     ]
    }
   ],
   "source": [
    "print(dir('hello'))"
   ]
  },
  {
   "cell_type": "markdown",
   "id": "c6460c87-bc70-4243-bea9-d3c8be2ea5a6",
   "metadata": {},
   "source": [
    "## 문자열 메소드"
   ]
  },
  {
   "cell_type": "code",
   "execution_count": 155,
   "id": "5f482019-903f-48c0-a90f-03fef8db6427",
   "metadata": {},
   "outputs": [],
   "source": [
    "a = 'heLlo my name is hong'"
   ]
  },
  {
   "cell_type": "code",
   "execution_count": 156,
   "id": "694603c2-6697-400a-889e-10b311ddfc12",
   "metadata": {},
   "outputs": [
    {
     "name": "stdout",
     "output_type": "stream",
     "text": [
      "heLlo my name is hong\n"
     ]
    }
   ],
   "source": [
    "print(a)"
   ]
  },
  {
   "cell_type": "code",
   "execution_count": 157,
   "id": "d4292382-3f14-4dc1-be4e-51d0429696c4",
   "metadata": {},
   "outputs": [
    {
     "ename": "TypeError",
     "evalue": "'str' object does not support item assignment",
     "output_type": "error",
     "traceback": [
      "\u001b[1;31m---------------------------------------------------------------------------\u001b[0m",
      "\u001b[1;31mTypeError\u001b[0m                                 Traceback (most recent call last)",
      "Cell \u001b[1;32mIn[157], line 1\u001b[0m\n\u001b[1;32m----> 1\u001b[0m \u001b[43ma\u001b[49m\u001b[43m[\u001b[49m\u001b[38;5;241;43m0\u001b[39;49m\u001b[43m]\u001b[49m \u001b[38;5;241m=\u001b[39m \u001b[38;5;124m'\u001b[39m\u001b[38;5;124mH\u001b[39m\u001b[38;5;124m'\u001b[39m \u001b[38;5;66;03m# 스트링은 하나하나 수정 불가, 한꺼번에 덮어쓰기 가능\u001b[39;00m\n",
      "\u001b[1;31mTypeError\u001b[0m: 'str' object does not support item assignment"
     ]
    }
   ],
   "source": [
    "a[0] = 'H' # 스트링은 하나하나 수정 불가, 한꺼번에 덮어쓰기 가능"
   ]
  },
  {
   "cell_type": "code",
   "execution_count": 158,
   "id": "839542b0-2e9b-4538-b9eb-05f10b2e2aed",
   "metadata": {},
   "outputs": [
    {
     "data": {
      "text/plain": [
       "'Hello my name is hong'"
      ]
     },
     "execution_count": 158,
     "metadata": {},
     "output_type": "execute_result"
    }
   ],
   "source": [
    "a.capitalize()  #  첫번째 문자를 대문자로 만들다\n",
    "# a. ~ 는 a 안에 들어있는 것들에 함수를 실행해줘 (. = ~안에)"
   ]
  },
  {
   "cell_type": "code",
   "execution_count": 159,
   "id": "936493c5-1ad6-4184-8177-bec7b3f52237",
   "metadata": {},
   "outputs": [
    {
     "name": "stdout",
     "output_type": "stream",
     "text": [
      "heLlo my name is hong\n"
     ]
    }
   ],
   "source": [
    "print(a)\n",
    "# 원본 데이터가 변경되는 게 아니라 출력만 되는 것\n",
    "# 원본 데이터를 변경하고 싶으면 a 값 자체를 바꿔주어야 함"
   ]
  },
  {
   "cell_type": "code",
   "execution_count": null,
   "id": "896911d9-d98f-4d4a-a4b8-e7a49be3cff5",
   "metadata": {},
   "outputs": [],
   "source": [
    "a.title() # 각 단어들의 앞 문자를 모두 대문자로 변경해줌"
   ]
  },
  {
   "cell_type": "code",
   "execution_count": null,
   "id": "142494f7-28c4-4bde-9e43-d4d6c3a74870",
   "metadata": {},
   "outputs": [],
   "source": [
    "a.lower() #각 단어들의 앞 문자를 모두 소문자로 변경해줌"
   ]
  },
  {
   "cell_type": "code",
   "execution_count": 154,
   "id": "cd190b3e-0c04-4956-a2c8-44b7271b6186",
   "metadata": {},
   "outputs": [
    {
     "ename": "AttributeError",
     "evalue": "'list' object has no attribute 'upper'",
     "output_type": "error",
     "traceback": [
      "\u001b[1;31m---------------------------------------------------------------------------\u001b[0m",
      "\u001b[1;31mAttributeError\u001b[0m                            Traceback (most recent call last)",
      "Cell \u001b[1;32mIn[154], line 1\u001b[0m\n\u001b[1;32m----> 1\u001b[0m \u001b[43ma\u001b[49m\u001b[38;5;241;43m.\u001b[39;49m\u001b[43mupper\u001b[49m()\n",
      "\u001b[1;31mAttributeError\u001b[0m: 'list' object has no attribute 'upper'"
     ]
    }
   ],
   "source": [
    "a.upper()"
   ]
  },
  {
   "cell_type": "code",
   "execution_count": null,
   "id": "4bedf876-0d1b-4244-94c4-d71c8792b44f",
   "metadata": {},
   "outputs": [],
   "source": [
    "my_list = ['my', 'name', 'is']\n",
    "'!'.join(my_list) # 합치고 싶은 시퀀스형 데이터"
   ]
  },
  {
   "cell_type": "code",
   "execution_count": null,
   "id": "0e9ed2c5-6300-42a4-a4a0-e38c94f15cf8",
   "metadata": {},
   "outputs": [],
   "source": [
    "'?'.join('배고프다')"
   ]
  },
  {
   "cell_type": "code",
   "execution_count": null,
   "id": "6ab24629-ecf9-4279-8c35-7805fd1cd8f0",
   "metadata": {},
   "outputs": [],
   "source": [
    "a = '                 hello       \\n'\n",
    "a.strip() # 좌우 여백으로 생각되는 모든 여백(공백, \\n, \\t(tap, 들여쓰기))을 지워줌"
   ]
  },
  {
   "cell_type": "code",
   "execution_count": null,
   "id": "d741f909-2450-4757-8dfa-b456757724bb",
   "metadata": {},
   "outputs": [],
   "source": [
    "a = '!!!!!!!!!!hello         ?????????'\n",
    "a.strip('!? ')\n",
    "\n",
    "# def strip(char=' ')"
   ]
  },
  {
   "cell_type": "code",
   "execution_count": null,
   "id": "46a7e1d7-0425-4c3a-87f6-c1023a7b5436",
   "metadata": {},
   "outputs": [],
   "source": [
    "a = '---------hello----'\n",
    "a.lstrip('-') # lstrip = 왼쪽만 반영하겠습니다.\n",
    "a.rstrip('-') # rstrip = 오른쪽만 반영하겠습니다."
   ]
  },
  {
   "cell_type": "code",
   "execution_count": 200,
   "id": "47935154-9d09-4c04-9cdc-4beb8c228237",
   "metadata": {},
   "outputs": [
    {
     "data": {
      "text/plain": [
       "'w!!!oooooooooooow'"
      ]
     },
     "execution_count": 200,
     "metadata": {},
     "output_type": "execute_result"
    }
   ],
   "source": [
    "a = 'wooooooooooooooow'\n",
    "a.replace('o', '!', 3)  # 철자 하나를 원하는 철자로 바꾸어 변경함\n",
    "# 세번째 인자는 이 작업을 몇 번 할 것인지 (앞에서부터 3회)\n",
    "# 세번째 인자는 써도 되고 안 써도 됨"
   ]
  },
  {
   "cell_type": "code",
   "execution_count": null,
   "id": "dfb19431-15d3-419f-b651-f0153a5f9f80",
   "metadata": {},
   "outputs": [],
   "source": [
    "a = 'apple' # 인덱스 번호 출력\n",
    "a.find('a') # => 0\n",
    "a.find('l') # => 3\n",
    "a.find('p') # 중복인 경우 가장 앞에 있는 인덱스를 출력함\n",
    "a.find('z') # -1 => 없음"
   ]
  },
  {
   "cell_type": "code",
   "execution_count": null,
   "id": "d6fecba4-1ba5-4a16-af50-d138ee3c0cb1",
   "metadata": {},
   "outputs": [],
   "source": [
    "a = 'apple'\n",
    "a.index('a')\n",
    "a.index('l')\n",
    "a.index('p')\n",
    "a.index('z')\n",
    "\n",
    "# find와 index는 비슷함\n",
    "# find는 없는 데이터인 경우 -1을 뱉음\n",
    "# index는 없는 데이터인 경우 에러를 발생시켜서 코드를 완전히 종료"
   ]
  },
  {
   "cell_type": "code",
   "execution_count": null,
   "id": "3c50eff4-7477-4d59-bdeb-4a461d993cd3",
   "metadata": {},
   "outputs": [],
   "source": [
    "a = 'my name is hong'\n",
    "a.split() # a가 가진 데이터를 띄어쓰기 기준으로 잘라서 '리스트'로 만들어줌"
   ]
  },
  {
   "cell_type": "code",
   "execution_count": null,
   "id": "7e17704c-a272-4c80-9de4-56f56100da92",
   "metadata": {},
   "outputs": [],
   "source": [
    "a = 'my!name!is!hong'\n",
    "a.split('!') # 자르고 싶은 기준을 괄호에 넣으면 그 기준대로 잘라줌"
   ]
  },
  {
   "cell_type": "code",
   "execution_count": null,
   "id": "b73e11fc-fa89-4b29-9def-d4eafe1f399f",
   "metadata": {},
   "outputs": [],
   "source": [
    "a = 'wooooooooooooow'\n",
    "a.count('o') # o의 개수를 세어줭~"
   ]
  },
  {
   "cell_type": "markdown",
   "id": "b84282e3-09be-48ee-81ed-89d6a1eff96a",
   "metadata": {},
   "source": [
    "# 리스트 메소드"
   ]
  },
  {
   "cell_type": "code",
   "execution_count": 160,
   "id": "90fb7620-8811-47c9-9789-25b390b8c337",
   "metadata": {},
   "outputs": [],
   "source": [
    "numbers = [2, 3, 3, 4, 8, 5, 9, 10]"
   ]
  },
  {
   "cell_type": "code",
   "execution_count": 161,
   "id": "eb59aaf0-3845-442c-802b-eb22e536e6f8",
   "metadata": {},
   "outputs": [
    {
     "name": "stdout",
     "output_type": "stream",
     "text": [
      "[2, 3, 3, 4, 8, 5, 9, 10, 11]\n"
     ]
    }
   ],
   "source": [
    "numbers.append(11) # 뒤에 값을 붙여넣을 때 사용\n",
    "print(numbers)"
   ]
  },
  {
   "cell_type": "code",
   "execution_count": 162,
   "id": "077998dd-6dfc-47b7-b97c-fc30117d30f0",
   "metadata": {},
   "outputs": [],
   "source": [
    "a = [99, 100]"
   ]
  },
  {
   "cell_type": "code",
   "execution_count": 163,
   "id": "b27be462-f044-47f4-ae1a-9e98d18f05a7",
   "metadata": {},
   "outputs": [
    {
     "name": "stdout",
     "output_type": "stream",
     "text": [
      "[99, 100]\n"
     ]
    }
   ],
   "source": [
    "numbers.extend(a) # 여러개의 값을 붙여넣을 때 사용, numbers + a\n",
    "print(a)"
   ]
  },
  {
   "cell_type": "code",
   "execution_count": 11,
   "id": "8b422ff9-1b65-4848-a973-9473a659db5c",
   "metadata": {},
   "outputs": [
    {
     "name": "stdout",
     "output_type": "stream",
     "text": [
      "[2, 3, 4, 5, 5, 55, 8, 5, 9, 10, 11, 99, 100, 11, 99, 100]\n"
     ]
    }
   ],
   "source": [
    "numbers.insert(3, 5) # ~로 ~을 집어넣는다.\n",
    "print(numbers)"
   ]
  },
  {
   "cell_type": "code",
   "execution_count": 16,
   "id": "f972c825-3deb-4f91-839d-d0e98480b791",
   "metadata": {},
   "outputs": [
    {
     "name": "stdout",
     "output_type": "stream",
     "text": [
      "[2, 3, 4, 5, 55, 8, 5, 9, 10, 100, 99, 100]\n"
     ]
    }
   ],
   "source": [
    "numbers.remove(99) # 첫번째 값을 찾아서 제거, 제거할 것이 없으면 오류발생\n",
    "print(numbers)"
   ]
  },
  {
   "cell_type": "code",
   "execution_count": 20,
   "id": "c7d4a45a-5746-44a9-a641-a6022abe962a",
   "metadata": {},
   "outputs": [
    {
     "name": "stdout",
     "output_type": "stream",
     "text": [
      "[2, 3, 4, 5, 55, 8, 5, 9]\n"
     ]
    }
   ],
   "source": [
    "numbers.pop() # uppend 의 반대, 뒤의 값을 제거\n",
    "print(numbers)"
   ]
  },
  {
   "cell_type": "markdown",
   "id": "bb037dbf-dd8a-4364-8c95-48780248074e",
   "metadata": {},
   "source": [
    "- 스택 = 누적 (접시를 쌓듯) first input / last output\n",
    "- 큐= 줄서기 / 선입선출~"
   ]
  },
  {
   "cell_type": "code",
   "execution_count": 26,
   "id": "edfad2af-9f22-4ac3-ad37-539a5226c928",
   "metadata": {},
   "outputs": [
    {
     "name": "stdout",
     "output_type": "stream",
     "text": [
      "[5, 55, 8, 5, 9]\n"
     ]
    }
   ],
   "source": [
    "# 의도적으로 pop에 n번째를 기입하면 의도적으로 위치를 지정하여 삭제할 수 있음\n",
    "# 따로 지정하지 않는 경우 스택 형식으로 사라짐\n",
    "numbers.pop(0)\n",
    "print(numbers)"
   ]
  },
  {
   "cell_type": "code",
   "execution_count": 28,
   "id": "ec14ca9a-4fc5-4cd2-a0a6-be1c0e5d4382",
   "metadata": {},
   "outputs": [
    {
     "name": "stdout",
     "output_type": "stream",
     "text": [
      "[5, 5, 8, 9, 55]\n"
     ]
    }
   ],
   "source": [
    "numbers.sort() # 오름차순으로 정렬, 정렬된 순서로 값이 바뀜\n",
    "print(numbers)"
   ]
  },
  {
   "cell_type": "code",
   "execution_count": 30,
   "id": "df9733ec-6f41-4b35-b59a-1fc92ba955a8",
   "metadata": {},
   "outputs": [
    {
     "name": "stdout",
     "output_type": "stream",
     "text": [
      "[55, 9, 8, 5, 5]\n"
     ]
    }
   ],
   "source": [
    "numbers.sort(reverse=True) # 옵션 줄 수 있음 (역순할까용? = 네)\n",
    "print(numbers)"
   ]
  },
  {
   "cell_type": "code",
   "execution_count": 37,
   "id": "279ce369-8bff-4df4-889b-5cb6e770b310",
   "metadata": {},
   "outputs": [
    {
     "name": "stdout",
     "output_type": "stream",
     "text": [
      "[2, 3, 4, 5, 6, 7]\n",
      "[5, 3, 4, 2, 6, 7]\n"
     ]
    }
   ],
   "source": [
    "a = [5, 3, 4, 2, 6, 7]\n",
    "print(sorted(a)) # 원본 리스트는 그대로 두고, 정렬된 새로운 리스트를 반환함\n",
    "print(a)"
   ]
  },
  {
   "cell_type": "code",
   "execution_count": 40,
   "id": "e9efba73-7576-4f8a-bf8f-9fe417644d55",
   "metadata": {},
   "outputs": [
    {
     "name": "stdout",
     "output_type": "stream",
     "text": [
      "['a', 'b', 'e', 'o', 'z', '아', '호']\n"
     ]
    }
   ],
   "source": [
    "my_list = ['a', 'e', '아', '호', 'o', 'b', 'z']\n",
    "my_list.sort() # 글자는 유니코드 순으로 정렬함\n",
    "print(my_list)"
   ]
  },
  {
   "cell_type": "code",
   "execution_count": 43,
   "id": "746e6d86-b268-41e9-b510-389650a57975",
   "metadata": {},
   "outputs": [
    {
     "name": "stdout",
     "output_type": "stream",
     "text": [
      "[5, 5, 8, 9, 55]\n",
      "[55, 9, 8, 5, 5]\n"
     ]
    }
   ],
   "source": [
    "print(numbers)\n",
    "numbers.reverse()\n",
    "print(numbers)"
   ]
  },
  {
   "cell_type": "code",
   "execution_count": 45,
   "id": "2b5c9890-5eec-4351-a677-cd1127a09890",
   "metadata": {},
   "outputs": [
    {
     "data": {
      "text/plain": [
       "2"
      ]
     },
     "execution_count": 45,
     "metadata": {},
     "output_type": "execute_result"
    }
   ],
   "source": [
    "numbers.count(5) # 같은 요소가 몇개 있는지 확인"
   ]
  },
  {
   "cell_type": "markdown",
   "id": "8d220f11-9402-453a-bb5e-34319782e0ca",
   "metadata": {},
   "source": [
    "# list copy\n",
    "- copy_list = origin list[:] : 새로운 리스트를 만듦(데이터 값만 복사)\n",
    "- copy_list = origin list : 같은 리스트를 공유(데이터 위치를 공유)\n",
    "- copy_list = origin_list.copy() :  .copy()도 새로운 리스트를 만들기 때문에 [:]와 같은 효과\n",
    "- [:] 는 \"리스트를 통째로 복사\" 한다는 뜻"
   ]
  },
  {
   "cell_type": "code",
   "execution_count": 47,
   "id": "30fa7918-a0d8-4f66-a594-e545cd63476b",
   "metadata": {},
   "outputs": [],
   "source": [
    "# copy_list는 새로운 리스트를 만든 게 아니라\n",
    "# 기존 리스트(origin_list)의 위치를 가르키는 것\n",
    "# 따라서 둘은 연동이 되고 있음.\n",
    "# 만약 origin_list를 그냥 두고 copy_list만 변경하고 싶다면 deepcopy가 필요!\n",
    "origin_list = [1, 2, 3]\n",
    "copy_list = origin_list"
   ]
  },
  {
   "cell_type": "code",
   "execution_count": 48,
   "id": "614b57f3-3917-4f0c-b941-3c9da5454539",
   "metadata": {},
   "outputs": [
    {
     "name": "stdout",
     "output_type": "stream",
     "text": [
      "[1, 2, 3]\n",
      "[1, 2, 3]\n"
     ]
    }
   ],
   "source": [
    "print(origin_list)\n",
    "print(copy_list)"
   ]
  },
  {
   "cell_type": "code",
   "execution_count": 49,
   "id": "870a6937-cc83-44b5-aaeb-cc9e4815b1f9",
   "metadata": {},
   "outputs": [
    {
     "name": "stdout",
     "output_type": "stream",
     "text": [
      "[100, 2, 3]\n",
      "[100, 2, 3]\n"
     ]
    }
   ],
   "source": [
    "copy_list[0] = 100 \n",
    "print(origin_list)\n",
    "print(copy_list)\n",
    "# 데이터 값이 아니라 데이터 위치를 가르킴"
   ]
  },
  {
   "cell_type": "code",
   "execution_count": 79,
   "id": "eae1fa48-cf00-46bd-a9be-44d02870b9d2",
   "metadata": {},
   "outputs": [
    {
     "name": "stdout",
     "output_type": "stream",
     "text": [
      "[1, 2, 3]\n",
      "[100, 2, 3]\n"
     ]
    }
   ],
   "source": [
    "origin_list = [1, 2, 3]\n",
    "copy_list = origin_list[:]\n",
    "# 원본에 있던 오리진 리스트를 처음부터 끝까지 슬라이싱 해서 넣어주세요.\n",
    "# [:]가 있으면 새로운 리스트가 만들어지고 그 안에 origin_list의 값이 복사됨\n",
    "# 즉, copy_list는 origin_list와 같은 데이터를 가지지만 다른 위치에 저장된 별도 리스트!\n",
    "\n",
    "copy_list[0] = 100\n",
    "print(origin_list)\n",
    "print(copy_list)"
   ]
  },
  {
   "cell_type": "code",
   "execution_count": 52,
   "id": "1ff2e240-10c6-438c-b443-1933e17814aa",
   "metadata": {},
   "outputs": [
    {
     "name": "stdout",
     "output_type": "stream",
     "text": [
      "[1, 2, [-10, 11]]\n",
      "[100, 2, [-10, 11]]\n"
     ]
    }
   ],
   "source": [
    "origin_list = [1, 2, [10, 11]]\n",
    "copy_list = origin_list[:]\n",
    "\n",
    "copy_list[0] = 100\n",
    "copy_list[2][0] = -10\n",
    "\n",
    "print(origin_list)\n",
    "print(copy_list)"
   ]
  },
  {
   "cell_type": "code",
   "execution_count": 55,
   "id": "a6d99cc5-a99b-48d5-8e14-41cd7385f390",
   "metadata": {},
   "outputs": [
    {
     "name": "stdout",
     "output_type": "stream",
     "text": [
      "[1, 2, [10, 11]]\n",
      "[100, 2, [10, -11]]\n"
     ]
    }
   ],
   "source": [
    "import copy # 추가하다, copy라는 모듈(공구상자)을 먼저 꺼내서\n",
    "\n",
    "origin_list = [1, 2, [10, 11]]\n",
    "copy_list = copy.deepcopy(origin_list) # 데이터를 완전 분리하여 카피함. 데이터를 직접 가져와서 카피할 거야. 값을 직접 가져올거야!\n",
    "\n",
    "copy_list[0] = 100\n",
    "copy_list[2][1] = -11\n",
    "\n",
    "print(origin_list)\n",
    "print(copy_list)\n"
   ]
  },
  {
   "cell_type": "markdown",
   "id": "7caf8ee6-a047-4c93-91e4-d60acf200a8b",
   "metadata": {},
   "source": [
    "# list comprehension"
   ]
  },
  {
   "cell_type": "code",
   "execution_count": 58,
   "id": "8265b52d-a046-4bce-9d4f-d0640d937eb5",
   "metadata": {},
   "outputs": [
    {
     "name": "stdout",
     "output_type": "stream",
     "text": [
      "[1, 2, 3, 4, 5, 6, 7, 8, 9, 10]\n"
     ]
    }
   ],
   "source": [
    "numbers = list(range(1, 11))\n",
    "print(numbers)"
   ]
  },
  {
   "cell_type": "code",
   "execution_count": 61,
   "id": "e0008b78-f5e5-471c-b4b6-1e476ac2f5ad",
   "metadata": {},
   "outputs": [
    {
     "name": "stdout",
     "output_type": "stream",
     "text": [
      "[1, 8, 27, 64, 125, 216, 343, 512, 729, 1000]\n"
     ]
    }
   ],
   "source": [
    "result = [] # 데이터를 쌓을 공간 만들기\n",
    "\n",
    "for number in numbers: # \n",
    "    temp = number ** 3\n",
    "    result.append(temp)\n",
    "\n",
    "print(result)"
   ]
  },
  {
   "cell_type": "code",
   "execution_count": 65,
   "id": "63007571-2059-4faa-92ad-19ddded4482c",
   "metadata": {},
   "outputs": [
    {
     "name": "stdout",
     "output_type": "stream",
     "text": [
      "[1, 8, 27, 64, 125, 216, 343, 512, 729, 1000]\n"
     ]
    }
   ],
   "source": [
    "result = [number ** 3 for number in numbers] # for문 앞은 계산 결과, 뒤는 반복문\n",
    "# result = [number1 **3, number2 **3, number3 **3... ]\n",
    "print(result)"
   ]
  },
  {
   "cell_type": "code",
   "execution_count": 68,
   "id": "b7d756d4-47c7-4805-a129-2cd56fc31967",
   "metadata": {},
   "outputs": [
    {
     "name": "stdout",
     "output_type": "stream",
     "text": [
      "[1, 2, 3, 4, 5, 6, 7, 8, 9, 10, 11, 12, 13, 14, 15, 16, 17, 18, 19, 20, 21, 22, 23, 24, 25, 26, 27, 28, 29, 30]\n"
     ]
    }
   ],
   "source": [
    "# 짝수만 고르기\n",
    "numbers = list(range(1, 31))\n",
    "print(numbers)"
   ]
  },
  {
   "cell_type": "code",
   "execution_count": 70,
   "id": "d896fc49-98b4-42f5-acd2-4466c165357c",
   "metadata": {},
   "outputs": [
    {
     "name": "stdout",
     "output_type": "stream",
     "text": [
      "[2, 4, 6, 8, 10, 12, 14, 16, 18, 20, 22, 24, 26, 28, 30]\n"
     ]
    }
   ],
   "source": [
    "result = []\n",
    "for number in numbers:\n",
    "    if number % 2 == 0:\n",
    "        result.append(number)\n",
    "\n",
    "print(result)"
   ]
  },
  {
   "cell_type": "code",
   "execution_count": 76,
   "id": "0583da9f-241f-4bf2-bbd7-17e2172d9648",
   "metadata": {},
   "outputs": [
    {
     "data": {
      "text/plain": [
       "[2, 4, 6, 8, 10, 12, 14, 16, 18, 20, 22, 24, 26, 28, 30]"
      ]
     },
     "execution_count": 76,
     "metadata": {},
     "output_type": "execute_result"
    }
   ],
   "source": [
    "numbers = list(range(1, 31))\n",
    "[number for number in numbers if number % 2 == 0]\n",
    "# numbers 반복 돌면서 하나하나를 number라고 부를거고\n",
    "# number가 짝수면\n",
    "# number 를 출력할거야."
   ]
  },
  {
   "cell_type": "code",
   "execution_count": 78,
   "id": "944ac349-c3ab-4fb9-912b-710784cf509c",
   "metadata": {},
   "outputs": [
    {
     "data": {
      "text/plain": [
       "[4, 8, 12, 16, 20, 24, 28, 32, 36, 40, 44, 48, 52, 56, 60]"
      ]
     },
     "execution_count": 78,
     "metadata": {},
     "output_type": "execute_result"
    }
   ],
   "source": [
    "numbers = list(range(1, 31))\n",
    "[number * 2 for number in numbers if number % 2 == 0]\n",
    "# numbers 반복 돌면서 하나하나를 number라고 부를거고\n",
    "# number가 짝수면\n",
    "# number 를 2씩 곱하면서 출력할거야."
   ]
  },
  {
   "cell_type": "code",
   "execution_count": 4,
   "id": "1e3ed556-8b98-462b-9be6-11f2ccb1d23a",
   "metadata": {},
   "outputs": [],
   "source": [
    "# 연습! 모음제거\n",
    "words = 'my name is hong'\n",
    "\n",
    "# => my nm s hng"
   ]
  },
  {
   "cell_type": "code",
   "execution_count": 11,
   "id": "4d38beac-3917-408b-9150-b0458d6e68eb",
   "metadata": {},
   "outputs": [
    {
     "name": "stdout",
     "output_type": "stream",
     "text": [
      "['m', 'y', ' ', 'n', 'm', ' ', 's', ' ', 'h', 'n', 'g']\n",
      "my nm s hng\n"
     ]
    }
   ],
   "source": [
    "# *** 내가 푼 문제\n",
    "\n",
    "vowels = ['a', 'e', 'i', 'o', 'u']\n",
    "result = []\n",
    "for i in words:\n",
    "    if i not in vowels:\n",
    "        result += i\n",
    "    else:\n",
    "        continue\n",
    "\n",
    "print(result)\n",
    "print(''.join(result))"
   ]
  },
  {
   "cell_type": "code",
   "execution_count": 118,
   "id": "e7680853-4b42-40d7-a3c7-72eebb800668",
   "metadata": {},
   "outputs": [
    {
     "name": "stdout",
     "output_type": "stream",
     "text": [
      "['m', 'y', ' ', 'n', 'm', ' ', 's', ' ', 'h', 'n', 'g']\n",
      "my nm s hng\n"
     ]
    }
   ],
   "source": [
    "# 1. for / if => 데이터 제거가 아니라 골라낸 것\n",
    "\n",
    "\n",
    "vowerls = ['a', 'e', 'i', 'o', 'u']\n",
    "result = []\n",
    "words = 'my name is hong'\n",
    "for char in words:\n",
    "    # 모음인 경우\n",
    "    if char in vowerls:  # 모음 목록에 포함되어 있다면\n",
    "        pass\n",
    "    # 자음인 경우\n",
    "    else:\n",
    "        result.append(char)\n",
    "\n",
    "print(result)\n",
    "print(''.join(result))"
   ]
  },
  {
   "cell_type": "code",
   "execution_count": 119,
   "id": "0ee009a9-aa88-4787-8d08-202654d6eb95",
   "metadata": {},
   "outputs": [
    {
     "name": "stdout",
     "output_type": "stream",
     "text": [
      "['m', 'y', ' ', 'n', 'm', ' ', 's', ' ', 'h', 'n', 'g']\n",
      "my nm s hng\n"
     ]
    }
   ],
   "source": [
    "vowerls = ['a', 'e', 'i', 'o', 'u']\n",
    "result = []\n",
    "words = 'my name is hong'\n",
    "for char in words:\n",
    "    # 모음인 경우 => 모음이 아닌경우\n",
    "    if char not in vowerls:  # 모음 목록에 없다면\n",
    "        result.append(char) # 더해줘\n",
    "\n",
    "print(result)\n",
    "print(''.join(result))"
   ]
  },
  {
   "cell_type": "code",
   "execution_count": 132,
   "id": "08b22852-67f5-48ce-85e0-fb6d29bf4001",
   "metadata": {},
   "outputs": [
    {
     "name": "stdout",
     "output_type": "stream",
     "text": [
      "['m', 'y', ' ', 'n', 'm', ' ', 's', ' ', 'h', 'n', 'g']\n",
      "my nm s hng\n"
     ]
    }
   ],
   "source": [
    "vowerls = 'aeiou' # (vowerls = ['a', 'e', 'i', 'o', 'u'])\n",
    "result = []\n",
    "words = 'my name is hong'\n",
    "for char in words:\n",
    "    if char not in vowerls:  # 모음 목록에 없다면\n",
    "        result.append(char) # 더해줘\n",
    "\n",
    "print(result)\n",
    "print(''.join(result))"
   ]
  },
  {
   "cell_type": "code",
   "execution_count": 133,
   "id": "c0013eef-506c-4d37-b875-aa696f630733",
   "metadata": {},
   "outputs": [
    {
     "name": "stdout",
     "output_type": "stream",
     "text": [
      "['m', 'y', ' ', 'n', 'm', ' ', 's', ' ', 'h', 'n', 'g']\n",
      "my nm s hng\n"
     ]
    }
   ],
   "source": [
    "result = []\n",
    "words = 'my name is hong'\n",
    "for char in words:\n",
    "    if char not in 'aeiou':\n",
    "        result.append(char)\n",
    "        \n",
    "print(result)\n",
    "print(''.join(result))"
   ]
  },
  {
   "cell_type": "code",
   "execution_count": 81,
   "id": "3d509cc5-8a99-4571-88c5-9c78097f642e",
   "metadata": {},
   "outputs": [],
   "source": [
    "# 2. list comprehension => 데이터 제거가 아니라 골라낸 것"
   ]
  },
  {
   "cell_type": "code",
   "execution_count": 135,
   "id": "240c4f21-a2a0-4cde-a6cd-9331f0460cd3",
   "metadata": {},
   "outputs": [
    {
     "name": "stdout",
     "output_type": "stream",
     "text": [
      "['m', 'y', ' ', 'n', 'm', ' ', 's', ' ', 'h', 'n', 'g']\n",
      "my nm s hng\n"
     ]
    }
   ],
   "source": [
    "vowels = 'aeiou'\n",
    "result = [char for char in words if char not in vowels]\n",
    "print(result)\n",
    "print(''.join(result))"
   ]
  },
  {
   "cell_type": "code",
   "execution_count": 138,
   "id": "5a74c68b-2440-482f-be2b-3b05a4eb80f6",
   "metadata": {},
   "outputs": [
    {
     "name": "stdout",
     "output_type": "stream",
     "text": [
      "my nm s hng\n"
     ]
    }
   ],
   "source": [
    "# 3. replace 메소드\n",
    "# 원본을 덧씌운 것으로 값 삭제에 가깝다고 보여짐\n",
    "vowels = 'aeiou'\n",
    "\n",
    "for char in vowels:\n",
    "    words = words.replace(char, '')\n",
    "\n",
    "print(words)"
   ]
  },
  {
   "cell_type": "markdown",
   "id": "4a2caffe-b10c-4a65-830b-86c11c464931",
   "metadata": {},
   "source": [
    "# dictionary 메소드"
   ]
  },
  {
   "cell_type": "code",
   "execution_count": 13,
   "id": "503216c5-da23-457a-8ffd-657c0d5b99a1",
   "metadata": {},
   "outputs": [],
   "source": [
    "info = {\n",
    "    'name': 'hong',\n",
    "    'location': 'seoul',\n",
    "    'age': 20,\n",
    "    'phone_book': {\n",
    "        'kim': '010-1234-1234',\n",
    "        'park': '010-4321-4321'\n",
    "    },\n",
    "    'models': ['iphone', 'ipad'],\n",
    "}"
   ]
  },
  {
   "cell_type": "code",
   "execution_count": 21,
   "id": "ca74e789-9387-436d-a3c8-ebd4890972a1",
   "metadata": {},
   "outputs": [
    {
     "name": "stdout",
     "output_type": "stream",
     "text": [
      "choi\n",
      "20\n",
      "010-4321-4321\n",
      "ipad\n"
     ]
    },
    {
     "ename": "TypeError",
     "evalue": "list indices must be integers or slices, not str",
     "output_type": "error",
     "traceback": [
      "\u001b[1;31m---------------------------------------------------------------------------\u001b[0m",
      "\u001b[1;31mTypeError\u001b[0m                                 Traceback (most recent call last)",
      "Cell \u001b[1;32mIn[21], line 5\u001b[0m\n\u001b[0;32m      3\u001b[0m \u001b[38;5;28mprint\u001b[39m(info[\u001b[38;5;124m'\u001b[39m\u001b[38;5;124mphone_book\u001b[39m\u001b[38;5;124m'\u001b[39m][\u001b[38;5;124m'\u001b[39m\u001b[38;5;124mpark\u001b[39m\u001b[38;5;124m'\u001b[39m]) \u001b[38;5;66;03m# 딕셔너리인 경우 key와 value 값으로 불러오기\u001b[39;00m\n\u001b[0;32m      4\u001b[0m \u001b[38;5;28mprint\u001b[39m(info[\u001b[38;5;124m'\u001b[39m\u001b[38;5;124mmodels\u001b[39m\u001b[38;5;124m'\u001b[39m][\u001b[38;5;241m1\u001b[39m]) \u001b[38;5;66;03m# 리스트 타입인 경우 인덱스로 불러와야 함\u001b[39;00m\n\u001b[1;32m----> 5\u001b[0m \u001b[38;5;28mprint\u001b[39m(\u001b[43minfo\u001b[49m\u001b[43m[\u001b[49m\u001b[38;5;124;43m'\u001b[39;49m\u001b[38;5;124;43mmodels\u001b[39;49m\u001b[38;5;124;43m'\u001b[39;49m\u001b[43m]\u001b[49m\u001b[43m[\u001b[49m\u001b[38;5;124;43m'\u001b[39;49m\u001b[38;5;124;43miphone\u001b[39;49m\u001b[38;5;124;43m'\u001b[39;49m\u001b[43m]\u001b[49m)\n",
      "\u001b[1;31mTypeError\u001b[0m: list indices must be integers or slices, not str"
     ]
    }
   ],
   "source": [
    "print(info['name'])\n",
    "print(info['age'])\n",
    "print(info['phone_book']['park']) # 딕셔너리인 경우 key와 value 값으로 불러오기\n",
    "print(info['models'][1]) # 리스트 타입인 경우 인덱스로 불러와야 함\n",
    "print(info['models']['iphone']) # 리스트 타입이기 때문에 value 값으로 불러올 수 없음"
   ]
  },
  {
   "cell_type": "code",
   "execution_count": 18,
   "id": "0a79c591-8e47-4935-93df-30dab8e035c8",
   "metadata": {},
   "outputs": [
    {
     "name": "stdout",
     "output_type": "stream",
     "text": [
      "{'name': 'lee', 'location': 'seoul', 'age': 20, 'phone_book': {'kim': '010-1234-1234', 'park': '010-4321-4321'}, 'models': ['iphon', 'ipad']}\n"
     ]
    }
   ],
   "source": [
    "info['name'] = 'lee'\n",
    "print(info)"
   ]
  },
  {
   "cell_type": "code",
   "execution_count": 20,
   "id": "bea16d4a-4ca7-4464-b6e6-95543a694b86",
   "metadata": {},
   "outputs": [
    {
     "name": "stdout",
     "output_type": "stream",
     "text": [
      "{'name': 'choi', 'location': 'seoul', 'age': 20, 'phone_book': {'kim': '010-1234-1234', 'park': '010-4321-4321'}, 'models': ['iphon', 'ipad']}\n"
     ]
    }
   ],
   "source": [
    "info.update(name='choi')\n",
    "print(info)"
   ]
  },
  {
   "cell_type": "code",
   "execution_count": 22,
   "id": "4cd89262-ae10-4958-a032-c0416ccbdd0e",
   "metadata": {},
   "outputs": [
    {
     "name": "stdout",
     "output_type": "stream",
     "text": [
      "{'name': 'choi', 'age': 20, 'phone_book': {'kim': '010-1234-1234', 'park': '010-4321-4321'}, 'models': ['iphon', 'ipad']}\n"
     ]
    }
   ],
   "source": [
    "info.pop('location') # 원하는 키값에 해당하는 정보를 모두 지울 때 사용\n",
    "print(info)"
   ]
  },
  {
   "cell_type": "code",
   "execution_count": 31,
   "id": "b79017d6-17d0-4cd6-b852-5bafe04f9f07",
   "metadata": {},
   "outputs": [
    {
     "name": "stdout",
     "output_type": "stream",
     "text": [
      "choi\n",
      "choi\n"
     ]
    }
   ],
   "source": [
    "print(info.get('name')) # 키 값을 가져와주세용\n",
    "print(info['name'])"
   ]
  },
  {
   "cell_type": "code",
   "execution_count": 32,
   "id": "604a9f48-51f2-4a37-a2ef-3c2b32f4fa75",
   "metadata": {},
   "outputs": [
    {
     "name": "stdout",
     "output_type": "stream",
     "text": [
      "None\n"
     ]
    }
   ],
   "source": [
    "print(info.get('birth')) # get 메소드를 쓰면 없는 키값인 경우 오류 없이 '없음' 출력"
   ]
  },
  {
   "cell_type": "code",
   "execution_count": 40,
   "id": "98be818d-2dda-4664-934f-ac7159e818e9",
   "metadata": {},
   "outputs": [
    {
     "ename": "KeyError",
     "evalue": "'birth'",
     "output_type": "error",
     "traceback": [
      "\u001b[1;31m---------------------------------------------------------------------------\u001b[0m",
      "\u001b[1;31mKeyError\u001b[0m                                  Traceback (most recent call last)",
      "Cell \u001b[1;32mIn[40], line 1\u001b[0m\n\u001b[1;32m----> 1\u001b[0m \u001b[38;5;28mprint\u001b[39m(\u001b[43minfo\u001b[49m\u001b[43m[\u001b[49m\u001b[38;5;124;43m'\u001b[39;49m\u001b[38;5;124;43mbirth\u001b[39;49m\u001b[38;5;124;43m'\u001b[39;49m\u001b[43m]\u001b[49m) \u001b[38;5;66;03m# get 메소드 없는 경우 오류\u001b[39;00m\n",
      "\u001b[1;31mKeyError\u001b[0m: 'birth'"
     ]
    }
   ],
   "source": [
    "print(info['birth']) # get 메소드 없는 경우 오류"
   ]
  },
  {
   "cell_type": "code",
   "execution_count": 55,
   "id": "f47eb02c-9574-4c2b-8c89-ea6b4839e268",
   "metadata": {},
   "outputs": [
    {
     "name": "stdout",
     "output_type": "stream",
     "text": [
      "{'A': 4, 'B': 2, 'AB': 2, 'O': 1}\n"
     ]
    }
   ],
   "source": [
    "# 선생님 풀이\n",
    "# 연습문제\n",
    "# 각 타입별 인원수를 세어주세용\n",
    "\n",
    "blood_type = ['A', 'B', 'A', 'B', 'O', 'AB', 'A', 'A', 'AB']\n",
    "result = {\n",
    "    'A': 0,\n",
    "    'B': 0,\n",
    "    'AB': 0,\n",
    "    'O': 0,\n",
    "}\n",
    "\n",
    "for blood in blood_type:\n",
    "    # result['A']\n",
    "    result[blood] += 1\n",
    "\n",
    "print(result)\n"
   ]
  },
  {
   "cell_type": "code",
   "execution_count": 56,
   "id": "25cc67aa-038d-4337-937b-9d3659464c8c",
   "metadata": {},
   "outputs": [],
   "source": [
    "# not solved\n",
    "\n",
    "blood_type = ['A', 'B', 'A', 'B', 'O', 'AB', 'A', 'A', 'AB']\n",
    "A = 0\n",
    "B = 0\n",
    "AB = 0\n",
    "O = 0\n",
    "def people(blood_type):\n",
    "    for i in blood_type:\n",
    "        if i == int(A):\n",
    "            A += i\n",
    "\n",
    "    return blood_type\n",
    "\n",
    "\n",
    "# {'A': 4, 'B': 2, 'AB': 2, 'O':1}"
   ]
  },
  {
   "cell_type": "code",
   "execution_count": 53,
   "id": "e8cadbc6-1f02-4bdd-a7da-d514695d91c8",
   "metadata": {},
   "outputs": [
    {
     "ename": "TypeError",
     "evalue": "people() takes 1 positional argument but 2 were given",
     "output_type": "error",
     "traceback": [
      "\u001b[1;31m---------------------------------------------------------------------------\u001b[0m",
      "\u001b[1;31mTypeError\u001b[0m                                 Traceback (most recent call last)",
      "Cell \u001b[1;32mIn[53], line 1\u001b[0m\n\u001b[1;32m----> 1\u001b[0m \u001b[38;5;28mprint\u001b[39m(\u001b[43mpeople\u001b[49m\u001b[43m(\u001b[49m\u001b[38;5;124;43m'\u001b[39;49m\u001b[38;5;124;43mA\u001b[39;49m\u001b[38;5;124;43m'\u001b[39;49m\u001b[43m,\u001b[49m\u001b[43m \u001b[49m\u001b[38;5;124;43m'\u001b[39;49m\u001b[38;5;124;43mB\u001b[39;49m\u001b[38;5;124;43m'\u001b[39;49m\u001b[43m)\u001b[49m)\n",
      "\u001b[1;31mTypeError\u001b[0m: people() takes 1 positional argument but 2 were given"
     ]
    }
   ],
   "source": [
    "print(people('A', 'B'))"
   ]
  },
  {
   "cell_type": "code",
   "execution_count": 59,
   "id": "384d5601-8292-4ac0-8831-6a256bb8629a",
   "metadata": {},
   "outputs": [
    {
     "name": "stdout",
     "output_type": "stream",
     "text": [
      "{'서울': 2, '대전': 1, '부산': 1, '대구': 1, 'LA': 1, '파리': 1}\n"
     ]
    }
   ],
   "source": [
    "# 선생님 풀이\n",
    "# 데이터가 정해지지 않은 dictionary인 경우 접근 방법\n",
    "# 확인된 데이터값을 목록으로 만든다\n",
    "# 목록 안에 값이 있는지 확인한다\n",
    "# 값이 있다면 그 값에 +1\n",
    "# 값이 없다면 새로운 목록 생성 및 1 출력\n",
    "\n",
    "locations = ['서울', '서울', '대전', '부산', '대구', 'LA', '파리']\n",
    "result = {} # 비어있는 딕셔너리 (추가될 데이터가 어떤 것일지 예측할 수 없기 때문)\n",
    "\n",
    "for location in locations:\n",
    "    if location in result.keys(): # result.keys는 result 값에 있는 key를 반환, 여기서 key는 location\n",
    "        result[location] +=1\n",
    "    else:\n",
    "        result[location] = 1\n",
    "print(result)"
   ]
  },
  {
   "cell_type": "code",
   "execution_count": 62,
   "id": "96cb1991-1724-4a05-a4ad-8493b8db6776",
   "metadata": {},
   "outputs": [
    {
     "name": "stdout",
     "output_type": "stream",
     "text": [
      "{'서울': 2, '대전': 1, '부산': 1, '대구': 1, 'LA': 1, '파리': 1}\n"
     ]
    }
   ],
   "source": [
    "locations = ['서울', '서울', '대전', '부산', '대구', 'LA', '파리']\n",
    "result = {} # 비어있는 딕셔너리 (추가될 데이터가 어떤 것일지 예측할 수 없기 때문)\n",
    "\n",
    "for location in locations:\n",
    "    if result.get(location):\n",
    "        result[location] +=1\n",
    "    else:\n",
    "        result[location] = 1\n",
    "print(result)"
   ]
  },
  {
   "cell_type": "code",
   "execution_count": 66,
   "id": "50c9d920-beb5-4e40-b338-be5a1ef9b198",
   "metadata": {},
   "outputs": [
    {
     "ename": "SyntaxError",
     "evalue": "invalid syntax (3715842873.py, line 6)",
     "output_type": "error",
     "traceback": [
      "\u001b[1;36m  Cell \u001b[1;32mIn[66], line 6\u001b[1;36m\u001b[0m\n\u001b[1;33m    if location in result key:\u001b[0m\n\u001b[1;37m                          ^\u001b[0m\n\u001b[1;31mSyntaxError\u001b[0m\u001b[1;31m:\u001b[0m invalid syntax\n"
     ]
    }
   ],
   "source": [
    "# not solved\n",
    "locations = ['서울', '서울', '대전', '부산', '대구', 'LA', '파리']\n",
    "result = {} # 비어있는 딕셔너리 (추가될 데이터가 어떤 것일지 예측할 수 없기 때문)\n",
    "\n",
    "for location in locations:\n",
    "    if location in result key:\n",
    "        result[location] += 1\n",
    "    else:\n",
    "        result[location] = 1\n",
    "\n",
    "print(result)\n",
    "    \n",
    "    \n",
    "    # location이 result key 목록에 있으면 기존 데이터에 += 1,\n",
    "else: # 목록에 없다면\n",
    "    # 새로운 키를 등록하고 기본값으로 1을 지정"
   ]
  },
  {
   "cell_type": "markdown",
   "id": "423ad930-5367-4124-be94-829cd3123705",
   "metadata": {},
   "source": [
    "### dict comprehension"
   ]
  },
  {
   "cell_type": "code",
   "execution_count": 69,
   "id": "48d25cd2-b10c-476e-85b2-53523c702e8c",
   "metadata": {},
   "outputs": [
    {
     "name": "stdout",
     "output_type": "stream",
     "text": [
      "{1: 1, 2: 8, 3: 27, 4: 64, 5: 125, 6: 216, 7: 343, 8: 512, 9: 729, 10: 1000}\n"
     ]
    }
   ],
   "source": [
    "# {1: 1, 2: 8, 3: 27, ..., 10: 1000}\n",
    "# key 값은 +1, value는 3제곱\n",
    "\n",
    "result = {}\n",
    "numbers = range(1, 11)\n",
    "\n",
    "for number in numbers:\n",
    "    result[number] = number ** 3 # result를 키로 사용\n",
    "\n",
    "print(result)"
   ]
  },
  {
   "cell_type": "code",
   "execution_count": 70,
   "id": "f2bfb9c7-3e81-4f5d-a375-7dc6235e4496",
   "metadata": {},
   "outputs": [
    {
     "name": "stdout",
     "output_type": "stream",
     "text": [
      "{1: 1, 2: 4, 3: 9, 4: 16, 5: 25, 6: 36, 7: 49, 8: 64, 9: 81, 10: 100}\n"
     ]
    }
   ],
   "source": [
    "result = {number: number ** 2 for number in range(1, 11)}\n",
    "print(result)"
   ]
  },
  {
   "cell_type": "code",
   "execution_count": 73,
   "id": "6fbc2d15-098d-495a-9cda-4b3abc359fd0",
   "metadata": {},
   "outputs": [],
   "source": [
    "# 미세먼지가 30보다 적은 지역 리스트 뽑기\n",
    "dust = {\n",
    "    '서울': 50,\n",
    "    '인천': 100,\n",
    "    '수원': 30,\n",
    "    '부산': 0,\n",
    "}"
   ]
  },
  {
   "cell_type": "code",
   "execution_count": 78,
   "id": "67ba7c36-1114-4d03-bb6b-b3014258d5a2",
   "metadata": {},
   "outputs": [
    {
     "name": "stdout",
     "output_type": "stream",
     "text": [
      "{'수원': 30, '부산': 0}\n"
     ]
    }
   ],
   "source": [
    "# 1. for\n",
    "result = {}\n",
    "for key, value in dust.items():\n",
    "    # key, value = ('서울', 50)\n",
    "    # item = ('서울', 50)\n",
    "    if value <= 30:\n",
    "        result[key] = value\n",
    "print(result)"
   ]
  },
  {
   "cell_type": "code",
   "execution_count": 79,
   "id": "96f5641b-61e3-4082-8d32-119b7ca953c6",
   "metadata": {},
   "outputs": [
    {
     "name": "stdout",
     "output_type": "stream",
     "text": [
      "{'수원': 30, '부산': 0}\n"
     ]
    }
   ],
   "source": [
    "# 2. dict comprehension\n",
    "\n",
    "result = {key: value for key, value in dust.items() if value <= 30}\n",
    "print(result)"
   ]
  },
  {
   "cell_type": "markdown",
   "id": "b3b78e1b-4631-4625-9bf9-4ff3d48b0db8",
   "metadata": {},
   "source": [
    "# Set 메소드"
   ]
  },
  {
   "cell_type": "code",
   "execution_count": 101,
   "id": "b7777f08-c53c-4128-89aa-125c37abee58",
   "metadata": {},
   "outputs": [],
   "source": [
    "fruits = {'apple', 'banana', 'melon'}"
   ]
  },
  {
   "cell_type": "code",
   "execution_count": 89,
   "id": "051fa23e-9011-4601-851c-0eec6ced34e3",
   "metadata": {},
   "outputs": [
    {
     "name": "stdout",
     "output_type": "stream",
     "text": [
      "{'banana', 'melon', 'apple'}\n"
     ]
    }
   ],
   "source": [
    "print(fruits) # 시퀀스 타입이 아니기 때문에 순서가 상관 없이 출력됨"
   ]
  },
  {
   "cell_type": "code",
   "execution_count": 102,
   "id": "b8632b7f-3980-4f85-ab59-89c939f2ce2f",
   "metadata": {},
   "outputs": [
    {
     "name": "stdout",
     "output_type": "stream",
     "text": [
      "{'banana', 'watermelon', 'melon', 'apple'}\n"
     ]
    }
   ],
   "source": [
    "fruits.add('watermelon')\n",
    "print(fruits)"
   ]
  },
  {
   "cell_type": "code",
   "execution_count": 103,
   "id": "cf7372a4-4e41-477d-bfaa-d7e0b75c6205",
   "metadata": {},
   "outputs": [
    {
     "name": "stdout",
     "output_type": "stream",
     "text": [
      "{'watermelon', 'orange', 'grape', 'banana', 'melon', 'apple'}\n"
     ]
    }
   ],
   "source": [
    "fruits.update({'orange', 'grape'})\n",
    "print(fruits)"
   ]
  },
  {
   "cell_type": "code",
   "execution_count": 104,
   "id": "3b305d56-79b9-47ee-b6a7-b0dc02b32367",
   "metadata": {},
   "outputs": [
    {
     "name": "stdout",
     "output_type": "stream",
     "text": [
      "{'watermelon', 'orange', 'grape', 'banana', 'melon'}\n"
     ]
    }
   ],
   "source": [
    "fruits.remove('apple') # apple을 찾아 지움\n",
    "print(fruits)"
   ]
  },
  {
   "cell_type": "code",
   "execution_count": 105,
   "id": "c78ffef7-1862-4705-a3fb-fd853d7b814c",
   "metadata": {},
   "outputs": [
    {
     "name": "stdout",
     "output_type": "stream",
     "text": [
      "{'orange', 'grape', 'banana', 'melon'}\n"
     ]
    }
   ],
   "source": [
    "fruits.pop() # 랜덤하게 지워짐\n",
    "print(fruits)"
   ]
  },
  {
   "cell_type": "markdown",
   "id": "3c5fd341-3cdf-4351-858a-f5eadd80394e",
   "metadata": {},
   "source": [
    "## map, filter, zip\n",
    "- map(funtion, iterable, *iterables) : 모든 값을 반복하면서 계산하기\n",
    "    - iterable => 시퀀스타입(for문으로 반복 가능한 객체)"
   ]
  },
  {
   "cell_type": "code",
   "execution_count": 109,
   "id": "4ba6787d-491d-441e-811e-32b1cc99fdf7",
   "metadata": {},
   "outputs": [
    {
     "name": "stdout",
     "output_type": "stream",
     "text": [
      "['1', '2', '3', '4', '5', '6', '7', '8', '9', '10']\n"
     ]
    }
   ],
   "source": [
    "numbers = [1, 2, 3, 4, 5, 6, 7, 8, 9, 10]\n",
    "# => ['1', '2', '3', '4', ... '10']\n",
    "# 일괄적으로 똑같은 작업을 한다\n",
    "\n",
    "\n",
    "result = []\n",
    "for number in numbers:\n",
    "    result.append(str(number))\n",
    "\n",
    "print(result)"
   ]
  },
  {
   "cell_type": "code",
   "execution_count": 110,
   "id": "5789e85d-b7fd-4cbb-9610-2f2268c718e1",
   "metadata": {},
   "outputs": [
    {
     "name": "stdout",
     "output_type": "stream",
     "text": [
      "[1, 2, 3, 4, 5, 6, 7, 8, 9, 10]\n"
     ]
    }
   ],
   "source": [
    "numbers = [1, 2, 3, 4, 5, 6, 7, 8, 9, 10]\n",
    "# => ['1', '2', '3', '4', ... '10']\n",
    "# 일괄적으로 똑같은 작업을 한다\n",
    "\n",
    "\n",
    "result = []\n",
    "for number in numbers:\n",
    "    result.append(number) # result에 더할거야.\n",
    "\n",
    "print(result)"
   ]
  },
  {
   "cell_type": "code",
   "execution_count": 117,
   "id": "9163cbeb-fba7-4367-93cc-5a2fcb73eb3e",
   "metadata": {},
   "outputs": [
    {
     "name": "stdout",
     "output_type": "stream",
     "text": [
      "<map object at 0x000001E22E8AF910>\n",
      "['1', '2', '3', '4', '5', '6', '7', '8', '9', '10']\n"
     ]
    }
   ],
   "source": [
    "# numbers라는 리스트를 돌면서 str 함수를 적용해줘\n",
    "\n",
    "result = list(map(str, numbers)) # 완성본을 list로 바꿔주세용\n",
    "\n",
    "# lazy한 계산을 한다? => 당장 연산이 아니라 필요할 때 연산한다\n",
    "# 아직 계산을 하지 않고 필요할 때에 계산함(메모리가 적음)\n",
    "\n",
    "print(result)\n",
    "print(list(result))"
   ]
  },
  {
   "cell_type": "code",
   "execution_count": 118,
   "id": "76d5974b-a4a7-4d82-9b7a-faaa044fd8db",
   "metadata": {},
   "outputs": [
    {
     "name": "stdout",
     "output_type": "stream",
     "text": [
      "[1, 8, 27, 64, 125]\n"
     ]
    }
   ],
   "source": [
    "numbers = [1, 2, 3, 4, 5]\n",
    "# => [1, 8, 27, 64, 125]\n",
    "\n",
    "result = []\n",
    "for number in numbers:\n",
    "    result.append(number ** 3)\n",
    "\n",
    "print(result)"
   ]
  },
  {
   "cell_type": "code",
   "execution_count": null,
   "id": "ceb9d034-d89a-43b8-9ee3-383e4a0558de",
   "metadata": {},
   "outputs": [],
   "source": [
    "numbers = [세제곱(1), 세제곱(2),... 3, 4, 5]\n",
    "# => [1, 8, 27, 64, 125]\n",
    "\n",
    "result = []\n",
    "for number in numbers:\n",
    "    result.append(number ** 3)\n",
    "\n",
    "print(result)"
   ]
  },
  {
   "cell_type": "code",
   "execution_count": 121,
   "id": "d247599c-8ddd-4024-8eeb-1927320756ad",
   "metadata": {},
   "outputs": [],
   "source": [
    "# map에 넣어줄 함수를 만들어서 사용!\n",
    "def cube(x):\n",
    "    return x ** 3 "
   ]
  },
  {
   "cell_type": "code",
   "execution_count": 124,
   "id": "9b06d1eb-32b9-4f2b-9985-0297a306303c",
   "metadata": {},
   "outputs": [
    {
     "name": "stdout",
     "output_type": "stream",
     "text": [
      "<map object at 0x000001E22E8A6530>\n",
      "[1, 8, 27, 64, 125]\n"
     ]
    }
   ],
   "source": [
    "result = map(cube, numbers)\n",
    "print(result)\n",
    "print(list(result))"
   ]
  },
  {
   "cell_type": "code",
   "execution_count": 133,
   "id": "d3125ac3-5fd7-4ecb-b8d4-47d314d4cd4f",
   "metadata": {},
   "outputs": [
    {
     "name": "stdout",
     "output_type": "stream",
     "text": [
      "[1, 3, 5, 7, 9]\n"
     ]
    }
   ],
   "source": [
    "# 띄어쓰기가 들어간 글자 형태의 데이터 정제하기\n",
    "\n",
    "\n",
    "test_input = '1 3 5 7 9'\n",
    "# 1. 띄어쓰기 기준으로 나눈다\n",
    "test_input.split()\n",
    "# 2. 각 글자를 숫자로 바꾼다\n",
    "map(int, test_input.split())\n",
    "# 3. 리스트에 저장한다.\n",
    "result = list(map(int, test_input.split()))\n",
    "print(result)"
   ]
  },
  {
   "cell_type": "markdown",
   "id": "dc781e40-7f5a-4e31-b4aa-4592155bb03d",
   "metadata": {},
   "source": [
    "### filter\n",
    "- filter(funtion, iterable) : 정해진 값(함수=true/false가 나와야 하는 함수) 만큼 반복 * true인 경우에만 반복"
   ]
  },
  {
   "cell_type": "code",
   "execution_count": 135,
   "id": "2a16df6e-8c4f-4598-adbc-816f039a7c0b",
   "metadata": {},
   "outputs": [],
   "source": [
    "def is_odd(x):\n",
    "    return x % 2"
   ]
  },
  {
   "cell_type": "code",
   "execution_count": 136,
   "id": "5a6d2658-3e1b-42e6-b698-6c49db620c1a",
   "metadata": {},
   "outputs": [
    {
     "name": "stdout",
     "output_type": "stream",
     "text": [
      "[1, 3, 5]\n"
     ]
    }
   ],
   "source": [
    "numbers = [1, 2, 3, 4, 5, 6]\n",
    "\n",
    "result = []\n",
    "for number in numbers:\n",
    "    if number % 2 == 1:\n",
    "        result.append(number)\n",
    "\n",
    "print(result)"
   ]
  },
  {
   "cell_type": "code",
   "execution_count": 143,
   "id": "f77b821f-e126-471b-9e3e-0066033d3e1f",
   "metadata": {},
   "outputs": [
    {
     "name": "stdout",
     "output_type": "stream",
     "text": [
      "<filter object at 0x000001E22E932E00>\n",
      "[1, 3, 5]\n"
     ]
    }
   ],
   "source": [
    "result = filter(is_odd, numbers)\n",
    "\n",
    "print(result)\n",
    "print(list(result))"
   ]
  },
  {
   "cell_type": "markdown",
   "id": "05b9d4c0-01b9-47a3-9b70-3d4f76190ce5",
   "metadata": {},
   "source": [
    "### zip\n",
    "- 두개의 리스트를 같은 인덱스끼리 tuple로 묶어서 출력"
   ]
  },
  {
   "cell_type": "code",
   "execution_count": 146,
   "id": "867e678f-bf80-41c2-941c-7dab0ef9947c",
   "metadata": {},
   "outputs": [
    {
     "name": "stdout",
     "output_type": "stream",
     "text": [
      "<zip object at 0x000001E22EE4D640>\n",
      "[(1, 100), (2, 200), (3, 300)]\n"
     ]
    }
   ],
   "source": [
    "a = [1, 2, 3]\n",
    "b = [100, 200, 300]\n",
    "\n",
    "result = zip(a, b)\n",
    "print(result)\n",
    "print(list(result))"
   ]
  }
 ],
 "metadata": {
  "kernelspec": {
   "display_name": "Python 3 (ipykernel)",
   "language": "python",
   "name": "python3"
  },
  "language_info": {
   "codemirror_mode": {
    "name": "ipython",
    "version": 3
   },
   "file_extension": ".py",
   "mimetype": "text/x-python",
   "name": "python",
   "nbconvert_exporter": "python",
   "pygments_lexer": "ipython3",
   "version": "3.13.2"
  }
 },
 "nbformat": 4,
 "nbformat_minor": 5
}
