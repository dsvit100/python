{
 "cells": [
  {
   "cell_type": "code",
   "execution_count": 3,
   "id": "88438109-1412-497a-b3be-143c3f5a2612",
   "metadata": {},
   "outputs": [],
   "source": [
    "#  OOP 객체지향 프로그래밍\n",
    "# 오브젝트를 만드는 것을 클래스라고 하기로\n",
    "# 모든 오브젝트는 데이터(정보)와 기능(메소드or함수)을 내포\n",
    "# 오브젝트에 대한 정의(객체지향)를 먼저 진행 : 이 오브젝트는 이런 정보를 갖고있고 어떤 기능(행동)을 넣어줌"
   ]
  },
  {
   "cell_type": "markdown",
   "id": "9f813196-8b1f-4cd4-bc8e-762af133b535",
   "metadata": {},
   "source": [
    "# 객체지향 프로그래밍 (OOP)\n",
    "\n",
    "- 클래스(class): 같은 종류의 집단에 속하는 `속성`과 `행동`을 `정의`한 것\n",
    "- 속성(attribute): 클래스/인스턴스가 가지고 있는 데이터/값\n",
    "- 행동(행위)(method): 클래스/인스턴스가 가지고 있는 함수/기능\n",
    "    - 객체 안에 들어가 있는 함수인 경우 메소드라고 부름\n",
    "- 인스턴스(instance): 클래스를 실제로 메모리상에 할당한 것"
   ]
  },
  {
   "cell_type": "code",
   "execution_count": 106,
   "id": "130e1e7b-df29-49f3-b246-bf9fcbdd42a6",
   "metadata": {},
   "outputs": [],
   "source": [
    "number = 1 + 2j"
   ]
  },
  {
   "cell_type": "code",
   "execution_count": 107,
   "id": "1d0481c6-d27d-484c-a80e-8d957775c6dc",
   "metadata": {},
   "outputs": [
    {
     "name": "stdout",
     "output_type": "stream",
     "text": [
      "<class 'complex'>\n"
     ]
    }
   ],
   "source": [
    "print(type(number))\n",
    "#파이썬 내부에서 복소수라는 개념을 미리 정의해 둠 = class"
   ]
  },
  {
   "cell_type": "code",
   "execution_count": 108,
   "id": "cdfa9eee-e190-4cb3-a34c-bcb2fc647f0f",
   "metadata": {},
   "outputs": [
    {
     "name": "stdout",
     "output_type": "stream",
     "text": [
      "1.0\n",
      "2.0\n"
     ]
    }
   ],
   "source": [
    "# number에 들어가있는 정보에 접근\n",
    "print(number.real) # 실수부에 있는 데이터를 출력\n",
    "print(number.imag) # 허수부에 있는 데이터를 출력"
   ]
  },
  {
   "cell_type": "code",
   "execution_count": 109,
   "id": "da7e69b4-9712-44db-9f47-08418434166e",
   "metadata": {},
   "outputs": [],
   "source": [
    "numbers = [1, 2, 3]"
   ]
  },
  {
   "cell_type": "code",
   "execution_count": 110,
   "id": "d5cc85a4-67fa-43b2-9cf1-0bdf605ee68f",
   "metadata": {},
   "outputs": [
    {
     "name": "stdout",
     "output_type": "stream",
     "text": [
      "<class 'list'>\n"
     ]
    }
   ],
   "source": [
    "print(type(numbers))"
   ]
  },
  {
   "cell_type": "code",
   "execution_count": 111,
   "id": "518192c1-f360-4374-a9ea-30d70a162c33",
   "metadata": {},
   "outputs": [
    {
     "name": "stdout",
     "output_type": "stream",
     "text": [
      "[3, 2, 1]\n"
     ]
    }
   ],
   "source": [
    "numbers.reverse()\n",
    "print(numbers)"
   ]
  },
  {
   "cell_type": "code",
   "execution_count": 112,
   "id": "5ac0290e-7165-4f79-974b-07a9625d8ceb",
   "metadata": {},
   "outputs": [
    {
     "name": "stdout",
     "output_type": "stream",
     "text": [
      "010-1234-1234가 010-1111-1111한테 전화 거는 중\n"
     ]
    }
   ],
   "source": [
    "number = '010-1234-1234'\n",
    "power = True\n",
    "phone_book = {\n",
    "    'kim': '010-1111-1111',\n",
    "    'park': '010-2222-2222',\n",
    "}\n",
    "\n",
    "def call(from_num, to_num):\n",
    "    print(f'{from_num}가 {to_num}한테 전화 거는 중')\n",
    "\n",
    "call(number, phone_book['kim'])"
   ]
  },
  {
   "cell_type": "code",
   "execution_count": 113,
   "id": "e222688f-6ae8-4eba-aedb-e41268537a0b",
   "metadata": {},
   "outputs": [
    {
     "name": "stdout",
     "output_type": "stream",
     "text": [
      "010-4321-4321가 010-1111-1111한테 전화 거는 중\n"
     ]
    }
   ],
   "source": [
    "# 클래스 사용하지 않는 경우\n",
    "# 여러대의 핸드폰을 만든다고 할 때, 같은 작업을 변수 이름을 바꾸어서 계속 반복해야 함\n",
    "\n",
    "number_2 = '010-4321-4321'\n",
    "power_2 = True\n",
    "phone_book_2 = {\n",
    "    'kim': '010-1111-1111',\n",
    "    'park': '010-2222-2222',\n",
    "}\n",
    "\n",
    "def call(from_num, to_num):\n",
    "    print(f'{from_num}가 {to_num}한테 전화 거는 중')\n",
    "\n",
    "call(number_2, phone_book_2['kim'])"
   ]
  },
  {
   "cell_type": "markdown",
   "id": "40e2ab63-d570-4bf6-bae7-b95406c397f2",
   "metadata": {},
   "source": [
    "## class\n",
    "\n",
    "- 클래스 선언/정의\n",
    "```python\n",
    "class ClassName():\n",
    "    # 카멜케이스(낙타등표현법) 각 단어의 시작점마다 대문자표기\n",
    "    attribute1 = value1\n",
    "    attribute2 = value2\n",
    "    ...\n",
    "\n",
    "    def method_name(self):\n",
    "        code\n",
    "\n",
    "    def method_name2(self):\n",
    "        code\n",
    "    ...\n",
    "\n",
    "```\n",
    "\n",
    "- 인스턴스화 (클래스 실행)\n",
    "```python\n",
    "c = ClassName()\n",
    "```"
   ]
  },
  {
   "cell_type": "code",
   "execution_count": 114,
   "id": "1f37ce37-2d8e-42c1-a96c-db632fe167a0",
   "metadata": {},
   "outputs": [],
   "source": [
    "# 선언 (클래스 정의)\n",
    "class MyClass():\n",
    "    name = 'kim' # 정보 저장\n",
    "\n",
    "    def hello(self): # hello라는 기능\n",
    "        return 'hihihihihi'"
   ]
  },
  {
   "cell_type": "code",
   "execution_count": 115,
   "id": "950407d2-7975-422a-8df3-9fc5e19a060f",
   "metadata": {},
   "outputs": [],
   "source": [
    "# 인스턴스화 (완전히 다른 객체를 만들어 냄)\n",
    "m = MyClass()"
   ]
  },
  {
   "cell_type": "code",
   "execution_count": 116,
   "id": "8edf349f-2a9a-49bd-8655-4d4ad79aedf4",
   "metadata": {},
   "outputs": [
    {
     "name": "stdout",
     "output_type": "stream",
     "text": [
      "<__main__.MyClass object at 0x0000020D08BE4440>\n",
      "<class '__main__.MyClass'>\n"
     ]
    }
   ],
   "source": [
    "print(m)\n",
    "print(type(m))"
   ]
  },
  {
   "cell_type": "code",
   "execution_count": 117,
   "id": "0d1ab985-54f1-45fa-a51b-a72bc3bd7aa5",
   "metadata": {},
   "outputs": [
    {
     "name": "stdout",
     "output_type": "stream",
     "text": [
      "kim\n",
      "hihihihihi\n"
     ]
    }
   ],
   "source": [
    "print(m.name)\n",
    "print(m.hello())"
   ]
  },
  {
   "cell_type": "code",
   "execution_count": 118,
   "id": "0dd7a7b1-52da-4684-b6ef-b3a2c1450c50",
   "metadata": {},
   "outputs": [
    {
     "name": "stdout",
     "output_type": "stream",
     "text": [
      "kim\n",
      "hihihihihi\n"
     ]
    }
   ],
   "source": [
    "m2 = MyClass()\n",
    "print(m2.name)\n",
    "print(m2.hello())"
   ]
  },
  {
   "cell_type": "code",
   "execution_count": 119,
   "id": "9a718809-7baf-4cbb-9154-3be6585ea3f1",
   "metadata": {},
   "outputs": [
    {
     "name": "stdout",
     "output_type": "stream",
     "text": [
      "kim\n",
      "park\n"
     ]
    }
   ],
   "source": [
    "m2.name = 'park'\n",
    "\n",
    "print(m.name)\n",
    "print(m2.name)"
   ]
  },
  {
   "cell_type": "code",
   "execution_count": 120,
   "id": "87a3b598-fbde-444c-bb71-0a13952843fa",
   "metadata": {},
   "outputs": [],
   "source": [
    "class phone():\n",
    "    power = False\n",
    "    number = '010-0000-0000'\n",
    "    book = {}\n",
    "    model = ''\n",
    "    \n",
    "# 클래스 안에 들어간 메소드는 항상 self(=나자신~)를 첫번째로 쓸 것\n",
    "    def on(self): \n",
    "        if self.power == False:\n",
    "            self.power = True\n",
    "\n",
    "    def off(self):\n",
    "        if self.power == True:\n",
    "            self.power = False\n",
    "\n",
    "    def call(self, target):\n",
    "        if self.power == True:\n",
    "            print(f'{self.number}가 {target.number}한테 전화거는 중...')\n",
    "        else:\n",
    "            print('핸드폰이 꺼져있습니다.')"
   ]
  },
  {
   "cell_type": "code",
   "execution_count": 121,
   "id": "b0f74d4d-21d2-41d1-98e6-e47e64e7e8ab",
   "metadata": {},
   "outputs": [],
   "source": [
    "# 핸드폰 두개를 생성하기 (각각 다른 객체로 생성)\n",
    "my_phone = phone()\n",
    "your_phone = phone()"
   ]
  },
  {
   "cell_type": "code",
   "execution_count": 122,
   "id": "7a7f94f6-04b8-4519-b1bb-bd84648504f6",
   "metadata": {},
   "outputs": [
    {
     "data": {
      "text/plain": [
       "'010-0000-0000'"
      ]
     },
     "execution_count": 122,
     "metadata": {},
     "output_type": "execute_result"
    }
   ],
   "source": [
    "my_phone.number"
   ]
  },
  {
   "cell_type": "code",
   "execution_count": 123,
   "id": "55b4fecc-cf0d-480a-a2b2-8b38f0357be2",
   "metadata": {},
   "outputs": [
    {
     "data": {
      "text/plain": [
       "'010-0000-0000'"
      ]
     },
     "execution_count": 123,
     "metadata": {},
     "output_type": "execute_result"
    }
   ],
   "source": [
    "your_phone.number"
   ]
  },
  {
   "cell_type": "code",
   "execution_count": 124,
   "id": "da23ac03-c30a-4b79-a0e3-adb6972f01bc",
   "metadata": {},
   "outputs": [],
   "source": [
    "my_phone.number = '010-1234-1234'"
   ]
  },
  {
   "cell_type": "code",
   "execution_count": 125,
   "id": "1f7439f2-b4e8-4cf8-a846-905c079999b9",
   "metadata": {},
   "outputs": [
    {
     "data": {
      "text/plain": [
       "'010-1234-1234'"
      ]
     },
     "execution_count": 125,
     "metadata": {},
     "output_type": "execute_result"
    }
   ],
   "source": [
    "my_phone.number"
   ]
  },
  {
   "cell_type": "code",
   "execution_count": 126,
   "id": "7a4404a1-8971-4d6c-a411-8867baa8fa24",
   "metadata": {},
   "outputs": [
    {
     "data": {
      "text/plain": [
       "False"
      ]
     },
     "execution_count": 126,
     "metadata": {},
     "output_type": "execute_result"
    }
   ],
   "source": [
    "my_phone.power"
   ]
  },
  {
   "cell_type": "code",
   "execution_count": 127,
   "id": "8fc57788-3095-43fd-9b4c-7a186f2e3230",
   "metadata": {},
   "outputs": [],
   "source": [
    "my_phone.on()"
   ]
  },
  {
   "cell_type": "code",
   "execution_count": 128,
   "id": "eeff9948-fae5-43d1-bd58-b02d3939d158",
   "metadata": {},
   "outputs": [
    {
     "data": {
      "text/plain": [
       "True"
      ]
     },
     "execution_count": 128,
     "metadata": {},
     "output_type": "execute_result"
    }
   ],
   "source": [
    "my_phone.power"
   ]
  },
  {
   "cell_type": "code",
   "execution_count": 129,
   "id": "5c0c6060-c634-44e2-8239-fe048cad1e53",
   "metadata": {},
   "outputs": [
    {
     "data": {
      "text/plain": [
       "False"
      ]
     },
     "execution_count": 129,
     "metadata": {},
     "output_type": "execute_result"
    }
   ],
   "source": [
    "your_phone.power"
   ]
  },
  {
   "cell_type": "code",
   "execution_count": 130,
   "id": "0f1111a0-b3ec-4e5d-9230-a100602956a2",
   "metadata": {},
   "outputs": [
    {
     "name": "stdout",
     "output_type": "stream",
     "text": [
      "010-1234-1234가 010-0000-0000한테 전화거는 중...\n"
     ]
    }
   ],
   "source": [
    "my_phone.call(your_phone)"
   ]
  },
  {
   "cell_type": "code",
   "execution_count": 131,
   "id": "a5d73fb1-a200-4d82-b8d7-22911944ee3f",
   "metadata": {},
   "outputs": [
    {
     "name": "stdout",
     "output_type": "stream",
     "text": [
      "핸드폰이 꺼져있습니다.\n"
     ]
    }
   ],
   "source": [
    "your_phone.call(my_phone)"
   ]
  },
  {
   "cell_type": "code",
   "execution_count": 132,
   "id": "f85df5d0-e094-4f05-8e56-0b3a7bd84707",
   "metadata": {},
   "outputs": [],
   "source": [
    "class Person():\n",
    "    name = ''\n",
    "    gender = ''\n",
    "    age = 0\n",
    "    heigh = 0\n",
    "\n",
    "    def greeting(self):\n",
    "        print(f'안녕하세요, 나는{self.name}입니다.')\n",
    "\n",
    "    def grow(self):\n",
    "        self.age += 1"
   ]
  },
  {
   "cell_type": "code",
   "execution_count": 133,
   "id": "9c56f214-76c1-4c43-9e0b-1deb519304c7",
   "metadata": {},
   "outputs": [],
   "source": [
    "p1 = Person()\n",
    "p2 = Person()"
   ]
  },
  {
   "cell_type": "code",
   "execution_count": 134,
   "id": "663e7073-fb1e-41b2-8f37-5133e43087b9",
   "metadata": {},
   "outputs": [],
   "source": [
    "p1.name = 'hong'\n",
    "p2.name = 'kim'\n",
    "\n",
    "p1.gender = 'F'\n",
    "p2.gender = 'M'\n",
    "\n",
    "p1.age = 20\n",
    "p2.age = 30\n",
    "\n",
    "p1.height = 170\n",
    "p2.height = 180"
   ]
  },
  {
   "cell_type": "code",
   "execution_count": 135,
   "id": "36b3e79f-d579-4f50-bdf5-cedf51469fab",
   "metadata": {},
   "outputs": [
    {
     "name": "stdout",
     "output_type": "stream",
     "text": [
      "안녕하세요, 나는hong입니다.\n"
     ]
    }
   ],
   "source": [
    "p1.greeting() # 인스턴스로부터 시작되기 때문에 self가 누군지 확인 가능"
   ]
  },
  {
   "cell_type": "code",
   "execution_count": 136,
   "id": "a9343fac-0228-4a7d-9948-9ef5092816cc",
   "metadata": {},
   "outputs": [
    {
     "name": "stdout",
     "output_type": "stream",
     "text": [
      "안녕하세요, 나는kim입니다.\n"
     ]
    }
   ],
   "source": [
    "p2.greeting()"
   ]
  },
  {
   "cell_type": "code",
   "execution_count": 137,
   "id": "b191bb42-17c4-40e6-88bc-ade34892424b",
   "metadata": {},
   "outputs": [
    {
     "name": "stdout",
     "output_type": "stream",
     "text": [
      "안녕하세요, 나는hong입니다.\n"
     ]
    },
    {
     "ename": "TypeError",
     "evalue": "Person.greeting() missing 1 required positional argument: 'self'",
     "output_type": "error",
     "traceback": [
      "\u001b[1;31m---------------------------------------------------------------------------\u001b[0m",
      "\u001b[1;31mTypeError\u001b[0m                                 Traceback (most recent call last)",
      "Cell \u001b[1;32mIn[137], line 2\u001b[0m\n\u001b[0;32m      1\u001b[0m Person\u001b[38;5;241m.\u001b[39mgreeting(p1) \u001b[38;5;66;03m# 가능 == p1.greeting()\u001b[39;00m\n\u001b[1;32m----> 2\u001b[0m \u001b[43mPerson\u001b[49m\u001b[38;5;241;43m.\u001b[39;49m\u001b[43mgreeting\u001b[49m\u001b[43m(\u001b[49m\u001b[43m)\u001b[49m\n\u001b[0;32m      3\u001b[0m \u001b[38;5;66;03m# 불가 == Person 클래스를 기준으로 greeting 함수이기 때문에\u001b[39;00m\n\u001b[0;32m      4\u001b[0m \u001b[38;5;66;03m# self값이 없음. 빈값.\u001b[39;00m\n",
      "\u001b[1;31mTypeError\u001b[0m: Person.greeting() missing 1 required positional argument: 'self'"
     ]
    }
   ],
   "source": [
    "Person.greeting(p1) # 가능 == p1.greeting()\n",
    "Person.greeting()\n",
    "# 불가 == Person 클래스를 기준으로 greeting 함수이기 때문에\n",
    "# self값이 없음. 빈값."
   ]
  },
  {
   "cell_type": "code",
   "execution_count": 138,
   "id": "6d5e9cd5-a155-4629-9737-7a96476f42bc",
   "metadata": {},
   "outputs": [
    {
     "ename": "NameError",
     "evalue": "name 'self' is not defined",
     "output_type": "error",
     "traceback": [
      "\u001b[1;31m---------------------------------------------------------------------------\u001b[0m",
      "\u001b[1;31mNameError\u001b[0m                                 Traceback (most recent call last)",
      "Cell \u001b[1;32mIn[138], line 1\u001b[0m\n\u001b[1;32m----> 1\u001b[0m Person\u001b[38;5;241m.\u001b[39mgreeting(\u001b[38;5;28;43mself\u001b[39;49m) \u001b[38;5;66;03m########## 정의(틀)이기 때문에 self 호출이 불가능 한 건가????\u001b[39;00m\n",
      "\u001b[1;31mNameError\u001b[0m: name 'self' is not defined"
     ]
    }
   ],
   "source": [
    "Person.greeting(self) ########## 정의(틀)이기 때문에 self 호출이 불가능 한 건가????"
   ]
  },
  {
   "cell_type": "markdown",
   "id": "1e3dc56e-6c07-4dce-b820-2f05f04f7333",
   "metadata": {},
   "source": [
    "## 생성자, 소멸자\n",
    "- 깡통 만들 거 아예 정보를 입력해서 만드는 것이 어때 => 생성자\n",
    "\n",
    "```python\n",
    "class MyClass():\n",
    "\n",
    "    def __init__(self): # 생성자\n",
    "        pass\n",
    "\n",
    "    def __del__(self): # 소멸자\n",
    "        pass\n",
    "```"
   ]
  },
  {
   "cell_type": "code",
   "execution_count": 163,
   "id": "6ec0f3e4-3994-4440-8bb2-b5d44f4af1c6",
   "metadata": {},
   "outputs": [],
   "source": [
    "class Person():\n",
    "    name = ''\n",
    "\n",
    "    def __init__(self, name):\n",
    "        self.name = name\n",
    "        print('생성됨')\n",
    "\n",
    "    def __del__(self):\n",
    "        print('소멸됨')"
   ]
  },
  {
   "cell_type": "code",
   "execution_count": 164,
   "id": "b97c7bff-beaf-4efc-a978-6dee5b2d267d",
   "metadata": {},
   "outputs": [
    {
     "name": "stdout",
     "output_type": "stream",
     "text": [
      "소멸됨\n"
     ]
    },
    {
     "ename": "TypeError",
     "evalue": "Person.__init__() missing 1 required positional argument: 'name'",
     "output_type": "error",
     "traceback": [
      "\u001b[1;31m---------------------------------------------------------------------------\u001b[0m",
      "\u001b[1;31mTypeError\u001b[0m                                 Traceback (most recent call last)",
      "Cell \u001b[1;32mIn[164], line 1\u001b[0m\n\u001b[1;32m----> 1\u001b[0m p1 \u001b[38;5;241m=\u001b[39m \u001b[43mPerson\u001b[49m\u001b[43m(\u001b[49m\u001b[43m)\u001b[49m \u001b[38;5;66;03m# person 클래스를 인스턴스화 하려고 하는데 오류남\u001b[39;00m\n\u001b[0;32m      2\u001b[0m \u001b[38;5;66;03m# p1 = Person(__init__(p1, ????))를 실행하려고 했던 것\u001b[39;00m\n",
      "\u001b[1;31mTypeError\u001b[0m: Person.__init__() missing 1 required positional argument: 'name'"
     ]
    }
   ],
   "source": [
    "p1 = Person() # person 클래스를 인스턴스화 하려고 하는데 오류남\n",
    "# p1 = Person(__init__(p1, ????))를 실행하려고 했던 것"
   ]
  },
  {
   "cell_type": "code",
   "execution_count": 165,
   "id": "88a7fb18-5bf2-4073-8559-e562069aac49",
   "metadata": {},
   "outputs": [
    {
     "name": "stdout",
     "output_type": "stream",
     "text": [
      "생성됨\n"
     ]
    }
   ],
   "source": [
    "p1 = Person('kim') # => person.__init__(p1, 'kim')"
   ]
  },
  {
   "cell_type": "code",
   "execution_count": 166,
   "id": "0fd83a8c-1dd9-4822-8194-6909c442cba3",
   "metadata": {},
   "outputs": [
    {
     "name": "stdout",
     "output_type": "stream",
     "text": [
      "소멸됨\n"
     ]
    }
   ],
   "source": [
    "del p1"
   ]
  },
  {
   "cell_type": "code",
   "execution_count": 167,
   "id": "acdf858b-f074-4497-962e-4568d8522cc7",
   "metadata": {},
   "outputs": [
    {
     "name": "stdout",
     "output_type": "stream",
     "text": [
      "생성됨\n",
      "생성됨\n"
     ]
    }
   ],
   "source": [
    "p1 = Person('kim')\n",
    "p2 = Person('hong')"
   ]
  },
  {
   "cell_type": "code",
   "execution_count": 168,
   "id": "5fe5634b-7803-460c-ae5e-9864c4d95ab1",
   "metadata": {},
   "outputs": [
    {
     "name": "stdout",
     "output_type": "stream",
     "text": [
      "소멸됨\n"
     ]
    }
   ],
   "source": [
    "del p1"
   ]
  },
  {
   "cell_type": "code",
   "execution_count": 169,
   "id": "77e5ad63-4cc9-4d9c-a2a5-80ff507345db",
   "metadata": {},
   "outputs": [
    {
     "name": "stdout",
     "output_type": "stream",
     "text": [
      "소멸됨\n"
     ]
    }
   ],
   "source": [
    "del p2"
   ]
  },
  {
   "cell_type": "code",
   "execution_count": 218,
   "id": "cf45b178-f86b-429b-9d98-94837bc743b7",
   "metadata": {},
   "outputs": [],
   "source": [
    "class Circle():\n",
    "    pi = 3.14\n",
    "    def __init__(self, r, x, y):\n",
    "    # 만약 반지름만 들어간 원을 만들고 싶다면\n",
    "    # 2번 3번 값이 비어있을 때 출력될 기본값 인자를 만들어줌 (self, r, x=0, y=0)\n",
    "        self.r = r\n",
    "        self.x = x\n",
    "        self.y = y\n",
    "\n",
    "    def info(self):\n",
    "        print(f'반지름은 {self.r}, 중심점:{self.x}, {self.y}')\n",
    "\n",
    "    def aria(self):\n",
    "        return self.r ** 2 * self.pi\n",
    "        # self.pi에서 왜 self가 들어갔는지?\n",
    "        # self.pi가 생성된 인스턴스 안에 파이가 없을 경우\n",
    "        # 나를 정의한 곳에서부터 파이값을 찾아씀\n",
    "\n",
    "    def round(self):\n",
    "        return self.r * self.pi * 2\n",
    "\n",
    "    def move(self, x, y):\n",
    "        self.x = x # 내가 가진 self.x 값을 x로 새로 할당\n",
    "        self.y = y # 내가 가진 self.y 값을 y로 새로 할당"
   ]
  },
  {
   "cell_type": "code",
   "execution_count": 219,
   "id": "450d55d3-3cfa-48dd-a60f-87c008be9bc1",
   "metadata": {},
   "outputs": [
    {
     "ename": "TypeError",
     "evalue": "Circle.__init__() missing 3 required positional arguments: 'r', 'x', and 'y'",
     "output_type": "error",
     "traceback": [
      "\u001b[1;31m---------------------------------------------------------------------------\u001b[0m",
      "\u001b[1;31mTypeError\u001b[0m                                 Traceback (most recent call last)",
      "Cell \u001b[1;32mIn[219], line 1\u001b[0m\n\u001b[1;32m----> 1\u001b[0m c1 \u001b[38;5;241m=\u001b[39m \u001b[43mCircle\u001b[49m\u001b[43m(\u001b[49m\u001b[43m)\u001b[49m \u001b[38;5;66;03m# 인스턴스를 만들 때 init이 함께 만들어짐\u001b[39;00m\n\u001b[0;32m      2\u001b[0m \u001b[38;5;66;03m# 무조건 init에 들어가는 세개의 인자를 채워줘야 함\u001b[39;00m\n",
      "\u001b[1;31mTypeError\u001b[0m: Circle.__init__() missing 3 required positional arguments: 'r', 'x', and 'y'"
     ]
    }
   ],
   "source": [
    "c1 = Circle() # 인스턴스를 만들 때 init이 함께 만들어짐\n",
    "# 무조건 init에 들어가는 세개의 인자를 채워줘야 함"
   ]
  },
  {
   "cell_type": "code",
   "execution_count": 220,
   "id": "bf0bb679-c8c1-4911-942d-0eac26f716eb",
   "metadata": {},
   "outputs": [],
   "source": [
    "c1 = Circle(5, 0, 0)"
   ]
  },
  {
   "cell_type": "code",
   "execution_count": 221,
   "id": "9764a89a-3165-4ce1-8a14-c3afd900b2bf",
   "metadata": {},
   "outputs": [
    {
     "name": "stdout",
     "output_type": "stream",
     "text": [
      "반지름은 5, 중심점:0, 0\n"
     ]
    }
   ],
   "source": [
    "Circle.info(c1)"
   ]
  },
  {
   "cell_type": "code",
   "execution_count": 222,
   "id": "3aeec245-bfbe-4fd3-ab30-31a8518e7e55",
   "metadata": {},
   "outputs": [],
   "source": [
    "c1 = Circle(5, 0, 0)\n",
    "c2 = Circle(3, 1, 1)"
   ]
  },
  {
   "cell_type": "code",
   "execution_count": 223,
   "id": "d7d8f892-72fa-4272-9abe-7b39e04ec722",
   "metadata": {},
   "outputs": [
    {
     "name": "stdout",
     "output_type": "stream",
     "text": [
      "반지름은 5, 중심점:0, 0\n",
      "반지름은 3, 중심점:1, 1\n"
     ]
    }
   ],
   "source": [
    "c1.info()\n",
    "c2.info()"
   ]
  },
  {
   "cell_type": "code",
   "execution_count": 224,
   "id": "b25f60f9-da63-4762-b42d-7d417c3874a5",
   "metadata": {},
   "outputs": [
    {
     "name": "stdout",
     "output_type": "stream",
     "text": [
      "78.5\n",
      "28.26\n"
     ]
    }
   ],
   "source": [
    "print(c1.aria())\n",
    "print(c2.aria())"
   ]
  },
  {
   "cell_type": "code",
   "execution_count": 225,
   "id": "0e9cd804-d645-42d5-8d2e-2283f0ff6a87",
   "metadata": {},
   "outputs": [
    {
     "name": "stdout",
     "output_type": "stream",
     "text": [
      "31.400000000000002\n",
      "18.84\n"
     ]
    }
   ],
   "source": [
    "print(c1.round())\n",
    "print(c2.round())"
   ]
  },
  {
   "cell_type": "code",
   "execution_count": 226,
   "id": "caddd6f7-cac3-4374-85c4-934d6d4887f0",
   "metadata": {},
   "outputs": [
    {
     "name": "stdout",
     "output_type": "stream",
     "text": [
      "반지름은 5, 중심점:100, 100\n"
     ]
    }
   ],
   "source": [
    "c1.move(100, 100)\n",
    "c1.info()"
   ]
  },
  {
   "cell_type": "code",
   "execution_count": 262,
   "id": "4cef10b9-756a-485c-b5b1-745574b419ea",
   "metadata": {},
   "outputs": [],
   "source": [
    "class Point():\n",
    "    def __init__(self, x, y):\n",
    "        self.x = x\n",
    "        self.y = y\n",
    "\n",
    "    def info():\n",
    "        print(f'{self.x}, {self.y}')"
   ]
  },
  {
   "cell_type": "code",
   "execution_count": 263,
   "id": "c30f4615-36ca-4004-8736-512c16c6dbfd",
   "metadata": {},
   "outputs": [],
   "source": [
    "p1 = Point(1, 1) # 인스턴스화 할 때에만 대문자 접근\n",
    "p2 = Point(2, 3)"
   ]
  },
  {
   "cell_type": "code",
   "execution_count": 267,
   "id": "38f0385e-15c0-4559-ba04-b12f30576484",
   "metadata": {},
   "outputs": [],
   "source": [
    "class Circle():\n",
    "    def __init__(self, r, point):\n",
    "        self.r = r\n",
    "        self.point = point\n",
    "        # point가 인스턴스화가 아니라 변수로 접근하기 때문에 소문자\n",
    "\n",
    "    def info():\n",
    "        print(f'반지름: {self.r}, 중심점: {self.point.x}, {self.point.y}')"
   ]
  },
  {
   "cell_type": "code",
   "execution_count": 271,
   "id": "a368eecc-b4f5-404c-b2e8-d3d11a2fd611",
   "metadata": {},
   "outputs": [],
   "source": [
    "c1 = Circle(10, p1)\n",
    "c2 = Circle(5, p2)"
   ]
  },
  {
   "cell_type": "code",
   "execution_count": 273,
   "id": "0c3d8d20-ca48-4531-9c5e-700e9f833f73",
   "metadata": {},
   "outputs": [
    {
     "ename": "TypeError",
     "evalue": "Circle.info() takes 0 positional arguments but 1 was given",
     "output_type": "error",
     "traceback": [
      "\u001b[1;31m---------------------------------------------------------------------------\u001b[0m",
      "\u001b[1;31mTypeError\u001b[0m                                 Traceback (most recent call last)",
      "Cell \u001b[1;32mIn[273], line 1\u001b[0m\n\u001b[1;32m----> 1\u001b[0m \u001b[43mc1\u001b[49m\u001b[38;5;241;43m.\u001b[39;49m\u001b[43minfo\u001b[49m\u001b[43m(\u001b[49m\u001b[43m)\u001b[49m\n",
      "\u001b[1;31mTypeError\u001b[0m: Circle.info() takes 0 positional arguments but 1 was given"
     ]
    }
   ],
   "source": [
    "c1.info()"
   ]
  },
  {
   "cell_type": "code",
   "execution_count": 270,
   "id": "bf3e07f2-a5a8-48e5-8249-569af749ecf0",
   "metadata": {},
   "outputs": [
    {
     "data": {
      "text/plain": [
       "'C'"
      ]
     },
     "execution_count": 270,
     "metadata": {},
     "output_type": "execute_result"
    }
   ],
   "source": [
    "['a', 'b', 'c'].pop().capitalize()"
   ]
  },
  {
   "cell_type": "code",
   "execution_count": null,
   "id": "e8b7e026-c130-4b1e-aad3-1dac250f0c1c",
   "metadata": {},
   "outputs": [],
   "source": []
  }
 ],
 "metadata": {
  "kernelspec": {
   "display_name": "Python 3 (ipykernel)",
   "language": "python",
   "name": "python3"
  },
  "language_info": {
   "codemirror_mode": {
    "name": "ipython",
    "version": 3
   },
   "file_extension": ".py",
   "mimetype": "text/x-python",
   "name": "python",
   "nbconvert_exporter": "python",
   "pygments_lexer": "ipython3",
   "version": "3.13.2"
  }
 },
 "nbformat": 4,
 "nbformat_minor": 5
}
