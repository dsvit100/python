{
 "cells": [
  {
   "cell_type": "markdown",
   "id": "6ea5ca45-f07f-4873-b402-9585fb6b1fe4",
   "metadata": {},
   "source": [
    "# 영화진흥위원회 데이터 수집"
   ]
  },
  {
   "cell_type": "markdown",
   "id": "de9c2940-4b3a-451a-aa8f-bf61ddad4be8",
   "metadata": {},
   "source": [
    "## setting"
   ]
  },
  {
   "cell_type": "code",
   "execution_count": 9,
   "id": "7f103712-82c7-48f0-8633-7b160156ef50",
   "metadata": {},
   "outputs": [],
   "source": [
    "import requests\n",
    "\n",
    "class URLMaker:\n",
    "    \"\"\"\n",
    "    영화진흥위원회 API URL 생성 클래스\n",
    "    \"\"\"\n",
    "    \n",
    "    url = 'http://www.kobis.or.kr/kobisopenapi/webservice/rest'\n",
    "\n",
    "    def __init__(self, key):\n",
    "        \"\"\"\n",
    "        API key 초기화\n",
    "        \"\"\"\n",
    "        self.key = key\n",
    "\n",
    "    def daily_boxoffice_url(self, targetDt, itemPerPage=10, multiMovieYn='', repNationCd='', wideAreaCd=''): # 기본값으로 넣어주면 옵션으로 필수적으로 넣지 않아도 동작\n",
    "        \"\"\"\n",
    "        일별 박스오피스 URL 생성\n",
    "        \"\"\"\n",
    "        return f'{self.url}/boxoffice/searchDailyBoxOfficeList.json?key={self.key}&targetDt={targetDt}&itemPerPage={itemPerPage}&multiMovieYn={multiMovieYn}&repNationCd={repNationCd}&wideAreaCd={wideAreaCd}'\n",
    "\n",
    "    def weekly_boxoffice_url(self, targetDt, weekGb='0', itemPerPage=10, multiMovieYn='', repNationCd='', wideAreaCd=''):\n",
    "        \"\"\"\n",
    "        주간/주말 박스오피스 URL 생성\n",
    "        weekGb: 0(주간), 1(주말), 2(주중)\n",
    "        \"\"\"\n",
    "        return f'{self.url}/boxoffice/searchWeeklyBoxOfficeList.json?key={self.key}&targetDt={targetDt}&weekGb={weekGb}&itemPerPage={itemPerPage}&multiMovieYn={multiMovieYn}&repNationCd={repNationCd}&wideAreaCd={wideAreaCd}'\n",
    "\n",
    "    def movie_list_url(self, curPage=1, itemPerPage=10, movieNm='', directorNm='', openStartDt='', openEndDt='', \n",
    "                      prdtStartYear='', prdtEndYear='', repNationCd='', movieTypeCd=''):\n",
    "        \"\"\"\n",
    "        영화목록 URL 생성\n",
    "        \"\"\"\n",
    "        return f'{self.url}/movie/searchMovieList.json?key={self.key}&curPage={curPage}&itemPerPage={itemPerPage}&movieNm={movieNm}&directorNm={directorNm}&openStartDt={openStartDt}&openEndDt={openEndDt}&prdtStartYear={prdtStartYear}&prdtEndYear={prdtEndYear}&repNationCd={repNationCd}&movieTypeCd={movieTypeCd}'\n",
    "\n",
    "    def movie_info_url(self, movieCd):\n",
    "        \"\"\"\n",
    "        영화 상세정보 URL 생성\n",
    "        \"\"\"\n",
    "        return f'{self.url}/movie/searchMovieInfo.json?key={self.key}&movieCd={movieCd}'\n",
    "\n",
    "    def people_list_url(self, curPage=1, itemPerPage=10, peopleNm='', filmoNames=''):\n",
    "        \"\"\"\n",
    "        영화인목록 URL 생성\n",
    "        \"\"\"\n",
    "        return f'{self.url}/people/searchPeopleList.json?key={self.key}&curPage={curPage}&itemPerPage={itemPerPage}&peopleNm={peopleNm}&filmoNames={filmoNames}'\n",
    "\n",
    "    def people_info_url(self, peopleCd):\n",
    "        \"\"\"\n",
    "        영화인 상세정보 URL 생성\n",
    "        \"\"\"\n",
    "        return f'{self.url}/people/searchPeopleInfo.json?key={self.key}&peopleCd={peopleCd}'\n",
    "\n",
    "\n",
    "    "
   ]
  },
  {
   "cell_type": "code",
   "execution_count": 10,
   "id": "e78744cd-54ef-43ab-b409-7edd3b44af58",
   "metadata": {},
   "outputs": [],
   "source": [
    "MY_API_KEY = '6d114e0572cd2106801b8160c3cfbfe5'\n",
    "url_maker = URLMaker(MY_API_KEY) #url_maker 인스턴스 생성"
   ]
  },
  {
   "cell_type": "code",
   "execution_count": 11,
   "id": "9c656d45-0037-4072-a0d4-1fe7baad8c81",
   "metadata": {},
   "outputs": [
    {
     "data": {
      "text/plain": [
       "'6d114e0572cd2106801b8160c3cfbfe5'"
      ]
     },
     "execution_count": 11,
     "metadata": {},
     "output_type": "execute_result"
    }
   ],
   "source": [
    "url_maker.key"
   ]
  },
  {
   "cell_type": "code",
   "execution_count": 36,
   "id": "a34cfbd5-0e4d-4790-839e-95cf6065f97d",
   "metadata": {},
   "outputs": [
    {
     "name": "stdout",
     "output_type": "stream",
     "text": [
      "http://www.kobis.or.kr/kobisopenapi/webservice/rest/movie/searchMovieInfo.json?key=6d114e0572cd2106801b8160c3cfbfe5&movieCd=19950084\n"
     ]
    }
   ],
   "source": [
    "# url_maker 인스턴스 안에서\n",
    "# daily_url, weekly_url, info_url 정의 = 모계 안의 정보로 데일리박스오피스 url생성\n",
    "daily_url = url_maker.daily_boxoffice_url('20240201')\n",
    "weekly_url = url_maker.weekly_boxoffice_url('20250201')\n",
    "info_url = url_maker.movie_info_url('19950084')\n",
    "print(info_url)"
   ]
  },
  {
   "cell_type": "code",
   "execution_count": 37,
   "id": "41a8f072-43e1-4395-8651-197eff40587f",
   "metadata": {},
   "outputs": [],
   "source": [
    "import requests\n",
    "info = requests.get(info_url)\n",
    "info_dict = info.json()\n",
    "\n",
    "movie_name = info_dict[f'movieInfoResult'][f'movieInfo'][f'movieNm']\n",
    "movie_years = info_dict[f'movieInfoResult'][f'movieInfo'][f'prdtYear']\n",
    "movie_dirc = info_dict[f'movieInfoResult'][f'movieInfo'][f'directors'][0][f'peopleNm']\n",
    "movie_act1 = info_dict[f'movieInfoResult'][f'movieInfo'][f'actors'][0][f'peopleNm']\n",
    "movie_act2 = info_dict[f'movieInfoResult'][f'movieInfo'][f'actors'][1][f'peopleNm']\n",
    "movie_gen = info_dict[f'movieInfoResult'][f'movieInfo'][f'genres'][0][f'genreNm']"
   ]
  },
  {
   "cell_type": "code",
   "execution_count": null,
   "id": "a5c48cca-f881-4ab7-b586-ac4b400e8960",
   "metadata": {},
   "outputs": [],
   "source": []
  },
  {
   "cell_type": "markdown",
   "id": "846aac9a-0b63-4973-b1a7-c8ec66f0cbbb",
   "metadata": {},
   "source": [
    "## 영화 상세정보 조회\n",
    "\n",
    "- **영화 상세정보 api**를 사용합니다.\n",
    "- 영화 코드(movieCd)를 입력받아 해당 영화의 상세 정보를 조회합니다.\n",
    "- 다음 정보를 순서대로 출력합니다:\n",
    "    - 영화 제목 (제작연도)\n",
    "    - 감독 (첫 번째 감독)\n",
    "    - 주연 배우 (첫 번째, 두 번째 배우)\n",
    "    - 장르 (첫 번째 장르)"
   ]
  },
  {
   "cell_type": "code",
   "execution_count": 14,
   "id": "d37950ad-45a9-4c24-a4fd-1e5ef7e7563b",
   "metadata": {},
   "outputs": [
    {
     "name": "stdout",
     "output_type": "stream",
     "text": [
      "쇼생크 탈출 (1994)\n",
      "감독 : 프랭크 다라본트\n",
      "주연 : 팀 로빈스, 모건 프리먼\n",
      "장르 : 드라마\n",
      "None\n"
     ]
    }
   ],
   "source": [
    "def get_movie_detail(movie_cd):\n",
    "    print(f'{movie_name} ({movie_years})')\n",
    "    print(f'감독 : {movie_dirc}')\n",
    "    print(f'주연 : {movie_act1}, {movie_act2}')\n",
    "    print(f'장르 : {movie_gen}')\n",
    "\n",
    "print(get_movie_detail(19950084))"
   ]
  },
  {
   "cell_type": "code",
   "execution_count": 15,
   "id": "4b257993-df34-4a45-b964-6676b8404b4f",
   "metadata": {},
   "outputs": [
    {
     "name": "stdout",
     "output_type": "stream",
     "text": [
      "쇼생크 탈출 (1994)\n",
      "감독 : 프랭크 다라본트\n",
      "주연 : 팀 로빈스, 모건 프리먼\n",
      "장르 : 드라마\n"
     ]
    }
   ],
   "source": [
    "get_movie_detail('19950084')"
   ]
  },
  {
   "cell_type": "markdown",
   "id": "ab037f8d-8f27-4668-b3f6-c97bd26302a2",
   "metadata": {},
   "source": [
    "**출력 예시**\n",
    "```\n",
    "쇼생크 탈출 (1994)\n",
    "감독: 프랭크 다라본트\n",
    "주연: 팀 로빈스, 모건 프리먼\n",
    "장르: 드라마\n",
    "```"
   ]
  },
  {
   "cell_type": "markdown",
   "id": "2f3b8d72-c4f8-4f2f-b72b-2fc221bc03dc",
   "metadata": {},
   "source": [
    "## 일별 박스오피스 조회\n",
    "\n",
    "- **일별 박스오피스 api**를 사용합니다.\n",
    "- 입력받은 날짜(YYYYMMDD 형식)의 박스오피스 정보를 조회합니다.\n",
    "- 각 영화의 순위, 영화제목, 해당 일의 관객수를 출력합니다."
   ]
  },
  {
   "cell_type": "code",
   "execution_count": 16,
   "id": "4ae7be42-9260-4d11-848d-8e5adb4177ef",
   "metadata": {},
   "outputs": [
    {
     "name": "stdout",
     "output_type": "stream",
     "text": [
      "http://www.kobis.or.kr/kobisopenapi/webservice/rest/boxoffice/searchDailyBoxOfficeList.json?key=6d114e0572cd2106801b8160c3cfbfe5&targetDt=20250201&itemPerPage=10&multiMovieYn=&repNationCd=&wideAreaCd=\n"
     ]
    }
   ],
   "source": [
    "daily_url = url_maker.daily_boxoffice_url('20250201')\n",
    "print(daily_url)"
   ]
  },
  {
   "cell_type": "code",
   "execution_count": 17,
   "id": "7f2668ba-fd1a-479c-ba69-9ec1330626d6",
   "metadata": {},
   "outputs": [],
   "source": [
    "import requests\n",
    "daily = requests.get(daily_url)\n",
    "daily_dict = daily.json()"
   ]
  },
  {
   "cell_type": "code",
   "execution_count": 18,
   "id": "84d88dce-932b-473b-9d85-a1622dca8beb",
   "metadata": {},
   "outputs": [
    {
     "name": "stdout",
     "output_type": "stream",
     "text": [
      "20250201 박스오피스 TOP 10\n",
      "1위 : 히트맨2\n",
      "2위 : 검은 수녀들\n",
      "3위 : 말할 수 없는 비밀\n",
      "4위 : 하얼빈\n",
      "5위 : 서브스턴스\n",
      "6위 : 극장판 포켓몬스터 AG: 뮤와 파동의 용사 루카리오\n",
      "7위 : 뽀로로 극장판 바닷속 대모험\n",
      "8위 : 바다 탐험대 옥토넛 어보브 앤 비욘드 : 극지방 대작전\n",
      "9위 : 극장판 짱구는 못말려: 우리들의 공룡일기\n",
      "10위 : 아이유 콘서트 : 더 위닝\n",
      "None\n"
     ]
    }
   ],
   "source": [
    "daily2 = daily_dict[f'boxOfficeResult'][f'dailyBoxOfficeList']\n",
    "# daily2 = daily_dict의 리스트1 안의 리스트2에 접근\n",
    "\n",
    "def get_daily_boxoffice(target_date):\n",
    "    print(f'{target_date} 박스오피스 TOP 10')\n",
    "    for i in range(10): # 0부터 9까지 (총 10개)의 순위만큼 뽑기\n",
    "        print(f'{daily2[i][f'rnum']}위 : {daily2[i][f'movieNm']}')\n",
    "        # 리스트 2의 i번째 딕셔너리의 [rnum]의 value를 불러오기:\n",
    "        # 리스트 2의 i번째 딕셔너리의 [movieNm]의 value를 불러오기\n",
    "        \n",
    "print(get_daily_boxoffice(\"20250201\"))\n"
   ]
  },
  {
   "cell_type": "code",
   "execution_count": 19,
   "id": "33bd45c9-222e-4be6-a70c-d2d33f5845a5",
   "metadata": {},
   "outputs": [
    {
     "name": "stdout",
     "output_type": "stream",
     "text": [
      "20250201 박스오피스 TOP 10\n",
      "1위 : 히트맨2\n",
      "2위 : 검은 수녀들\n",
      "3위 : 말할 수 없는 비밀\n",
      "4위 : 하얼빈\n",
      "5위 : 서브스턴스\n",
      "6위 : 극장판 포켓몬스터 AG: 뮤와 파동의 용사 루카리오\n",
      "7위 : 뽀로로 극장판 바닷속 대모험\n",
      "8위 : 바다 탐험대 옥토넛 어보브 앤 비욘드 : 극지방 대작전\n",
      "9위 : 극장판 짱구는 못말려: 우리들의 공룡일기\n",
      "10위 : 아이유 콘서트 : 더 위닝\n"
     ]
    }
   ],
   "source": [
    "get_daily_boxoffice(\"20250201\")  # YYYYMMDD 형식으로 날짜 입력"
   ]
  },
  {
   "cell_type": "markdown",
   "id": "1967823a-dcdc-4ea6-8eaf-56a31b97f7b7",
   "metadata": {},
   "source": [
    "**출력예시**\n",
    "```\n",
    "20250201 박스오피스 TOP 10\n",
    "1위: 히트맨2 (177129명)\n",
    "2위: 검은 수녀들 (96043명)\n",
    "3위: 말할 수 없는 비밀 (63000명)\n",
    "4위: 하얼빈 (23298명)\n",
    "5위: 서브스턴스 (15031명)\n",
    "6위: 극장판 포켓몬스터 AG: 뮤와 파동의 용사 루카리오 (12342명)\n",
    "7위: 뽀로로 극장판 바닷속 대모험 (5903명)\n",
    "8위: 바다 탐험대 옥토넛 어보브 앤 비욘드 : 극지방 대작전 (4570명)\n",
    "9위: 극장판 짱구는 못말려: 우리들의 공룡일기 (3801명)\n",
    "10위: 아이유 콘서트 : 더 위닝 (3156명)\n",
    "```"
   ]
  },
  {
   "cell_type": "markdown",
   "id": "d3d889a8-6bcb-44a2-884a-4c7c9953f069",
   "metadata": {},
   "source": [
    "## 한국 영화 일별 박스오피스 조회\n",
    "\n",
    "- **일별 박스오피스 api**를 사용합니다.\n",
    "- 입력받은 날짜(YYYYMMDD 형식)의 한국 영화 박스오피스 정보를 조회합니다.\n",
    "- 한국 영화만 조회하기 위해 repNationCd='K' 파라미터를 사용합니다.\n",
    "- 영화가 개봉한 순서대로 정렬하여 제목, 날짜, 순위를 출력합니다.\n"
   ]
  },
  {
   "cell_type": "code",
   "execution_count": 20,
   "id": "00ec285c-cb36-4e2e-8a1e-8bc46edaf3f5",
   "metadata": {},
   "outputs": [
    {
     "name": "stdout",
     "output_type": "stream",
     "text": [
      "http://www.kobis.or.kr/kobisopenapi/webservice/rest/boxoffice/searchDailyBoxOfficeList.json?key=6d114e0572cd2106801b8160c3cfbfe5&targetDt=20250201&itemPerPage=10&multiMovieYn=&repNationCd=K&wideAreaCd=\n"
     ]
    }
   ],
   "source": [
    "daily_url = url_maker.daily_boxoffice_url('20250201', repNationCd='K')\n",
    "print(daily_url)"
   ]
  },
  {
   "cell_type": "code",
   "execution_count": 21,
   "id": "a743456a-9ea2-48e0-9003-6061c00b20f1",
   "metadata": {
    "scrolled": true
   },
   "outputs": [
    {
     "name": "stdout",
     "output_type": "stream",
     "text": [
      "{'boxOfficeResult': {'boxofficeType': '일별 박스오피스', 'showRange': '20250201~20250201', 'dailyBoxOfficeList': [{'rnum': '1', 'rank': '1', 'rankInten': '0', 'rankOldAndNew': 'OLD', 'movieCd': '20233006', 'movieNm': '히트맨2', 'openDt': '2025-01-22', 'salesAmt': '1663433100', 'salesShare': '46.0', 'salesInten': '525167660', 'salesChange': '46.1', 'salesAcc': '17240257840', 'audiCnt': '177129', 'audiInten': '40686', 'audiChange': '29.8', 'audiAcc': '1831557', 'scrnCnt': '1495', 'showCnt': '6165'}, {'rnum': '2', 'rank': '2', 'rankInten': '0', 'rankOldAndNew': 'OLD', 'movieCd': '20247450', 'movieNm': '검은 수녀들', 'openDt': '2025-01-24', 'salesAmt': '934872220', 'salesShare': '25.8', 'salesInten': '247202440', 'salesChange': '35.9', 'salesAcc': '13206216740', 'audiCnt': '96043', 'audiInten': '14734', 'audiChange': '18.1', 'audiAcc': '1363840', 'scrnCnt': '1192', 'showCnt': '4387'}, {'rnum': '3', 'rank': '3', 'rankInten': '0', 'rankOldAndNew': 'OLD', 'movieCd': '20223819', 'movieNm': '말할 수 없는 비밀', 'openDt': '2025-01-27', 'salesAmt': '612619860', 'salesShare': '16.9', 'salesInten': '255290400', 'salesChange': '71.4', 'salesAcc': '2831121780', 'audiCnt': '63000', 'audiInten': '19506', 'audiChange': '44.8', 'audiAcc': '298293', 'scrnCnt': '846', 'showCnt': '2521'}, {'rnum': '4', 'rank': '4', 'rankInten': '0', 'rankOldAndNew': 'OLD', 'movieCd': '20228796', 'movieNm': '하얼빈', 'openDt': '2024-12-24', 'salesAmt': '221288880', 'salesShare': '6.1', 'salesInten': '34724080', 'salesChange': '18.6', 'salesAcc': '46361411980', 'audiCnt': '23298', 'audiInten': '1383', 'audiChange': '6.3', 'audiAcc': '4847097', 'scrnCnt': '711', 'showCnt': '1390'}, {'rnum': '5', 'rank': '5', 'rankInten': '1', 'rankOldAndNew': 'OLD', 'movieCd': '20246361', 'movieNm': '뽀로로 극장판 바닷속 대모험', 'openDt': '2025-01-01', 'salesAmt': '53373900', 'salesShare': '1.5', 'salesInten': '32139000', 'salesChange': '151.3', 'salesAcc': '3295806970', 'audiCnt': '5903', 'audiInten': '3430', 'audiChange': '138.7', 'audiAcc': '382497', 'scrnCnt': '299', 'showCnt': '343'}, {'rnum': '6', 'rank': '6', 'rankInten': '-1', 'rankOldAndNew': 'OLD', 'movieCd': '20241110', 'movieNm': '아이유 콘서트 : 더 위닝', 'openDt': '2025-01-24', 'salesAmt': '85348500', 'salesShare': '2.4', 'salesInten': '14361000', 'salesChange': '20.2', 'salesAcc': '1360798000', 'audiCnt': '3156', 'audiInten': '525', 'audiChange': '20', 'audiAcc': '49561', 'scrnCnt': '113', 'showCnt': '316'}, {'rnum': '7', 'rank': '7', 'rankInten': '0', 'rankOldAndNew': 'OLD', 'movieCd': '20224303', 'movieNm': '귀신경찰', 'openDt': '2025-01-24', 'salesAmt': '15917100', 'salesShare': '0.4', 'salesInten': '3800980', 'salesChange': '31.4', 'salesAcc': '406114500', 'audiCnt': '1860', 'audiInten': '371', 'audiChange': '24.9', 'audiAcc': '45716', 'scrnCnt': '160', 'showCnt': '205'}, {'rnum': '8', 'rank': '8', 'rankInten': '0', 'rankOldAndNew': 'OLD', 'movieCd': '20200142', 'movieNm': '소방관', 'openDt': '2024-12-04', 'salesAmt': '13955700', 'salesShare': '0.4', 'salesInten': '2822700', 'salesChange': '25.4', 'salesAcc': '36260079370', 'audiCnt': '1418', 'audiInten': '101', 'audiChange': '7.7', 'audiAcc': '3852421', 'scrnCnt': '134', 'showCnt': '157'}, {'rnum': '9', 'rank': '9', 'rankInten': '0', 'rankOldAndNew': 'OLD', 'movieCd': '20110279', 'movieNm': '마당을 나온 암탉', 'openDt': '2011-07-28', 'salesAmt': '8933860', 'salesShare': '0.2', 'salesInten': '3591660', 'salesChange': '67.2', 'salesAcc': '14792455497', 'audiCnt': '1038', 'audiInten': '394', 'audiChange': '61.2', 'audiAcc': '2216721', 'scrnCnt': '109', 'showCnt': '131'}, {'rnum': '10', 'rank': '10', 'rankInten': '4', 'rankOldAndNew': 'OLD', 'movieCd': '20252147', 'movieNm': '뜻밖의 순간 : 언익스펙티드 저니', 'openDt': ' ', 'salesAmt': '723000', 'salesShare': '0.0', 'salesInten': '438000', 'salesChange': '153.7', 'salesAcc': '9732000', 'audiCnt': '241', 'audiInten': '146', 'audiChange': '153.7', 'audiAcc': '3244', 'scrnCnt': '1', 'showCnt': '2'}]}}\n"
     ]
    }
   ],
   "source": [
    "import requests\n",
    "daily = requests.get(daily_url)\n",
    "daily_dict = daily.json()\n",
    "print(daily_dict)"
   ]
  },
  {
   "cell_type": "code",
   "execution_count": 22,
   "id": "f807309c-2281-4cd5-8f93-0f789215df67",
   "metadata": {
    "scrolled": true
   },
   "outputs": [],
   "source": [
    "# # 선생님 수정코드\n",
    "# movie_list = daily_dict['boxOfficeResult']['dailyBoxOfficeList']\n",
    "# for movie in movie_list:\n",
    "#     print(movie['movieNm'])    \n",
    "#     print(movie['openDt'])"
   ]
  },
  {
   "cell_type": "code",
   "execution_count": 23,
   "id": "0c931d86-6378-4fde-84a7-e8d2002c437c",
   "metadata": {},
   "outputs": [],
   "source": [
    "\n",
    "movie_list = daily_dict[f'boxOfficeResult'][f'dailyBoxOfficeList']\n",
    "date = {}\n",
    "def get_movie_details(target_date):\n",
    "    i = 0\n",
    "    while i < 10:\n",
    "        movie = daily2[i][\"movieNm\"]\n",
    "        movie_value = []\n",
    "        open_date = daily2[i][\"openDt\"]\n",
    "        movie_rank = daily2[i][\"rank\"]\n",
    "        movie_value.append(open_date)\n",
    "        movie_value.append(movie_rank)\n",
    "        # print(movie)\n",
    "        date[movie] = movie_value # date라는 빈 딕셔너리에 movie를 키로, open_date를 값으로 줌\n",
    "        i = i + 1\n",
    "    sorted_date = sorted(date.items(), key=lambda x: x[1])\n",
    "    # for k,v in sorted_date.items():\n",
    "    \n",
    "    for sort in sorted_date:\n",
    "        print(f'{sort[0]}: ({sort[1][0]}) - {sort[1][1]}위')"
   ]
  },
  {
   "cell_type": "code",
   "execution_count": 24,
   "id": "20f7cb2e-67ea-48d5-ad26-8ba5545a3499",
   "metadata": {},
   "outputs": [
    {
     "name": "stdout",
     "output_type": "stream",
     "text": [
      "서브스턴스: (2024-12-11) - 5위\n",
      "극장판 짱구는 못말려: 우리들의 공룡일기: (2024-12-18) - 9위\n",
      "하얼빈: (2024-12-24) - 4위\n",
      "뽀로로 극장판 바닷속 대모험: (2025-01-01) - 7위\n",
      "히트맨2: (2025-01-22) - 1위\n",
      "극장판 포켓몬스터 AG: 뮤와 파동의 용사 루카리오: (2025-01-22) - 6위\n",
      "아이유 콘서트 : 더 위닝: (2025-01-24) - 10위\n",
      "검은 수녀들: (2025-01-24) - 2위\n",
      "말할 수 없는 비밀: (2025-01-27) - 3위\n",
      "바다 탐험대 옥토넛 어보브 앤 비욘드 : 극지방 대작전: (2025-01-27) - 8위\n"
     ]
    }
   ],
   "source": [
    "get_movie_details('20250201')"
   ]
  },
  {
   "cell_type": "markdown",
   "id": "d60c82b0-150b-4877-88df-58a58d1d23e0",
   "metadata": {},
   "source": [
    "**출력예시**\n",
    "```\n",
    "20250201 한국 영화 박스오피스 (개봉일 순)\n",
    "뜻밖의 순간 : 언익스펙티드 저니 ( ) - 10위\n",
    "마당을 나온 암탉 (2011-07-28) - 9위\n",
    "소방관 (2024-12-04) - 8위\n",
    "하얼빈 (2024-12-24) - 4위\n",
    "뽀로로 극장판 바닷속 대모험 (2025-01-01) - 5위\n",
    "히트맨2 (2025-01-22) - 1위\n",
    "검은 수녀들 (2025-01-24) - 2위\n",
    "아이유 콘서트 : 더 위닝 (2025-01-24) - 6위\n",
    "귀신경찰 (2025-01-24) - 7위\n",
    "말할 수 없는 비밀 (2025-01-27) - 3위\n",
    "```"
   ]
  },
  {
   "cell_type": "markdown",
   "id": "5928c65e-9cc2-4766-a26e-a6184c6397d3",
   "metadata": {},
   "source": [
    "## 1월 전체 주간 박스오피스 데이터 수집\n",
    "\n",
    "- **주간/주말 박스오피스 api**를 사용합니다.\n",
    "- 2025년 1월의 모든 주간(1/5, 1/12, 1/19, 1/26) 데이터를 수집합니다.\n",
    "- 각 영화의 정보는 다음을 포함해야 합니다:\n",
    "    - 영화제목, 개봉일, 누적관객수, 누적매출액\n",
    "- 동일한 영화가 여러 주에 걸쳐 나타날 경우, 가장 최근의 정보만 저장합니다.\n"
   ]
  },
  {
   "cell_type": "code",
   "execution_count": 25,
   "id": "ab71bf7d-343e-4ecf-9b05-58d0e0476a3d",
   "metadata": {},
   "outputs": [
    {
     "name": "stdout",
     "output_type": "stream",
     "text": [
      "http://www.kobis.or.kr/kobisopenapi/webservice/rest/boxoffice/searchWeeklyBoxOfficeList.json?key=6d114e0572cd2106801b8160c3cfbfe5&targetDt=20250105&weekGb=0&itemPerPage=10&multiMovieYn=&repNationCd=&wideAreaCd=\n",
      "http://www.kobis.or.kr/kobisopenapi/webservice/rest/boxoffice/searchWeeklyBoxOfficeList.json?key=6d114e0572cd2106801b8160c3cfbfe5&targetDt=20250112&weekGb=0&itemPerPage=10&multiMovieYn=&repNationCd=&wideAreaCd=\n",
      "http://www.kobis.or.kr/kobisopenapi/webservice/rest/boxoffice/searchWeeklyBoxOfficeList.json?key=6d114e0572cd2106801b8160c3cfbfe5&targetDt=20250119&weekGb=0&itemPerPage=10&multiMovieYn=&repNationCd=&wideAreaCd=\n",
      "http://www.kobis.or.kr/kobisopenapi/webservice/rest/boxoffice/searchWeeklyBoxOfficeList.json?key=6d114e0572cd2106801b8160c3cfbfe5&targetDt=20250126&weekGb=0&itemPerPage=10&multiMovieYn=&repNationCd=&wideAreaCd=\n"
     ]
    }
   ],
   "source": [
    "weekly_0105_url = url_maker.weekly_boxoffice_url('20250105')\n",
    "weekly_0112_url = url_maker.weekly_boxoffice_url('20250112')\n",
    "weekly_0119_url = url_maker.weekly_boxoffice_url('20250119')\n",
    "weekly_0126_url = url_maker.weekly_boxoffice_url('20250126')\n",
    "\n",
    "print(weekly_0105_url)\n",
    "print(weekly_0112_url)\n",
    "print(weekly_0119_url)\n",
    "print(weekly_0126_url)\n"
   ]
  },
  {
   "cell_type": "code",
   "execution_count": 26,
   "id": "a314f71b-77ad-4f91-bdf2-0fe448c0a0e5",
   "metadata": {},
   "outputs": [],
   "source": [
    "import requests\n",
    "weekly_0126 = requests.get(weekly_0126_url)\n",
    "weekly_0126_dict = weekly_0126.json()\n",
    "import requests\n",
    "weekly_0119 = requests.get(weekly_0119_url)\n",
    "weekly_0119_dict = weekly_0119.json()\n",
    "import requests\n",
    "weekly_0112 = requests.get(weekly_0112_url)\n",
    "weekly_0112_dict = weekly_0112.json()\n",
    "import requests\n",
    "weekly_0105 = requests.get(weekly_0105_url)\n",
    "weekly_0105_dict = weekly_0105.json()"
   ]
  },
  {
   "cell_type": "code",
   "execution_count": 33,
   "id": "9ad114ec-889f-4fe9-8594-595cbd8b650a",
   "metadata": {},
   "outputs": [
    {
     "name": "stdout",
     "output_type": "stream",
     "text": [
      "{'동화지만 청불입니다': {'영화제목': '동화지만 청불입니다', '개봉일': '2025-01-08', '누적관객': '157616', '누적매출': '1465916720'}, '수퍼 소닉3': {'영화제목': '수퍼 소닉3', '개봉일': '2025-01-01', '누적관객': '322100', '누적매출': '2950620910'}, '위키드': {'영화제목': '위키드', '개봉일': '2024-11-20', '누적관객': '2195165', '누적매출': '21677201940'}, '모아나 2': {'영화제목': '모아나 2', '개봉일': '2024-11-27', '누적관객': '3522517', '누적매출': '32533317750'}, '무파사: 라이온 킹': {'영화제목': '무파사: 라이온 킹', '개봉일': '2024-12-18', '누적관객': '833832', '누적매출': '8188072950'}, '검은 수녀들': {'영화제목': '검은 수녀들', '개봉일': '2025-01-24', '누적관객': '606145', '누적매출': '5870106460'}, '히트맨2': {'영화제목': '히트맨2', '개봉일': '2025-01-22', '누적관객': '604875', '누적매출': '5686993120'}, '극장판 포켓몬스터 AG: 뮤와 파동의 용사 루카리오': {'영화제목': '극장판 포켓몬스터 AG: 뮤와 파동의 용사 루카리오', '개봉일': '2025-01-22', '누적관객': '64585', '누적매출': '570033160'}, '아이유 콘서트 : 더 위닝': {'영화제목': '아이유 콘서트 : 더 위닝', '개봉일': '2025-01-24', '누적관객': '28061', '누적매출': '778067000'}, '귀신경찰': {'영화제목': '귀신경찰', '개봉일': '2025-01-24', '누적관객': '21949', '누적매출': '191035980'}}\n",
      "None\n"
     ]
    }
   ],
   "source": [
    "weekly_0126_list = weekly_0126_dict[f'boxOfficeResult'][f'weeklyBoxOfficeList']\n",
    "weekly_0119_list = weekly_0119_dict[f'boxOfficeResult'][f'weeklyBoxOfficeList']\n",
    "weekly_0112_list = weekly_0126_dict[f'boxOfficeResult'][f'weeklyBoxOfficeList']\n",
    "weekly_0105_list = weekly_0119_dict[f'boxOfficeResult'][f'weeklyBoxOfficeList']\n",
    "box_data_append = {}\n",
    "\n",
    "for i in range(0,len(weekly_0126_list)):\n",
    "    box_data_i = {\n",
    "    '영화제목': '',\n",
    "    '개봉일': '',\n",
    "    '누적관객': '',\n",
    "    '누적매출': '',\n",
    "}\n",
    "    box_data_i['영화제목'] = weekly_0126_list[i][\"movieNm\"]\n",
    "    box_data_i['개봉일'] = weekly_0126_list[i][\"openDt\"]\n",
    "    box_data_i['누적관객'] = weekly_0126_list[i][\"audiAcc\"]\n",
    "    box_data_i['누적매출'] = weekly_0126_list[i][\"salesAcc\"]\n",
    "    box_data_append[weekly_0126_list[i][\"movieNm\"]] = box_data_i\n",
    "\n",
    "## 0126 영화이름\n",
    "movie_name_26 = []\n",
    "for movie in weekly_0126_list:\n",
    "    movie_name_26.append(movie['movieNm'])\n",
    "\n",
    "\n",
    "\n",
    "for i in range(0,len(weekly_0119_list)):\n",
    "    box_data_i = {\n",
    "    '영화제목': '',\n",
    "    '개봉일': '',\n",
    "    '누적관객': '',\n",
    "    '누적매출': '',\n",
    "}\n",
    "    if weekly_0119_list[i][\"movieNm\"] in movie_name_26:\n",
    "        continue\n",
    "    else:\n",
    "        box_data_i['영화제목'] = weekly_0119_list[i][\"movieNm\"]\n",
    "        box_data_i['개봉일'] = weekly_0119_list[i][\"openDt\"]\n",
    "        box_data_i['누적관객'] = weekly_0119_list[i][\"audiAcc\"]\n",
    "        box_data_i['누적매출'] = weekly_0119_list[i][\"salesAcc\"]\n",
    "        box_data_append[weekly_0119_list[i][\"movieNm\"]] = box_data_i\n",
    "\n",
    "\n",
    "# 0119 영화이름\n",
    "movie_name_19 = []\n",
    "for movie in weekly_0119_list:\n",
    "    movie_name_19.append(movie['movieNm'])\n",
    "    \n",
    "for i in range(0,len(weekly_0112_list)):\n",
    "    box_data_i = {\n",
    "    '영화제목': '',\n",
    "    '개봉일': '',\n",
    "    '누적관객': '',\n",
    "    '누적매출': '',\n",
    "}\n",
    "    if weekly_0112_list[i][\"movieNm\"] in movie_name_19:\n",
    "        continue\n",
    "    else:\n",
    "        box_data_i['영화제목'] = weekly_0112_list[i][\"movieNm\"]\n",
    "        box_data_i['개봉일'] = weekly_0112_list[i][\"openDt\"]\n",
    "        box_data_i['누적관객'] = weekly_0112_list[i][\"audiAcc\"]\n",
    "        box_data_i['누적매출'] = weekly_0112_list[i][\"salesAcc\"]\n",
    "        box_data_append[weekly_0112_list[i][\"movieNm\"]] = box_data_i\n",
    "\n",
    "\n",
    "#0112 영화이름\n",
    "movie_name_12 = []\n",
    "for movie in weekly_0112_list:\n",
    "    movie_name_12.append(movie['movieNm'])\n",
    "    \n",
    "\n",
    "for i in range(0,len(weekly_0105_list)):\n",
    "    box_data_i = {\n",
    "    '영화제목': '',\n",
    "    '개봉일': '',\n",
    "    '누적관객': '',\n",
    "    '누적매출': '',\n",
    "}\n",
    "    if weekly_0105_list[i][\"movieNm\"] in movie_name_12:\n",
    "        continue\n",
    "    else:\n",
    "        box_data_i['영화제목'] = weekly_0105_list[i][\"movieNm\"]\n",
    "        box_data_i['개봉일'] = weekly_0105_list[i][\"openDt\"]\n",
    "        box_data_i['누적관객'] = weekly_0105_list[i][\"audiAcc\"]\n",
    "        box_data_i['누적매출'] = weekly_0105_list[i][\"salesAcc\"]\n",
    "        box_data_append[weekly_0105_list[i][\"movieNm\"]] = box_data_i\n",
    "print(box_data_append)\n",
    "\n"
   ]
  },
  {
   "cell_type": "code",
   "execution_count": null,
   "id": "612a414a-4841-47f4-893d-582111735aa5",
   "metadata": {},
   "outputs": [],
   "source": []
  },
  {
   "cell_type": "code",
   "execution_count": null,
   "id": "6a2ef7c1-c05f-4a61-bb7e-716e13eead5a",
   "metadata": {},
   "outputs": [],
   "source": []
  },
  {
   "cell_type": "code",
   "execution_count": null,
   "id": "3b883852-8732-4e08-8154-f1c344d6f146",
   "metadata": {},
   "outputs": [],
   "source": []
  },
  {
   "cell_type": "code",
   "execution_count": null,
   "id": "4443f3de-021f-466c-9c5b-a6b5c4e7012d",
   "metadata": {},
   "outputs": [],
   "source": []
  },
  {
   "cell_type": "code",
   "execution_count": 319,
   "id": "2502eac6-0e64-4e8c-ac02-3c832287eee0",
   "metadata": {},
   "outputs": [],
   "source": [
    "def get_weekly_boxoffice():\n",
    "    pass"
   ]
  },
  {
   "cell_type": "code",
   "execution_count": null,
   "id": "584d68bf-22bc-4227-b566-542fd1e0f678",
   "metadata": {},
   "outputs": [],
   "source": [
    "get_weekly_boxoffice()"
   ]
  },
  {
   "cell_type": "markdown",
   "id": "62dc8573-f951-48be-81f2-c57cc7fa354c",
   "metadata": {},
   "source": [
    "**출력예시**\n",
    "```\n",
    "{'하얼빈': {'영화제목': '하얼빈', '개봉일': '2024-12-24', '누적관객': '4642215', '누적매출': '44407362460'}, '소방관': {'영화제목': '소방관', '개봉일': '2024-12-04', '누적관객': '3840551', '누적매출': '36145572270'}, '보고타: 마지막 기회의 땅': {'영화제목': '보고타: 마지막 기회의 땅', '개봉일': '2024-12-31', '누적관객': '396287', '누적매출': '3669720540'}, '수퍼 소닉3': {'영화제목': '수퍼 소닉3', '개봉일': '2025-01-01', '누적관객': '322100', '누적매출': '2950620910'}, '뽀로로 극장판 바닷속 대모험': {'영화제목': '뽀로로 극장판 바닷속 대모험', '개봉일': '2025-01-01', '누적관객': '349597', '누적매출': '2996015770'}, '무파사: 라이온 킹': {'영화제목': '무파사: 라이온 킹', '개봉일': '2024-12-18', '누적관객': '833832', '누적매출': '8188072950'}, '모아나 2': {'영화제목': '모아나 2', '개봉일': '2024-11-27', '누적관객': '3522517', '누적매출': '32533317750'}, '극장판 짱구는 못말려: 우리들의 공룡일기': {'영화제목': '극장판 짱구는 못말려: 우리들의 공룡일기', '개봉일': '2024-12-18', '누적관객': '762895', '누적매출': '7177275100'}, '위키드': {'영화제목': '위키드', '개봉일': '2024-11-20', '누적관객': '2195165', '누적매출': '21677201940'}, '시빌 워: 분열의 시대': {'영화제목': '시빌 워: 분열의 시대', '개봉일': '2024-12-31', '누적관객': '80373', '누적매출': '836845230'}, '동화지만 청불입니다': {'영화제목': '동화지만 청불입니다', '개봉일': '2025-01-08', '누적관객': '157616', '누적매출': '1465916720'}, '서브스턴스': {'영화제목': '서브스턴스', '개봉일': '2024-12-11', '누적관객': '302870', '누적매출': '2954609400'}, '검은 수녀들': {'영화제목': '검은 수녀들', '개봉일': '2025-01-24', '누적관객': '606145', '누적매출': '5870106460'}, '히트맨2': {'영화제목': '히트맨2', '개봉일': '2025-01-22', '누적관객': '604875', '누적매출': '5686993120'}, '극장판 포켓몬스터 AG: 뮤와 파동의 용사 루카리오': {'영화제목': '극장판 포켓몬스터 AG: 뮤와 파동의 용사 루카리오', '개봉일': '2025-01-22', '누적관객': '64585', '누적매출': '570033160'}, '아이유 콘서트 : 더 위닝': {'영화제목': '아이유 콘서트 : 더 위닝', '개봉일': '2025-01-24', '누적관객': '28061', '누적매출': '778067000'}, '귀신경찰': {'영화제목': '귀신경찰', '개봉일': '2025-01-24', '누적관객': '21949', '누적매출': '191035980'}}\n",
    "```"
   ]
  },
  {
   "cell_type": "markdown",
   "id": "66ab8357-9017-4b6f-942b-9530fad12396",
   "metadata": {},
   "source": [
    "## 일별 박스오피스 영화의 상세정보\n",
    "\n",
    "- **일별 박스오피스 api**와 **영화 상세정보 api**를 사용합니다.\n",
    "- 입력받은 날짜의 일별 박스오피스 TOP 10을 조회합니다.\n",
    "- 각 영화의 상세 정보를 추가로 조회하여 다음 정보를 출력합니다:\n",
    "    - 순위\n",
    "    - 영화제목\n",
    "    - 감독\n",
    "    - 주연배우 (최대 3명)"
   ]
  },
  {
   "cell_type": "code",
   "execution_count": null,
   "id": "eeb6ab3a-3547-42a5-9b33-6ff26a3baada",
   "metadata": {},
   "outputs": [],
   "source": [
    "def get_movie_details(target_date):\n",
    "    pass"
   ]
  },
  {
   "cell_type": "code",
   "execution_count": null,
   "id": "ff9c8d9e-9d6f-466b-aead-01a67bd665a7",
   "metadata": {},
   "outputs": [],
   "source": [
    "get_movie_details(\"20250201\")  # YYYYMMDD 형식으로 날짜 입력"
   ]
  },
  {
   "cell_type": "markdown",
   "id": "b28eb6ba-70b4-47c7-b760-e404770911b7",
   "metadata": {},
   "source": [
    "**출력예시**\n",
    "\n",
    "```\n",
    "1위\n",
    "히트맨2\n",
    "감독: 최원섭\n",
    "주연: 권상우, 정준호, 이이경\n",
    "----------------------------------------\n",
    "\n",
    "2위\n",
    "검은 수녀들\n",
    "감독: 권혁재\n",
    "주연: 송혜교, 전여빈, 이진욱\n",
    "----------------------------------------\n",
    "\n",
    "3위\n",
    "말할 수 없는 비밀\n",
    "감독: 서유민\n",
    "주연: 도경수, 원진아, 신예은\n",
    "----------------------------------------\n",
    "...\n",
    "```"
   ]
  },
  {
   "cell_type": "markdown",
   "id": "ea367bbf-26d0-4bd3-9600-97287eecf26c",
   "metadata": {},
   "source": [
    "## 배우검색\n",
    "\n",
    "- **영화인목록 api**, **영화인 상세정보 api**, **영화 상세정보 api**를 사용합니다.\n",
    "- 배우 이름을 입력받아 해당 배우의 정보를 검색합니다.\n",
    "- 여러 명의 동명 배우가 있는 경우, 필모그래피가 가장 많은 배우를 선택합니다.\n",
    "- 선택된 배우의 출연작 중 '배우'로 참여한 작품 5개의 정보를 출력합니다:\n",
    "    - 영화 제목\n",
    "    - 개봉일\n",
    "    - 상영시간\n",
    "    - 감독"
   ]
  },
  {
   "cell_type": "code",
   "execution_count": null,
   "id": "95921101-c245-409c-9370-c551a8fc752d",
   "metadata": {},
   "outputs": [],
   "source": [
    "def analyze_actor_movies(actor_name):\n",
    "    pass"
   ]
  },
  {
   "cell_type": "code",
   "execution_count": null,
   "id": "e9ee8f1e-1d6c-4dad-8a4a-acd876219c90",
   "metadata": {},
   "outputs": [],
   "source": [
    "analyze_actor_movies(\"박정민\")  # 원하는 배우 이름으로 변경 가능"
   ]
  },
  {
   "cell_type": "markdown",
   "id": "2cf6c442-7bb9-4b9d-a35a-12c94d8b530d",
   "metadata": {},
   "source": [
    "**출력예시**\n",
    "\n",
    "```\n",
    "배우 '박정민'의 최근 출연작 5개\n",
    "\n",
    "제목: 하얼빈\n",
    "개봉일: 20241224\n",
    "상영시간: 113분\n",
    "감독: 우민호\n",
    "\n",
    "제목: 얼굴\n",
    "개봉일: \n",
    "상영시간: 분\n",
    "감독: 연상호\n",
    "\n",
    "제목: 전, 란\n",
    "개봉일: \n",
    "상영시간: 126분\n",
    "감독: 김상만\n",
    "\n",
    "제목: 휴민트\n",
    "개봉일: \n",
    "상영시간: 분\n",
    "감독: 류승완\n",
    "\n",
    "제목: 밀수\n",
    "개봉일: 20230726\n",
    "상영시간: 129분\n",
    "감독: 류승완\n",
    "```"
   ]
  },
  {
   "cell_type": "code",
   "execution_count": null,
   "id": "b96e3899-d8a6-4860-9a6f-ecb13bec9883",
   "metadata": {},
   "outputs": [],
   "source": []
  }
 ],
 "metadata": {
  "kernelspec": {
   "display_name": "Python 3 (ipykernel)",
   "language": "python",
   "name": "python3"
  },
  "language_info": {
   "codemirror_mode": {
    "name": "ipython",
    "version": 3
   },
   "file_extension": ".py",
   "mimetype": "text/x-python",
   "name": "python",
   "nbconvert_exporter": "python",
   "pygments_lexer": "ipython3",
   "version": "3.13.2"
  }
 },
 "nbformat": 4,
 "nbformat_minor": 5
}
