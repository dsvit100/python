{
 "cells": [
  {
   "cell_type": "markdown",
   "id": "5d91db36-5af0-4667-9083-c3280b7b8731",
   "metadata": {},
   "source": [
    "# 제어문\n",
    "- 방향을 제안함"
   ]
  },
  {
   "cell_type": "markdown",
   "id": "85d81070-3bec-4d3b-8693-62949c54cb28",
   "metadata": {},
   "source": [
    "## 조건문 (if문)\n",
    "1. if문은 반드시 참/거짓을 판단 할 수 있는 `조건식`과 함께 사용한다.\n",
    "    - `if <조건식>:`\n",
    "1. `<조건식>`이 참인 경우 : `:` 이후의 문장을 실행\n",
    "2. `<조건식>`이 거짓인 경우 : `else:` 이후의 문장을 실행\n",
    "\n",
    "```\n",
    "- if <조건식>:\n",
    "    - if의 조건식이 참인 경우 실행하는 코드\n",
    "- else:\n",
    "    - if의 조건식이 거짓인 경우 실행하는 코드\n",
    "```"
   ]
  },
  {
   "cell_type": "code",
   "execution_count": null,
   "id": "58b1a886-414c-40f5-b829-06ee4095d5e9",
   "metadata": {},
   "outputs": [],
   "source": [
    " #input은 일단 실행하고 이후에 들어오는 값을 넣어주세요, 임이의 사용자가 직접 입력하길 원하는 경우\n",
    "my_string = input()\n",
    "print(my_string)\n",
    "\n",
    "if my_string == '12/25':\n",
    "    print('merry christmas')\n",
    "else:\n",
    "    print('no')"
   ]
  },
  {
   "cell_type": "code",
   "execution_count": null,
   "id": "1075e8ef-6966-4afb-aa04-9fdc0ef86f6d",
   "metadata": {},
   "outputs": [],
   "source": [
    "num = input()\n",
    "if num % 2 == 1:\n",
    "    print('odd')\n",
    "else:\n",
    "    print('even')\n",
    "\n",
    "# 오류가 난 이유는 %가 연산기호로 적용되지 않았기 때문"
   ]
  },
  {
   "cell_type": "code",
   "execution_count": null,
   "id": "a610e623-ec21-4ad4-8380-929ab9e93e76",
   "metadata": {},
   "outputs": [],
   "source": [
    "num = input('숫자를 입력해주세요.')\n",
    "if int(num) % 2 == 1:\n",
    "    print('odd')\n",
    "else:\n",
    "    print('even')"
   ]
  },
  {
   "cell_type": "code",
   "execution_count": null,
   "id": "e67e07a2-a91f-409c-a451-cec8f77f06ce",
   "metadata": {},
   "outputs": [],
   "source": [
    "num = int(input())\n",
    "\n",
    "if num % 2 == 1:\n",
    "    print('odd')\n",
    "else:\n",
    "    print('even')"
   ]
  },
  {
   "cell_type": "code",
   "execution_count": null,
   "id": "7703e8c6-5dfd-43ff-b88e-466dad99199b",
   "metadata": {},
   "outputs": [],
   "source": [
    "num = int(input())\n",
    "\n",
    "if num % 2 == 0:\n",
    "    print('even')\n",
    "else:\n",
    "    print('odd')"
   ]
  },
  {
   "cell_type": "code",
   "execution_count": null,
   "id": "aa4bb498-7e69-4021-8def-bab95eaaedf8",
   "metadata": {},
   "outputs": [],
   "source": [
    "num = int(input())\n",
    "\n",
    "if num % 2:\n",
    "        print('odd')\n",
    "else:\n",
    "    print('even')"
   ]
  },
  {
   "cell_type": "code",
   "execution_count": null,
   "id": "e7a67fdc-e48c-4196-8166-bd6a08bf0e30",
   "metadata": {},
   "outputs": [],
   "source": [
    "num = int(input('5의 배수를 판단해드리겠습니다.'))\n",
    "if num % 5 == 0:\n",
    "    print('yes')\n",
    "else:\n",
    "    print('no')"
   ]
  },
  {
   "cell_type": "code",
   "execution_count": null,
   "id": "9cf35a67-418b-45d5-8579-b0d86e071daf",
   "metadata": {},
   "outputs": [],
   "source": [
    "# 5의 배수가 아닌 것을 걸러내고, 5의 배수냐 아니냐\n",
    "\n",
    "num = int(input())\n",
    "\n",
    "if num % 5:\n",
    "    print('no')\n",
    "else:\n",
    "    print('yes')"
   ]
  },
  {
   "cell_type": "markdown",
   "id": "1b34b0f8-8e2e-4fc1-b92f-ee6896578d3b",
   "metadata": {},
   "source": [
    "### elif (else & if)\n",
    "```\n",
    "if <조건식>:\n",
    "    if문이 참인 경우 (이 조건 맞아?)\n",
    "elif <조건식>:\n",
    "    elif문이 참인 경우 (1, 2, 3... 개의 조건은 맞아?)\n",
    "else:\n",
    "    위의 모든 조건식이 거짓인 경우\n",
    "```"
   ]
  },
  {
   "cell_type": "code",
   "execution_count": 19,
   "id": "cba7ef4d-6293-4081-9cc4-2c203e06e39b",
   "metadata": {},
   "outputs": [
    {
     "name": "stdin",
     "output_type": "stream",
     "text": [
      " 75\n"
     ]
    },
    {
     "name": "stdout",
     "output_type": "stream",
     "text": [
      "C\n"
     ]
    }
   ],
   "source": [
    "score = int(input())\n",
    "\n",
    "if score >= 90:\n",
    "        print('A')\n",
    "elif score >= 80:\n",
    "        print('B')\n",
    "elif score >= 70:\n",
    "        print('C')\n",
    "else:\n",
    "        print('F')"
   ]
  },
  {
   "cell_type": "code",
   "execution_count": null,
   "id": "066c06be-11f7-4c79-a046-fe64b39f38c1",
   "metadata": {},
   "outputs": [],
   "source": [
    "score = int(input())\n",
    "\n",
    "if score >= 90:\n",
    "        print('A')\n",
    "        if score >= 95:\n",
    "            print('good!') # 들여쓰기 중요!!!!\n",
    "elif score >= 80:\n",
    "        print('B')\n",
    "elif score >= 70:\n",
    "        print('C')\n",
    "else:\n",
    "        print('F')"
   ]
  },
  {
   "cell_type": "markdown",
   "id": "4cdf6229-5ec8-4285-97f2-924649cb44af",
   "metadata": {},
   "source": [
    "### 조건표현식\n",
    "- `true_value if <조건식> else false_value`"
   ]
  },
  {
   "cell_type": "code",
   "execution_count": null,
   "id": "9ed9e2fe-04fe-47cc-88d3-7c2e185f2667",
   "metadata": {},
   "outputs": [],
   "source": [
    "a = 0\n",
    "\n",
    "if True:\n",
    "    a = 100\n",
    "else:\n",
    "    a = -100\n",
    "\n",
    "print(a)"
   ]
  },
  {
   "cell_type": "code",
   "execution_count": null,
   "id": "ca199e2b-5b32-4e89-881f-d6d2a0703fb4",
   "metadata": {},
   "outputs": [],
   "source": [
    "a = 100 if True else -100\n",
    "print(a)"
   ]
  },
  {
   "cell_type": "code",
   "execution_count": null,
   "id": "0575de2a-037e-44f2-81d7-1e1c0f9da813",
   "metadata": {},
   "outputs": [],
   "source": [
    "num = int(input())\n",
    "\n",
    "if num >= 0:\n",
    "    result = num\n",
    "else:\n",
    "    result = 0\n",
    "print(result)"
   ]
  },
  {
   "cell_type": "code",
   "execution_count": null,
   "id": "5ecd4ab5-ea46-4bc8-931c-d4130424b102",
   "metadata": {},
   "outputs": [],
   "source": [
    "num = int(input())\n",
    "\n",
    "result = num if num >= 0 else 0\n",
    "print(result)"
   ]
  },
  {
   "cell_type": "code",
   "execution_count": null,
   "id": "1f667c15-8089-44af-9751-3612f3231f90",
   "metadata": {},
   "outputs": [],
   "source": [
    "num = 9\n",
    "result = '홀수' if num % 2 else '짝수'\n",
    "print(result)"
   ]
  },
  {
   "cell_type": "code",
   "execution_count": null,
   "id": "2f78f917-e400-415b-879f-cd8eb3d235af",
   "metadata": {},
   "outputs": [],
   "source": [
    "num = 9\n",
    "\n",
    "if num % 2 == 0: #혹은 if num % 2: \n",
    "    result = '짝수'\n",
    "else:\n",
    "    result = '홀수'\n",
    "print(result)"
   ]
  },
  {
   "cell_type": "markdown",
   "id": "33c4e11b-7081-4be0-92ce-5364dbdf738f",
   "metadata": {},
   "source": [
    "## 반복문"
   ]
  },
  {
   "cell_type": "markdown",
   "id": "f0db86c3-cbe0-4019-bf52-43c62127461e",
   "metadata": {},
   "source": [
    "### while문 (조건식이 참인 동안에는 반복하고, 거짓인 경우 멈춤)\n",
    "```\n",
    "while <조건식>:\n",
    "    실행할 코드\n",
    "```"
   ]
  },
  {
   "cell_type": "code",
   "execution_count": 20,
   "id": "32f8fae9-f401-446d-a31f-385c8653ca6c",
   "metadata": {},
   "outputs": [
    {
     "name": "stdout",
     "output_type": "stream",
     "text": [
      "0\n",
      "1\n",
      "2\n",
      "3\n",
      "4\n"
     ]
    }
   ],
   "source": [
    "a = 0\n",
    "\n",
    "while a < 5:\n",
    "    print(a)\n",
    "    a += 1 #a = a + 1과 같은 코드"
   ]
  },
  {
   "cell_type": "markdown",
   "id": "34816bc5-b86f-470f-a109-0cfdc6b1bdcc",
   "metadata": {},
   "source": [
    "### for 문\n",
    "- 정해진 범위 내의 반복\n",
    "```\n",
    "for var_name in sequnce(리스트, 튜플, 레인지, 스트링):\n",
    "    code\n",
    "```"
   ]
  },
  {
   "cell_type": "code",
   "execution_count": 18,
   "id": "8cba7001-54a8-4ab7-9451-7b8cd644dee7",
   "metadata": {},
   "outputs": [
    {
     "name": "stdout",
     "output_type": "stream",
     "text": [
      "1\n",
      "2\n",
      "3\n",
      "4\n",
      "5\n"
     ]
    }
   ],
   "source": [
    "numbers = [1, 2, 3, 4, 5]\n",
    "\n",
    "for number in numbers: # 변수 안에 있는 값 안의 개수만큼 반복\n",
    "    print(number)"
   ]
  },
  {
   "cell_type": "code",
   "execution_count": null,
   "id": "a6fd739c-16cf-4cc7-9392-075b6127c241",
   "metadata": {},
   "outputs": [],
   "source": [
    "word = 'apple'\n",
    "\n",
    "for char in word:\n",
    "    print(char)"
   ]
  },
  {
   "cell_type": "code",
   "execution_count": 21,
   "id": "fa9d8c62-a22b-49e2-a01d-6a8c8c6c3d16",
   "metadata": {},
   "outputs": [
    {
     "name": "stdout",
     "output_type": "stream",
     "text": [
      "0\n",
      "1\n",
      "2\n",
      "3\n",
      "4\n"
     ]
    }
   ],
   "source": [
    "for i in range(5): # range를 통해 몇 번을 반복할지 결정\n",
    "    print(i) # i는 반복문 안의 변수로 가장 많이 쓰임"
   ]
  },
  {
   "cell_type": "code",
   "execution_count": 22,
   "id": "48470ac0-c88f-4ee1-afbc-f3d586a51a15",
   "metadata": {},
   "outputs": [
    {
     "name": "stdout",
     "output_type": "stream",
     "text": [
      "5\n",
      "10\n",
      "15\n",
      "20\n",
      "25\n",
      "30\n",
      "35\n",
      "40\n",
      "45\n",
      "50\n"
     ]
    }
   ],
   "source": [
    "numbers = range(1, 51)\n",
    "\n",
    "for number in numbers:\n",
    "    if number % 5 == 0:\n",
    "        print(number)"
   ]
  },
  {
   "cell_type": "code",
   "execution_count": null,
   "id": "d22e9aa2-cade-4a66-8c27-b5179d07d74a",
   "metadata": {},
   "outputs": [],
   "source": [
    "locations = ['서울', '대전', '부산']\n",
    "for location in enumerate(locations): #enumerate 인덱스 값이 필요할 때 씀 (n번째+값)\n",
    "    print(location) #나온 값은 튜플"
   ]
  },
  {
   "cell_type": "markdown",
   "id": "aba50586-1518-47c7-b3cd-966e4eea0452",
   "metadata": {},
   "source": [
    "### dictionary 반복\n",
    "1. for key in dict\n",
    "2. for key in dict.keys():\n",
    "3. for value in dict.balues():\n",
    "4. for key, value in dict.items():"
   ]
  },
  {
   "cell_type": "code",
   "execution_count": 1,
   "id": "9aa85eff-b138-4185-99cc-55f4eabc75f9",
   "metadata": {},
   "outputs": [],
   "source": [
    "info = {\n",
    "    'name': 'gildong',\n",
    "    'location': 'seoul',\n",
    "    'phone': '010-1234-1234',\n",
    "    'age': 20\n",
    "}"
   ]
  },
  {
   "cell_type": "code",
   "execution_count": 2,
   "id": "fb2abad6-3bd2-4c9e-ac25-5a62f085df61",
   "metadata": {},
   "outputs": [
    {
     "name": "stdout",
     "output_type": "stream",
     "text": [
      "name\n",
      "location\n",
      "phone\n",
      "age\n"
     ]
    }
   ],
   "source": [
    "for k in info: # key 뽑기\n",
    "    print(k)"
   ]
  },
  {
   "cell_type": "code",
   "execution_count": 3,
   "id": "dc78d983-22b4-4f5a-9e6d-6d56ce4653d1",
   "metadata": {},
   "outputs": [
    {
     "name": "stdout",
     "output_type": "stream",
     "text": [
      "name\n",
      "gildong\n",
      "location\n",
      "seoul\n",
      "phone\n",
      "010-1234-1234\n",
      "age\n",
      "20\n"
     ]
    }
   ],
   "source": [
    "for k in info.keys():\n",
    "    print(k)\n",
    "    print(info[k])"
   ]
  },
  {
   "cell_type": "code",
   "execution_count": 4,
   "id": "f5bc0a05-82f0-4bf2-873b-3eb8d225f450",
   "metadata": {},
   "outputs": [
    {
     "name": "stdout",
     "output_type": "stream",
     "text": [
      "gildong\n",
      "seoul\n",
      "010-1234-1234\n",
      "20\n"
     ]
    }
   ],
   "source": [
    "for v in info.values():\n",
    "    print(v)"
   ]
  },
  {
   "cell_type": "code",
   "execution_count": 5,
   "id": "335f7c42-1c31-4477-a4b0-23156723d2a5",
   "metadata": {},
   "outputs": [
    {
     "name": "stdout",
     "output_type": "stream",
     "text": [
      "name gildong\n",
      "location seoul\n",
      "phone 010-1234-1234\n",
      "age 20\n"
     ]
    }
   ],
   "source": [
    "for k, v in info.items():\n",
    "    print(k, v)"
   ]
  },
  {
   "cell_type": "code",
   "execution_count": 6,
   "id": "46c02576-7f33-4dfa-9ea9-359997cefc79",
   "metadata": {},
   "outputs": [],
   "source": [
    "blood_type = {\n",
    "    'A': 15,\n",
    "    'B': 8,\n",
    "    'O': 5,\n",
    "    'AB': 4\n",
    "}"
   ]
  },
  {
   "cell_type": "code",
   "execution_count": 7,
   "id": "a84a7c42-de36-4b00-81bb-4587ef31125d",
   "metadata": {},
   "outputs": [
    {
     "name": "stdout",
     "output_type": "stream",
     "text": [
      "혈액형 종류는 다음과 같습니다.\n",
      "A\n",
      "B\n",
      "O\n",
      "AB\n"
     ]
    }
   ],
   "source": [
    "# 혈액형은 ~가 있습니다.\n",
    "print('혈액형 종류는 다음과 같습니다.')\n",
    "for blood in blood_type:\n",
    "    print(blood)"
   ]
  },
  {
   "cell_type": "code",
   "execution_count": null,
   "id": "ae225689-aee3-4c5d-9b0a-744c79e0bbf8",
   "metadata": {},
   "outputs": [],
   "source": [
    "# 총 학생은 몇명 입니다.\n",
    "result = 0\n",
    "for number in blood_type.values():\n",
    "    result = result + number\n",
    "print(result)"
   ]
  },
  {
   "cell_type": "code",
   "execution_count": null,
   "id": "8a986069-9f6a-4e12-8c7d-7b73967ec21b",
   "metadata": {},
   "outputs": [],
   "source": [
    "for k, v in blood_type.items():\n",
    "    print(f'{k}형은 {v}입니다.')"
   ]
  },
  {
   "cell_type": "markdown",
   "id": "237124e7-27dc-458b-af0c-22239df925a0",
   "metadata": {},
   "source": [
    "### break\n",
    "반복문을 종료시키는 키워드"
   ]
  },
  {
   "cell_type": "code",
   "execution_count": null,
   "id": "2faacc92-9b8a-44cd-b99f-198b8cd0d75c",
   "metadata": {},
   "outputs": [],
   "source": [
    "for i in range(100): # 0~99까지 반복\n",
    "    if i > 5: # 만약 i가 5보다 크다면\n",
    "        print('여기는 브레이크') # 브레이크를 출력하고\n",
    "        break #브레이크\n",
    "    print(i) # i를 출력함 (text포함)"
   ]
  },
  {
   "cell_type": "code",
   "execution_count": null,
   "id": "9e15b59e-d08a-44f4-b8d3-bdfaef12f705",
   "metadata": {},
   "outputs": [],
   "source": [
    "rice = ['보리', '보리', '보리', '보리', '보리', '보리', '보리', '보리', '쌀','보리', '보리', '보리',]"
   ]
  },
  {
   "cell_type": "code",
   "execution_count": null,
   "id": "bd79daa2-c954-431d-80df-3d510206d19e",
   "metadata": {},
   "outputs": [],
   "source": [
    "for i in rice:"
   ]
  },
  {
   "cell_type": "code",
   "execution_count": null,
   "id": "9768e7f3-39de-4ee5-b787-75894d7cbf63",
   "metadata": {},
   "outputs": [],
   "source": [
    "rice = input()\n",
    "\n",
    "while True: #계속 True 니까 계속 반복해!\n",
    "    rice = input()\n",
    "    if rice == '쌀':\n",
    "        print('잡았다!')\n",
    "        break"
   ]
  },
  {
   "cell_type": "markdown",
   "id": "ded48544-c5f6-4686-ba07-1bb9aac265fd",
   "metadata": {},
   "source": [
    "### continue\n",
    "\n",
    "continue 이후의 코드를 실행하지 않고 다음 반복을 진행"
   ]
  },
  {
   "cell_type": "code",
   "execution_count": null,
   "id": "3f3a6fd0-402f-4625-9b18-089e5d6b8397",
   "metadata": {},
   "outputs": [],
   "source": [
    "for i in range(20):\n",
    "    if i % 2 == 1:\n",
    "        continue # 특정 상황에서만 스킵하고 계속 진행할 때 사용\n",
    "    print(i)"
   ]
  },
  {
   "cell_type": "code",
   "execution_count": null,
   "id": "b65f757e-a27b-4d51-8415-9033e2b852d2",
   "metadata": {},
   "outputs": [],
   "source": [
    "ages = [10, 20, 30, 23, 42, 9, 25]"
   ]
  },
  {
   "cell_type": "code",
   "execution_count": null,
   "id": "9c92e529-e4fe-4877-9f2e-490e10a0a8c4",
   "metadata": {},
   "outputs": [],
   "source": [
    "for age in ages:\n",
    "    if age <= 20:\n",
    "        continue\n",
    "    print(f'{age}살은 성인입니다.')"
   ]
  },
  {
   "cell_type": "markdown",
   "id": "3786a4a0-33bc-4ccd-b27c-f846024fff0b",
   "metadata": {},
   "source": [
    "### else\n",
    "\n",
    "- else 문은 끝까지 반복된 경우 실행됩니다. (break를 만나지 않은 경우 실행.)\n",
    "- break 를 통해 반복이 강제종료되면 else는 출력되지 않음"
   ]
  },
  {
   "cell_type": "code",
   "execution_count": 17,
   "id": "ae672994-0b00-4ffb-bc3f-bc1d41d321fc",
   "metadata": {},
   "outputs": [
    {
     "name": "stdout",
     "output_type": "stream",
     "text": [
      "0\n",
      "1\n",
      "2\n",
      "3\n",
      "4\n",
      "5\n",
      "6\n",
      "7\n",
      "8\n"
     ]
    }
   ],
   "source": [
    "for i in range(10):\n",
    "    if i > 8:\n",
    "        break #만약 i > 100 의 경우 break를 만나지 않으므로 else 값 출력\n",
    "    print(i)\n",
    "else:\n",
    "    print('모두 완료!!')"
   ]
  },
  {
   "cell_type": "code",
   "execution_count": null,
   "id": "5e13b2e0-b238-40c6-be4a-1219b45a78b2",
   "metadata": {},
   "outputs": [],
   "source": []
  }
 ],
 "metadata": {
  "kernelspec": {
   "display_name": "Python 3 (ipykernel)",
   "language": "python",
   "name": "python3"
  },
  "language_info": {
   "codemirror_mode": {
    "name": "ipython",
    "version": 3
   },
   "file_extension": ".py",
   "mimetype": "text/x-python",
   "name": "python",
   "nbconvert_exporter": "python",
   "pygments_lexer": "ipython3",
   "version": "3.13.2"
  }
 },
 "nbformat": 4,
 "nbformat_minor": 5
}
