{
 "cells": [
  {
   "cell_type": "code",
   "execution_count": 1,
   "id": "ceb765ea-0906-4213-816d-9cbc093ddf3e",
   "metadata": {},
   "outputs": [],
   "source": [
    "number = 1 + 2j"
   ]
  },
  {
   "cell_type": "code",
   "execution_count": 2,
   "id": "74f24f4f-4974-40e5-a69d-b10f8776a6ff",
   "metadata": {},
   "outputs": [
    {
     "name": "stdout",
     "output_type": "stream",
     "text": [
      "<class 'complex'>\n"
     ]
    }
   ],
   "source": [
    "print(type(number))"
   ]
  },
  {
   "cell_type": "code",
   "execution_count": 7,
   "id": "5fae82db-cfe1-4150-adbf-298573d3c1fb",
   "metadata": {},
   "outputs": [
    {
     "name": "stdout",
     "output_type": "stream",
     "text": [
      "1.0\n",
      "2.0\n"
     ]
    }
   ],
   "source": [
    "print(number.real)\n",
    "print(number.imag)"
   ]
  },
  {
   "cell_type": "code",
   "execution_count": 13,
   "id": "f2a2cea3-d403-4e8a-84b1-8ce734d1395f",
   "metadata": {},
   "outputs": [],
   "source": [
    "numbers = [1, 2, 3]"
   ]
  },
  {
   "cell_type": "code",
   "execution_count": 14,
   "id": "ece361f0-730e-4032-9432-1636933416d9",
   "metadata": {},
   "outputs": [
    {
     "name": "stdout",
     "output_type": "stream",
     "text": [
      "<class 'list'>\n"
     ]
    }
   ],
   "source": [
    "print(type(numbers))"
   ]
  },
  {
   "cell_type": "code",
   "execution_count": 16,
   "id": "f44e02e2-533e-4165-9371-8c42922738d9",
   "metadata": {},
   "outputs": [
    {
     "name": "stdout",
     "output_type": "stream",
     "text": [
      "[3, 2, 1]\n"
     ]
    }
   ],
   "source": [
    "numbers.reverse()\n",
    "print(numbers)"
   ]
  },
  {
   "cell_type": "code",
   "execution_count": 18,
   "id": "cfbf534e-588e-4d94-a502-0a8ac77e63e3",
   "metadata": {},
   "outputs": [
    {
     "data": {
      "text/plain": [
       "'010-1234-5678(이)가 010-9876-5432에게 전화 거는 중'"
      ]
     },
     "execution_count": 18,
     "metadata": {},
     "output_type": "execute_result"
    }
   ],
   "source": [
    "number = '010-1234-5678'\n",
    "power = True\n",
    "phone_book = {\n",
    "    'kim': '010-9876-5432',\n",
    "    'park': '010-1111-22220',\n",
    "}\n",
    "\n",
    "def call(from_num, to_num):\n",
    "    return (f'{from_num}(이)가 {to_num}에게 전화 거는 중')\n",
    "\n",
    "call(number, phone_book['kim'])"
   ]
  },
  {
   "cell_type": "code",
   "execution_count": 19,
   "id": "e449d6a5-89f1-4264-985a-215fd1112f07",
   "metadata": {},
   "outputs": [],
   "source": [
    "class MyClass():\n",
    "    name = 'hyojin'\n",
    "\n",
    "    def hello(self):\n",
    "        return 'hihihi'"
   ]
  },
  {
   "cell_type": "code",
   "execution_count": 20,
   "id": "f6c0e63e-97f5-4663-82d6-6a6c8154b99f",
   "metadata": {},
   "outputs": [],
   "source": [
    "m = MyClass()"
   ]
  },
  {
   "cell_type": "code",
   "execution_count": 23,
   "id": "47dfbc74-5aec-4c3c-9a24-b270fc4f7e20",
   "metadata": {},
   "outputs": [
    {
     "name": "stdout",
     "output_type": "stream",
     "text": [
      "<__main__.MyClass object at 0x0000021E812EF4D0>\n"
     ]
    }
   ],
   "source": [
    "print(m)"
   ]
  },
  {
   "cell_type": "code",
   "execution_count": 24,
   "id": "b8d878bd-6f4a-47bb-8e9f-585e74ec8373",
   "metadata": {},
   "outputs": [
    {
     "name": "stdout",
     "output_type": "stream",
     "text": [
      "<class '__main__.MyClass'>\n"
     ]
    }
   ],
   "source": [
    "print(type(m))"
   ]
  },
  {
   "cell_type": "code",
   "execution_count": 29,
   "id": "c94048b6-e932-4836-b964-ad455f28b2a0",
   "metadata": {},
   "outputs": [
    {
     "name": "stdout",
     "output_type": "stream",
     "text": [
      "hyojin\n",
      "<bound method MyClass.hello of <__main__.MyClass object at 0x0000021E812EF4D0>>\n",
      "hihihi\n"
     ]
    }
   ],
   "source": [
    "print(m.name)\n",
    "print(m.hello)\n",
    "print(m.hello())"
   ]
  },
  {
   "cell_type": "code",
   "execution_count": 35,
   "id": "96e1934c-8ddf-48f8-b953-949c9b18276a",
   "metadata": {},
   "outputs": [
    {
     "name": "stdout",
     "output_type": "stream",
     "text": [
      "<__main__.MyClass object at 0x0000021E814ECF50>\n",
      "<class '__main__.MyClass'>\n"
     ]
    }
   ],
   "source": [
    "m2 = MyClass()\n",
    "print(m2)\n",
    "print(type(m2))"
   ]
  },
  {
   "cell_type": "code",
   "execution_count": 36,
   "id": "f1fb43f0-e028-4aa0-af42-6755575c4162",
   "metadata": {},
   "outputs": [],
   "source": [
    "m2.name = 'park'"
   ]
  },
  {
   "cell_type": "code",
   "execution_count": 39,
   "id": "25e34196-5d38-4021-8f1f-7238e27def28",
   "metadata": {},
   "outputs": [
    {
     "name": "stdout",
     "output_type": "stream",
     "text": [
      "park\n",
      "hyojin\n"
     ]
    }
   ],
   "source": [
    "print(m2.name)\n",
    "print(m.name)"
   ]
  },
  {
   "cell_type": "code",
   "execution_count": 1,
   "id": "8085bf42-18c4-46d9-bfbf-1f2455b8b80f",
   "metadata": {},
   "outputs": [],
   "source": [
    "class phone():\n",
    "    power = False\n",
    "    number = ''\n",
    "    phone_book = {}\n",
    "    model = ''\n",
    "\n",
    "    def on(self):\n",
    "        if self.power == False:\n",
    "            self.power = True\n",
    "\n",
    "    def off(self):\n",
    "        if self.power == True:\n",
    "            self.power = False\n",
    "\n",
    "    def call(self, target):\n",
    "        if self.power == True:\n",
    "            print(f'{self.number}가 {target.number}에게 전화를 걸고 있습니다.')\n",
    "        else:\n",
    "            print('핸드폰이 꺼져있습니다.')"
   ]
  },
  {
   "cell_type": "code",
   "execution_count": 3,
   "id": "34427933-ab2a-4dd0-b249-94e00979838f",
   "metadata": {},
   "outputs": [],
   "source": [
    "my_phone = phone()\n",
    "your_phone = phone()"
   ]
  },
  {
   "cell_type": "code",
   "execution_count": 20,
   "id": "6641e7a8-4acd-4f5f-8501-c01d9f01547c",
   "metadata": {},
   "outputs": [],
   "source": [
    "my_phone.number = '010-1111-1111'\n",
    "your_phone.number = '010-2222-2222'"
   ]
  },
  {
   "cell_type": "code",
   "execution_count": 21,
   "id": "7f09fbc9-8074-4321-9471-a13baa0d377e",
   "metadata": {},
   "outputs": [
    {
     "data": {
      "text/plain": [
       "True"
      ]
     },
     "execution_count": 21,
     "metadata": {},
     "output_type": "execute_result"
    }
   ],
   "source": [
    "my_phone.power"
   ]
  },
  {
   "cell_type": "code",
   "execution_count": 22,
   "id": "6cd48545-c214-4f11-bd09-c19b31191c9e",
   "metadata": {},
   "outputs": [],
   "source": [
    "my_phone.on()"
   ]
  },
  {
   "cell_type": "code",
   "execution_count": 23,
   "id": "18fe4aea-00e1-4eda-854b-9ac6985e9482",
   "metadata": {},
   "outputs": [
    {
     "data": {
      "text/plain": [
       "'010-1111-1111'"
      ]
     },
     "execution_count": 23,
     "metadata": {},
     "output_type": "execute_result"
    }
   ],
   "source": [
    "my_phone.number"
   ]
  },
  {
   "cell_type": "code",
   "execution_count": 24,
   "id": "f07bf3e0-ef94-4bd2-b9b5-85d81271f2bb",
   "metadata": {},
   "outputs": [
    {
     "name": "stdout",
     "output_type": "stream",
     "text": [
      "010-1111-1111가 010-2222-2222에게 전화를 걸고 있습니다.\n"
     ]
    }
   ],
   "source": [
    "my_phone.call(your_phone)"
   ]
  },
  {
   "cell_type": "code",
   "execution_count": 25,
   "id": "f2fb4709-2413-41f0-b2ad-aa42adff96b9",
   "metadata": {},
   "outputs": [
    {
     "name": "stdout",
     "output_type": "stream",
     "text": [
      "핸드폰이 꺼져있습니다.\n"
     ]
    }
   ],
   "source": [
    "your_phone.call(my_phone)"
   ]
  },
  {
   "cell_type": "code",
   "execution_count": 27,
   "id": "7b670bb5-eb41-474c-99a8-c4a028488b91",
   "metadata": {},
   "outputs": [],
   "source": [
    "class Person():\n",
    "    name = ''\n",
    "    gender = ''\n",
    "    age = ''\n",
    "\n",
    "    def hello(self):\n",
    "        print(f'안녕하세요, 나는 {self.name}입니다.')\n",
    "\n",
    "    def grow(self):\n",
    "        self.age += 1"
   ]
  },
  {
   "cell_type": "code",
   "execution_count": 28,
   "id": "8a8bb924-d860-465e-aa12-5db025b2989b",
   "metadata": {},
   "outputs": [],
   "source": [
    "p1 = Person()\n",
    "p2 = Person()"
   ]
  },
  {
   "cell_type": "code",
   "execution_count": 29,
   "id": "0088e572-09a4-4b0f-8c2c-2fbfb8b7c401",
   "metadata": {},
   "outputs": [],
   "source": [
    "p1.name = 'kim'\n",
    "p1.gender = 'female'\n",
    "p1.age = '20'"
   ]
  },
  {
   "cell_type": "code",
   "execution_count": 30,
   "id": "e01d927d-c47f-46e2-a4e2-5d5646003558",
   "metadata": {},
   "outputs": [],
   "source": [
    "p2.name = 'park'\n",
    "p2.gender = 'male'\n",
    "p2.age = '15'"
   ]
  },
  {
   "cell_type": "code",
   "execution_count": 31,
   "id": "02430d83-6d02-44a5-b0e5-45d290e6584d",
   "metadata": {},
   "outputs": [
    {
     "name": "stdout",
     "output_type": "stream",
     "text": [
      "안녕하세요, 나는 kim입니다.\n"
     ]
    }
   ],
   "source": [
    "p1.hello()"
   ]
  },
  {
   "cell_type": "code",
   "execution_count": 37,
   "id": "680e4ffb-8134-409a-9094-45ba9ff3e8d5",
   "metadata": {},
   "outputs": [],
   "source": [
    "class Person():\n",
    "    name = ''\n",
    "\n",
    "    def __init__(self, name):\n",
    "        self.name = name\n",
    "        print(f'{self.name}')"
   ]
  },
  {
   "cell_type": "code",
   "execution_count": 48,
   "id": "3ab54a61-c7f8-466f-86d2-60d8823b1a6b",
   "metadata": {},
   "outputs": [
    {
     "name": "stdout",
     "output_type": "stream",
     "text": [
      "안녕\n"
     ]
    },
    {
     "data": {
      "text/plain": [
       "<__main__.Person at 0x1b0414df5c0>"
      ]
     },
     "execution_count": 48,
     "metadata": {},
     "output_type": "execute_result"
    }
   ],
   "source": [
    "Person('안녕') # 생성된 후 바로 사라짐"
   ]
  },
  {
   "cell_type": "code",
   "execution_count": 49,
   "id": "f0b1d066-db91-4ced-b2cf-1c9878ec1ada",
   "metadata": {},
   "outputs": [
    {
     "name": "stdout",
     "output_type": "stream",
     "text": [
      "잘가\n"
     ]
    },
    {
     "data": {
      "text/plain": [
       "<__main__.Person at 0x1b0414e1eb0>"
      ]
     },
     "execution_count": 49,
     "metadata": {},
     "output_type": "execute_result"
    }
   ],
   "source": [
    "Person('잘가')"
   ]
  },
  {
   "cell_type": "code",
   "execution_count": 50,
   "id": "e6295ac4-d6a0-4449-a75e-4c70205b3d7a",
   "metadata": {},
   "outputs": [
    {
     "ename": "NameError",
     "evalue": "name '안녕' is not defined",
     "output_type": "error",
     "traceback": [
      "\u001b[1;31m---------------------------------------------------------------------------\u001b[0m",
      "\u001b[1;31mNameError\u001b[0m                                 Traceback (most recent call last)",
      "Cell \u001b[1;32mIn[50], line 1\u001b[0m\n\u001b[1;32m----> 1\u001b[0m \u001b[38;5;28mprint\u001b[39m(\u001b[43m안녕\u001b[49m\u001b[38;5;241m.\u001b[39mname)\n",
      "\u001b[1;31mNameError\u001b[0m: name '안녕' is not defined"
     ]
    }
   ],
   "source": [
    "print(안녕.name) # 바로 사라졌기 때문에 값을 불러올 수 없음"
   ]
  },
  {
   "cell_type": "code",
   "execution_count": 55,
   "id": "c3462c2e-2802-4173-ad7e-46b4f5deaf5b",
   "metadata": {},
   "outputs": [
    {
     "name": "stdout",
     "output_type": "stream",
     "text": [
      "c\n",
      "['a', 'b']\n"
     ]
    }
   ],
   "source": [
    "char_list = ['a', 'b', 'c']\n",
    "print(char_list.pop())\n",
    "print(char_list)"
   ]
  },
  {
   "cell_type": "code",
   "execution_count": 56,
   "id": "4847a278-04da-44aa-ae84-0adf628b1b00",
   "metadata": {},
   "outputs": [],
   "source": [
    "class Person():\n",
    "    name = 'hong'\n",
    "    age = 10\n",
    "\n",
    "    def __init__(self, name):\n",
    "        self.name = name"
   ]
  },
  {
   "cell_type": "code",
   "execution_count": 57,
   "id": "30f524be-3989-4e3c-8719-6defe6d06869",
   "metadata": {},
   "outputs": [
    {
     "ename": "TypeError",
     "evalue": "Person.__init__() missing 1 required positional argument: 'name'",
     "output_type": "error",
     "traceback": [
      "\u001b[1;31m---------------------------------------------------------------------------\u001b[0m",
      "\u001b[1;31mTypeError\u001b[0m                                 Traceback (most recent call last)",
      "Cell \u001b[1;32mIn[57], line 1\u001b[0m\n\u001b[1;32m----> 1\u001b[0m p1 \u001b[38;5;241m=\u001b[39m \u001b[43mPerson\u001b[49m\u001b[43m(\u001b[49m\u001b[43m)\u001b[49m\n",
      "\u001b[1;31mTypeError\u001b[0m: Person.__init__() missing 1 required positional argument: 'name'"
     ]
    }
   ],
   "source": [
    "p1 = Person()\n",
    "# init에 지정한 인자는 넣어주어야함"
   ]
  },
  {
   "cell_type": "code",
   "execution_count": null,
   "id": "f14000aa-980b-450e-8a24-6e6f4af72949",
   "metadata": {},
   "outputs": [],
   "source": []
  }
 ],
 "metadata": {
  "kernelspec": {
   "display_name": "Python 3 (ipykernel)",
   "language": "python",
   "name": "python3"
  },
  "language_info": {
   "codemirror_mode": {
    "name": "ipython",
    "version": 3
   },
   "file_extension": ".py",
   "mimetype": "text/x-python",
   "name": "python",
   "nbconvert_exporter": "python",
   "pygments_lexer": "ipython3",
   "version": "3.13.2"
  }
 },
 "nbformat": 4,
 "nbformat_minor": 5
}
