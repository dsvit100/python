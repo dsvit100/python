{
 "cells": [
  {
   "cell_type": "code",
   "execution_count": 1,
   "id": "ceb765ea-0906-4213-816d-9cbc093ddf3e",
   "metadata": {},
   "outputs": [],
   "source": [
    "number = 1 + 2j"
   ]
  },
  {
   "cell_type": "code",
   "execution_count": 2,
   "id": "74f24f4f-4974-40e5-a69d-b10f8776a6ff",
   "metadata": {},
   "outputs": [
    {
     "name": "stdout",
     "output_type": "stream",
     "text": [
      "<class 'complex'>\n"
     ]
    }
   ],
   "source": [
    "print(type(number))"
   ]
  },
  {
   "cell_type": "code",
   "execution_count": 7,
   "id": "5fae82db-cfe1-4150-adbf-298573d3c1fb",
   "metadata": {},
   "outputs": [
    {
     "name": "stdout",
     "output_type": "stream",
     "text": [
      "1.0\n",
      "2.0\n"
     ]
    }
   ],
   "source": [
    "print(number.real)\n",
    "print(number.imag)"
   ]
  },
  {
   "cell_type": "code",
   "execution_count": 13,
   "id": "f2a2cea3-d403-4e8a-84b1-8ce734d1395f",
   "metadata": {},
   "outputs": [],
   "source": [
    "numbers = [1, 2, 3]"
   ]
  },
  {
   "cell_type": "code",
   "execution_count": 14,
   "id": "ece361f0-730e-4032-9432-1636933416d9",
   "metadata": {},
   "outputs": [
    {
     "name": "stdout",
     "output_type": "stream",
     "text": [
      "<class 'list'>\n"
     ]
    }
   ],
   "source": [
    "print(type(numbers))"
   ]
  },
  {
   "cell_type": "code",
   "execution_count": 16,
   "id": "f44e02e2-533e-4165-9371-8c42922738d9",
   "metadata": {},
   "outputs": [
    {
     "name": "stdout",
     "output_type": "stream",
     "text": [
      "[3, 2, 1]\n"
     ]
    }
   ],
   "source": [
    "numbers.reverse()\n",
    "print(numbers)"
   ]
  },
  {
   "cell_type": "code",
   "execution_count": 18,
   "id": "cfbf534e-588e-4d94-a502-0a8ac77e63e3",
   "metadata": {},
   "outputs": [
    {
     "data": {
      "text/plain": [
       "'010-1234-5678(이)가 010-9876-5432에게 전화 거는 중'"
      ]
     },
     "execution_count": 18,
     "metadata": {},
     "output_type": "execute_result"
    }
   ],
   "source": [
    "number = '010-1234-5678'\n",
    "power = True\n",
    "phone_book = {\n",
    "    'kim': '010-9876-5432',\n",
    "    'park': '010-1111-22220',\n",
    "}\n",
    "\n",
    "def call(from_num, to_num):\n",
    "    return (f'{from_num}(이)가 {to_num}에게 전화 거는 중')\n",
    "\n",
    "call(number, phone_book['kim'])"
   ]
  },
  {
   "cell_type": "code",
   "execution_count": 19,
   "id": "e449d6a5-89f1-4264-985a-215fd1112f07",
   "metadata": {},
   "outputs": [],
   "source": [
    "class MyClass():\n",
    "    name = 'hyojin'\n",
    "\n",
    "    def hello(self):\n",
    "        return 'hihihi'"
   ]
  },
  {
   "cell_type": "code",
   "execution_count": 20,
   "id": "f6c0e63e-97f5-4663-82d6-6a6c8154b99f",
   "metadata": {},
   "outputs": [],
   "source": [
    "m = MyClass()"
   ]
  },
  {
   "cell_type": "code",
   "execution_count": 23,
   "id": "47dfbc74-5aec-4c3c-9a24-b270fc4f7e20",
   "metadata": {},
   "outputs": [
    {
     "name": "stdout",
     "output_type": "stream",
     "text": [
      "<__main__.MyClass object at 0x0000021E812EF4D0>\n"
     ]
    }
   ],
   "source": [
    "print(m)"
   ]
  },
  {
   "cell_type": "code",
   "execution_count": 24,
   "id": "b8d878bd-6f4a-47bb-8e9f-585e74ec8373",
   "metadata": {},
   "outputs": [
    {
     "name": "stdout",
     "output_type": "stream",
     "text": [
      "<class '__main__.MyClass'>\n"
     ]
    }
   ],
   "source": [
    "print(type(m))"
   ]
  },
  {
   "cell_type": "code",
   "execution_count": 29,
   "id": "c94048b6-e932-4836-b964-ad455f28b2a0",
   "metadata": {},
   "outputs": [
    {
     "name": "stdout",
     "output_type": "stream",
     "text": [
      "hyojin\n",
      "<bound method MyClass.hello of <__main__.MyClass object at 0x0000021E812EF4D0>>\n",
      "hihihi\n"
     ]
    }
   ],
   "source": [
    "print(m.name)\n",
    "print(m.hello)\n",
    "print(m.hello())"
   ]
  },
  {
   "cell_type": "code",
   "execution_count": 35,
   "id": "96e1934c-8ddf-48f8-b953-949c9b18276a",
   "metadata": {},
   "outputs": [
    {
     "name": "stdout",
     "output_type": "stream",
     "text": [
      "<__main__.MyClass object at 0x0000021E814ECF50>\n",
      "<class '__main__.MyClass'>\n"
     ]
    }
   ],
   "source": [
    "m2 = MyClass()\n",
    "print(m2)\n",
    "print(type(m2))"
   ]
  },
  {
   "cell_type": "code",
   "execution_count": 36,
   "id": "f1fb43f0-e028-4aa0-af42-6755575c4162",
   "metadata": {},
   "outputs": [],
   "source": [
    "m2.name = 'park'"
   ]
  },
  {
   "cell_type": "code",
   "execution_count": 39,
   "id": "25e34196-5d38-4021-8f1f-7238e27def28",
   "metadata": {},
   "outputs": [
    {
     "name": "stdout",
     "output_type": "stream",
     "text": [
      "park\n",
      "hyojin\n"
     ]
    }
   ],
   "source": [
    "print(m2.name)\n",
    "print(m.name)"
   ]
  },
  {
   "cell_type": "code",
   "execution_count": null,
   "id": "8085bf42-18c4-46d9-bfbf-1f2455b8b80f",
   "metadata": {},
   "outputs": [],
   "source": []
  },
  {
   "cell_type": "code",
   "execution_count": null,
   "id": "34427933-ab2a-4dd0-b249-94e00979838f",
   "metadata": {},
   "outputs": [],
   "source": []
  },
  {
   "cell_type": "code",
   "execution_count": null,
   "id": "6641e7a8-4acd-4f5f-8501-c01d9f01547c",
   "metadata": {},
   "outputs": [],
   "source": []
  },
  {
   "cell_type": "code",
   "execution_count": null,
   "id": "7f09fbc9-8074-4321-9471-a13baa0d377e",
   "metadata": {},
   "outputs": [],
   "source": []
  }
 ],
 "metadata": {
  "kernelspec": {
   "display_name": "Python 3 (ipykernel)",
   "language": "python",
   "name": "python3"
  },
  "language_info": {
   "codemirror_mode": {
    "name": "ipython",
    "version": 3
   },
   "file_extension": ".py",
   "mimetype": "text/x-python",
   "name": "python",
   "nbconvert_exporter": "python",
   "pygments_lexer": "ipython3",
   "version": "3.13.2"
  }
 },
 "nbformat": 4,
 "nbformat_minor": 5
}
