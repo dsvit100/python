{
 "cells": [
  {
   "cell_type": "markdown",
   "id": "87efee07-8fca-47ba-9f8e-974c6f91622d",
   "metadata": {},
   "source": [
    "## while True\n",
    "- 퀴즈: 가장 좋아하는 뮤지컬은?\n",
    "- 답: 위키드\n",
    "- '위키드'를 맞추면 '정답입니다' 출력하기"
   ]
  },
  {
   "cell_type": "code",
   "execution_count": null,
   "id": "f126125a-ed23-424e-ba15-9687dc5149b2",
   "metadata": {},
   "outputs": [],
   "source": [
    "while True: # while True 안에 input이 들어와있어야 무한으로 물어본다. while True 위에 있으면 무한히 돕니다~~~~\n",
    "    answer = input()\n",
    "    if answer == '위키드':\n",
    "        print('정답입니다')\n",
    "        break\n",
    "    else:\n",
    "        print(f'{answer}는(은) 정답이 아닙니다')"
   ]
  },
  {
   "cell_type": "markdown",
   "id": "02dacf97-acb8-4d5e-a227-3278f7024fa3",
   "metadata": {},
   "source": [
    "### 사용자로부터 숫자를 받아 양수인지 음수인지 판별하기"
   ]
  },
  {
   "cell_type": "code",
   "execution_count": null,
   "id": "fc1b1557-f60a-45c7-ae56-dd8ac30a001d",
   "metadata": {},
   "outputs": [],
   "source": [
    "print('숫자를 입력하시오.')\n",
    "number = input()\n",
    "if number < '0':\n",
    "    print(f'{number}은(는) 음수입니다.')\n",
    "else:\n",
    "    print(f'{number}은(는) 양수입니다.')"
   ]
  },
  {
   "cell_type": "markdown",
   "id": "38d74edb-0016-4635-9c7a-74c938d009c2",
   "metadata": {},
   "source": [
    "### 사용자로부터 나이를 입력받아 18세 이상이면 성인, 아니면 미성년자 출력"
   ]
  },
  {
   "cell_type": "code",
   "execution_count": null,
   "id": "2b6ab469-36fe-48f1-9fb6-4f1c5a31c900",
   "metadata": {},
   "outputs": [],
   "source": [
    "print('나이를 입력하세요.')\n",
    "while True:\n",
    "    age = input()\n",
    "    if age < '18':\n",
    "        print('미성년자')\n",
    "    else:\n",
    "        print('성인')\n",
    "    if age == '그만':\n",
    "        break"
   ]
  },
  {
   "cell_type": "markdown",
   "id": "5acb9a82-d44f-4cad-98d8-295fb52d7bbc",
   "metadata": {},
   "source": [
    "### 사용자로부터 점수를 입력받아 학점 출력\n",
    "- 90점 이상 A\n",
    "- 80점 이상 B\n",
    "- 70점 이상 C\n",
    "- 나머지는 F"
   ]
  },
  {
   "cell_type": "code",
   "execution_count": null,
   "id": "173a86e8-54ca-4b0f-9dfb-65e6a1d53401",
   "metadata": {},
   "outputs": [],
   "source": [
    "print('점수를 입력하세요.')\n",
    "\n",
    "score = int(input())\n",
    "\n",
    "if score >= 90:\n",
    "        print(f'{'A'}학점입니다.')\n",
    "elif score >= 80:\n",
    "        print(f'{'B'}학점입니다.')\n",
    "elif score >= 70:\n",
    "        print(f'{'C'}학점입니다.')\n",
    "else:\n",
    "        print(f'{'F'}학점입니다.')"
   ]
  },
  {
   "cell_type": "markdown",
   "id": "58ff4f20-8353-46f2-bcf1-b80685c19a6d",
   "metadata": {},
   "source": [
    "### 사용자로부터 **월(1~12)**을 입력받아, 해당하는 계절을 출력하는 프로그램을 작성하시오.\n",
    "- 12, 1, 2월 → 겨울\n",
    "- 3, 4, 5월 → 봄\n",
    "- 6, 7, 8월 → 여름\n",
    "- 9, 10, 11월 → 가을"
   ]
  },
  {
   "cell_type": "code",
   "execution_count": null,
   "id": "c9bf787f-903f-4e50-945b-c6b07ed51616",
   "metadata": {},
   "outputs": [],
   "source": [
    "print('월을 입력하세요.')\n",
    "month = int(input())\n",
    "if month == 12 or month == 1 or month == 2:\n",
    "    print('겨울')\n",
    "else:\n",
    "    print('겨울이 아닙니다.')"
   ]
  },
  {
   "cell_type": "code",
   "execution_count": null,
   "id": "476de314-63ab-4508-a3f2-ec9ff0a3dc07",
   "metadata": {},
   "outputs": [],
   "source": [
    "print('월을 입력하세요.')\n",
    "month = int(input())\n",
    "if month in [12, 1, 2]:\n",
    "    print('겨울')\n",
    "if month in [3, 4, 5]:\n",
    "    print('봄')\n",
    "if month in [6, 7, 8]:\n",
    "    print('여름')\n",
    "if month in [9, 10, 11]:\n",
    "    print('가을')\n",
    "else:\n",
    "    print('잘못된 입력입니다.')\n",
    "\n",
    "# if를 연속 사용하는 경우 else는 마지막 if값에 따라 출력됨"
   ]
  },
  {
   "cell_type": "code",
   "execution_count": null,
   "id": "2931c4ff-47c3-4ff2-bd85-84ba74c7a816",
   "metadata": {},
   "outputs": [],
   "source": [
    "print('월을 입력하세요.')\n",
    "month = int(input())\n",
    "if month in [12, 1, 2]:\n",
    "    print('겨울')\n",
    "elif month in [3, 4, 5]:\n",
    "    print('봄')\n",
    "elif month in [6, 7, 8]:\n",
    "    print('여름')\n",
    "elif month in [9, 10, 11]:\n",
    "    print('가을')\n",
    "else:\n",
    "    print('잘못된 입력입니다.')"
   ]
  },
  {
   "cell_type": "markdown",
   "id": "44ab40ab-a5d0-4b84-bcae-f81c3abf8604",
   "metadata": {},
   "source": [
    "### 1부터 10까지 출력하는 while 반복문 작성\n",
    "- 반복작업을 만들어 준 후에 조건을 추가해주기"
   ]
  },
  {
   "cell_type": "code",
   "execution_count": 9,
   "id": "d2be9bfa-20ce-4447-a473-8dd079ca1c50",
   "metadata": {},
   "outputs": [
    {
     "name": "stdout",
     "output_type": "stream",
     "text": [
      "1\n",
      "2\n",
      "3\n",
      "4\n",
      "5\n",
      "6\n",
      "7\n",
      "8\n",
      "9\n",
      "10\n",
      "11\n"
     ]
    }
   ],
   "source": [
    "number = 0  # 비교값이 없으므로 첫값을 넣어줌\n",
    "while number != 11:  # number가 11이 되지 않을 때까지 돌아줘\n",
    "    number += 1  # 그런데 number에 1씩 더할거야\n",
    "    print(number)"
   ]
  },
  {
   "cell_type": "code",
   "execution_count": 7,
   "id": "589dbf92-4eb3-4cc2-b520-fb7fca6ff625",
   "metadata": {},
   "outputs": [
    {
     "name": "stdout",
     "output_type": "stream",
     "text": [
      "1\n",
      "2\n",
      "3\n",
      "4\n",
      "5\n",
      "6\n",
      "7\n",
      "8\n",
      "9\n",
      "10\n"
     ]
    }
   ],
   "source": [
    "result = 1 #표시될 값이 없으므로 값을 만들어 줌\n",
    "while result < 11: # ~하는 동안 계속 반복될 거야, result가 11보다 작을 때까지 계속 반복할 거야.\n",
    "    print(result) # 값을 내줘\n",
    "    result = result + 1 # 그런데 앞으로 result에 1씩 더할거야"
   ]
  },
  {
   "cell_type": "markdown",
   "id": "b74a9080-1dc7-40dd-90e2-9680ccc5a590",
   "metadata": {},
   "source": [
    "### 1부터 12까지 출력하는 반복문 작성\n",
    "- while문은 값이 참일 때만 반복함"
   ]
  },
  {
   "cell_type": "code",
   "execution_count": 14,
   "id": "72214acc-12ed-4f2b-b359-ef7370670376",
   "metadata": {},
   "outputs": [
    {
     "name": "stdout",
     "output_type": "stream",
     "text": [
      "1\n",
      "2\n",
      "3\n",
      "4\n",
      "5\n",
      "6\n",
      "7\n",
      "8\n",
      "9\n",
      "10\n",
      "11\n",
      "12\n"
     ]
    }
   ],
   "source": [
    "value1 = 0\n",
    "while value1 != 12:\n",
    "    value1 += 1\n",
    "    print(value1)"
   ]
  },
  {
   "cell_type": "code",
   "execution_count": 3,
   "id": "61dfaded-d22c-41ae-8d7a-8fdb0f9020d6",
   "metadata": {},
   "outputs": [
    {
     "name": "stdout",
     "output_type": "stream",
     "text": [
      "1\n",
      "2\n",
      "3\n",
      "4\n",
      "5\n",
      "6\n",
      "7\n",
      "8\n",
      "9\n",
      "10\n",
      "11\n",
      "12\n"
     ]
    }
   ],
   "source": [
    "for i in range(1, 13):\n",
    "    print(i)"
   ]
  },
  {
   "cell_type": "code",
   "execution_count": 20,
   "id": "e25f5852-51c7-44dc-acc5-52bab2fb9cec",
   "metadata": {},
   "outputs": [
    {
     "name": "stdout",
     "output_type": "stream",
     "text": [
      "1\n",
      "2\n",
      "3\n",
      "4\n",
      "5\n",
      "6\n",
      "7\n",
      "8\n",
      "9\n",
      "10\n",
      "11\n"
     ]
    }
   ],
   "source": [
    "result = 1\n",
    "while result < 12: # 부등호만 바꿨지만 while값이 참이므로 작동\n",
    "    print(result)\n",
    "    result = result + 1"
   ]
  },
  {
   "cell_type": "markdown",
   "id": "ed6f4cbb-ca09-4107-a6d9-839e724e3687",
   "metadata": {},
   "source": [
    "### 12부터 24까지 출력하는 반복문 작성\n",
    "- 출력 시작값을 기준으로 잡기"
   ]
  },
  {
   "cell_type": "code",
   "execution_count": 2,
   "id": "582cb0a0-0b12-424b-86c9-5b3af7f235a0",
   "metadata": {},
   "outputs": [
    {
     "name": "stdout",
     "output_type": "stream",
     "text": [
      "12\n",
      "13\n",
      "14\n",
      "15\n",
      "16\n",
      "17\n",
      "18\n",
      "19\n",
      "20\n",
      "21\n",
      "22\n",
      "23\n",
      "24\n"
     ]
    }
   ],
   "source": [
    "result = 12 \n",
    "while result <= 24:\n",
    "    print(result)\n",
    "    result = result + 1"
   ]
  },
  {
   "cell_type": "markdown",
   "id": "b075dda4-1916-4527-89f5-e40e77c9dcb7",
   "metadata": {},
   "source": [
    "### 1부터 10까지 출력 (for문)"
   ]
  },
  {
   "cell_type": "code",
   "execution_count": 32,
   "id": "735c5513-abf8-4382-85b3-4427ba3efafd",
   "metadata": {},
   "outputs": [
    {
     "name": "stdout",
     "output_type": "stream",
     "text": [
      "1\n",
      "2\n",
      "3\n",
      "4\n",
      "5\n",
      "6\n",
      "7\n",
      "8\n",
      "9\n",
      "10\n"
     ]
    }
   ],
   "source": [
    "for i in range(1, 11):\n",
    "    print(i)"
   ]
  },
  {
   "cell_type": "markdown",
   "id": "64bd9102-4432-48dc-b811-b77f679106c9",
   "metadata": {},
   "source": [
    "### 3부터 50까지 3의 배수만 뽑아 출력"
   ]
  },
  {
   "cell_type": "code",
   "execution_count": 44,
   "id": "652d512f-9d9f-46c0-89f0-ba7c0267b7da",
   "metadata": {},
   "outputs": [
    {
     "name": "stdout",
     "output_type": "stream",
     "text": [
      "3\n",
      "6\n",
      "9\n",
      "12\n",
      "15\n",
      "18\n",
      "21\n",
      "24\n",
      "27\n",
      "30\n",
      "33\n",
      "36\n",
      "39\n",
      "42\n",
      "45\n",
      "48\n"
     ]
    }
   ],
   "source": [
    "for i in range(3, 51, 3): # 3부터 50까지 3칸씩 띄워 반복할거야.\n",
    "    print(i) # 그 값을 보여줘."
   ]
  },
  {
   "cell_type": "code",
   "execution_count": 46,
   "id": "896f2345-4f68-499a-bc0f-83971a3e3038",
   "metadata": {},
   "outputs": [
    {
     "name": "stdout",
     "output_type": "stream",
     "text": [
      "3\n",
      "6\n",
      "9\n",
      "12\n",
      "15\n",
      "18\n",
      "21\n",
      "24\n",
      "27\n",
      "30\n",
      "33\n",
      "36\n",
      "39\n",
      "42\n",
      "45\n",
      "48\n"
     ]
    }
   ],
   "source": [
    "for i in range(3, 51): # 3부터 50까지 반복할거야\n",
    "    if i % 3 == 0: # 만약 i를 3으로 나눠서 나머지가 0이라면 (배수라면)\n",
    "        print(i) # 출력해줘"
   ]
  },
  {
   "cell_type": "markdown",
   "id": "7db8e706-b149-46cc-b394-6db81cdd17bb",
   "metadata": {},
   "source": [
    "### 1부터 20까지 숫자 중 짝수만 출력"
   ]
  },
  {
   "cell_type": "code",
   "execution_count": 62,
   "id": "6d250fd7-6f2c-4802-ab5a-3d9e171dd163",
   "metadata": {},
   "outputs": [
    {
     "name": "stdout",
     "output_type": "stream",
     "text": [
      "2\n",
      "4\n",
      "6\n",
      "8\n",
      "10\n",
      "12\n",
      "14\n",
      "16\n",
      "18\n",
      "20\n"
     ]
    }
   ],
   "source": [
    "for i in range(1, 21):\n",
    "    if int(i) % 2 == 0:\n",
    "        print(i)"
   ]
  },
  {
   "cell_type": "markdown",
   "id": "bf4e09e4-bb7c-47f7-9d15-4a6380e162f6",
   "metadata": {},
   "source": [
    "### 구구단 3단 출력"
   ]
  },
  {
   "cell_type": "code",
   "execution_count": 69,
   "id": "160f3dca-b8a5-4fee-985b-1ad088eaedf1",
   "metadata": {},
   "outputs": [
    {
     "name": "stdout",
     "output_type": "stream",
     "text": [
      "3\n",
      "6\n",
      "9\n",
      "12\n",
      "15\n",
      "18\n",
      "21\n",
      "24\n",
      "27\n"
     ]
    }
   ],
   "source": [
    "for i in range(1, 28): # 1부터 28까지 반복할거야.\n",
    "    if int(i) % 3 == 0: # 만약 i를 3으로 나눠 나머지가 0이라면 (3의 배수라면)\n",
    "        print(i) # 출력해줘~"
   ]
  },
  {
   "cell_type": "code",
   "execution_count": 15,
   "id": "42e07d00-ed3f-47c3-984f-fe2fe252f426",
   "metadata": {},
   "outputs": [
    {
     "ename": "NameError",
     "evalue": "name 'numbers' is not defined",
     "output_type": "error",
     "traceback": [
      "\u001b[1;31m---------------------------------------------------------------------------\u001b[0m",
      "\u001b[1;31mNameError\u001b[0m                                 Traceback (most recent call last)",
      "Cell \u001b[1;32mIn[15], line 4\u001b[0m\n\u001b[0;32m      2\u001b[0m     answer \u001b[38;5;241m=\u001b[39m \u001b[38;5;241m0\u001b[39m\n\u001b[0;32m      3\u001b[0m     numbers\u001b[38;5;241m.\u001b[39msort(reverse\u001b[38;5;241m=\u001b[39m\u001b[38;5;28;01mTrue\u001b[39;00m)\n\u001b[1;32m----> 4\u001b[0m \u001b[38;5;28mprint\u001b[39m(\u001b[43mnumbers\u001b[49m)\n",
      "\u001b[1;31mNameError\u001b[0m: name 'numbers' is not defined"
     ]
    }
   ],
   "source": [
    "def solution(numbers):\n",
    "    answer = 0\n",
    "    numbers.sort(reverse=True)\n",
    "print(numbers)"
   ]
  },
  {
   "cell_type": "code",
   "execution_count": 32,
   "id": "ea372fef-667d-4337-b629-caaab979cdc1",
   "metadata": {},
   "outputs": [],
   "source": [
    "def solution(num_list):\n",
    "    for number in reversed(range(num_list)):\n",
    "        return number"
   ]
  },
  {
   "cell_type": "code",
   "execution_count": 35,
   "id": "bcb3a86c-4fa7-44ff-b7c9-a87f3663b9e8",
   "metadata": {},
   "outputs": [
    {
     "ename": "TypeError",
     "evalue": "'function' object is not subscriptable",
     "output_type": "error",
     "traceback": [
      "\u001b[1;31m---------------------------------------------------------------------------\u001b[0m",
      "\u001b[1;31mTypeError\u001b[0m                                 Traceback (most recent call last)",
      "Cell \u001b[1;32mIn[35], line 1\u001b[0m\n\u001b[1;32m----> 1\u001b[0m \u001b[38;5;28mprint\u001b[39m(\u001b[43msolution\u001b[49m\u001b[43m[\u001b[49m\u001b[38;5;241;43m1\u001b[39;49m\u001b[43m,\u001b[49m\u001b[43m \u001b[49m\u001b[38;5;241;43m2\u001b[39;49m\u001b[43m,\u001b[49m\u001b[43m \u001b[49m\u001b[38;5;241;43m3\u001b[39;49m\u001b[43m,\u001b[49m\u001b[43m \u001b[49m\u001b[38;5;241;43m4\u001b[39;49m\u001b[43m,\u001b[49m\u001b[43m \u001b[49m\u001b[38;5;241;43m5\u001b[39;49m\u001b[43m]\u001b[49m) \n",
      "\u001b[1;31mTypeError\u001b[0m: 'function' object is not subscriptable"
     ]
    }
   ],
   "source": [
    "print(solution[1, 2, 3, 4, 5]) "
   ]
  },
  {
   "cell_type": "code",
   "execution_count": 39,
   "id": "86b95656-bd64-4568-99cb-2d2088452f10",
   "metadata": {},
   "outputs": [
    {
     "ename": "NameError",
     "evalue": "name 'numbers' is not defined",
     "output_type": "error",
     "traceback": [
      "\u001b[1;31m---------------------------------------------------------------------------\u001b[0m",
      "\u001b[1;31mNameError\u001b[0m                                 Traceback (most recent call last)",
      "Cell \u001b[1;32mIn[39], line 3\u001b[0m\n\u001b[0;32m      1\u001b[0m \u001b[38;5;28;01mdef\u001b[39;00m\u001b[38;5;250m \u001b[39m\u001b[38;5;21msolution\u001b[39m(numbers):\n\u001b[0;32m      2\u001b[0m     numbers\u001b[38;5;241m.\u001b[39msort(reverse\u001b[38;5;241m=\u001b[39m\u001b[38;5;28;01mTrue\u001b[39;00m)\n\u001b[1;32m----> 3\u001b[0m \u001b[38;5;28mprint\u001b[39m(\u001b[43mnumbers\u001b[49m)\n",
      "\u001b[1;31mNameError\u001b[0m: name 'numbers' is not defined"
     ]
    }
   ],
   "source": [
    "def solution(numbers):\n",
    "    numbers.sort(reverse=True)\n",
    "print(numbers)"
   ]
  }
 ],
 "metadata": {
  "kernelspec": {
   "display_name": "Python 3 (ipykernel)",
   "language": "python",
   "name": "python3"
  },
  "language_info": {
   "codemirror_mode": {
    "name": "ipython",
    "version": 3
   },
   "file_extension": ".py",
   "mimetype": "text/x-python",
   "name": "python",
   "nbconvert_exporter": "python",
   "pygments_lexer": "ipython3",
   "version": "3.13.2"
  }
 },
 "nbformat": 4,
 "nbformat_minor": 5
}
