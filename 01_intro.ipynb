{
 "cells": [
  {
   "cell_type": "markdown",
   "id": "9e71a57b-1108-4aa8-b0ee-b31ff6d43cad",
   "metadata": {},
   "source": [
    "# 01. intro\n",
    "\n",
    "## shortcut\n",
    "\n",
    "- ctrl + enter : 현재 셀 실행\n",
    "- shift + enter : 현재 셀 실행 & 아래로 이동\n",
    "- alt + enter : 현재 셀 실행 & 아래에 새로운 셀 추가"
   ]
  },
  {
   "cell_type": "markdown",
   "id": "a47b5cc6-6167-4d99-bb7d-7cebd11c866e",
   "metadata": {},
   "source": [
    "## 주의사항\n",
    "\n",
    "1. Apple / apple\n",
    "2. git add. / git add .\n",
    "3. message / massage"
   ]
  },
  {
   "cell_type": "markdown",
   "id": "ceb6e90a-215a-418d-a3f7-46f3fcb519e9",
   "metadata": {},
   "source": [
    "# 01. 변수\n",
    "\n",
    "```\n",
    "var_name(변수이름) = value(값)\n",
    "```\n",
    "\n",
    "- 변수 이름은 어떤 이름이든 사용가능 (한글을 사용할 수는 있지만 영어로 사용)\n",
    "- 다만 영어, 숫자, _를 이용해서 선언\n",
    "- 키워드(안되는 것 몇가지)는 불가능 (파이썬의 기능을 가진 이름들)"
   ]
  },
  {
   "cell_type": "code",
   "execution_count": 5,
   "id": "926101f6-88ce-4b43-a0a0-3e328db4a752",
   "metadata": {},
   "outputs": [],
   "source": [
    "a = 100"
   ]
  },
  {
   "cell_type": "code",
   "execution_count": 6,
   "id": "c36bb766-d2e7-4a90-8e4a-c99bbc9b0c5c",
   "metadata": {},
   "outputs": [
    {
     "data": {
      "text/plain": [
       "100"
      ]
     },
     "execution_count": 6,
     "metadata": {},
     "output_type": "execute_result"
    }
   ],
   "source": [
    "a"
   ]
  },
  {
   "cell_type": "code",
   "execution_count": 7,
   "id": "f42c7455-42da-4538-b2ea-65de64c84e23",
   "metadata": {},
   "outputs": [
    {
     "data": {
      "text/plain": [
       "['False',\n",
       " 'None',\n",
       " 'True',\n",
       " 'and',\n",
       " 'as',\n",
       " 'assert',\n",
       " 'async',\n",
       " 'await',\n",
       " 'break',\n",
       " 'class',\n",
       " 'continue',\n",
       " 'def',\n",
       " 'del',\n",
       " 'elif',\n",
       " 'else',\n",
       " 'except',\n",
       " 'finally',\n",
       " 'for',\n",
       " 'from',\n",
       " 'global',\n",
       " 'if',\n",
       " 'import',\n",
       " 'in',\n",
       " 'is',\n",
       " 'lambda',\n",
       " 'nonlocal',\n",
       " 'not',\n",
       " 'or',\n",
       " 'pass',\n",
       " 'raise',\n",
       " 'return',\n",
       " 'try',\n",
       " 'while',\n",
       " 'with',\n",
       " 'yield']"
      ]
     },
     "execution_count": 7,
     "metadata": {},
     "output_type": "execute_result"
    }
   ],
   "source": [
    "import keyword\n",
    "keyword.kwlist"
   ]
  },
  {
   "cell_type": "code",
   "execution_count": 12,
   "id": "a40298f3-a7ea-4f4f-a62b-2be9fc924c9e",
   "metadata": {},
   "outputs": [],
   "source": [
    "seoul_dust_rate = 150"
   ]
  },
  {
   "cell_type": "markdown",
   "id": "76b8948c-cda3-4a42-99dd-d3b6ddc68870",
   "metadata": {},
   "source": [
    "# 1.1 number"
   ]
  },
  {
   "cell_type": "code",
   "execution_count": 14,
   "id": "c0dcdbc1-32db-4f88-8220-fcd54f18d977",
   "metadata": {},
   "outputs": [],
   "source": [
    "a = 10000"
   ]
  },
  {
   "cell_type": "code",
   "execution_count": 15,
   "id": "eb01ecd7-3490-4d7b-9401-835011e1419d",
   "metadata": {},
   "outputs": [
    {
     "data": {
      "text/plain": [
       "10000"
      ]
     },
     "execution_count": 15,
     "metadata": {},
     "output_type": "execute_result"
    }
   ],
   "source": [
    "a"
   ]
  },
  {
   "cell_type": "code",
   "execution_count": 17,
   "id": "50efbdf7-ea23-4101-85b8-1824e133d23d",
   "metadata": {},
   "outputs": [
    {
     "data": {
      "text/plain": [
       "int"
      ]
     },
     "execution_count": 17,
     "metadata": {},
     "output_type": "execute_result"
    }
   ],
   "source": [
    "type(a)"
   ]
  },
  {
   "cell_type": "code",
   "execution_count": 19,
   "id": "3b2e55d2-ffe5-4e34-b651-5bf2f8e39d42",
   "metadata": {},
   "outputs": [],
   "source": [
    "b = 1.1"
   ]
  },
  {
   "cell_type": "code",
   "execution_count": 20,
   "id": "45b8329c-da15-48f7-8473-cb30a5ef0df3",
   "metadata": {},
   "outputs": [
    {
     "data": {
      "text/plain": [
       "1.1"
      ]
     },
     "execution_count": 20,
     "metadata": {},
     "output_type": "execute_result"
    }
   ],
   "source": [
    "b"
   ]
  },
  {
   "cell_type": "code",
   "execution_count": 21,
   "id": "9a21ed81-586e-4e22-a326-5281945c0bc7",
   "metadata": {},
   "outputs": [
    {
     "data": {
      "text/plain": [
       "float"
      ]
     },
     "execution_count": 21,
     "metadata": {},
     "output_type": "execute_result"
    }
   ],
   "source": [
    "type(b)"
   ]
  },
  {
   "cell_type": "code",
   "execution_count": 22,
   "id": "31e48a22-214a-4147-a508-b9191e7300b3",
   "metadata": {},
   "outputs": [],
   "source": [
    "c = 1 + 1j"
   ]
  },
  {
   "cell_type": "code",
   "execution_count": 23,
   "id": "e85ffe19-c603-41a8-ba80-3f6ac24a210b",
   "metadata": {},
   "outputs": [
    {
     "data": {
      "text/plain": [
       "(1+1j)"
      ]
     },
     "execution_count": 23,
     "metadata": {},
     "output_type": "execute_result"
    }
   ],
   "source": [
    "c"
   ]
  },
  {
   "cell_type": "code",
   "execution_count": 24,
   "id": "d6f29706-6edd-4ce0-91e8-26c0c61d644b",
   "metadata": {},
   "outputs": [
    {
     "data": {
      "text/plain": [
       "complex"
      ]
     },
     "execution_count": 24,
     "metadata": {},
     "output_type": "execute_result"
    }
   ],
   "source": [
    "type(c)"
   ]
  },
  {
   "cell_type": "markdown",
   "id": "e0c0dedb-b548-45fb-93a3-7d94026461e5",
   "metadata": {},
   "source": [
    "## 1.2 boolean(불리언)"
   ]
  },
  {
   "cell_type": "code",
   "execution_count": 25,
   "id": "d0f6fe43-5d14-4766-bbdd-3ed55b894ff8",
   "metadata": {},
   "outputs": [],
   "source": [
    "a = True"
   ]
  },
  {
   "cell_type": "code",
   "execution_count": 26,
   "id": "559cab00-a177-4ac2-9904-63f548ae458f",
   "metadata": {},
   "outputs": [
    {
     "data": {
      "text/plain": [
       "True"
      ]
     },
     "execution_count": 26,
     "metadata": {},
     "output_type": "execute_result"
    }
   ],
   "source": [
    "a"
   ]
  },
  {
   "cell_type": "code",
   "execution_count": 27,
   "id": "322f2bd7-03fb-40d6-9f60-ef454d1f9e89",
   "metadata": {},
   "outputs": [
    {
     "data": {
      "text/plain": [
       "bool"
      ]
     },
     "execution_count": 27,
     "metadata": {},
     "output_type": "execute_result"
    }
   ],
   "source": [
    "type(a)"
   ]
  },
  {
   "cell_type": "code",
   "execution_count": 28,
   "id": "f718dcda-0ecd-44f9-96a1-5f2b0199118a",
   "metadata": {},
   "outputs": [],
   "source": [
    "b = False"
   ]
  },
  {
   "cell_type": "code",
   "execution_count": 29,
   "id": "256e068a-901a-4bb9-9571-af2f12f055c5",
   "metadata": {},
   "outputs": [
    {
     "data": {
      "text/plain": [
       "False"
      ]
     },
     "execution_count": 29,
     "metadata": {},
     "output_type": "execute_result"
    }
   ],
   "source": [
    "b"
   ]
  },
  {
   "cell_type": "markdown",
   "id": "2fb6e788-b376-4ee8-aac7-8d4f231c8e2d",
   "metadata": {},
   "source": [
    "## 1.3 string\n",
    "- `'`, `\"`를 이용하여 표현"
   ]
  },
  {
   "cell_type": "code",
   "execution_count": 30,
   "id": "ccc40c9e-c311-4654-a57f-1301e67158c9",
   "metadata": {},
   "outputs": [],
   "source": [
    "a = 'hello'"
   ]
  },
  {
   "cell_type": "code",
   "execution_count": 31,
   "id": "093b76bf-8285-4923-99e7-cf171135cd50",
   "metadata": {},
   "outputs": [],
   "source": [
    "b = \"hi\""
   ]
  },
  {
   "cell_type": "code",
   "execution_count": 32,
   "id": "6ef3be0b-dcb1-4440-b949-cbb24d1f95f7",
   "metadata": {},
   "outputs": [
    {
     "data": {
      "text/plain": [
       "'hello'"
      ]
     },
     "execution_count": 32,
     "metadata": {},
     "output_type": "execute_result"
    }
   ],
   "source": [
    "a"
   ]
  },
  {
   "cell_type": "code",
   "execution_count": 33,
   "id": "54131370-b731-4520-ba69-d177768e1fba",
   "metadata": {},
   "outputs": [
    {
     "data": {
      "text/plain": [
       "'hi'"
      ]
     },
     "execution_count": 33,
     "metadata": {},
     "output_type": "execute_result"
    }
   ],
   "source": [
    "b"
   ]
  },
  {
   "cell_type": "code",
   "execution_count": 37,
   "id": "9f514bf7-272f-4d7f-b995-bdc7d467c885",
   "metadata": {},
   "outputs": [
    {
     "name": "stdout",
     "output_type": "stream",
     "text": [
      "hello my name is \"hyojin\"\n"
     ]
    }
   ],
   "source": [
    "print('hello my name is \"hyojin\"')"
   ]
  },
  {
   "cell_type": "code",
   "execution_count": 45,
   "id": "8a73db3a-dea7-4a74-9bd1-4a0971bb6d4e",
   "metadata": {},
   "outputs": [
    {
     "name": "stdout",
     "output_type": "stream",
     "text": [
      "hello\n",
      " my name is 'hyojin'\n"
     ]
    }
   ],
   "source": [
    "print('hello\\n my name is \\'hyojin\\'')"
   ]
  },
  {
   "cell_type": "code",
   "execution_count": 53,
   "id": "d5ac4830-1b88-401f-8c2e-c4fe42ef17b2",
   "metadata": {},
   "outputs": [],
   "source": [
    "a = '''\n",
    "hello\n",
    "world\n",
    "hi\n",
    "''' #줄바꿈"
   ]
  },
  {
   "cell_type": "code",
   "execution_count": 52,
   "id": "8bf4fb8b-9a32-4cb2-ba8c-4ab00fde2638",
   "metadata": {},
   "outputs": [
    {
     "data": {
      "text/plain": [
       "'\\nhello\\nworld\\nhi\\n'"
      ]
     },
     "execution_count": 52,
     "metadata": {},
     "output_type": "execute_result"
    }
   ],
   "source": [
    "a"
   ]
  },
  {
   "cell_type": "code",
   "execution_count": 54,
   "id": "ae34fa72-d13b-4a06-bd57-47812c741ef7",
   "metadata": {},
   "outputs": [],
   "source": [
    "a = 10\n",
    "b = '홍길동은 a살입니다.'"
   ]
  },
  {
   "cell_type": "markdown",
   "id": "25175d5d-dbcd-4b35-8afc-583f02c298bf",
   "metadata": {},
   "source": [
    "### string interpolation (문자열 안에 변수를 삽입하는 방법)\n",
    "\n",
    "- %-formatting\n",
    "- st.format()\n",
    "- f-string"
   ]
  },
  {
   "cell_type": "code",
   "execution_count": 61,
   "id": "8943092d-f87a-4310-bfb5-36f8b2c5d9bb",
   "metadata": {},
   "outputs": [],
   "source": [
    "age = 10"
   ]
  },
  {
   "cell_type": "code",
   "execution_count": 122,
   "id": "ccfdc627-a288-4cc0-b8de-cdff38bcb8da",
   "metadata": {},
   "outputs": [
    {
     "name": "stdout",
     "output_type": "stream",
     "text": [
      "홍길동은 10살입니다.\n"
     ]
    }
   ],
   "source": [
    "print('홍길동은 %s살입니다.' % age) # %s는 문자열, %d는 정수를 의미"
   ]
  },
  {
   "cell_type": "code",
   "execution_count": 126,
   "id": "4d99f36c-fb3d-403f-abc3-4f05a36e63d8",
   "metadata": {},
   "outputs": [
    {
     "name": "stdout",
     "output_type": "stream",
     "text": [
      "홍길동은 10살입니다.\n"
     ]
    }
   ],
   "source": [
    "print('홍길동은 {}살입니다.'.format(age)) #가독성이 조금 더 좋아짐"
   ]
  },
  {
   "cell_type": "code",
   "execution_count": 128,
   "id": "aa26f873-165b-4815-8e7a-ae5a7728f33d",
   "metadata": {},
   "outputs": [
    {
     "name": "stdout",
     "output_type": "stream",
     "text": [
      "홍길동은 10살입니다.\n"
     ]
    }
   ],
   "source": [
    "print(f'홍길동은 {age}살입니다.') #f를 문자열 앞에 붙이고 {}안에 변수를 직접 입력"
   ]
  },
  {
   "cell_type": "markdown",
   "id": "dba79fba-4674-4f1c-9c59-ae74695464e7",
   "metadata": {},
   "source": [
    "# 02. 연산자"
   ]
  },
  {
   "cell_type": "markdown",
   "id": "82b18969-227a-4793-bb67-cda656ebac5b",
   "metadata": {},
   "source": [
    "# 2.1 산술연산자"
   ]
  },
  {
   "cell_type": "code",
   "execution_count": 72,
   "id": "b9324683-10c2-4998-acf2-4ba8f5a2dfd1",
   "metadata": {},
   "outputs": [],
   "source": [
    "a = 5\n",
    "b = 2"
   ]
  },
  {
   "cell_type": "code",
   "execution_count": 70,
   "id": "59c71832-0dc6-4762-ac63-d9fa44bffb64",
   "metadata": {},
   "outputs": [
    {
     "name": "stdout",
     "output_type": "stream",
     "text": [
      "7\n",
      "-3\n",
      "10\n",
      "0.4\n"
     ]
    }
   ],
   "source": [
    "print(a + b)\n",
    "print(a - b)\n",
    "print(a * b)\n",
    "print(a / b)"
   ]
  },
  {
   "cell_type": "code",
   "execution_count": 75,
   "id": "aca70b4a-8982-41ea-a834-57dee8b8f821",
   "metadata": {},
   "outputs": [
    {
     "name": "stdout",
     "output_type": "stream",
     "text": [
      "25\n",
      "2\n",
      "1\n"
     ]
    }
   ],
   "source": [
    "print(a ** b)\n",
    "print(a // b)\n",
    "print(a % b)"
   ]
  },
  {
   "cell_type": "code",
   "execution_count": 77,
   "id": "bf6fa066-8c1e-4f81-b421-7cfdd8fc438c",
   "metadata": {},
   "outputs": [
    {
     "name": "stdout",
     "output_type": "stream",
     "text": [
      "(2, 1)\n"
     ]
    }
   ],
   "source": [
    "result = divmod(a, b) #divmod 몫과 나머지가 한꺼번에 계산됨\n",
    "print(result)"
   ]
  },
  {
   "cell_type": "markdown",
   "id": "30bf4f39-2305-478e-bac3-540d4a35b2ab",
   "metadata": {},
   "source": [
    "## 2.2 비교연산자"
   ]
  },
  {
   "cell_type": "code",
   "execution_count": 81,
   "id": "76097106-35a2-41a1-9cd1-bdede607c5fa",
   "metadata": {},
   "outputs": [],
   "source": [
    "a = 5\n",
    "b = 10"
   ]
  },
  {
   "cell_type": "code",
   "execution_count": 82,
   "id": "8154d6cb-5513-46b8-bbcb-2307e5d18686",
   "metadata": {},
   "outputs": [
    {
     "name": "stdout",
     "output_type": "stream",
     "text": [
      "False\n",
      "True\n",
      "False\n",
      "True\n"
     ]
    }
   ],
   "source": [
    "print(a > b) # 부등호는 물음표라고 생각하기, a가 b보다 크니?\n",
    "print(a < b)\n",
    "print(a >= b)\n",
    "print(a <= b)"
   ]
  },
  {
   "cell_type": "code",
   "execution_count": 87,
   "id": "fe7c064b-cafd-4266-a368-87d1132497bf",
   "metadata": {},
   "outputs": [
    {
     "name": "stdout",
     "output_type": "stream",
     "text": [
      "False\n",
      "True\n"
     ]
    }
   ],
   "source": [
    "print(a == b) # 얘네 둘은 같나요?, '='와 같음\n",
    "print(a != b) # 얘네 둘은 다른가요?"
   ]
  },
  {
   "cell_type": "code",
   "execution_count": 88,
   "id": "c4e47567-dc59-4c3a-a895-b204807096b8",
   "metadata": {},
   "outputs": [
    {
     "name": "stdout",
     "output_type": "stream",
     "text": [
      "True\n",
      "False\n"
     ]
    }
   ],
   "source": [
    "print('hi' == 'hi')\n",
    "print('hi' == 'HI')"
   ]
  },
  {
   "cell_type": "markdown",
   "id": "68b886a1-aeec-43e8-9e6f-e2543f31c7a1",
   "metadata": {},
   "source": [
    "# 2.3 논리연사자\n",
    "- and : 양쪽 모두를 만족해야 True, 하나라도 만족하지 않으면 False\n",
    "- or : 한쪽만 만족해도 True, 둘 다 만족하지 않으면 False\n",
    "- not : 상태를 부정"
   ]
  },
  {
   "cell_type": "code",
   "execution_count": 91,
   "id": "a3c7743d-24cf-4737-94a9-c80191f9e5e1",
   "metadata": {},
   "outputs": [
    {
     "name": "stdout",
     "output_type": "stream",
     "text": [
      "True\n",
      "False\n",
      "False\n",
      "False\n"
     ]
    }
   ],
   "source": [
    "print(True and True)\n",
    "print(True and False)\n",
    "print(False and True)\n",
    "print(False and False)"
   ]
  },
  {
   "cell_type": "code",
   "execution_count": 93,
   "id": "b6f1c7ba-5980-4920-ae68-8cbb4ac03793",
   "metadata": {},
   "outputs": [
    {
     "name": "stdout",
     "output_type": "stream",
     "text": [
      "True\n",
      "True\n",
      "True\n",
      "False\n"
     ]
    }
   ],
   "source": [
    "print(True or True)\n",
    "print(True or False)\n",
    "print(False or True)\n",
    "print(False or False)"
   ]
  },
  {
   "cell_type": "code",
   "execution_count": 94,
   "id": "258297be-2884-4098-86bc-7c48059e8798",
   "metadata": {},
   "outputs": [
    {
     "name": "stdout",
     "output_type": "stream",
     "text": [
      "False\n"
     ]
    }
   ],
   "source": [
    "a = True\n",
    "print(not a)"
   ]
  },
  {
   "cell_type": "code",
   "execution_count": 99,
   "id": "36f7e7a2-9025-43e4-9c41-dc70e80bbd50",
   "metadata": {},
   "outputs": [
    {
     "name": "stdout",
     "output_type": "stream",
     "text": [
      "5\n",
      "0\n",
      "0\n",
      "0\n"
     ]
    }
   ],
   "source": [
    "# 단축평가\n",
    "print(3 and 5) # T+T = F\n",
    "print(3 and 0) # T+F = F\n",
    "print(0 and 5)\n",
    "print(0 and 0)"
   ]
  },
  {
   "cell_type": "code",
   "execution_count": 100,
   "id": "51104b40-6737-4caa-b40b-d2a2b0519afe",
   "metadata": {},
   "outputs": [
    {
     "name": "stdout",
     "output_type": "stream",
     "text": [
      "3\n",
      "3\n",
      "5\n",
      "0\n"
     ]
    }
   ],
   "source": [
    "print(3 or 5)\n",
    "print(3 or 0)\n",
    "print(0 or 5)\n",
    "print(0 or 0)"
   ]
  },
  {
   "cell_type": "markdown",
   "id": "125a6d40-296e-4236-996e-c93a16d5d5b7",
   "metadata": {},
   "source": [
    "# 2.4 복합 연산자"
   ]
  },
  {
   "cell_type": "code",
   "execution_count": 117,
   "id": "b94b165b-bcfe-4248-8cd5-17f7607ff985",
   "metadata": {},
   "outputs": [],
   "source": [
    "a = 2\n",
    "b = 3"
   ]
  },
  {
   "cell_type": "code",
   "execution_count": 118,
   "id": "9183f3c1-1101-4ee8-af41-ed50ca0e888d",
   "metadata": {},
   "outputs": [],
   "source": [
    "a = a + b"
   ]
  },
  {
   "cell_type": "code",
   "execution_count": 119,
   "id": "8502ea19-45c8-462e-8c2a-d42494a6b7b3",
   "metadata": {},
   "outputs": [
    {
     "data": {
      "text/plain": [
       "5"
      ]
     },
     "execution_count": 119,
     "metadata": {},
     "output_type": "execute_result"
    }
   ],
   "source": [
    "a"
   ]
  },
  {
   "cell_type": "code",
   "execution_count": 120,
   "id": "b100cd82-eda5-4715-a204-14e4bbfecb3b",
   "metadata": {},
   "outputs": [],
   "source": [
    "a = a + b\n",
    "a = a - b\n",
    "a = a * b\n",
    "a = a / b"
   ]
  },
  {
   "cell_type": "code",
   "execution_count": 121,
   "id": "b6285310-7045-4c5e-bdb1-5896e86d530e",
   "metadata": {},
   "outputs": [],
   "source": [
    "a += b\n",
    "a -= b\n",
    "a *= b\n",
    "a /= b\n",
    "a **= b\n",
    "a //= b\n",
    "a %= b"
   ]
  },
  {
   "cell_type": "markdown",
   "id": "ba93cbed-f7f6-445e-9c68-d5303135536a",
   "metadata": {},
   "source": [
    "# 2.5 기타연산자"
   ]
  },
  {
   "cell_type": "code",
   "execution_count": 130,
   "id": "28b4e35a-42b9-4da8-ad2e-fd5a1a513d25",
   "metadata": {},
   "outputs": [],
   "source": [
    "a = 'hi'\n",
    "b = 'hello'"
   ]
  },
  {
   "cell_type": "code",
   "execution_count": 135,
   "id": "b5d8df74-4116-490b-b312-dec449b9f01d",
   "metadata": {},
   "outputs": [
    {
     "name": "stdout",
     "output_type": "stream",
     "text": [
      "hihello\n"
     ]
    }
   ],
   "source": [
    "# concatenation 문자열의 연결\n",
    "# 글자끼리는 연결이 되고, 숫자끼리는 연산이 됨.\n",
    "# 글자+숫자인 경우 +는 연결로 인식 / 숫자+글자인 경우 +는 연산으로 인식하여 오류\n",
    "print(a + b)"
   ]
  },
  {
   "cell_type": "code",
   "execution_count": 140,
   "id": "c05fbb66-008a-496d-a4a7-0c4adf194bb8",
   "metadata": {},
   "outputs": [],
   "source": [
    "# 리스트의 경우 concatenation으로 작동됨\n",
    "a = [1, 2, 3]\n",
    "b = [2, 3, 4]"
   ]
  },
  {
   "cell_type": "code",
   "execution_count": 141,
   "id": "9c9f7335-234e-4bce-b11a-26f8f40c7191",
   "metadata": {},
   "outputs": [
    {
     "name": "stdout",
     "output_type": "stream",
     "text": [
      "[1, 2, 3, 2, 3, 4]\n"
     ]
    }
   ],
   "source": [
    "print(a + b)"
   ]
  },
  {
   "cell_type": "code",
   "execution_count": 143,
   "id": "c57d371d-71af-45ab-a6a3-9335660ed1bb",
   "metadata": {},
   "outputs": [
    {
     "name": "stdout",
     "output_type": "stream",
     "text": [
      "True\n",
      "False\n"
     ]
    }
   ],
   "source": [
    "print(1 in a) #1이라는 데이터가 a에 포함되어 있나요?\n",
    "print(10 in a)"
   ]
  },
  {
   "cell_type": "code",
   "execution_count": 149,
   "id": "c8e2ce9d-c475-45cc-bc77-05a28643fdb9",
   "metadata": {},
   "outputs": [],
   "source": [
    "a = 100\n",
    "b = 100"
   ]
  },
  {
   "cell_type": "code",
   "execution_count": 154,
   "id": "6a8e6ad3-654a-4fb3-afb4-65bc85af1daf",
   "metadata": {},
   "outputs": [
    {
     "name": "stdout",
     "output_type": "stream",
     "text": [
      "True\n",
      "True\n"
     ]
    }
   ],
   "source": [
    "print(a == b) #a = b 인가요? (값)\n",
    "print(a is b) #왼쪽과 오른쪽이 같은가요? (본질적으로 두 객채가 동일한가요)\n",
    "#256까지만 True (같은 위치에 항상 있기 때문에, 자주 쓰는 숫자이므로 메모리 위에 똑같은 위치에 갈 수 있도록 컴퓨터에 미리 셋팅됨)\n",
    "#따라서 a = 100, b = 100인 경우 true, a = 500, b = 500인 경우 is는 False"
   ]
  },
  {
   "cell_type": "markdown",
   "id": "d3fa6898-7456-4fca-88b7-4fe3eebfa37a",
   "metadata": {},
   "source": [
    "### 연산자 우선순위\n",
    "0. ()를 통해서 그룹\n",
    "1. ** (제곱)\n",
    "2. 산술연산자(*, /)\n",
    "3. 산술연산자(+, -)\n",
    "4. 비교연산자(부등호), in, is\n",
    "5. not\n",
    "6. and\n",
    "7. or"
   ]
  },
  {
   "cell_type": "code",
   "execution_count": 155,
   "id": "c0a44d0d-9eed-42d0-9507-cf161e19af94",
   "metadata": {},
   "outputs": [
    {
     "name": "stdout",
     "output_type": "stream",
     "text": [
      "-81\n",
      "81\n"
     ]
    }
   ],
   "source": [
    "print(-3 ** 4)\n",
    "print((-3) ** 4)"
   ]
  },
  {
   "cell_type": "markdown",
   "id": "d0d48f62-2b75-4ebf-9792-5913208812c1",
   "metadata": {},
   "source": [
    "# 3. 형변환 (형태변환)"
   ]
  },
  {
   "cell_type": "markdown",
   "id": "aaaa2fae-ed1e-465c-9fdd-e87007423c82",
   "metadata": {},
   "source": [
    "## 3.1 암시적 형변환 (파이썬이 알아서 자동으로 변환해주는 것)"
   ]
  },
  {
   "cell_type": "code",
   "execution_count": 161,
   "id": "6d9b4ef1-9884-4bf6-b2b5-bb57c81872c3",
   "metadata": {},
   "outputs": [],
   "source": [
    "a = True # 1로 인식\n",
    "b = False # 0으로 인식\n",
    "c = 1"
   ]
  },
  {
   "cell_type": "code",
   "execution_count": 166,
   "id": "79c01239-c272-4a95-b3d0-67e3782dfb47",
   "metadata": {},
   "outputs": [
    {
     "name": "stdout",
     "output_type": "stream",
     "text": [
      "1\n",
      "2\n"
     ]
    }
   ],
   "source": [
    "print(a + b)\n",
    "print(a + c)"
   ]
  },
  {
   "cell_type": "markdown",
   "id": "80e4486a-7973-4faa-ae13-cd9065934bd0",
   "metadata": {},
   "source": [
    "## 3.2 명시적 형변환\n",
    "- int()\n",
    "- float()\n",
    "- str() - 문자로 바꿔줭\n",
    "- bool()"
   ]
  },
  {
   "cell_type": "code",
   "execution_count": 170,
   "id": "ac085ae6-b912-4f63-b23a-d026ab7e47f8",
   "metadata": {},
   "outputs": [],
   "source": [
    "a = 1\n",
    "b = '반'"
   ]
  },
  {
   "cell_type": "code",
   "execution_count": 171,
   "id": "f42fcc3b-633e-4966-af52-c3772cee3e8e",
   "metadata": {},
   "outputs": [
    {
     "ename": "TypeError",
     "evalue": "unsupported operand type(s) for +: 'int' and 'str'",
     "output_type": "error",
     "traceback": [
      "\u001b[1;31m---------------------------------------------------------------------------\u001b[0m",
      "\u001b[1;31mTypeError\u001b[0m                                 Traceback (most recent call last)",
      "Cell \u001b[1;32mIn[171], line 1\u001b[0m\n\u001b[1;32m----> 1\u001b[0m \u001b[38;5;28mprint\u001b[39m(\u001b[43ma\u001b[49m\u001b[43m \u001b[49m\u001b[38;5;241;43m+\u001b[39;49m\u001b[43m \u001b[49m\u001b[43mb\u001b[49m)\n",
      "\u001b[1;31mTypeError\u001b[0m: unsupported operand type(s) for +: 'int' and 'str'"
     ]
    }
   ],
   "source": [
    "print(a + b)"
   ]
  },
  {
   "cell_type": "code",
   "execution_count": 172,
   "id": "b9e49458-2c06-4466-8296-a45a55146063",
   "metadata": {},
   "outputs": [
    {
     "name": "stdout",
     "output_type": "stream",
     "text": [
      "1반\n"
     ]
    }
   ],
   "source": [
    "print(str(a) + b)"
   ]
  },
  {
   "cell_type": "code",
   "execution_count": 176,
   "id": "e43f9071-812f-4a5c-adc4-2aa2413281ff",
   "metadata": {},
   "outputs": [
    {
     "name": "stdout",
     "output_type": "stream",
     "text": [
      "3\n",
      "<class 'str'>\n",
      "3\n",
      "<class 'int'>\n"
     ]
    }
   ],
   "source": [
    "a = '3' # 따옴표 안에 있기 때문에 글자 3\n",
    "print(a)\n",
    "print(type(a))\n",
    "\n",
    "b = int(a)\n",
    "print(b)\n",
    "print(type(b))"
   ]
  },
  {
   "cell_type": "code",
   "execution_count": 178,
   "id": "4157b29d-7630-4997-8d6d-445b9eefc7f2",
   "metadata": {},
   "outputs": [
    {
     "ename": "ValueError",
     "evalue": "invalid literal for int() with base 10: 'apple'",
     "output_type": "error",
     "traceback": [
      "\u001b[1;31m---------------------------------------------------------------------------\u001b[0m",
      "\u001b[1;31mValueError\u001b[0m                                Traceback (most recent call last)",
      "Cell \u001b[1;32mIn[178], line 2\u001b[0m\n\u001b[0;32m      1\u001b[0m c \u001b[38;5;241m=\u001b[39m \u001b[38;5;124m'\u001b[39m\u001b[38;5;124mapple\u001b[39m\u001b[38;5;124m'\u001b[39m \u001b[38;5;66;03m# apple은 숫자로 바꿀 수 없으니깐!\u001b[39;00m\n\u001b[1;32m----> 2\u001b[0m d \u001b[38;5;241m=\u001b[39m \u001b[38;5;28;43mint\u001b[39;49m\u001b[43m(\u001b[49m\u001b[43mc\u001b[49m\u001b[43m)\u001b[49m\n",
      "\u001b[1;31mValueError\u001b[0m: invalid literal for int() with base 10: 'apple'"
     ]
    }
   ],
   "source": [
    "c = 'apple' # apple은 숫자로 바꿀 수 없으니깐!\n",
    "d = int(c)"
   ]
  },
  {
   "cell_type": "code",
   "execution_count": 181,
   "id": "c733d28c-920e-4067-820a-516887721347",
   "metadata": {},
   "outputs": [
    {
     "name": "stdout",
     "output_type": "stream",
     "text": [
      "True\n",
      "False\n",
      "True\n"
     ]
    }
   ],
   "source": [
    "a = 1\n",
    "b = 0\n",
    "c = 123\n",
    "print(bool(a)) # 값이 있으면 True\n",
    "print(bool(b)) # 값이 없으면 False\n",
    "print(bool(c))"
   ]
  },
  {
   "cell_type": "code",
   "execution_count": 183,
   "id": "227bdf7c-78eb-41b1-bd46-57a9e8b374d2",
   "metadata": {},
   "outputs": [
    {
     "name": "stdout",
     "output_type": "stream",
     "text": [
      "False\n",
      "True\n"
     ]
    }
   ],
   "source": [
    "print(bool([])) # 리스트는 집합체인데 담을 데이터가 없으므로 False\n",
    "print(bool([1, 2, 3])) # 리스트는 데이터를 담을 수 있는 집합체이므로 무엇이든 들어있으면 True"
   ]
  },
  {
   "cell_type": "code",
   "execution_count": null,
   "id": "e9554253-ef6e-48f2-929b-3f26679ce70d",
   "metadata": {},
   "outputs": [],
   "source": []
  },
  {
   "cell_type": "code",
   "execution_count": null,
   "id": "a3d5d1f3-47dd-47e3-8c99-c1026163e9d8",
   "metadata": {},
   "outputs": [],
   "source": []
  }
 ],
 "metadata": {
  "kernelspec": {
   "display_name": "Python 3 (ipykernel)",
   "language": "python",
   "name": "python3"
  },
  "language_info": {
   "codemirror_mode": {
    "name": "ipython",
    "version": 3
   },
   "file_extension": ".py",
   "mimetype": "text/x-python",
   "name": "python",
   "nbconvert_exporter": "python",
   "pygments_lexer": "ipython3",
   "version": "3.13.2"
  }
 },
 "nbformat": 4,
 "nbformat_minor": 5
}
