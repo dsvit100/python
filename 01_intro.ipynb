{
 "cells": [
  {
   "cell_type": "markdown",
   "id": "9e71a57b-1108-4aa8-b0ee-b31ff6d43cad",
   "metadata": {},
   "source": [
    "# 01. intro\n",
    "\n",
    "## shortcut\n",
    "\n",
    "- ctrl + enter : 현재 셀 실행\n",
    "- shift + enter : 현재 셀 실행 & 아래로 이동\n",
    "- alt + enter : 현재 셀 실행 & 아래에 새로운 셀 추가"
   ]
  },
  {
   "cell_type": "markdown",
   "id": "a47b5cc6-6167-4d99-bb7d-7cebd11c866e",
   "metadata": {},
   "source": [
    "## 주의사항\n",
    "\n",
    "1. Apple / apple\n",
    "2. git add. / git add .\n",
    "3. message / massage"
   ]
  },
  {
   "cell_type": "markdown",
   "id": "ceb6e90a-215a-418d-a3f7-46f3fcb519e9",
   "metadata": {},
   "source": [
    "# 01. 변수\n",
    "\n",
    "```\n",
    "var_name(변수이름) = value(값)\n",
    "```\n",
    "\n",
    "- 변수 이름은 어떤 이름이든 사용가능 (한글을 사용할 수는 있지만 영어로 사용)\n",
    "- 다만 영어, 숫자, _를 이용해서 선언\n",
    "- 키워드(안되는 것 몇가지)는 불가능 (파이썬의 기능을 가진 이름들)"
   ]
  },
  {
   "cell_type": "code",
   "execution_count": 67,
   "id": "926101f6-88ce-4b43-a0a0-3e328db4a752",
   "metadata": {},
   "outputs": [],
   "source": [
    "a = 100"
   ]
  },
  {
   "cell_type": "code",
   "execution_count": 68,
   "id": "c36bb766-d2e7-4a90-8e4a-c99bbc9b0c5c",
   "metadata": {},
   "outputs": [
    {
     "data": {
      "text/plain": [
       "100"
      ]
     },
     "execution_count": 68,
     "metadata": {},
     "output_type": "execute_result"
    }
   ],
   "source": [
    "a"
   ]
  },
  {
   "cell_type": "code",
   "execution_count": 69,
   "id": "f42c7455-42da-4538-b2ea-65de64c84e23",
   "metadata": {},
   "outputs": [
    {
     "data": {
      "text/plain": [
       "['False',\n",
       " 'None',\n",
       " 'True',\n",
       " 'and',\n",
       " 'as',\n",
       " 'assert',\n",
       " 'async',\n",
       " 'await',\n",
       " 'break',\n",
       " 'class',\n",
       " 'continue',\n",
       " 'def',\n",
       " 'del',\n",
       " 'elif',\n",
       " 'else',\n",
       " 'except',\n",
       " 'finally',\n",
       " 'for',\n",
       " 'from',\n",
       " 'global',\n",
       " 'if',\n",
       " 'import',\n",
       " 'in',\n",
       " 'is',\n",
       " 'lambda',\n",
       " 'nonlocal',\n",
       " 'not',\n",
       " 'or',\n",
       " 'pass',\n",
       " 'raise',\n",
       " 'return',\n",
       " 'try',\n",
       " 'while',\n",
       " 'with',\n",
       " 'yield']"
      ]
     },
     "execution_count": 69,
     "metadata": {},
     "output_type": "execute_result"
    }
   ],
   "source": [
    "import keyword # 파이썬의 기능을 가지고 있어 변수 이름으로 할 수 없는 키워드들\n",
    "keyword.kwlist"
   ]
  },
  {
   "cell_type": "code",
   "execution_count": 70,
   "id": "a40298f3-a7ea-4f4f-a62b-2be9fc924c9e",
   "metadata": {},
   "outputs": [],
   "source": [
    "seoul_dust_rate = 150"
   ]
  },
  {
   "cell_type": "markdown",
   "id": "76b8948c-cda3-4a42-99dd-d3b6ddc68870",
   "metadata": {},
   "source": [
    "# 1.1 number"
   ]
  },
  {
   "cell_type": "code",
   "execution_count": 71,
   "id": "c0dcdbc1-32db-4f88-8220-fcd54f18d977",
   "metadata": {},
   "outputs": [],
   "source": [
    "a = 10000"
   ]
  },
  {
   "cell_type": "code",
   "execution_count": 72,
   "id": "eb01ecd7-3490-4d7b-9401-835011e1419d",
   "metadata": {},
   "outputs": [
    {
     "data": {
      "text/plain": [
       "10000"
      ]
     },
     "execution_count": 72,
     "metadata": {},
     "output_type": "execute_result"
    }
   ],
   "source": [
    "a"
   ]
  },
  {
   "cell_type": "code",
   "execution_count": 73,
   "id": "50efbdf7-ea23-4101-85b8-1824e133d23d",
   "metadata": {},
   "outputs": [
    {
     "data": {
      "text/plain": [
       "int"
      ]
     },
     "execution_count": 73,
     "metadata": {},
     "output_type": "execute_result"
    }
   ],
   "source": [
    "type(a)"
   ]
  },
  {
   "cell_type": "code",
   "execution_count": 74,
   "id": "3b2e55d2-ffe5-4e34-b651-5bf2f8e39d42",
   "metadata": {},
   "outputs": [],
   "source": [
    "b = 1.1"
   ]
  },
  {
   "cell_type": "code",
   "execution_count": 75,
   "id": "45b8329c-da15-48f7-8473-cb30a5ef0df3",
   "metadata": {},
   "outputs": [
    {
     "data": {
      "text/plain": [
       "1.1"
      ]
     },
     "execution_count": 75,
     "metadata": {},
     "output_type": "execute_result"
    }
   ],
   "source": [
    "b"
   ]
  },
  {
   "cell_type": "code",
   "execution_count": 76,
   "id": "9a21ed81-586e-4e22-a326-5281945c0bc7",
   "metadata": {},
   "outputs": [
    {
     "data": {
      "text/plain": [
       "float"
      ]
     },
     "execution_count": 76,
     "metadata": {},
     "output_type": "execute_result"
    }
   ],
   "source": [
    "type(b)"
   ]
  },
  {
   "cell_type": "code",
   "execution_count": 77,
   "id": "31e48a22-214a-4147-a508-b9191e7300b3",
   "metadata": {},
   "outputs": [],
   "source": [
    "c = 1 + 1j"
   ]
  },
  {
   "cell_type": "code",
   "execution_count": 78,
   "id": "e85ffe19-c603-41a8-ba80-3f6ac24a210b",
   "metadata": {},
   "outputs": [
    {
     "data": {
      "text/plain": [
       "(1+1j)"
      ]
     },
     "execution_count": 78,
     "metadata": {},
     "output_type": "execute_result"
    }
   ],
   "source": [
    "c"
   ]
  },
  {
   "cell_type": "code",
   "execution_count": 79,
   "id": "d6f29706-6edd-4ce0-91e8-26c0c61d644b",
   "metadata": {},
   "outputs": [
    {
     "data": {
      "text/plain": [
       "complex"
      ]
     },
     "execution_count": 79,
     "metadata": {},
     "output_type": "execute_result"
    }
   ],
   "source": [
    "type(c)"
   ]
  },
  {
   "cell_type": "markdown",
   "id": "e0c0dedb-b548-45fb-93a3-7d94026461e5",
   "metadata": {},
   "source": [
    "## 1.2 boolean(불리언) - 참 / 거짓"
   ]
  },
  {
   "cell_type": "code",
   "execution_count": 80,
   "id": "d0f6fe43-5d14-4766-bbdd-3ed55b894ff8",
   "metadata": {},
   "outputs": [],
   "source": [
    "a = True"
   ]
  },
  {
   "cell_type": "code",
   "execution_count": 81,
   "id": "559cab00-a177-4ac2-9904-63f548ae458f",
   "metadata": {},
   "outputs": [
    {
     "data": {
      "text/plain": [
       "True"
      ]
     },
     "execution_count": 81,
     "metadata": {},
     "output_type": "execute_result"
    }
   ],
   "source": [
    "a"
   ]
  },
  {
   "cell_type": "code",
   "execution_count": 82,
   "id": "322f2bd7-03fb-40d6-9f60-ef454d1f9e89",
   "metadata": {},
   "outputs": [
    {
     "data": {
      "text/plain": [
       "bool"
      ]
     },
     "execution_count": 82,
     "metadata": {},
     "output_type": "execute_result"
    }
   ],
   "source": [
    "type(a)"
   ]
  },
  {
   "cell_type": "code",
   "execution_count": 83,
   "id": "f718dcda-0ecd-44f9-96a1-5f2b0199118a",
   "metadata": {},
   "outputs": [],
   "source": [
    "b = False"
   ]
  },
  {
   "cell_type": "code",
   "execution_count": 84,
   "id": "256e068a-901a-4bb9-9571-af2f12f055c5",
   "metadata": {},
   "outputs": [
    {
     "data": {
      "text/plain": [
       "False"
      ]
     },
     "execution_count": 84,
     "metadata": {},
     "output_type": "execute_result"
    }
   ],
   "source": [
    "b"
   ]
  },
  {
   "cell_type": "markdown",
   "id": "2fb6e788-b376-4ee8-aac7-8d4f231c8e2d",
   "metadata": {},
   "source": [
    "## 1.3 string - 문자열\n",
    "- `'`, `\"`를 이용하여 표현"
   ]
  },
  {
   "cell_type": "code",
   "execution_count": 85,
   "id": "ccc40c9e-c311-4654-a57f-1301e67158c9",
   "metadata": {},
   "outputs": [],
   "source": [
    "a = 'hello'"
   ]
  },
  {
   "cell_type": "code",
   "execution_count": 86,
   "id": "093b76bf-8285-4923-99e7-cf171135cd50",
   "metadata": {},
   "outputs": [],
   "source": [
    "b = \"hi\""
   ]
  },
  {
   "cell_type": "code",
   "execution_count": 87,
   "id": "6ef3be0b-dcb1-4440-b949-cbb24d1f95f7",
   "metadata": {},
   "outputs": [
    {
     "data": {
      "text/plain": [
       "'hello'"
      ]
     },
     "execution_count": 87,
     "metadata": {},
     "output_type": "execute_result"
    }
   ],
   "source": [
    "a"
   ]
  },
  {
   "cell_type": "code",
   "execution_count": 88,
   "id": "54131370-b731-4520-ba69-d177768e1fba",
   "metadata": {},
   "outputs": [
    {
     "data": {
      "text/plain": [
       "'hi'"
      ]
     },
     "execution_count": 88,
     "metadata": {},
     "output_type": "execute_result"
    }
   ],
   "source": [
    "b"
   ]
  },
  {
   "cell_type": "code",
   "execution_count": 89,
   "id": "9f514bf7-272f-4d7f-b995-bdc7d467c885",
   "metadata": {},
   "outputs": [
    {
     "name": "stdout",
     "output_type": "stream",
     "text": [
      "hello my name is \"hyojin\"\n"
     ]
    }
   ],
   "source": [
    "print('hello my name is \"hyojin\"') # '' 안에 \"\" 는 충돌 없이 출력"
   ]
  },
  {
   "cell_type": "code",
   "execution_count": 90,
   "id": "8a73db3a-dea7-4a74-9bd1-4a0971bb6d4e",
   "metadata": {},
   "outputs": [
    {
     "name": "stdout",
     "output_type": "stream",
     "text": [
      "hello\n",
      " my name is 'hyojin'\n"
     ]
    }
   ],
   "source": [
    "# ''는 문자열을 작성하는 기호지만 코드 내 ''까지 출력되길 원하면 \\'\\'으로 표기\n",
    "# \\n 줄바꿈\n",
    "print('hello\\n my name is \\'hyojin\\'')"
   ]
  },
  {
   "cell_type": "code",
   "execution_count": 91,
   "id": "d5ac4830-1b88-401f-8c2e-c4fe42ef17b2",
   "metadata": {},
   "outputs": [],
   "source": [
    "a = '''\n",
    "hello\n",
    "world\n",
    "hi\n",
    "''' \n",
    "# 줄바꿈을 하기 위한 예제\n",
    "# 문자열('')에서는 줄바꿈이 들어가지 않는 것이 일반적이지만 (''' ''')로 묶는 경우 줄바꿈을 포함하여 출력(print)할 수 있음"
   ]
  },
  {
   "cell_type": "code",
   "execution_count": 92,
   "id": "8bf4fb8b-9a32-4cb2-ba8c-4ab00fde2638",
   "metadata": {},
   "outputs": [
    {
     "name": "stdout",
     "output_type": "stream",
     "text": [
      "\n",
      "hello\n",
      "world\n",
      "hi\n",
      "\n"
     ]
    }
   ],
   "source": [
    "print(a)"
   ]
  },
  {
   "cell_type": "code",
   "execution_count": 93,
   "id": "ae34fa72-d13b-4a06-bd57-47812c741ef7",
   "metadata": {},
   "outputs": [],
   "source": [
    "a = 10\n",
    "b = '홍길동은 a살입니다.'"
   ]
  },
  {
   "cell_type": "markdown",
   "id": "25175d5d-dbcd-4b35-8afc-583f02c298bf",
   "metadata": {},
   "source": [
    "### string interpolation (문자열 안에 변수를 삽입하는 방법)\n",
    "\n",
    "- %-formatting\n",
    "- st.format()\n",
    "- f-string"
   ]
  },
  {
   "cell_type": "code",
   "execution_count": 94,
   "id": "8943092d-f87a-4310-bfb5-36f8b2c5d9bb",
   "metadata": {},
   "outputs": [],
   "source": [
    "age = 10"
   ]
  },
  {
   "cell_type": "code",
   "execution_count": 95,
   "id": "ccfdc627-a288-4cc0-b8de-cdff38bcb8da",
   "metadata": {},
   "outputs": [
    {
     "name": "stdout",
     "output_type": "stream",
     "text": [
      "홍길동은 10살입니다.\n"
     ]
    }
   ],
   "source": [
    "print('홍길동은 %s살입니다.' % age) # %s는 문자열, %d는 정수를 의미"
   ]
  },
  {
   "cell_type": "code",
   "execution_count": 96,
   "id": "4d99f36c-fb3d-403f-abc3-4f05a36e63d8",
   "metadata": {},
   "outputs": [
    {
     "name": "stdout",
     "output_type": "stream",
     "text": [
      "홍길동은 10살입니다.\n"
     ]
    }
   ],
   "source": [
    "print('홍길동은 {}살입니다.'.format(age)) #%-formatting보다 가독성이 조금 더 좋아짐"
   ]
  },
  {
   "cell_type": "code",
   "execution_count": 97,
   "id": "aa26f873-165b-4815-8e7a-ae5a7728f33d",
   "metadata": {},
   "outputs": [
    {
     "name": "stdout",
     "output_type": "stream",
     "text": [
      "홍길동은 10살입니다.\n"
     ]
    }
   ],
   "source": [
    "print(f'홍길동은 {age}살입니다.') #f를 문자열 앞에 붙이고 {}안에 변수를 직접 입력"
   ]
  },
  {
   "cell_type": "markdown",
   "id": "dba79fba-4674-4f1c-9c59-ae74695464e7",
   "metadata": {},
   "source": [
    "# 02. 연산자"
   ]
  },
  {
   "cell_type": "markdown",
   "id": "82b18969-227a-4793-bb67-cda656ebac5b",
   "metadata": {},
   "source": [
    "# 2.1 산술연산자"
   ]
  },
  {
   "cell_type": "code",
   "execution_count": 98,
   "id": "b9324683-10c2-4998-acf2-4ba8f5a2dfd1",
   "metadata": {},
   "outputs": [],
   "source": [
    "a = 5\n",
    "b = 2"
   ]
  },
  {
   "cell_type": "code",
   "execution_count": 99,
   "id": "59c71832-0dc6-4762-ac63-d9fa44bffb64",
   "metadata": {},
   "outputs": [
    {
     "name": "stdout",
     "output_type": "stream",
     "text": [
      "7\n",
      "3\n",
      "10\n",
      "2.5\n"
     ]
    }
   ],
   "source": [
    "print(a + b)\n",
    "print(a - b)\n",
    "print(a * b)\n",
    "print(a / b)"
   ]
  },
  {
   "cell_type": "code",
   "execution_count": 100,
   "id": "aca70b4a-8982-41ea-a834-57dee8b8f821",
   "metadata": {},
   "outputs": [
    {
     "name": "stdout",
     "output_type": "stream",
     "text": [
      "25\n",
      "2\n",
      "1\n"
     ]
    }
   ],
   "source": [
    "print(a ** b) # 제곱\n",
    "print(a // b) # 나눠서 몫만 출력\n",
    "print(a % b) # 나눠서 나머지만 출력"
   ]
  },
  {
   "cell_type": "code",
   "execution_count": 101,
   "id": "bf6fa066-8c1e-4f81-b421-7cfdd8fc438c",
   "metadata": {},
   "outputs": [
    {
     "name": "stdout",
     "output_type": "stream",
     "text": [
      "(2, 1)\n"
     ]
    }
   ],
   "source": [
    "result = divmod(a, b) #divmod 몫과 나머지가 한꺼번에 계산됨\n",
    "print(result)"
   ]
  },
  {
   "cell_type": "markdown",
   "id": "30bf4f39-2305-478e-bac3-540d4a35b2ab",
   "metadata": {},
   "source": [
    "## 2.2 비교연산자"
   ]
  },
  {
   "cell_type": "code",
   "execution_count": 102,
   "id": "76097106-35a2-41a1-9cd1-bdede607c5fa",
   "metadata": {},
   "outputs": [],
   "source": [
    "a = 5\n",
    "b = 10"
   ]
  },
  {
   "cell_type": "code",
   "execution_count": 103,
   "id": "8154d6cb-5513-46b8-bbcb-2307e5d18686",
   "metadata": {},
   "outputs": [
    {
     "name": "stdout",
     "output_type": "stream",
     "text": [
      "False\n",
      "True\n",
      "False\n",
      "True\n"
     ]
    }
   ],
   "source": [
    "print(a > b) # 부등호는 물음표라고 생각하기, a가 b보다 크니?\n",
    "print(a < b)\n",
    "print(a >= b)\n",
    "print(a <= b)"
   ]
  },
  {
   "cell_type": "code",
   "execution_count": 104,
   "id": "fe7c064b-cafd-4266-a368-87d1132497bf",
   "metadata": {},
   "outputs": [
    {
     "name": "stdout",
     "output_type": "stream",
     "text": [
      "False\n",
      "True\n"
     ]
    }
   ],
   "source": [
    "print(a == b) # 얘네 둘은 같나요?, '='와 같음\n",
    "print(a != b) # 얘네 둘은 다른가요?"
   ]
  },
  {
   "cell_type": "code",
   "execution_count": 105,
   "id": "c4e47567-dc59-4c3a-a895-b204807096b8",
   "metadata": {},
   "outputs": [
    {
     "name": "stdout",
     "output_type": "stream",
     "text": [
      "True\n",
      "False\n"
     ]
    }
   ],
   "source": [
    "print('hi' == 'hi')\n",
    "print('hi' == 'HI')"
   ]
  },
  {
   "cell_type": "markdown",
   "id": "68b886a1-aeec-43e8-9e6f-e2543f31c7a1",
   "metadata": {},
   "source": [
    "# 2.3 논리연사자\n",
    "- and : 양쪽 모두를 만족해야 True, 하나라도 만족하지 않으면 False\n",
    "- or : 한쪽만 만족해도 True, 둘 다 만족하지 않으면 False\n",
    "- not : 상태를 부정"
   ]
  },
  {
   "cell_type": "code",
   "execution_count": 106,
   "id": "a3c7743d-24cf-4737-94a9-c80191f9e5e1",
   "metadata": {},
   "outputs": [
    {
     "name": "stdout",
     "output_type": "stream",
     "text": [
      "True\n",
      "False\n",
      "False\n",
      "False\n"
     ]
    }
   ],
   "source": [
    "print(True and True)\n",
    "print(True and False)\n",
    "print(False and True)\n",
    "print(False and False)"
   ]
  },
  {
   "cell_type": "code",
   "execution_count": 107,
   "id": "b6f1c7ba-5980-4920-ae68-8cbb4ac03793",
   "metadata": {},
   "outputs": [
    {
     "name": "stdout",
     "output_type": "stream",
     "text": [
      "True\n",
      "True\n",
      "True\n",
      "False\n"
     ]
    }
   ],
   "source": [
    "print(True or True)\n",
    "print(True or False)\n",
    "print(False or True)\n",
    "print(False or False)"
   ]
  },
  {
   "cell_type": "code",
   "execution_count": 108,
   "id": "258297be-2884-4098-86bc-7c48059e8798",
   "metadata": {},
   "outputs": [
    {
     "name": "stdout",
     "output_type": "stream",
     "text": [
      "False\n"
     ]
    }
   ],
   "source": [
    "a = True\n",
    "print(not a)"
   ]
  },
  {
   "cell_type": "code",
   "execution_count": 109,
   "id": "36f7e7a2-9025-43e4-9c41-dc70e80bbd50",
   "metadata": {},
   "outputs": [
    {
     "name": "stdout",
     "output_type": "stream",
     "text": [
      "5\n",
      "0\n",
      "0\n",
      "0\n"
     ]
    }
   ],
   "source": [
    "# 단축평가\n",
    "print(3 and 5) # T+T = F\n",
    "print(3 and 0) # T+F = F\n",
    "print(0 and 5)\n",
    "print(0 and 0)"
   ]
  },
  {
   "cell_type": "code",
   "execution_count": 110,
   "id": "51104b40-6737-4caa-b40b-d2a2b0519afe",
   "metadata": {},
   "outputs": [
    {
     "name": "stdout",
     "output_type": "stream",
     "text": [
      "3\n",
      "3\n",
      "5\n",
      "0\n"
     ]
    }
   ],
   "source": [
    "print(3 or 5)\n",
    "print(3 or 0)\n",
    "print(0 or 5)\n",
    "print(0 or 0)"
   ]
  },
  {
   "cell_type": "markdown",
   "id": "125a6d40-296e-4236-996e-c93a16d5d5b7",
   "metadata": {},
   "source": [
    "# 2.4 복합 연산자"
   ]
  },
  {
   "cell_type": "code",
   "execution_count": 111,
   "id": "b94b165b-bcfe-4248-8cd5-17f7607ff985",
   "metadata": {},
   "outputs": [],
   "source": [
    "a = 2\n",
    "b = 3"
   ]
  },
  {
   "cell_type": "code",
   "execution_count": 112,
   "id": "9183f3c1-1101-4ee8-af41-ed50ca0e888d",
   "metadata": {},
   "outputs": [],
   "source": [
    "a = a + b"
   ]
  },
  {
   "cell_type": "code",
   "execution_count": 113,
   "id": "8502ea19-45c8-462e-8c2a-d42494a6b7b3",
   "metadata": {},
   "outputs": [
    {
     "data": {
      "text/plain": [
       "5"
      ]
     },
     "execution_count": 113,
     "metadata": {},
     "output_type": "execute_result"
    }
   ],
   "source": [
    "a"
   ]
  },
  {
   "cell_type": "code",
   "execution_count": 114,
   "id": "b100cd82-eda5-4715-a204-14e4bbfecb3b",
   "metadata": {},
   "outputs": [],
   "source": [
    "a = a + b\n",
    "a = a - b\n",
    "a = a * b\n",
    "a = a / b"
   ]
  },
  {
   "cell_type": "code",
   "execution_count": 115,
   "id": "b6285310-7045-4c5e-bdb1-5896e86d530e",
   "metadata": {},
   "outputs": [],
   "source": [
    "a += b\n",
    "a -= b\n",
    "a *= b\n",
    "a /= b\n",
    "a **= b\n",
    "a //= b\n",
    "a %= b"
   ]
  },
  {
   "cell_type": "markdown",
   "id": "ba93cbed-f7f6-445e-9c68-d5303135536a",
   "metadata": {},
   "source": [
    "# 2.5 기타연산자"
   ]
  },
  {
   "cell_type": "code",
   "execution_count": 116,
   "id": "28b4e35a-42b9-4da8-ad2e-fd5a1a513d25",
   "metadata": {},
   "outputs": [],
   "source": [
    "a = 'hi'\n",
    "b = 'hello'"
   ]
  },
  {
   "cell_type": "code",
   "execution_count": 117,
   "id": "b5d8df74-4116-490b-b312-dec449b9f01d",
   "metadata": {},
   "outputs": [
    {
     "name": "stdout",
     "output_type": "stream",
     "text": [
      "hihello\n"
     ]
    }
   ],
   "source": [
    "# concatenation 문자열의 연결\n",
    "# 글자끼리는 연결이 되고, 숫자끼리는 연산이 됨.\n",
    "# 글자+숫자인 경우 +는 연결로 인식 / 숫자+글자인 경우 +는 연산으로 인식하여 오류\n",
    "print(a + b)"
   ]
  },
  {
   "cell_type": "code",
   "execution_count": 118,
   "id": "c05fbb66-008a-496d-a4a7-0c4adf194bb8",
   "metadata": {},
   "outputs": [],
   "source": [
    "# 리스트의 경우 concatenation으로 작동됨\n",
    "a = [1, 2, 3]\n",
    "b = [2, 3, 4]"
   ]
  },
  {
   "cell_type": "code",
   "execution_count": 119,
   "id": "9c9f7335-234e-4bce-b11a-26f8f40c7191",
   "metadata": {},
   "outputs": [
    {
     "name": "stdout",
     "output_type": "stream",
     "text": [
      "[1, 2, 3, 2, 3, 4]\n"
     ]
    }
   ],
   "source": [
    "print(a + b)"
   ]
  },
  {
   "cell_type": "code",
   "execution_count": 120,
   "id": "c57d371d-71af-45ab-a6a3-9335660ed1bb",
   "metadata": {},
   "outputs": [
    {
     "name": "stdout",
     "output_type": "stream",
     "text": [
      "True\n",
      "False\n"
     ]
    }
   ],
   "source": [
    "print(1 in a) #1이라는 데이터가 a에 포함되어 있나요?\n",
    "print(10 in a)"
   ]
  },
  {
   "cell_type": "code",
   "execution_count": 121,
   "id": "c8e2ce9d-c475-45cc-bc77-05a28643fdb9",
   "metadata": {},
   "outputs": [],
   "source": [
    "a = 100\n",
    "b = 100"
   ]
  },
  {
   "cell_type": "code",
   "execution_count": 122,
   "id": "6a8e6ad3-654a-4fb3-afb4-65bc85af1daf",
   "metadata": {},
   "outputs": [
    {
     "name": "stdout",
     "output_type": "stream",
     "text": [
      "True\n",
      "True\n"
     ]
    }
   ],
   "source": [
    "print(a == b) #a = b 인가요? (값)\n",
    "print(a is b) #왼쪽과 오른쪽이 같은가요? (본질적으로 두 객채가 동일한가요)\n",
    "#256까지만 True (같은 위치에 항상 있기 때문에, 자주 쓰는 숫자이므로 메모리 위에 똑같은 위치에 갈 수 있도록 컴퓨터에 미리 셋팅됨)\n",
    "#따라서 a = 100, b = 100인 경우 true, a = 500, b = 500인 경우 is는 False"
   ]
  },
  {
   "cell_type": "markdown",
   "id": "d3fa6898-7456-4fca-88b7-4fe3eebfa37a",
   "metadata": {},
   "source": [
    "### 연산자 우선순위\n",
    "0. ()를 통해서 그룹\n",
    "1. ** (제곱)\n",
    "2. 산술연산자(*, /)\n",
    "3. 산술연산자(+, -)\n",
    "4. 비교연산자(부등호), in, is\n",
    "5. not\n",
    "6. and\n",
    "7. or"
   ]
  },
  {
   "cell_type": "code",
   "execution_count": 123,
   "id": "c0a44d0d-9eed-42d0-9507-cf161e19af94",
   "metadata": {},
   "outputs": [
    {
     "name": "stdout",
     "output_type": "stream",
     "text": [
      "-81\n",
      "81\n"
     ]
    }
   ],
   "source": [
    "print(-3 ** 4)\n",
    "print((-3) ** 4)"
   ]
  },
  {
   "cell_type": "markdown",
   "id": "d0d48f62-2b75-4ebf-9792-5913208812c1",
   "metadata": {},
   "source": [
    "# 3. 형변환 (형태변환)"
   ]
  },
  {
   "cell_type": "markdown",
   "id": "aaaa2fae-ed1e-465c-9fdd-e87007423c82",
   "metadata": {},
   "source": [
    "## 3.1 암시적 형변환 (파이썬이 알아서 자동으로 변환해주는 것)"
   ]
  },
  {
   "cell_type": "code",
   "execution_count": 124,
   "id": "6d9b4ef1-9884-4bf6-b2b5-bb57c81872c3",
   "metadata": {},
   "outputs": [],
   "source": [
    "a = True # 1로 인식\n",
    "b = False # 0으로 인식\n",
    "c = 1"
   ]
  },
  {
   "cell_type": "code",
   "execution_count": 125,
   "id": "79c01239-c272-4a95-b3d0-67e3782dfb47",
   "metadata": {},
   "outputs": [
    {
     "name": "stdout",
     "output_type": "stream",
     "text": [
      "1\n",
      "2\n"
     ]
    }
   ],
   "source": [
    "print(a + b)\n",
    "print(a + c)"
   ]
  },
  {
   "cell_type": "markdown",
   "id": "80e4486a-7973-4faa-ae13-cd9065934bd0",
   "metadata": {},
   "source": [
    "## 3.2 명시적 형변환\n",
    "- int()\n",
    "- float()\n",
    "- str() - 문자로 바꿔줭\n",
    "- bool()"
   ]
  },
  {
   "cell_type": "code",
   "execution_count": 126,
   "id": "ac085ae6-b912-4f63-b23a-d026ab7e47f8",
   "metadata": {},
   "outputs": [],
   "source": [
    "a = 1\n",
    "b = '반'"
   ]
  },
  {
   "cell_type": "code",
   "execution_count": 127,
   "id": "f42fcc3b-633e-4966-af52-c3772cee3e8e",
   "metadata": {},
   "outputs": [
    {
     "ename": "TypeError",
     "evalue": "unsupported operand type(s) for +: 'int' and 'str'",
     "output_type": "error",
     "traceback": [
      "\u001b[1;31m---------------------------------------------------------------------------\u001b[0m",
      "\u001b[1;31mTypeError\u001b[0m                                 Traceback (most recent call last)",
      "Cell \u001b[1;32mIn[127], line 1\u001b[0m\n\u001b[1;32m----> 1\u001b[0m \u001b[38;5;28mprint\u001b[39m(\u001b[43ma\u001b[49m\u001b[43m \u001b[49m\u001b[38;5;241;43m+\u001b[39;49m\u001b[43m \u001b[49m\u001b[43mb\u001b[49m)\n",
      "\u001b[1;31mTypeError\u001b[0m: unsupported operand type(s) for +: 'int' and 'str'"
     ]
    }
   ],
   "source": [
    "print(a + b)"
   ]
  },
  {
   "cell_type": "code",
   "execution_count": null,
   "id": "b9e49458-2c06-4466-8296-a45a55146063",
   "metadata": {},
   "outputs": [],
   "source": [
    "print(str(a) + b)"
   ]
  },
  {
   "cell_type": "code",
   "execution_count": null,
   "id": "e43f9071-812f-4a5c-adc4-2aa2413281ff",
   "metadata": {},
   "outputs": [],
   "source": [
    "a = '3' # 따옴표 안에 있기 때문에 글자 3\n",
    "print(a)\n",
    "print(type(a))\n",
    "\n",
    "b = int(a)\n",
    "print(b)\n",
    "print(type(b))"
   ]
  },
  {
   "cell_type": "code",
   "execution_count": null,
   "id": "4157b29d-7630-4997-8d6d-445b9eefc7f2",
   "metadata": {},
   "outputs": [],
   "source": [
    "c = 'apple' # apple은 숫자로 바꿀 수 없으니깐!\n",
    "d = int(c)"
   ]
  },
  {
   "cell_type": "code",
   "execution_count": 128,
   "id": "c733d28c-920e-4067-820a-516887721347",
   "metadata": {},
   "outputs": [
    {
     "name": "stdout",
     "output_type": "stream",
     "text": [
      "True\n",
      "False\n",
      "True\n"
     ]
    }
   ],
   "source": [
    "a = 1\n",
    "b = 0\n",
    "c = 123\n",
    "print(bool(a)) # 값이 있으면 True\n",
    "print(bool(b)) # 값이 없으면 False\n",
    "print(bool(c))"
   ]
  },
  {
   "cell_type": "code",
   "execution_count": 129,
   "id": "227bdf7c-78eb-41b1-bd46-57a9e8b374d2",
   "metadata": {},
   "outputs": [
    {
     "name": "stdout",
     "output_type": "stream",
     "text": [
      "False\n",
      "True\n"
     ]
    }
   ],
   "source": [
    "print(bool([])) # 리스트는 집합체인데 담을 데이터가 없으므로 False\n",
    "print(bool([1, 2, 3])) # 리스트는 데이터를 담을 수 있는 집합체이므로 무엇이든 들어있으면 True"
   ]
  },
  {
   "cell_type": "code",
   "execution_count": null,
   "id": "e9554253-ef6e-48f2-929b-3f26679ce70d",
   "metadata": {},
   "outputs": [],
   "source": [
    "divmod(5, 2) # 5에서 2를 나눈 후 몫과 나머지를 구해줘 -> 시스템으로 계산값만 출력됨"
   ]
  },
  {
   "cell_type": "code",
   "execution_count": null,
   "id": "a3d5d1f3-47dd-47e3-8c99-c1026163e9d8",
   "metadata": {},
   "outputs": [],
   "source": [
    "# 계산 끝낸 이후 작업을 이어나가기 위해 result 이용\n",
    "result = divmod(5, 2)\n",
    "print(result)"
   ]
  },
  {
   "cell_type": "markdown",
   "id": "0426ef33-b04b-4dc5-9f94-c3313d233a22",
   "metadata": {},
   "source": [
    "# 4. 시퀀스 자료형\n",
    "- 시퀀스는 데이터의 **순서대로** 나열된 자료구조 (순서대로 나열되었다는 것은 정렬된 것과는 다르다)\n",
    "1. List\n",
    "2. Tuple\n",
    "3. Range\n",
    "4. String"
   ]
  },
  {
   "cell_type": "markdown",
   "id": "71e3f05d-1915-4b97-902f-81c591e5f4ad",
   "metadata": {},
   "source": [
    "## 4.1 List (리스트, 배열)\n",
    "- 선언 : `var_name(변수이름) = [value1, value2, value3, ...]`\n",
    "- 접근 : `var_name[index(n번째, 순서)]`"
   ]
  },
  {
   "cell_type": "code",
   "execution_count": null,
   "id": "42cbf801-9119-4fff-bb49-3c881e72965d",
   "metadata": {},
   "outputs": [],
   "source": [
    "l = []\n",
    "print(l)\n",
    "print(type(l))"
   ]
  },
  {
   "cell_type": "code",
   "execution_count": null,
   "id": "676f7c8a-4f97-4088-a3b8-2bdc7a7158cb",
   "metadata": {},
   "outputs": [],
   "source": [
    "location = ['서울', '대전', '부산']\n",
    "print(location)\n",
    "print(location[1])\n",
    "\n",
    "location[1] = '대구' # 1번 리스트를 변수('대구')로 바꿔줘\n",
    "print(location)"
   ]
  },
  {
   "cell_type": "markdown",
   "id": "2565bb56-e032-43d3-a997-0d91e6c98a2b",
   "metadata": {},
   "source": [
    "## 4.2 Tuple(튜플)\n",
    "- 선언 : var_name = (value1, value2, value3, ...)\n",
    "- 접근 : var_name[index]\n",
    "- 수정불가능하다(immutable)"
   ]
  },
  {
   "cell_type": "code",
   "execution_count": null,
   "id": "32003e28-9561-42a6-968e-1212a540c058",
   "metadata": {},
   "outputs": [],
   "source": [
    "location = ('서울', '대전', '대구')\n",
    "print(location)\n",
    "print(location[0])"
   ]
  },
  {
   "cell_type": "code",
   "execution_count": null,
   "id": "612f4348-ccbd-48ba-bd0e-a336384b64ba",
   "metadata": {},
   "outputs": [],
   "source": [
    "location[2] = '부산'"
   ]
  },
  {
   "cell_type": "code",
   "execution_count": null,
   "id": "c9f00298-7ae5-4e5a-aa12-85fd3f2bdbb6",
   "metadata": {},
   "outputs": [],
   "source": [
    "result = divmod(5, 2)\n",
    "print(result)\n",
    "print(type(result))"
   ]
  },
  {
   "cell_type": "code",
   "execution_count": null,
   "id": "3ba323d7-875b-4237-901a-695e921c4314",
   "metadata": {},
   "outputs": [],
   "source": [
    "x = 1\n",
    "y = 2\n",
    "\n",
    "(x, y) = (y, x)\n",
    "print(x, y)"
   ]
  },
  {
   "cell_type": "markdown",
   "id": "e85f1cd1-c2d5-4868-9efc-8e6ada8ff09b",
   "metadata": {},
   "source": [
    "## 4.3 Range(범위)\n",
    "- range(n) : 0부터 n-1까지 범위 (0 이상 n 미만)(연속적으로 n 이상을 셈할 수 있기에)\n",
    "- range(n, m) : n부터 m-1까지 범위\n",
    "- range(n, m, s) n부터 m-1까지 s만큼 증가하는 범위"
   ]
  },
  {
   "cell_type": "code",
   "execution_count": null,
   "id": "6c265bc6-d706-47e8-a033-74124e202e4b",
   "metadata": {},
   "outputs": [],
   "source": [
    "lotto = range(45) # 0 이상 45 이하이기 때문에 list 하면 25가 빠짐\n",
    "print(lotto)\n",
    "print(list(lotto))"
   ]
  },
  {
   "cell_type": "code",
   "execution_count": null,
   "id": "cf21ca23-baaf-4d95-8ed1-fb83ef4b1645",
   "metadata": {},
   "outputs": [],
   "source": [
    "lotto = range(1, 46)\n",
    "print(lotto)\n",
    "print(list(lotto))"
   ]
  },
  {
   "cell_type": "code",
   "execution_count": null,
   "id": "dc70b5b7-3d60-4be6-90ed-5065fcd3ff0e",
   "metadata": {},
   "outputs": [],
   "source": [
    "even = range(2, 20, 2) # even(짝수)\n",
    "print(list(even))"
   ]
  },
  {
   "cell_type": "code",
   "execution_count": null,
   "id": "92aed2d9-4be2-4483-8954-d91433d59e55",
   "metadata": {},
   "outputs": [],
   "source": [
    "numbers = range(0, -20, -2)\n",
    "print(list(numbers))"
   ]
  },
  {
   "cell_type": "markdown",
   "id": "df975601-d7b0-47e1-bc86-a881b37e5a5b",
   "metadata": {},
   "source": [
    "## 4.4 String\n",
    "- 기본 데이터 구조 참고"
   ]
  },
  {
   "cell_type": "markdown",
   "id": "ed028f6d-7826-4858-9a89-7ef7ce208d1a",
   "metadata": {},
   "source": [
    "## 시퀀스에서 활용가능한 연산/함수"
   ]
  },
  {
   "cell_type": "code",
   "execution_count": null,
   "id": "3b372993-3b0c-4739-9875-13d43f8eac36",
   "metadata": {},
   "outputs": [],
   "source": [
    "my_list = ['a', 'b', 'c', 'd', 'e']\n",
    "my_tuple = (6, 7, 8, 9, 10)\n",
    "my_range = range(5)\n",
    "my_string ='가나다라마'"
   ]
  },
  {
   "cell_type": "code",
   "execution_count": null,
   "id": "e2a74277-b78a-4a1f-96d6-2efb6ad1681f",
   "metadata": {},
   "outputs": [],
   "source": [
    "# indexing 해당 번째에 접근하는 방법\n",
    "print(my_list[0])\n",
    "print(my_tuple[0])\n",
    "print(my_range[0])\n",
    "print(my_string[0])"
   ]
  },
  {
   "cell_type": "code",
   "execution_count": null,
   "id": "fefcf67c-e761-4956-bf4d-61ca599ce826",
   "metadata": {},
   "outputs": [],
   "source": [
    "# slicing a번째부터 b번째까지의 정보를 잘라서 나에게 줘\n",
    "# var_name[index1 : index2]\n",
    "print(my_list[1:4])\n",
    "print(my_tuple[2:5])\n",
    "print(my_range[1:5])\n",
    "print(my_string[2:5])"
   ]
  },
  {
   "cell_type": "code",
   "execution_count": null,
   "id": "278bc0c8-b8e1-42f1-9b23-7c318140bb7f",
   "metadata": {},
   "outputs": [],
   "source": [
    "# 인덱스 생략\n",
    "print(my_list[0:])\n",
    "print(my_list[3:])\n",
    "print(my_list[:3])"
   ]
  },
  {
   "cell_type": "code",
   "execution_count": null,
   "id": "a9d8e930-ff2e-46f5-8818-4a1157b71c26",
   "metadata": {},
   "outputs": [],
   "source": [
    "# 음수 인덱스(파이썬에서만 사용)\n",
    "print(my_list[-1])\n",
    "print(my_list[-3:-1])"
   ]
  },
  {
   "cell_type": "code",
   "execution_count": null,
   "id": "b298067c-44fb-4c6f-a236-5c43c6eba4c6",
   "metadata": {},
   "outputs": [],
   "source": [
    "# step\n",
    "print(my_list[:])\n",
    "print(my_list[::2]) #범위 지정 x(전체), 2개씩 띄운 값을 뽑아줘"
   ]
  },
  {
   "cell_type": "code",
   "execution_count": null,
   "id": "3f7c5120-4008-4476-b027-f79b3059e778",
   "metadata": {},
   "outputs": [],
   "source": [
    "# in / not in\n",
    "print(1 in my_list)\n",
    "print('a' in my_list)\n",
    "\n",
    "print('a' not in my_list)"
   ]
  },
  {
   "cell_type": "code",
   "execution_count": null,
   "id": "fb6d9023-a8a4-42e2-8be1-3eec70e50179",
   "metadata": {},
   "outputs": [],
   "source": [
    "# concatennation (연결)\n",
    "print(my_list + [1, 2, 3, 4, 5])\n",
    "print(my_tuple + my_list) #tuple은 tuple끼리만 연결 가능"
   ]
  },
  {
   "cell_type": "code",
   "execution_count": null,
   "id": "b9ca8257-76b1-4f94-9590-58bb1277eb0d",
   "metadata": {},
   "outputs": [],
   "source": [
    "# * 반복작업\n",
    "print(my_list * 2) # my_list를 2번 연결해주세요.\n",
    "print('a' * 5)\n",
    "# [0, 0, 0, 0, 0, 0, 0]\n",
    "print([0] * 10)"
   ]
  },
  {
   "cell_type": "code",
   "execution_count": null,
   "id": "639ef4e4-4ab3-401b-a545-d7c7d8eca66d",
   "metadata": {},
   "outputs": [],
   "source": [
    "len(my_list) # 길이(갯수)"
   ]
  },
  {
   "cell_type": "code",
   "execution_count": null,
   "id": "52306ea2-c369-4d4a-b23f-c81e5b48fd48",
   "metadata": {},
   "outputs": [],
   "source": [
    "max(my_list) # 크기(글자도 숫자로 계산하여 출력됨)"
   ]
  },
  {
   "cell_type": "code",
   "execution_count": null,
   "id": "1ce79e42-b36d-43b3-aaa4-5c98efd4abe0",
   "metadata": {},
   "outputs": [],
   "source": [
    "min(my_list)"
   ]
  },
  {
   "cell_type": "markdown",
   "id": "71a40466-64a6-4948-a3e6-8d3056472092",
   "metadata": {},
   "source": [
    "# 5. 시퀀스형이 아닌 자료구조"
   ]
  },
  {
   "cell_type": "markdown",
   "id": "42c69f23-7dd5-40a0-b67c-a1cd77ec2968",
   "metadata": {},
   "source": [
    "## 5.1 Set\n",
    "- 수학에서의 집합과 비슷한 개념 (중복값이 없음, 순서도 없음)\n",
    "- 이 무리를 이용하여 연산을 하는 것이 의미가 있으므로 단일 데이터는 의미가 없음\n",
    "- 단일 데이터가 아니라 전체 구조로 본다, 따라서 접근이 없음\n",
    "  \n",
    "- 선언 : `var_name = {value1, value2, value3, ...}`"
   ]
  },
  {
   "cell_type": "code",
   "execution_count": null,
   "id": "95e617d6-344b-4e03-bddf-aa4090d6d024",
   "metadata": {},
   "outputs": [],
   "source": [
    "my_set_a = {1, 2, 3, 4, 5, 5, 5, 5, 5, 5}\n",
    "my_set_b = {1, 3, 5, 7, 9}"
   ]
  },
  {
   "cell_type": "code",
   "execution_count": null,
   "id": "b8a4fb31-2fd3-4005-bc13-5e046d7b19d1",
   "metadata": {},
   "outputs": [],
   "source": [
    "print(my_set_a)\n",
    "print(my_set_b)"
   ]
  },
  {
   "cell_type": "code",
   "execution_count": null,
   "id": "4852f68d-185c-48c3-b95c-0374e3c2f8d1",
   "metadata": {},
   "outputs": [],
   "source": [
    "print(my_set_a - my_set_b)"
   ]
  },
  {
   "cell_type": "code",
   "execution_count": null,
   "id": "207e725e-d811-43a0-a4cf-e7f15b2d30a9",
   "metadata": {},
   "outputs": [],
   "source": [
    "print(my_set_a | my_set_b) #합칠 때는 +가 아니라 파이프 기호를 씀"
   ]
  },
  {
   "cell_type": "code",
   "execution_count": null,
   "id": "d4737334-9464-4992-8356-6ff1872039df",
   "metadata": {},
   "outputs": [],
   "source": [
    "print(my_set_a & my_set_b) #교집합"
   ]
  },
  {
   "cell_type": "markdown",
   "id": "afcd01fc-3082-42d1-899d-8d0818b867dc",
   "metadata": {},
   "source": [
    "## 5.2 Dictionary 다양한 정보를 넣을 때 사용\n",
    "- 선언 : `var_name = {key1: value1, key2: value2, key3: value3, ...}`\n",
    "- 접근 : `var_name[key]`"
   ]
  },
  {
   "cell_type": "code",
   "execution_count": null,
   "id": "cf63b2fe-aaf7-4e0f-b00f-325f0d873169",
   "metadata": {},
   "outputs": [],
   "source": [
    "my_dict = {'서울': '02', '경기': '031'}\n",
    "# key는 대부분 string\n",
    "# 서울 기준으로 02를 찾아야 함 - key를 기준으로 value를 찾을 수 있음"
   ]
  },
  {
   "cell_type": "code",
   "execution_count": null,
   "id": "d95083ca-c1a2-4fef-80f3-709eb735c144",
   "metadata": {},
   "outputs": [],
   "source": [
    "print(my_dict['서울'])"
   ]
  },
  {
   "cell_type": "code",
   "execution_count": null,
   "id": "d3de322a-c3d2-4d8c-8bf0-907ebec3e7b6",
   "metadata": {},
   "outputs": [],
   "source": [
    "my_info = {\n",
    "    'name': 'hyojin',\n",
    "    'location': 'souel',\n",
    "    'age': 10,\n",
    "    'skill': ['python', 'git']\n",
    "}"
   ]
  },
  {
   "cell_type": "code",
   "execution_count": null,
   "id": "c2549235-be78-4423-9c9e-7ce389d4a207",
   "metadata": {},
   "outputs": [],
   "source": [
    "print(my_info['name'])"
   ]
  },
  {
   "cell_type": "code",
   "execution_count": null,
   "id": "db95a9df-94ac-4b43-aa8b-02bd9bb677bb",
   "metadata": {},
   "outputs": [],
   "source": [
    "print(my_info['age'])"
   ]
  },
  {
   "cell_type": "code",
   "execution_count": null,
   "id": "271d11e7-2389-4614-9a08-bcb4b7b2bbd0",
   "metadata": {},
   "outputs": [],
   "source": [
    "# 출력된 대괄호는 리스트라는 것\n",
    "# key를 뽑은 후 - 리스트이므로 원하는 것(2번째)을 뽑아낼 수 있어야 함\n",
    "print(my_info['skill'])\n",
    "print(my_info['skill'][1])"
   ]
  },
  {
   "cell_type": "markdown",
   "id": "0c98ed6e-d50d-4884-be5c-30f5e886cc31",
   "metadata": {},
   "source": [
    "**데이터 타입**\n",
    "1. Numbjer\n",
    "2. Boolean\n",
    "3. String\n",
    "  \n",
    "**자료구조**\n",
    "- 시퀀스\n",
    "1. [list] : mutable (수정가능)\n",
    "2. (tuple) : immutable (수정불가)\n",
    "3. range() : immutable\n",
    "4. 'string' : immutable\n",
    "    - immutable하다는 것은: 변수를 통으로 덮어쓰기는 가능, 일부수정은 불가.\n",
    "- 시퀀스가 아닌 것\n",
    "1. {set} : mutable (수정가능)\n",
    "2. {Dict: ionary} : mutable"
   ]
  },
  {
   "cell_type": "code",
   "execution_count": null,
   "id": "e9c831e1-551e-4b52-ae9e-080a17a05442",
   "metadata": {},
   "outputs": [],
   "source": [
    "a = 'hello'\n",
    "a = 'hi'"
   ]
  },
  {
   "cell_type": "code",
   "execution_count": null,
   "id": "a2e2fd2c-713b-4b04-88d9-28cc51297c76",
   "metadata": {},
   "outputs": [],
   "source": []
  },
  {
   "cell_type": "code",
   "execution_count": null,
   "id": "2b755930-3ace-4bbc-902d-de2940849b3d",
   "metadata": {},
   "outputs": [],
   "source": []
  },
  {
   "cell_type": "code",
   "execution_count": null,
   "id": "252efb15-5834-4916-a7c5-68cfa293080c",
   "metadata": {},
   "outputs": [],
   "source": []
  }
 ],
 "metadata": {
  "kernelspec": {
   "display_name": "Python 3 (ipykernel)",
   "language": "python",
   "name": "python3"
  },
  "language_info": {
   "codemirror_mode": {
    "name": "ipython",
    "version": 3
   },
   "file_extension": ".py",
   "mimetype": "text/x-python",
   "name": "python",
   "nbconvert_exporter": "python",
   "pygments_lexer": "ipython3",
   "version": "3.13.2"
  }
 },
 "nbformat": 4,
 "nbformat_minor": 5
}
